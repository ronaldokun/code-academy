{
 "cells": [
  {
   "cell_type": "markdown",
   "metadata": {},
   "source": [
    "# <font color='blue'>Data Science Academy</font>\n",
    "# <font color='blue'>Deep Learning Frameworks</font>"
   ]
  },
  {
   "cell_type": "markdown",
   "metadata": {},
   "source": [
    "## Introdução ao PyTorch"
   ]
  },
  {
   "cell_type": "markdown",
   "metadata": {},
   "source": [
    "* Documentação: https://pytorch.org/docs/stable/index.html"
   ]
  },
  {
   "cell_type": "code",
   "execution_count": 1,
   "metadata": {},
   "outputs": [
    {
     "name": "stdout",
     "output_type": "stream",
     "text": [
      "Requirement already satisfied: torch in /Users/dmpm/opt/anaconda3/lib/python3.7/site-packages (1.4.0)\r\n"
     ]
    }
   ],
   "source": [
    "# Instala o PyTorch\n",
    "#!pip install torch"
   ]
  },
  {
   "cell_type": "markdown",
   "metadata": {},
   "source": [
    "## Tensor\n",
    "\n",
    "O que é um tensor? \n",
    "\n",
    "Em matemática, um tensor é um objeto geométrico arbitrariamente complexo que mapeia de maneira (multi) linear vetores geométricos, escalares e outros tensores para um tensor resultante.\n",
    "\n",
    "\n",
    "Mas em Deep Learning o conceito é um pouco diferente e você pode pensar no tensor como um recipiente que contém números."
   ]
  },
  {
   "cell_type": "markdown",
   "metadata": {},
   "source": [
    "![](./imagens/tensor.png)"
   ]
  },
  {
   "cell_type": "markdown",
   "metadata": {},
   "source": [
    "### Array NumPy x Tensor PyTorch"
   ]
  },
  {
   "cell_type": "code",
   "execution_count": 1,
   "metadata": {
    "scrolled": true
   },
   "outputs": [
    {
     "name": "stdout",
     "output_type": "stream",
     "text": [
      " PyTorch: 1.10.0+cu111 \n",
      " Numpy: 1.21.5\n"
     ]
    }
   ],
   "source": [
    "# Imports \n",
    "import numpy as np\n",
    "import torch\n",
    "print(f\" PyTorch: {torch.__version__} \\n Numpy: {np.__version__}\")"
   ]
  },
  {
   "cell_type": "markdown",
   "metadata": {},
   "source": [
    "Você pode criar tensores a partir de listas ou matrizes numpy e vice-versa."
   ]
  },
  {
   "cell_type": "code",
   "execution_count": 2,
   "metadata": {},
   "outputs": [
    {
     "name": "stdout",
     "output_type": "stream",
     "text": [
      "tensor([[1., 2., 3.],\n",
      "        [4., 5., 6.]])\n",
      "tensor([[9., 6., 1.],\n",
      "        [5., 3., 2.]])\n"
     ]
    }
   ],
   "source": [
    "# Cria um tensor de matriz 2x3 a partir de uma lista Python / array Numpy \n",
    "a = torch.Tensor([[1, 2, 3], [4, 5, 6]])\n",
    "b = torch.Tensor(np.array([[9, 6, 1], [5, 3, 2]]))\n",
    "print(a)\n",
    "print(b)"
   ]
  },
  {
   "cell_type": "code",
   "execution_count": 3,
   "metadata": {},
   "outputs": [
    {
     "name": "stdout",
     "output_type": "stream",
     "text": [
      "tensor --> lista python: \n",
      "[[1.0, 2.0, 3.0], [4.0, 5.0, 6.0]]\n",
      "\n",
      "tensor --> array numpy: \n",
      "[[9. 6. 1.]\n",
      " [5. 3. 2.]]\n"
     ]
    }
   ],
   "source": [
    "# Convertendo de volta para lista / array\n",
    "print(f\"tensor --> lista python: \\n{a.tolist()}\")\n",
    "print(f\"\\ntensor --> array numpy: \\n{b.numpy()}\")"
   ]
  },
  {
   "cell_type": "code",
   "execution_count": 4,
   "metadata": {},
   "outputs": [
    {
     "data": {
      "text/plain": [
       "torch.Tensor"
      ]
     },
     "execution_count": 4,
     "metadata": {},
     "output_type": "execute_result"
    }
   ],
   "source": [
    "type(a)"
   ]
  },
  {
   "cell_type": "code",
   "execution_count": 5,
   "metadata": {},
   "outputs": [
    {
     "data": {
      "text/plain": [
       "list"
      ]
     },
     "execution_count": 5,
     "metadata": {},
     "output_type": "execute_result"
    }
   ],
   "source": [
    "type(a.tolist())"
   ]
  },
  {
   "cell_type": "code",
   "execution_count": 6,
   "metadata": {},
   "outputs": [
    {
     "data": {
      "text/plain": [
       "torch.Tensor"
      ]
     },
     "execution_count": 6,
     "metadata": {},
     "output_type": "execute_result"
    }
   ],
   "source": [
    "type(b)"
   ]
  },
  {
   "cell_type": "code",
   "execution_count": 7,
   "metadata": {},
   "outputs": [
    {
     "data": {
      "text/plain": [
       "numpy.ndarray"
      ]
     },
     "execution_count": 7,
     "metadata": {},
     "output_type": "execute_result"
    }
   ],
   "source": [
    "type(b.numpy())"
   ]
  },
  {
   "cell_type": "code",
   "execution_count": 8,
   "metadata": {},
   "outputs": [
    {
     "name": "stdout",
     "output_type": "stream",
     "text": [
      "tensor([[[0.3068, 0.2949, 0.5644],\n",
      "         [0.6642, 0.0510, 0.0216]],\n",
      "\n",
      "        [[0.5139, 0.9772, 0.8734],\n",
      "         [0.7532, 0.0853, 0.2201]]])\n"
     ]
    }
   ],
   "source": [
    "# Gera um tensor 2 x 2 x 3 com valores randômicos\n",
    "a = torch.rand(2, 2, 3)\n",
    "print(a)"
   ]
  },
  {
   "cell_type": "code",
   "execution_count": 10,
   "metadata": {},
   "outputs": [
    {
     "name": "stdout",
     "output_type": "stream",
     "text": [
      "tensor([[[0., 0., 0.],\n",
      "         [0., 0., 0.]],\n",
      "\n",
      "        [[0., 0., 0.],\n",
      "         [0., 0., 0.]]])\n",
      "------------------------------\n",
      "tensor([[[0., 0., 0.],\n",
      "         [0., 0., 0.]],\n",
      "\n",
      "        [[0., 0., 0.],\n",
      "         [0., 0., 0.]]])\n"
     ]
    }
   ],
   "source": [
    "# Criando um tensor de zeros e criando um tensor semelhante (like) o primeiro\n",
    "b = torch.zeros(2, 2, 3)\n",
    "c = torch.zeros_like(a)\n",
    "print(b)\n",
    "print(\"-\"*30)\n",
    "print(c)"
   ]
  },
  {
   "cell_type": "code",
   "execution_count": 11,
   "metadata": {
    "scrolled": true
   },
   "outputs": [
    {
     "name": "stdout",
     "output_type": "stream",
     "text": [
      "tensor([[[1., 1., 1.],\n",
      "         [1., 1., 1.]],\n",
      "\n",
      "        [[1., 1., 1.],\n",
      "         [1., 1., 1.]]])\n"
     ]
    }
   ],
   "source": [
    "# Criando um tensor de 1's semelhante (like) ao tensor de zeros\n",
    "d = torch.ones_like(a)\n",
    "print(d)"
   ]
  },
  {
   "cell_type": "markdown",
   "metadata": {},
   "source": [
    "### Tipos de Tensores"
   ]
  },
  {
   "cell_type": "markdown",
   "metadata": {},
   "source": [
    "https://pytorch.org/docs/stable/tensors.html"
   ]
  },
  {
   "cell_type": "code",
   "execution_count": 12,
   "metadata": {},
   "outputs": [
    {
     "data": {
      "text/plain": [
       "dtype('int64')"
      ]
     },
     "execution_count": 12,
     "metadata": {},
     "output_type": "execute_result"
    }
   ],
   "source": [
    "# Criando um array NumPy\n",
    "a = np.array([[9, 6, 1], [5, 3, 2]])\n",
    "a.dtype"
   ]
  },
  {
   "cell_type": "code",
   "execution_count": 13,
   "metadata": {},
   "outputs": [
    {
     "name": "stdout",
     "output_type": "stream",
     "text": [
      " b: torch.FloatTensor\n",
      " c: torch.FloatTensor\n",
      " d: torch.LongTensor\n"
     ]
    }
   ],
   "source": [
    "# Criando tensores de diferentes tipos - Parte 1\n",
    "b = torch.Tensor(a)\n",
    "c = torch.FloatTensor(a)\n",
    "d = torch.LongTensor(a)\n",
    "print(f\" b: {b.type()}\\n c: {c.type()}\\n d: {d.type()}\")"
   ]
  },
  {
   "cell_type": "code",
   "execution_count": 14,
   "metadata": {},
   "outputs": [
    {
     "name": "stdout",
     "output_type": "stream",
     "text": [
      "<class 'list'>\n",
      "True  <class 'bool'>\n",
      "False  <class 'bool'>\n",
      "False  <class 'bool'>\n",
      "True  <class 'bool'>\n"
     ]
    }
   ],
   "source": [
    "# Criando uma lista Python com valores booleanos\n",
    "e = [True, False, False, True]\n",
    "print(type(e))\n",
    "for item in e: \n",
    "    print ('{}  {}'.format(item, type(item)))"
   ]
  },
  {
   "cell_type": "code",
   "execution_count": 15,
   "metadata": {},
   "outputs": [
    {
     "name": "stdout",
     "output_type": "stream",
     "text": [
      "tensor([1., 0., 0., 1.])\n",
      "tensor([1, 0, 0, 1], dtype=torch.uint8)\n",
      "------------------------------\n",
      " f: torch.FloatTensor\n",
      " g: torch.ByteTensor\n"
     ]
    }
   ],
   "source": [
    "# Criando tensores de diferentes tipos - Parte 2\n",
    "f = torch.Tensor(e)\n",
    "g = torch.ByteTensor(e)\n",
    "print(f)\n",
    "print(g)\n",
    "print(\"-\"*30)\n",
    "print(f\" f: {f.type()}\\n g: {g.type()}\")"
   ]
  },
  {
   "cell_type": "code",
   "execution_count": 16,
   "metadata": {},
   "outputs": [
    {
     "name": "stdout",
     "output_type": "stream",
     "text": [
      "tensor([False, False, False, False, False, False, False, False, False, False])\n"
     ]
    }
   ],
   "source": [
    "# Criando um tensor com valores booleanos\n",
    "k = torch.zeros(10, dtype = torch.bool)\n",
    "print(k)"
   ]
  },
  {
   "cell_type": "code",
   "execution_count": 17,
   "metadata": {},
   "outputs": [
    {
     "name": "stdout",
     "output_type": "stream",
     "text": [
      "Mudando torch.FloatTensor para torch.LongTensor:\n",
      "\n",
      "tensor([[9, 6, 1],\n",
      "        [5, 3, 2]])\n"
     ]
    }
   ],
   "source": [
    "# Alterando o tipo do tensor:\n",
    "print(\"Mudando torch.FloatTensor para torch.LongTensor:\\n\")\n",
    "print(c.long()) "
   ]
  },
  {
   "cell_type": "code",
   "execution_count": 18,
   "metadata": {},
   "outputs": [
    {
     "name": "stdout",
     "output_type": "stream",
     "text": [
      "Mudando torch.FloatTensor para torch.ByteTensor:\n",
      "\n",
      "tensor([1, 0, 0, 1], dtype=torch.uint8)\n"
     ]
    }
   ],
   "source": [
    "print(\"Mudando torch.FloatTensor para torch.ByteTensor:\\n\")\n",
    "print(f.byte())"
   ]
  },
  {
   "cell_type": "markdown",
   "metadata": {},
   "source": [
    "### Size e Shape de Tensores"
   ]
  },
  {
   "cell_type": "code",
   "execution_count": 19,
   "metadata": {},
   "outputs": [
    {
     "data": {
      "text/plain": [
       "tensor([[9., 6., 1.],\n",
       "        [5., 3., 2.]])"
      ]
     },
     "execution_count": 19,
     "metadata": {},
     "output_type": "execute_result"
    }
   ],
   "source": [
    "# Cria um tensor com valores randômicos\n",
    "torch.manual_seed(777)\n",
    "x = torch.randint(0, 10, size = (2, 3, 4))\n",
    "c"
   ]
  },
  {
   "cell_type": "code",
   "execution_count": 20,
   "metadata": {},
   "outputs": [
    {
     "name": "stdout",
     "output_type": "stream",
     "text": [
      "3\n"
     ]
    }
   ],
   "source": [
    "# Dimensões\n",
    "print(x.dim())"
   ]
  },
  {
   "cell_type": "code",
   "execution_count": 21,
   "metadata": {},
   "outputs": [
    {
     "name": "stdout",
     "output_type": "stream",
     "text": [
      "torch.Size([2, 3, 4])\n"
     ]
    }
   ],
   "source": [
    "# Size - Método do objeto tensor\n",
    "print(x.size())"
   ]
  },
  {
   "cell_type": "code",
   "execution_count": 22,
   "metadata": {},
   "outputs": [
    {
     "name": "stdout",
     "output_type": "stream",
     "text": [
      "torch.Size([2, 3, 4])\n"
     ]
    }
   ],
   "source": [
    "# Shape - Atributo do objeto tensor\n",
    "print(x.shape)"
   ]
  },
  {
   "cell_type": "code",
   "execution_count": 23,
   "metadata": {
    "scrolled": false
   },
   "outputs": [
    {
     "name": "stdout",
     "output_type": "stream",
     "text": [
      "tensor(3)\n"
     ]
    }
   ],
   "source": [
    "# Slicing do tensor\n",
    "print(x[1, 1, 1])"
   ]
  },
  {
   "cell_type": "code",
   "execution_count": 24,
   "metadata": {},
   "outputs": [
    {
     "name": "stdout",
     "output_type": "stream",
     "text": [
      "tensor([[[5, 9, 1, 8],\n",
      "         [5, 7, 7, 7],\n",
      "         [3, 4, 1, 7]],\n",
      "\n",
      "        [[2, 0, 6, 3],\n",
      "         [2, 3, 0, 0],\n",
      "         [9, 5, 4, 2]]])\n"
     ]
    }
   ],
   "source": [
    "print(x)"
   ]
  },
  {
   "cell_type": "code",
   "execution_count": 25,
   "metadata": {
    "scrolled": false
   },
   "outputs": [],
   "source": [
    "# Índices\n",
    "index_1 = torch.LongTensor([1])\n",
    "index_2 = torch.LongTensor([0, 2])\n",
    "index_3 = torch.LongTensor([1, 2, 3])"
   ]
  },
  {
   "cell_type": "code",
   "execution_count": 26,
   "metadata": {},
   "outputs": [
    {
     "name": "stdout",
     "output_type": "stream",
     "text": [
      "Slice dim = 0, indices = [1]\n",
      "\n",
      "tensor([[[2, 0, 6, 3],\n",
      "         [2, 3, 0, 0],\n",
      "         [9, 5, 4, 2]]]) \n",
      "\n",
      "Slice dim = 1, indices = [0 2]\n",
      "\n",
      "tensor([[[5, 9, 1, 8],\n",
      "         [3, 4, 1, 7]],\n",
      "\n",
      "        [[2, 0, 6, 3],\n",
      "         [9, 5, 4, 2]]]) \n",
      "\n",
      "Slice dim = 2, indices = [1 2 3]\n",
      "\n",
      "tensor([[[9, 1, 8],\n",
      "         [7, 7, 7],\n",
      "         [4, 1, 7]],\n",
      "\n",
      "        [[0, 6, 3],\n",
      "         [3, 0, 0],\n",
      "         [5, 4, 2]]]) \n",
      "\n"
     ]
    }
   ],
   "source": [
    "# Slicing por índice \n",
    "for i, index in enumerate([index_1, index_2, index_3]):\n",
    "    print(f\"Slice dim = {i}, indices = {index.numpy()}\\n\")\n",
    "    print(x.index_select(i, index), \"\\n\")"
   ]
  },
  {
   "cell_type": "code",
   "execution_count": 27,
   "metadata": {},
   "outputs": [
    {
     "data": {
      "text/plain": [
       "tensor([[[5, 9, 1, 8],\n",
       "         [5, 7, 7, 7],\n",
       "         [3, 4, 1, 7]],\n",
       "\n",
       "        [[2, 0, 6, 3],\n",
       "         [2, 3, 0, 0],\n",
       "         [9, 5, 4, 2]]])"
      ]
     },
     "execution_count": 27,
     "metadata": {},
     "output_type": "execute_result"
    }
   ],
   "source": [
    "x"
   ]
  },
  {
   "cell_type": "code",
   "execution_count": 28,
   "metadata": {},
   "outputs": [
    {
     "name": "stdout",
     "output_type": "stream",
     "text": [
      "Altera de 'torch.Size([2, 3, 4])' para 'torch.Size([2, 2, 6])'\n",
      "\n",
      "tensor([[[5, 9, 1, 8, 5, 7],\n",
      "         [7, 7, 3, 4, 1, 7]],\n",
      "\n",
      "        [[2, 0, 6, 3, 2, 3],\n",
      "         [0, 0, 9, 5, 4, 2]]])\n"
     ]
    }
   ],
   "source": [
    "# Alterando o size do tensor (mas sem mudar o tensor original)\n",
    "print(f\"Altera de '{x.size()}' para '{x.view(2, 2, 6).size()}'\\n\")\n",
    "print(x.view(2, 2, 6))"
   ]
  },
  {
   "cell_type": "code",
   "execution_count": 29,
   "metadata": {},
   "outputs": [
    {
     "data": {
      "text/plain": [
       "tensor([[[5, 9, 1, 8],\n",
       "         [5, 7, 7, 7],\n",
       "         [3, 4, 1, 7]],\n",
       "\n",
       "        [[2, 0, 6, 3],\n",
       "         [2, 3, 0, 0],\n",
       "         [9, 5, 4, 2]]])"
      ]
     },
     "execution_count": 29,
     "metadata": {},
     "output_type": "execute_result"
    }
   ],
   "source": [
    "x"
   ]
  },
  {
   "cell_type": "markdown",
   "metadata": {},
   "source": [
    "## Operações com Tensores"
   ]
  },
  {
   "cell_type": "code",
   "execution_count": 30,
   "metadata": {},
   "outputs": [],
   "source": [
    "# Cria 2 tensores\n",
    "x = torch.Tensor(2, 3)  # Um objeto Tensor não inicializado. x contém dados de lixo.\n",
    "y = torch.rand(2, 3)    # Inicializado com valores aleatórios.        "
   ]
  },
  {
   "cell_type": "code",
   "execution_count": 31,
   "metadata": {},
   "outputs": [
    {
     "name": "stdout",
     "output_type": "stream",
     "text": [
      "tensor([[0.0000e+00, 0.0000e+00, 0.0000e+00],\n",
      "        [0.0000e+00, 1.1210e-44, 0.0000e+00]])\n"
     ]
    }
   ],
   "source": [
    "print(x)"
   ]
  },
  {
   "cell_type": "code",
   "execution_count": 32,
   "metadata": {},
   "outputs": [
    {
     "name": "stdout",
     "output_type": "stream",
     "text": [
      "tensor([[0.9411, 0.9180, 0.8952],\n",
      "        [0.4341, 0.1523, 0.3154]])\n"
     ]
    }
   ],
   "source": [
    "print(y)"
   ]
  },
  {
   "cell_type": "code",
   "execution_count": 33,
   "metadata": {},
   "outputs": [
    {
     "name": "stdout",
     "output_type": "stream",
     "text": [
      "tensor([[0.9411, 0.9180, 0.8952],\n",
      "        [0.4341, 0.1523, 0.3154]])\n"
     ]
    }
   ],
   "source": [
    "# Operação de soma\n",
    "z1 = x + y\n",
    "print(z1) "
   ]
  },
  {
   "cell_type": "code",
   "execution_count": 34,
   "metadata": {},
   "outputs": [
    {
     "name": "stdout",
     "output_type": "stream",
     "text": [
      "tensor([[0.9411, 0.9180, 0.8952],\n",
      "        [0.4341, 0.1523, 0.3154]])\n"
     ]
    }
   ],
   "source": [
    "# Operação de soma\n",
    "z2 = torch.add(x, y)  \n",
    "print(z2) "
   ]
  },
  {
   "cell_type": "code",
   "execution_count": 35,
   "metadata": {},
   "outputs": [
    {
     "data": {
      "text/plain": [
       "tensor([[0.9411, 0.9180, 0.8952],\n",
       "        [0.4341, 0.1523, 0.3154]])"
      ]
     },
     "execution_count": 35,
     "metadata": {},
     "output_type": "execute_result"
    }
   ],
   "source": [
    "# Podemos atribuir o resultado da operação a uma variável. \n",
    "# Como alternativa, todos os métodos de operação possuem um parâmetro out para armazenar o resultado.\n",
    "v1 = torch.Tensor(2, 3)\n",
    "torch.add(x, y, out = v1)   "
   ]
  },
  {
   "cell_type": "code",
   "execution_count": 36,
   "metadata": {},
   "outputs": [
    {
     "data": {
      "text/plain": [
       "tensor([[0.9411, 0.9180, 0.8952],\n",
       "        [0.4341, 0.1523, 0.3154]])"
      ]
     },
     "execution_count": 36,
     "metadata": {},
     "output_type": "execute_result"
    }
   ],
   "source": [
    "# In-place operation\n",
    "# Mesmo que: x = x + y\n",
    "x.add_(y)        "
   ]
  },
  {
   "cell_type": "code",
   "execution_count": 37,
   "metadata": {},
   "outputs": [
    {
     "name": "stdout",
     "output_type": "stream",
     "text": [
      "tensor([[0.0000, 0.9180, 0.8952],\n",
      "        [0.0000, 0.1523, 0.3154]])\n"
     ]
    }
   ],
   "source": [
    "# Indexação (mesmo padrão do NumPy)\n",
    "x[:, 1]                          \n",
    "x[:, 0] = 0     \n",
    "print(x)"
   ]
  },
  {
   "cell_type": "code",
   "execution_count": 38,
   "metadata": {},
   "outputs": [
    {
     "data": {
      "text/plain": [
       "6"
      ]
     },
     "execution_count": 38,
     "metadata": {},
     "output_type": "execute_result"
    }
   ],
   "source": [
    "# Tensor Meta-data                     \n",
    "torch.numel(x)      "
   ]
  },
  {
   "cell_type": "code",
   "execution_count": 39,
   "metadata": {},
   "outputs": [
    {
     "name": "stdout",
     "output_type": "stream",
     "text": [
      "tensor([[10.0000, 10.9180, 10.8952],\n",
      "        [10.0000, 10.1523, 10.3154]])\n",
      "tensor([[ 9.4112, 10.0975,  9.8469],\n",
      "        [ 4.3405,  1.6752,  3.4691]])\n"
     ]
    }
   ],
   "source": [
    "# Adiciona x, y e adiciona o scalar 10 a todos os elementos\n",
    "r = torch.add(x, 10)\n",
    "print(r)\n",
    "s = torch.add(x, 10, y)\n",
    "print(s)"
   ]
  },
  {
   "cell_type": "code",
   "execution_count": 40,
   "metadata": {},
   "outputs": [
    {
     "name": "stdout",
     "output_type": "stream",
     "text": [
      "tensor([0, 1, 2, 3, 4])\n"
     ]
    }
   ],
   "source": [
    "# Criando tensores com range de valores\n",
    "v = torch.arange(5)             # Similar a range(5) mas criando um Tensor\n",
    "v = torch.arange(0, 5, step=1)  # Size 5. Similar a range(0, 5, 1)\n",
    "print(v)"
   ]
  },
  {
   "cell_type": "code",
   "execution_count": 41,
   "metadata": {},
   "outputs": [
    {
     "name": "stdout",
     "output_type": "stream",
     "text": [
      "tensor([0, 1, 2, 3, 4, 5, 6, 7, 8])\n"
     ]
    }
   ],
   "source": [
    "v = torch.arange(9)\n",
    "print(v)"
   ]
  },
  {
   "cell_type": "code",
   "execution_count": 42,
   "metadata": {},
   "outputs": [
    {
     "name": "stdout",
     "output_type": "stream",
     "text": [
      "tensor([[0, 1, 2],\n",
      "        [3, 4, 5],\n",
      "        [6, 7, 8]])\n"
     ]
    }
   ],
   "source": [
    "v = v.view(3, 3)\n",
    "print(v)"
   ]
  },
  {
   "cell_type": "code",
   "execution_count": 43,
   "metadata": {},
   "outputs": [
    {
     "name": "stdout",
     "output_type": "stream",
     "text": [
      "tensor([ 1.,  2.,  3.,  4.,  5.,  6.,  7.,  8.,  9., 10.])\n"
     ]
    }
   ],
   "source": [
    "# Inicializa um tensor linear\n",
    "# Cria um tensor com 10 pontos lineares de (1, 10) inclusive\n",
    "v = torch.linspace(1, 10, steps = 10) \n",
    "print(v)"
   ]
  },
  {
   "cell_type": "code",
   "execution_count": 44,
   "metadata": {},
   "outputs": [
    {
     "name": "stdout",
     "output_type": "stream",
     "text": [
      "tensor([1.0000e-10, 1.0000e-05, 1.0000e+00, 1.0000e+05, 1.0000e+10])\n"
     ]
    }
   ],
   "source": [
    "# Inicializar um tensor de escala de log\n",
    "# Size 5: 1.0e-10 1.0e-05 1.0e+00, 1.0e+05, 1.0e+10\n",
    "v = torch.logspace(start = -10, end = 10, steps = 5) \n",
    "print(v)"
   ]
  },
  {
   "cell_type": "code",
   "execution_count": 45,
   "metadata": {},
   "outputs": [
    {
     "name": "stdout",
     "output_type": "stream",
     "text": [
      "tensor([1.0000e-10, 1.0000e-05, 5.0000e-01, 5.0000e-01, 5.0000e-01])\n"
     ]
    }
   ],
   "source": [
    "# Fixar o valor de um tensor\n",
    "r = torch.clamp(v, min = -0.5, max = 0.5)\n",
    "print(r)"
   ]
  },
  {
   "cell_type": "code",
   "execution_count": 46,
   "metadata": {},
   "outputs": [
    {
     "name": "stdout",
     "output_type": "stream",
     "text": [
      "tensor([1., 2., 3.])\n"
     ]
    }
   ],
   "source": [
    "# Valor absoluto\n",
    "f = torch.FloatTensor([-1, -2, 3])\n",
    "r = torch.abs(f)     \n",
    "print(r)"
   ]
  },
  {
   "cell_type": "markdown",
   "metadata": {},
   "source": [
    "### Mais Operações (Calculando Estatísticas dos Tensores)"
   ]
  },
  {
   "cell_type": "code",
   "execution_count": 47,
   "metadata": {},
   "outputs": [
    {
     "name": "stdout",
     "output_type": "stream",
     "text": [
      "tensor([[1., 2., 3.],\n",
      "        [4., 5., 6.],\n",
      "        [7., 8., 9.]])\n",
      "2\n",
      "torch.float32\n"
     ]
    }
   ],
   "source": [
    "# Cria 1 tensor\n",
    "x = torch.Tensor([[1, 2, 3], [4, 5, 6], [7, 8, 9]])\n",
    "print(x)\n",
    "print(x.dim())\n",
    "print(x.dtype)"
   ]
  },
  {
   "cell_type": "code",
   "execution_count": 48,
   "metadata": {},
   "outputs": [
    {
     "name": "stdout",
     "output_type": "stream",
     "text": [
      "tensor([[ 1.,  2.,  3.],\n",
      "        [ 5.,  7.,  9.],\n",
      "        [12., 15., 18.]])\n"
     ]
    }
   ],
   "source": [
    "# Soma acumulada por coluna\n",
    "r = torch.cumsum(x, dim = 0)\n",
    "print(r)"
   ]
  },
  {
   "cell_type": "code",
   "execution_count": 49,
   "metadata": {},
   "outputs": [
    {
     "name": "stdout",
     "output_type": "stream",
     "text": [
      "tensor([[ 1.,  3.,  6.],\n",
      "        [ 4.,  9., 15.],\n",
      "        [ 7., 15., 24.]])\n"
     ]
    }
   ],
   "source": [
    "# Soma acumulada por linha\n",
    "r = torch.cumsum(x, dim = 1)\n",
    "print(r)"
   ]
  },
  {
   "cell_type": "code",
   "execution_count": 50,
   "metadata": {},
   "outputs": [
    {
     "name": "stdout",
     "output_type": "stream",
     "text": [
      "tensor(5.)\n"
     ]
    }
   ],
   "source": [
    "# Média do Tensor\n",
    "r = torch.mean(x)       \n",
    "print(r)"
   ]
  },
  {
   "cell_type": "code",
   "execution_count": 51,
   "metadata": {},
   "outputs": [
    {
     "name": "stdout",
     "output_type": "stream",
     "text": [
      "tensor([4., 5., 6.])\n"
     ]
    }
   ],
   "source": [
    "# Média por coluna\n",
    "r = torch.mean(x, 0) \n",
    "print(r)"
   ]
  },
  {
   "cell_type": "code",
   "execution_count": 52,
   "metadata": {},
   "outputs": [
    {
     "name": "stdout",
     "output_type": "stream",
     "text": [
      "tensor([2., 5., 8.])\n"
     ]
    }
   ],
   "source": [
    "# Média por linha\n",
    "r = torch.mean(x, 1) \n",
    "print(r)"
   ]
  },
  {
   "cell_type": "code",
   "execution_count": 53,
   "metadata": {},
   "outputs": [
    {
     "data": {
      "text/plain": [
       "tensor([2., 5., 8.])"
      ]
     },
     "execution_count": 53,
     "metadata": {},
     "output_type": "execute_result"
    }
   ],
   "source": [
    "# Média por linha\n",
    "x.mean(dim = 1)"
   ]
  },
  {
   "cell_type": "code",
   "execution_count": 54,
   "metadata": {},
   "outputs": [
    {
     "data": {
      "text/plain": [
       "tensor([1., 1., 1.])"
      ]
     },
     "execution_count": 54,
     "metadata": {},
     "output_type": "execute_result"
    }
   ],
   "source": [
    "# Desvio Padrão por linha\n",
    "x.std(dim = 1)"
   ]
  },
  {
   "cell_type": "code",
   "execution_count": 55,
   "metadata": {},
   "outputs": [
    {
     "name": "stdout",
     "output_type": "stream",
     "text": [
      "tensor(45.)\n"
     ]
    }
   ],
   "source": [
    "# Soma total\n",
    "r = torch.sum(x)         \n",
    "print(r)"
   ]
  },
  {
   "cell_type": "code",
   "execution_count": 56,
   "metadata": {},
   "outputs": [
    {
     "name": "stdout",
     "output_type": "stream",
     "text": [
      "tensor([12., 15., 18.])\n"
     ]
    }
   ],
   "source": [
    "# Soma por coluna\n",
    "r = torch.sum(x, 0)         \n",
    "print(r)"
   ]
  },
  {
   "cell_type": "code",
   "execution_count": 57,
   "metadata": {},
   "outputs": [
    {
     "name": "stdout",
     "output_type": "stream",
     "text": [
      "tensor([ 6., 15., 24.])\n"
     ]
    }
   ],
   "source": [
    "# Soma por linha\n",
    "r = torch.sum(x, 1)         \n",
    "print(r)"
   ]
  },
  {
   "cell_type": "markdown",
   "metadata": {},
   "source": [
    "### Multiplicação de Matrizes"
   ]
  },
  {
   "cell_type": "code",
   "execution_count": 58,
   "metadata": {},
   "outputs": [
    {
     "name": "stdout",
     "output_type": "stream",
     "text": [
      "tensor([[1., 2.],\n",
      "        [3., 4.]])\n",
      "tensor([[5., 2.],\n",
      "        [4., 5.]])\n"
     ]
    }
   ],
   "source": [
    "# Cria 2 tensores\n",
    "x = torch.Tensor([[1, 2],[3, 4]])  \n",
    "y = torch.Tensor([[5, 2],[4, 5]])   \n",
    "print(x)\n",
    "print(y)"
   ]
  },
  {
   "cell_type": "code",
   "execution_count": 59,
   "metadata": {},
   "outputs": [
    {
     "name": "stdout",
     "output_type": "stream",
     "text": [
      "tensor([[ 5.,  4.],\n",
      "        [12., 20.]])\n"
     ]
    }
   ],
   "source": [
    "# Multiplicação Element-wise \n",
    "r = torch.mul(x, y)\n",
    "print(r)"
   ]
  },
  {
   "cell_type": "code",
   "execution_count": 60,
   "metadata": {},
   "outputs": [
    {
     "name": "stdout",
     "output_type": "stream",
     "text": [
      "tensor([[0.2000, 1.0000],\n",
      "        [0.7500, 0.8000]])\n"
     ]
    }
   ],
   "source": [
    "# Divisão Element-wise \n",
    "r = torch.div(x, y)\n",
    "print(r)"
   ]
  },
  {
   "cell_type": "code",
   "execution_count": 61,
   "metadata": {},
   "outputs": [
    {
     "name": "stdout",
     "output_type": "stream",
     "text": [
      "tensor([4., 2.])\n",
      "tensor([3., 1.])\n"
     ]
    }
   ],
   "source": [
    "# Cria 2 tensores\n",
    "t1 = torch.Tensor([4, 2])\n",
    "t2 = torch.Tensor([3, 1])\n",
    "print(t1)\n",
    "print(t2)"
   ]
  },
  {
   "cell_type": "code",
   "execution_count": 62,
   "metadata": {},
   "outputs": [
    {
     "name": "stdout",
     "output_type": "stream",
     "text": [
      "tensor(14.)\n"
     ]
    }
   ],
   "source": [
    "# Dot product de 2 tensores\n",
    "r = torch.dot(t1, t2) \n",
    "print(r)"
   ]
  },
  {
   "cell_type": "code",
   "execution_count": 63,
   "metadata": {},
   "outputs": [
    {
     "name": "stdout",
     "output_type": "stream",
     "text": [
      "torch.Size([2])\n",
      "tensor([1.3363, 0.5946])\n"
     ]
    }
   ],
   "source": [
    "# Multiplicação entre Matriz e Vetor\n",
    "# Matriz X vetor\n",
    "# Resultado Size 2\n",
    "mat = torch.randn(2, 4)\n",
    "vec = torch.randn(4)\n",
    "r = torch.mv(mat, vec)\n",
    "print(r.size())\n",
    "print(r)"
   ]
  },
  {
   "cell_type": "code",
   "execution_count": 64,
   "metadata": {},
   "outputs": [
    {
     "name": "stdout",
     "output_type": "stream",
     "text": [
      "torch.Size([2])\n",
      "tensor([-1.4566, -0.9292])\n"
     ]
    }
   ],
   "source": [
    "# Multiplicação entre Matriz e Vetor e ao resultado somamos outro vetor.\n",
    "# Vetor + (Matriz X Vetor)\n",
    "# Resultado Size 2\n",
    "V = torch.randn(2)\n",
    "mat = torch.randn(2, 3)\n",
    "vec = torch.randn(3)\n",
    "r = torch.addmv(V, mat, vec)\n",
    "print(r.size())\n",
    "print(r)"
   ]
  },
  {
   "cell_type": "code",
   "execution_count": 65,
   "metadata": {},
   "outputs": [
    {
     "name": "stdout",
     "output_type": "stream",
     "text": [
      "torch.Size([2, 4])\n",
      "tensor([[-1.3333,  0.0064,  0.7222, -1.2426],\n",
      "        [-0.2532,  0.5890, -0.2115, -0.2556]])\n"
     ]
    }
   ],
   "source": [
    "# Multiplicação entre Matrizes\n",
    "# Matriz x Matriz\n",
    "# Resultado Size 2x4\n",
    "mat1 = torch.randn(2, 3)\n",
    "mat2 = torch.randn(3, 4)\n",
    "r = torch.mm(mat1, mat2)\n",
    "print(r.size())\n",
    "print(r)"
   ]
  },
  {
   "cell_type": "code",
   "execution_count": 66,
   "metadata": {},
   "outputs": [
    {
     "name": "stdout",
     "output_type": "stream",
     "text": [
      "torch.Size([3, 4])\n",
      "tensor([[ 0.7104, -0.3937, -1.7083, -0.8960],\n",
      "        [ 1.4768,  2.1588, -0.9807, -1.1664],\n",
      "        [ 1.0234, -0.8858,  0.1502,  1.7803]])\n"
     ]
    }
   ],
   "source": [
    "# Multiplicação entre Matrizes e ao resultado soma-se outra matriz\n",
    "# Matriz + (Matriz X Matriz)\n",
    "# Resultado Size 3x4\n",
    "M = torch.randn(3, 4)\n",
    "mat1 = torch.randn(3, 2)\n",
    "mat2 = torch.randn(2, 4)\n",
    "r = torch.addmm(M, mat1, mat2)\n",
    "print(r.size())\n",
    "print(r)"
   ]
  },
  {
   "cell_type": "code",
   "execution_count": 67,
   "metadata": {},
   "outputs": [
    {
     "name": "stdout",
     "output_type": "stream",
     "text": [
      "torch.Size([3, 5])\n",
      "tensor([[ 0.0040, -0.3203,  0.1260,  0.3833,  0.5353],\n",
      "        [-0.0618,  0.0337, -0.4363, -0.0654, -0.0637],\n",
      "        [ 0.0556, -0.0068,  0.4931, -0.3259, -0.6971]])\n"
     ]
    }
   ],
   "source": [
    "# # Multiplicação entre Matrizes com produto cruzado (cross product)\n",
    "# Matriz X Matriz\n",
    "# Resultado Size 3x5\n",
    "m1 = torch.rand(3, 5)\n",
    "m2 = torch.rand(3, 5)\n",
    "r = torch.cross(m1, m2)\n",
    "print(r.size())\n",
    "print(r)"
   ]
  },
  {
   "cell_type": "markdown",
   "metadata": {},
   "source": [
    "### Batch Matrix Multiplication"
   ]
  },
  {
   "cell_type": "markdown",
   "metadata": {},
   "source": [
    "No modelo seq2seq, o encoder codifica as sequências de entrada fornecidas em mini-lotes. Digamos, por exemplo, a entrada é B x S x d, em que B é o tamanho do lote, S é o comprimento máximo da sequência e d é a dimensão do word embedding. Em seguida, a saída do encoder é B x S x h, em que h é o tamanho do estado oculto do encoder (que é uma RNN).\n",
    "\n",
    "Agora, durante a decodificação (durante o treinamento), as sequências de entrada são dadas uma de cada vez; portanto, a entrada é B x 1 x d e o decodificador produz um tensor de forma B x 1 x h. Para calcular o vetor de contexto, precisamos comparar esse decodificador de estado oculto com os estados codificados pelo encoder.\n",
    "\n",
    "Portanto, considere que você tem dois tensores da forma: \n",
    "\n",
    "- T1 = B x S x h\n",
    "- T2 = B x 1 x h \n",
    "\n",
    "Podemos então fazer a Multiplicação de Matriz em Batch (lote) da seguinte maneira:\n",
    "\n",
    "torch.bmm(T1, T2.transpose(1, 2))\n",
    "\n",
    "Executamos um *batch matrix-matrix product* de matrizes do lote1 e lote2, sendo que lote1 e lote2 devem ser tensores tridimensionais, cada um contendo o mesmo número de matrizes.\n",
    "\n",
    "Se o lote1 for um tensor (b × n × m), o lote2 for um tensor (b × m × p), a saída será um tensor (b × n × p).\n",
    "\n",
    "![](./imagens/rnn.png)\n",
    "\n",
    "Essencialmente, você está multiplicando um tensor de forma B x S x h por um tensor de forma B x h x 1 e isso resultará em B x S x 1, que é o peso para cada lote.\n",
    "\n",
    "Aqui, os pesos B x S x 1 representam uma pontuação de similaridade entre o estado oculto atual do decodificador e todos os estados ocultos do codificador. Agora você pode levar em consideração os pesos para multiplicar com o estado oculto do codificador B x S x h, transpondo primeiro, e isso resultará em um tensor da forma B x h x 1. E se você pressionar em dim = 2, obterá um tensor de forma B x h, que é o seu vetor de contexto.\n",
    "\n",
    "Esse vetor de contexto (B x h) geralmente é concatenado ao estado oculto do decodificador (B x 1 x h, squeeze dim = 1) para prever o próximo token."
   ]
  },
  {
   "cell_type": "code",
   "execution_count": 9,
   "metadata": {},
   "outputs": [
    {
     "name": "stdout",
     "output_type": "stream",
     "text": [
      "torch.Size([10, 3, 5])\n",
      "tensor([[[-0.9997,  0.7273,  3.5070, -0.6058,  0.2828],\n",
      "         [ 0.1420,  2.7159, -0.2464, -2.0146, -1.1709],\n",
      "         [-1.9372, -0.7468,  3.9417, -0.5446,  1.8896]],\n",
      "\n",
      "        [[-1.5809, -1.2918,  0.6532, -1.8854,  1.9814],\n",
      "         [-3.4036, -0.0504,  0.9575,  1.8530, -1.3532],\n",
      "         [ 4.8881,  0.2649, -2.7893,  0.0952, -0.3544]],\n",
      "\n",
      "        [[ 0.2821, -1.0061,  2.1912,  0.9193, -0.9680],\n",
      "         [ 2.5811,  1.4052,  0.3942,  1.4403,  0.2282],\n",
      "         [ 5.8610, -3.9977,  5.6806,  3.0281, -3.0150]],\n",
      "\n",
      "        [[ 2.4218, -0.8880,  1.3073, -1.8933,  0.3586],\n",
      "         [ 1.0399, -1.0015,  1.0332, -2.3195, -1.4063],\n",
      "         [-4.0602,  0.9706, -3.0834,  1.2241, -3.9796]],\n",
      "\n",
      "        [[ 1.7965, -1.9416, -0.5582,  3.3313,  5.3398],\n",
      "         [ 1.8686, -3.3726,  0.1740,  4.5744,  2.9430],\n",
      "         [-1.9366, -0.2675,  0.1102,  1.8692,  4.2401]],\n",
      "\n",
      "        [[-1.0859,  1.3281, -1.3909, -2.2875,  0.0344],\n",
      "         [-0.5123, -0.2581, -0.6951, -0.4092, -0.1711],\n",
      "         [ 0.7930, -2.4581,  1.8134, -5.6922,  1.6691]],\n",
      "\n",
      "        [[-1.0955,  1.3730, -0.1520,  3.0840, -1.8195],\n",
      "         [ 2.4348, -1.2643,  0.7636, -1.2637,  2.2305],\n",
      "         [ 0.8468, -0.6137, -0.0954, -0.9029,  0.1796]],\n",
      "\n",
      "        [[ 3.4211,  2.9717, -0.8767,  2.5888, -3.1600],\n",
      "         [-0.7057, -3.8039, -5.4376,  0.8878,  1.8457],\n",
      "         [ 3.5942, -0.1444,  1.5638,  0.9649,  0.0743]],\n",
      "\n",
      "        [[-0.2808,  1.3913,  1.3832, -0.2329,  0.6996],\n",
      "         [ 0.1791, -1.6261,  0.6940,  0.5321, -1.6880],\n",
      "         [-0.0514, -0.6120, -0.6804, -1.4595,  1.2394]],\n",
      "\n",
      "        [[ 0.5287,  2.9869, -1.6008, -0.0916,  1.1363],\n",
      "         [ 0.7682,  0.7349,  1.0277,  0.1012,  0.8084],\n",
      "         [-3.2610,  4.1462, -1.8074,  3.0409, -0.6365]]])\n"
     ]
    }
   ],
   "source": [
    "# Multiplicação de Matrizes em Batch (Lote)\n",
    "# Batch x Batch\n",
    "# Resultado Size 10x3x5\n",
    "batch1 = torch.randn(10, 3, 4)\n",
    "batch2 = torch.randn(10, 4, 5)\n",
    "r = torch.bmm(batch1, batch2)\n",
    "print(r.size())\n",
    "print(r)"
   ]
  },
  {
   "cell_type": "code",
   "execution_count": 10,
   "metadata": {},
   "outputs": [
    {
     "name": "stdout",
     "output_type": "stream",
     "text": [
      "torch.Size([3, 2])\n",
      "tensor([[ 1.1140, -2.5027],\n",
      "        [ 3.3838, -3.6484],\n",
      "        [ 3.6108,  4.3158]])\n"
     ]
    }
   ],
   "source": [
    "# Multiplicação de Matrizes em Batch (Lote) e o resultado somado à outra Matriz\n",
    "# Matriz + (Batch x Batch)\n",
    "# Resultado Size 3x2 =  3x2 + (5x3x4 X 5x4x2) \n",
    "M = torch.randn(3, 2)\n",
    "batch1 = torch.randn(5, 3, 4)\n",
    "batch2 = torch.randn(5, 4, 2)\n",
    "r = torch.addbmm(M, batch1, batch2)\n",
    "print(r.size())\n",
    "print(r)"
   ]
  },
  {
   "cell_type": "markdown",
   "metadata": {},
   "source": [
    "### Manipulação de Tensores (Concatenação, Expansão, Junção, Chunk, Squeeze)"
   ]
  },
  {
   "cell_type": "code",
   "execution_count": 11,
   "metadata": {},
   "outputs": [
    {
     "name": "stdout",
     "output_type": "stream",
     "text": [
      "torch.Size([3, 3])\n",
      "tensor([[1., 0., 0.],\n",
      "        [0., 1., 0.],\n",
      "        [0., 0., 1.]])\n"
     ]
    }
   ],
   "source": [
    "# Matriz Diagonal\n",
    "# Size 3x3\n",
    "v = torch.ones(3)\n",
    "r = torch.diag(v)\n",
    "print(r.size())\n",
    "print(r)"
   ]
  },
  {
   "cell_type": "code",
   "execution_count": 12,
   "metadata": {},
   "outputs": [
    {
     "data": {
      "text/plain": [
       "torch.Size([3, 1])"
      ]
     },
     "execution_count": 12,
     "metadata": {},
     "output_type": "execute_result"
    }
   ],
   "source": [
    "# Criando um tensor\n",
    "x = torch.tensor([[1], [2], [3]])\n",
    "x.size()"
   ]
  },
  {
   "cell_type": "code",
   "execution_count": 13,
   "metadata": {},
   "outputs": [
    {
     "name": "stdout",
     "output_type": "stream",
     "text": [
      "tensor([[1],\n",
      "        [2],\n",
      "        [3]])\n"
     ]
    }
   ],
   "source": [
    "print(x)"
   ]
  },
  {
   "cell_type": "code",
   "execution_count": 14,
   "metadata": {},
   "outputs": [
    {
     "data": {
      "text/plain": [
       "tensor([[1, 1, 1, 1],\n",
       "        [2, 2, 2, 2],\n",
       "        [3, 3, 3, 3]])"
      ]
     },
     "execution_count": 14,
     "metadata": {},
     "output_type": "execute_result"
    }
   ],
   "source": [
    "# Expandindo um tensor\n",
    "x.expand(3, 4)"
   ]
  },
  {
   "cell_type": "code",
   "execution_count": 74,
   "metadata": {},
   "outputs": [
    {
     "name": "stdout",
     "output_type": "stream",
     "text": [
      "tensor([[ 0.1732,  1.5086,  0.4903],\n",
      "        [-0.9459, -1.0465, -1.0522],\n",
      "        [ 1.2294, -1.2073, -0.0548],\n",
      "        [-1.0267,  0.2426, -2.4906],\n",
      "        [-0.9463,  0.2096,  0.2608]])\n",
      "torch.float32\n"
     ]
    }
   ],
   "source": [
    "# Definindo o tipo de tensor\n",
    "x = torch.randn(5, 3).type(torch.FloatTensor)\n",
    "print(x)\n",
    "print(x.dtype)"
   ]
  },
  {
   "cell_type": "code",
   "execution_count": 75,
   "metadata": {},
   "outputs": [
    {
     "name": "stdout",
     "output_type": "stream",
     "text": [
      "tensor([[ 1,  1,  0],\n",
      "        [ 0,  0,  0],\n",
      "        [ 0,  0,  0],\n",
      "        [ 1, -1, -1],\n",
      "        [-1,  0,  0]], dtype=torch.int8)\n",
      "torch.int8\n"
     ]
    }
   ],
   "source": [
    "# Definindo o tipo de tensor\n",
    "y = torch.randn(5, 3).type(torch.int8)\n",
    "print(y)\n",
    "print(y.dtype)"
   ]
  },
  {
   "cell_type": "code",
   "execution_count": 23,
   "metadata": {},
   "outputs": [
    {
     "name": "stdout",
     "output_type": "stream",
     "text": [
      "tensor([0, 1, 2, 3, 4, 5, 6, 7, 8])\n",
      "1\n"
     ]
    }
   ],
   "source": [
    "# Tensor com 9 elementos de 1 dimensão\n",
    "v = torch.arange(9)\n",
    "print(v)\n",
    "print(v.dim())"
   ]
  },
  {
   "cell_type": "code",
   "execution_count": 24,
   "metadata": {},
   "outputs": [
    {
     "name": "stdout",
     "output_type": "stream",
     "text": [
      "tensor([[0, 1, 2],\n",
      "        [3, 4, 5],\n",
      "        [6, 7, 8]])\n",
      "2\n"
     ]
    }
   ],
   "source": [
    "# Converte o tensor com 9 elementos de 1 dimensão, em um tensor de 9 elementos com duas dimensões\n",
    "v = v.view(3, 3)\n",
    "print(v)\n",
    "print(v.dim())"
   ]
  },
  {
   "cell_type": "code",
   "execution_count": 25,
   "metadata": {},
   "outputs": [
    {
     "name": "stdout",
     "output_type": "stream",
     "text": [
      "tensor([[-2.3354,  0.0067,  0.3583],\n",
      "        [-0.2514, -0.5710,  0.3929],\n",
      "        [-0.8394,  0.7080, -0.8779],\n",
      "        [-0.7015,  2.4303, -1.6715],\n",
      "        [ 0.3433,  0.3144,  0.5163]])\n",
      "2\n",
      "torch.Size([5, 3])\n"
     ]
    }
   ],
   "source": [
    "# Tensor x\n",
    "x = torch.randn(5, 3).type(torch.FloatTensor)\n",
    "print(x)\n",
    "print(x.dim())\n",
    "print(x.shape)"
   ]
  },
  {
   "cell_type": "code",
   "execution_count": 26,
   "metadata": {},
   "outputs": [
    {
     "name": "stdout",
     "output_type": "stream",
     "text": [
      "tensor([[-2.3354,  0.0067,  0.3583],\n",
      "        [-0.2514, -0.5710,  0.3929],\n",
      "        [-0.8394,  0.7080, -0.8779],\n",
      "        [-0.7015,  2.4303, -1.6715],\n",
      "        [ 0.3433,  0.3144,  0.5163],\n",
      "        [-2.3354,  0.0067,  0.3583],\n",
      "        [-0.2514, -0.5710,  0.3929],\n",
      "        [-0.8394,  0.7080, -0.8779],\n",
      "        [-0.7015,  2.4303, -1.6715],\n",
      "        [ 0.3433,  0.3144,  0.5163],\n",
      "        [-2.3354,  0.0067,  0.3583],\n",
      "        [-0.2514, -0.5710,  0.3929],\n",
      "        [-0.8394,  0.7080, -0.8779],\n",
      "        [-0.7015,  2.4303, -1.6715],\n",
      "        [ 0.3433,  0.3144,  0.5163]])\n",
      "2\n",
      "torch.Size([15, 3])\n",
      "torch.float32\n"
     ]
    }
   ],
   "source": [
    "# Concatenação por linha\n",
    "x3_linha = torch.cat((x, x, x), 0)     \n",
    "print(x3_linha)\n",
    "print(x3_linha.dim())\n",
    "print(x3_linha.shape)\n",
    "print(x3_linha.dtype)"
   ]
  },
  {
   "cell_type": "code",
   "execution_count": 19,
   "metadata": {},
   "outputs": [
    {
     "name": "stdout",
     "output_type": "stream",
     "text": [
      "tensor([[-0.5355,  0.5222,  1.7949, -0.5355,  0.5222,  1.7949, -0.5355,  0.5222,\n",
      "          1.7949],\n",
      "        [ 1.0814, -1.2576, -0.7434,  1.0814, -1.2576, -0.7434,  1.0814, -1.2576,\n",
      "         -0.7434],\n",
      "        [-1.5302, -1.2304, -1.0512, -1.5302, -1.2304, -1.0512, -1.5302, -1.2304,\n",
      "         -1.0512],\n",
      "        [ 1.0791,  0.3060, -0.2298,  1.0791,  0.3060, -0.2298,  1.0791,  0.3060,\n",
      "         -0.2298],\n",
      "        [-1.0297, -0.4393,  0.0738, -1.0297, -0.4393,  0.0738, -1.0297, -0.4393,\n",
      "          0.0738]])\n",
      "2\n",
      "torch.Size([5, 9])\n",
      "torch.float32\n"
     ]
    }
   ],
   "source": [
    "# Concatenação por coluna\n",
    "x3_coluna = torch.cat((x, x, x), 1)     \n",
    "print(x3_coluna)\n",
    "print(x3_coluna.dim())\n",
    "print(x3_coluna.shape)\n",
    "print(x3_coluna.dtype)"
   ]
  },
  {
   "cell_type": "code",
   "execution_count": 27,
   "metadata": {},
   "outputs": [
    {
     "name": "stdout",
     "output_type": "stream",
     "text": [
      "tensor([[0, 1, 2],\n",
      "        [3, 4, 5],\n",
      "        [6, 7, 8]])\n",
      "2\n",
      "torch.Size([3, 3])\n"
     ]
    }
   ],
   "source": [
    "# Vetor v\n",
    "v = v.view(3, 3)\n",
    "print(v)\n",
    "print(v.dim())\n",
    "print(v.shape)"
   ]
  },
  {
   "cell_type": "code",
   "execution_count": 28,
   "metadata": {},
   "outputs": [
    {
     "name": "stdout",
     "output_type": "stream",
     "text": [
      "tensor([[[0, 1, 2],\n",
      "         [3, 4, 5],\n",
      "         [6, 7, 8]],\n",
      "\n",
      "        [[0, 1, 2],\n",
      "         [3, 4, 5],\n",
      "         [6, 7, 8]]])\n",
      "3\n",
      "torch.Size([2, 3, 3])\n"
     ]
    }
   ],
   "source": [
    "# Stack\n",
    "v2 = torch.stack((v, v))\n",
    "print(v2)\n",
    "print(v2.dim())\n",
    "print(v2.shape)"
   ]
  },
  {
   "cell_type": "code",
   "execution_count": 30,
   "metadata": {},
   "outputs": [
    {
     "data": {
      "text/plain": [
       "tensor([[0, 1],\n",
       "        [4, 3],\n",
       "        [8, 7]])"
      ]
     },
     "execution_count": 30,
     "metadata": {},
     "output_type": "execute_result"
    }
   ],
   "source": [
    "# Reorganizando os elementos\n",
    "torch.gather(v, 1, torch.LongTensor([[0,1],[1,0],[2,1]]))"
   ]
  },
  {
   "cell_type": "code",
   "execution_count": 31,
   "metadata": {},
   "outputs": [
    {
     "data": {
      "text/plain": [
       "(tensor([[0, 1, 2]]), tensor([[3, 4, 5]]), tensor([[6, 7, 8]]))"
      ]
     },
     "execution_count": 31,
     "metadata": {},
     "output_type": "execute_result"
    }
   ],
   "source": [
    "# Split do tensor\n",
    "torch.chunk(v, 3)"
   ]
  },
  {
   "cell_type": "code",
   "execution_count": 32,
   "metadata": {},
   "outputs": [
    {
     "name": "stdout",
     "output_type": "stream",
     "text": [
      "tensor([[[ 5.0980e-01,  1.2283e+00,  1.5942e+00,  1.2034e+00, -2.1182e-01],\n",
      "         [-5.9485e-01, -8.5480e-01, -6.2155e-01, -1.2069e+00,  1.5020e+00],\n",
      "         [-1.0432e-01, -3.1374e-01, -1.0595e+00, -1.4795e+00, -9.4328e-01],\n",
      "         [ 8.8926e-02, -3.2891e-01,  1.6825e+00,  2.2670e+00,  1.0407e+00]],\n",
      "\n",
      "        [[-7.5534e-02, -5.1607e-01,  5.9023e-01,  6.4936e-02, -3.5168e-01],\n",
      "         [ 7.8058e-01, -7.2687e-01, -2.6845e-01, -8.9266e-02, -2.5543e-01],\n",
      "         [ 7.7320e-01, -9.4190e-02, -1.5164e+00, -2.6492e+00, -1.5314e+00],\n",
      "         [ 5.4153e-01, -1.1142e+00,  5.8524e-01, -3.4015e-01,  2.7033e-02]],\n",
      "\n",
      "        [[ 5.3009e-01, -1.3328e+00, -1.5755e-02,  9.0368e-01,  3.4210e-01],\n",
      "         [-4.6093e-01,  4.4534e-01,  1.3294e+00, -1.6428e+00,  2.8603e-01],\n",
      "         [-5.1624e-01,  1.0558e-01, -6.6907e-03,  5.4924e-01, -1.1693e+00],\n",
      "         [ 9.7506e-01, -1.3344e+00, -1.1164e+00, -7.7772e-01, -1.2096e+00]],\n",
      "\n",
      "        [[ 1.0219e+00, -6.3902e-01, -9.8655e-01,  4.5728e-01, -2.3341e+00],\n",
      "         [-5.8528e-01, -1.2051e+00,  6.9811e-01, -9.7113e-02, -4.6317e-01],\n",
      "         [ 1.3949e+00,  3.8840e-01,  7.4591e-01,  8.7552e-01, -1.3845e+00],\n",
      "         [ 1.3565e+00,  4.1264e-01,  7.3179e-01,  2.4425e+00,  1.4525e+00]],\n",
      "\n",
      "        [[ 7.8396e-01, -2.2590e+00,  5.9520e-01, -7.1671e-01,  1.0028e+00],\n",
      "         [-3.4717e-01,  9.3866e-01,  4.0568e-01,  1.7544e+00,  4.8198e-01],\n",
      "         [-3.2907e-01,  5.3286e-01,  7.2223e-01, -8.1238e-01, -7.4903e-01],\n",
      "         [ 4.3151e-01, -1.1192e+00, -1.7750e-01,  4.1098e-01, -1.0128e+00]],\n",
      "\n",
      "        [[ 1.3706e+00,  7.3042e-01, -1.8569e+00,  9.2868e-01, -3.3351e-01],\n",
      "         [-1.1047e+00, -4.1207e-01, -2.6725e-01, -2.0135e+00, -1.3586e-01],\n",
      "         [ 1.6810e-01, -7.6174e-01, -9.4344e-02, -9.1151e-01,  2.2877e+00],\n",
      "         [-5.8868e-01,  5.1904e-01, -5.3656e-01, -7.1699e-01,  6.5051e-01]],\n",
      "\n",
      "        [[-1.2020e-01, -1.4132e+00,  3.8337e-01,  2.1404e-01, -8.5901e-01],\n",
      "         [ 1.7064e+00,  3.7508e-01,  8.3599e-01, -2.2620e+00, -3.9698e-02],\n",
      "         [-8.9210e-02, -3.2520e-01,  1.2262e-01,  8.9563e-02, -3.6546e-01],\n",
      "         [ 1.6428e-01, -8.8089e-01,  5.3579e-01,  1.3242e-01,  1.5234e+00]],\n",
      "\n",
      "        [[-3.8726e-01, -1.0089e+00,  5.5242e-02, -2.7366e-01,  5.0969e-01],\n",
      "         [-1.1359e-01, -2.3478e-01, -1.8762e-01,  1.0437e+00, -1.0397e-01],\n",
      "         [-5.5373e-03,  1.9496e+00, -3.7623e-01,  1.5053e+00, -5.8774e-01],\n",
      "         [-1.1276e+00,  1.7568e+00, -1.2737e-01, -6.1820e-01, -9.3264e-01]],\n",
      "\n",
      "        [[ 3.0645e-01,  1.5661e+00,  7.0770e-03,  9.4712e-01, -7.4230e-01],\n",
      "         [ 2.3004e-01,  3.6446e-01,  2.5276e+00, -1.2448e+00, -1.5060e-01],\n",
      "         [ 3.0942e-01, -9.2823e-02,  8.6930e-01, -7.9403e-01,  4.1339e-01],\n",
      "         [ 6.3531e-01, -1.3682e+00, -4.8653e-01, -1.7808e+00,  4.1276e-01]],\n",
      "\n",
      "        [[ 6.3277e-01,  2.6371e+00, -4.7529e-02,  1.4972e+00, -1.8929e+00],\n",
      "         [ 8.8312e-01, -3.8517e-01,  2.6967e+00,  5.8570e-01,  3.4968e-01],\n",
      "         [ 5.0606e-01,  1.6127e+00,  2.7492e-01, -1.1228e+00, -1.5298e-03],\n",
      "         [-1.0649e+00,  9.1365e-03, -1.7257e+00,  9.7117e-01,  4.9082e-01]]])\n"
     ]
    }
   ],
   "source": [
    "q = torch.randn(10, 4, 5)\n",
    "print(q)"
   ]
  },
  {
   "cell_type": "code",
   "execution_count": 33,
   "metadata": {},
   "outputs": [
    {
     "data": {
      "text/plain": [
       "tensor([[[-5.9485e-01, -8.5480e-01, -6.2155e-01, -1.2069e+00,  1.5020e+00],\n",
       "         [-1.0432e-01, -3.1374e-01, -1.0595e+00, -1.4795e+00, -9.4328e-01]],\n",
       "\n",
       "        [[ 7.8058e-01, -7.2687e-01, -2.6845e-01, -8.9266e-02, -2.5543e-01],\n",
       "         [ 7.7320e-01, -9.4190e-02, -1.5164e+00, -2.6492e+00, -1.5314e+00]],\n",
       "\n",
       "        [[-4.6093e-01,  4.4534e-01,  1.3294e+00, -1.6428e+00,  2.8603e-01],\n",
       "         [-5.1624e-01,  1.0558e-01, -6.6907e-03,  5.4924e-01, -1.1693e+00]],\n",
       "\n",
       "        [[-5.8528e-01, -1.2051e+00,  6.9811e-01, -9.7113e-02, -4.6317e-01],\n",
       "         [ 1.3949e+00,  3.8840e-01,  7.4591e-01,  8.7552e-01, -1.3845e+00]],\n",
       "\n",
       "        [[-3.4717e-01,  9.3866e-01,  4.0568e-01,  1.7544e+00,  4.8198e-01],\n",
       "         [-3.2907e-01,  5.3286e-01,  7.2223e-01, -8.1238e-01, -7.4903e-01]],\n",
       "\n",
       "        [[-1.1047e+00, -4.1207e-01, -2.6725e-01, -2.0135e+00, -1.3586e-01],\n",
       "         [ 1.6810e-01, -7.6174e-01, -9.4344e-02, -9.1151e-01,  2.2877e+00]],\n",
       "\n",
       "        [[ 1.7064e+00,  3.7508e-01,  8.3599e-01, -2.2620e+00, -3.9698e-02],\n",
       "         [-8.9210e-02, -3.2520e-01,  1.2262e-01,  8.9563e-02, -3.6546e-01]],\n",
       "\n",
       "        [[-1.1359e-01, -2.3478e-01, -1.8762e-01,  1.0437e+00, -1.0397e-01],\n",
       "         [-5.5373e-03,  1.9496e+00, -3.7623e-01,  1.5053e+00, -5.8774e-01]],\n",
       "\n",
       "        [[ 2.3004e-01,  3.6446e-01,  2.5276e+00, -1.2448e+00, -1.5060e-01],\n",
       "         [ 3.0942e-01, -9.2823e-02,  8.6930e-01, -7.9403e-01,  4.1339e-01]],\n",
       "\n",
       "        [[ 8.8312e-01, -3.8517e-01,  2.6967e+00,  5.8570e-01,  3.4968e-01],\n",
       "         [ 5.0606e-01,  1.6127e+00,  2.7492e-01, -1.1228e+00, -1.5298e-03]]])"
      ]
     },
     "execution_count": 33,
     "metadata": {},
     "output_type": "execute_result"
    }
   ],
   "source": [
    "# Usando máscaras para busca no tensor\n",
    "indices = torch.LongTensor([1, 2])\n",
    "torch.index_select(q, 1, indices) # Seleciona elementos de índice 1 e 2 para cada dimensão 1."
   ]
  },
  {
   "cell_type": "code",
   "execution_count": 34,
   "metadata": {},
   "outputs": [
    {
     "name": "stdout",
     "output_type": "stream",
     "text": [
      "tensor([[[[1.],\n",
      "          [1.]]],\n",
      "\n",
      "\n",
      "        [[[1.],\n",
      "          [1.]]]])\n",
      "4\n",
      "torch.Size([2, 1, 2, 1])\n",
      "\n",
      "\n",
      "tensor([[1., 1.],\n",
      "        [1., 1.]])\n",
      "2\n",
      "torch.Size([2, 2])\n",
      "\n",
      "\n",
      "tensor([[[1.],\n",
      "         [1.]],\n",
      "\n",
      "        [[1.],\n",
      "         [1.]]])\n",
      "3\n",
      "torch.Size([2, 2, 1])\n"
     ]
    }
   ],
   "source": [
    "# Squeeze\n",
    "t = torch.ones(2,1,2,1)  # Size 2x1x2x1\n",
    "r = torch.squeeze(t)     # Size 2x2\n",
    "p = torch.squeeze(t, 1)  # Squeeze pela dimensão 1: Size 2x2x1\n",
    "print(t)\n",
    "print(t.dim())\n",
    "print(t.shape)\n",
    "print(\"\\n\")\n",
    "print(r)\n",
    "print(r.dim())\n",
    "print(r.shape)\n",
    "print(\"\\n\")\n",
    "print(p)\n",
    "print(p.dim())\n",
    "print(p.shape)"
   ]
  },
  {
   "cell_type": "code",
   "execution_count": 35,
   "metadata": {},
   "outputs": [
    {
     "name": "stdout",
     "output_type": "stream",
     "text": [
      "tensor([1., 2., 3.])\n",
      "1\n",
      "torch.Size([3])\n",
      "\n",
      "\n",
      "tensor([[1., 2., 3.]])\n",
      "2\n",
      "torch.Size([1, 3])\n",
      "\n",
      "\n",
      "tensor([[1.],\n",
      "        [2.],\n",
      "        [3.]])\n",
      "2\n",
      "torch.Size([3, 1])\n"
     ]
    }
   ],
   "source": [
    "# Unsqueeze \n",
    "u = torch.Tensor([1, 2, 3])\n",
    "s = torch.unsqueeze(u, 0)       # Size: 1x3\n",
    "w = torch.unsqueeze(u, 1)       # Size: 3x1\n",
    "print(u)\n",
    "print(u.dim())\n",
    "print(u.shape)\n",
    "print(\"\\n\")\n",
    "print(s)\n",
    "print(s.dim())\n",
    "print(s.shape)\n",
    "print(\"\\n\")\n",
    "print(w)\n",
    "print(w.dim())\n",
    "print(w.shape)"
   ]
  },
  {
   "cell_type": "markdown",
   "metadata": {},
   "source": [
    "### Distribuições Estatísticas no PyTorch"
   ]
  },
  {
   "cell_type": "code",
   "execution_count": 89,
   "metadata": {},
   "outputs": [
    {
     "data": {
      "text/plain": [
       "tensor([[0.9543, 0.7865],\n",
       "        [0.4066, 0.8354]])"
      ]
     },
     "execution_count": 89,
     "metadata": {},
     "output_type": "execute_result"
    }
   ],
   "source": [
    "# Distribuição Uniforme Para Matriiz coom Range (0, 1)\n",
    "torch.Tensor(2, 2).uniform_(0, 1)"
   ]
  },
  {
   "cell_type": "code",
   "execution_count": 90,
   "metadata": {},
   "outputs": [
    {
     "data": {
      "text/plain": [
       "tensor([[1., 1.],\n",
       "        [1., 1.]])"
      ]
     },
     "execution_count": 90,
     "metadata": {},
     "output_type": "execute_result"
    }
   ],
   "source": [
    "# Distribuição de Bernoulli\n",
    "torch.bernoulli(r)   "
   ]
  },
  {
   "cell_type": "code",
   "execution_count": 91,
   "metadata": {},
   "outputs": [
    {
     "data": {
      "text/plain": [
       "tensor([1, 2, 1, 2])"
      ]
     },
     "execution_count": 91,
     "metadata": {},
     "output_type": "execute_result"
    }
   ],
   "source": [
    "# Distribuição Multinomial\n",
    "w = torch.Tensor([0, 4, 8, 2])\n",
    "torch.multinomial(w, 4, replacement = True) "
   ]
  },
  {
   "cell_type": "code",
   "execution_count": 92,
   "metadata": {},
   "outputs": [
    {
     "name": "stdout",
     "output_type": "stream",
     "text": [
      "tensor([[0.9992],\n",
      "        [0.9992],\n",
      "        [0.9988],\n",
      "        [0.9997],\n",
      "        [0.9992],\n",
      "        [1.0011],\n",
      "        [1.0007],\n",
      "        [0.9989],\n",
      "        [0.9991],\n",
      "        [1.0015],\n",
      "        [1.0018],\n",
      "        [0.9981],\n",
      "        [0.9993],\n",
      "        [0.9998],\n",
      "        [1.0006],\n",
      "        [1.0003],\n",
      "        [0.9996],\n",
      "        [1.0003],\n",
      "        [0.9963],\n",
      "        [1.0002],\n",
      "        [1.0002],\n",
      "        [1.0009],\n",
      "        [0.9993],\n",
      "        [1.0008],\n",
      "        [1.0007],\n",
      "        [1.0013],\n",
      "        [1.0008],\n",
      "        [1.0014],\n",
      "        [1.0009],\n",
      "        [0.9999],\n",
      "        [1.0004],\n",
      "        [1.0010],\n",
      "        [0.9994],\n",
      "        [0.9984],\n",
      "        [1.0000],\n",
      "        [0.9997],\n",
      "        [0.9999],\n",
      "        [0.9987],\n",
      "        [1.0005],\n",
      "        [1.0004],\n",
      "        [1.0013],\n",
      "        [1.0005],\n",
      "        [0.9990],\n",
      "        [0.9990],\n",
      "        [1.0011],\n",
      "        [0.9993],\n",
      "        [0.9995],\n",
      "        [1.0007],\n",
      "        [0.9989],\n",
      "        [0.9992],\n",
      "        [0.9997],\n",
      "        [1.0009],\n",
      "        [0.9988],\n",
      "        [0.9983],\n",
      "        [1.0005],\n",
      "        [0.9992],\n",
      "        [0.9994],\n",
      "        [0.9992],\n",
      "        [0.9992],\n",
      "        [0.9995],\n",
      "        [0.9994],\n",
      "        [0.9994],\n",
      "        [0.9986],\n",
      "        [1.0015],\n",
      "        [0.9990],\n",
      "        [1.0011],\n",
      "        [0.9994],\n",
      "        [0.9996],\n",
      "        [1.0008],\n",
      "        [1.0006],\n",
      "        [1.0003],\n",
      "        [0.9994],\n",
      "        [1.0002],\n",
      "        [0.9999],\n",
      "        [1.0000],\n",
      "        [1.0001],\n",
      "        [0.9997],\n",
      "        [1.0001],\n",
      "        [0.9986],\n",
      "        [0.9987],\n",
      "        [1.0007],\n",
      "        [1.0006],\n",
      "        [0.9991],\n",
      "        [0.9991],\n",
      "        [1.0000],\n",
      "        [0.9995],\n",
      "        [1.0008],\n",
      "        [1.0004],\n",
      "        [0.9988],\n",
      "        [1.0007],\n",
      "        [1.0001],\n",
      "        [0.9987],\n",
      "        [0.9998],\n",
      "        [1.0018],\n",
      "        [0.9994],\n",
      "        [0.9996],\n",
      "        [1.0005],\n",
      "        [1.0003],\n",
      "        [0.9990],\n",
      "        [0.9994]])\n",
      "2\n"
     ]
    }
   ],
   "source": [
    "# Distribuição Normal\n",
    "import torch.distributions as tdist\n",
    "dist = tdist.Normal(torch.tensor([1.0]), torch.tensor([0.001]))\n",
    "amostra = dist.sample((100,))\n",
    "print(amostra)\n",
    "print(amostra.dim())"
   ]
  },
  {
   "cell_type": "code",
   "execution_count": 93,
   "metadata": {},
   "outputs": [
    {
     "data": {
      "text/plain": [
       "(array([ 1.,  0.,  0.,  3., 13., 25., 18., 22., 11.,  7.]),\n",
       " array([0.99629426, 0.9968438 , 0.99739337, 0.997943  , 0.99849254,\n",
       "        0.9990421 , 0.99959165, 1.0001413 , 1.0006908 , 1.0012404 ,\n",
       "        1.0017899 ], dtype=float32),\n",
       " <a list of 10 Patch objects>)"
      ]
     },
     "execution_count": 93,
     "metadata": {},
     "output_type": "execute_result"
    },
    {
     "data": {
      "image/png": "[encoded data removed]",
      "text/plain": [
       "<Figure size 432x288 with 1 Axes>"
      ]
     },
     "metadata": {
      "needs_background": "light"
     },
     "output_type": "display_data"
    }
   ],
   "source": [
    "import matplotlib.pyplot as plt\n",
    "%matplotlib inline\n",
    "elementos = amostra.numpy().flatten()\n",
    "elementos\n",
    "plt.hist(elementos)"
   ]
  },
  {
   "cell_type": "markdown",
   "metadata": {},
   "source": [
    "# Fim"
   ]
  }
 ],
 "metadata": {
  "kernelspec": {
   "display_name": "Python 3",
   "language": "python",
   "name": "python3"
  },
  "language_info": {
   "codemirror_mode": {
    "name": "ipython",
    "version": 3
   },
   "file_extension": ".py",
   "mimetype": "text/x-python",
   "name": "python",
   "nbconvert_exporter": "python",
   "pygments_lexer": "ipython3",
   "version": "3.7.12"
  }
 },
 "nbformat": 4,
 "nbformat_minor": 2
}
