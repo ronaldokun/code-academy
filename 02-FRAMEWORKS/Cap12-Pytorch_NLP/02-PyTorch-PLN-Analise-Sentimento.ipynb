{
 "cells": [
  {
   "cell_type": "markdown",
   "metadata": {},
   "source": [
    "# <font color='blue'>Data Science Academy</font>\n",
    "# <font color='blue'>Deep Learning Frameworks</font>"
   ]
  },
  {
   "cell_type": "code",
   "execution_count": 1,
   "metadata": {},
   "outputs": [
    {
     "name": "stdout",
     "output_type": "stream",
     "text": [
      "Versão da Linguagem Python Usada Neste Jupyter Notebook: 3.7.6\n"
     ]
    }
   ],
   "source": [
    "# Versão da Linguagem Python\n",
    "from platform import python_version\n",
    "print('Versão da Linguagem Python Usada Neste Jupyter Notebook:', python_version())"
   ]
  },
  {
   "cell_type": "markdown",
   "metadata": {},
   "source": [
    "## Construindo um Classificador de Sentimentos com PyTorch"
   ]
  },
  {
   "cell_type": "markdown",
   "metadata": {},
   "source": [
    "Tudo o que expressamos (verbalmente ou por escrito) carrega enormes quantidades de informação. O tópico que escolhemos, nosso tom, nossa seleção de palavras, tudo acrescenta algum tipo de informação que pode ser interpretada e com o valor extraído dela. Em teoria, podemos entender e até prever o comportamento humano usando essas informações.\n",
    "\n",
    "Mas há um problema: uma pessoa pode gerar centenas ou milhares de palavras em uma declaração, cada sentença com sua complexidade correspondente. Se você deseja dimensionar e analisar várias centenas, milhares ou milhões de pessoas ou declarações em uma determinada região, a situação é incontrolável.\n"
   ]
  },
  {
   "cell_type": "code",
   "execution_count": 2,
   "metadata": {},
   "outputs": [],
   "source": [
    "# Para atualizar um pacote, execute o comando abaixo no terminal ou prompt de comando:\n",
    "# pip install -U nome_pacote\n",
    "\n",
    "# Para instalar a versão exata de um pacote, execute o comando abaixo no terminal ou prompt de comando:\n",
    "# pip install nome_pacote==versão_desejada\n",
    "\n",
    "# Depois de instalar ou atualizar o pacote, reinicie o jupyter notebook.\n",
    "\n",
    "# Instala o pacote watermark. \n",
    "# Esse pacote é usado para gravar as versões de outros pacotes usados neste jupyter notebook.\n",
    "!pip install -q -U watermark"
   ]
  },
  {
   "cell_type": "code",
   "execution_count": 1,
   "metadata": {},
   "outputs": [],
   "source": [
    "# Imports\n",
    "import torch\n",
    "import pandas as pd\n",
    "import torch.nn as nn\n",
    "import torch.optim as optim\n",
    "import torch.nn.functional as F\n",
    "import sklearn\n",
    "from torch.utils.data import DataLoader, Dataset\n",
    "from sklearn.feature_extraction.text import CountVectorizer\n",
    "from tqdm.notebook import tqdm, tqdm_notebook"
   ]
  },
  {
   "cell_type": "code",
   "execution_count": 4,
   "metadata": {},
   "outputs": [
    {
     "name": "stdout",
     "output_type": "stream",
     "text": [
      "torch   1.4.0\n",
      "pandas  1.0.3\n",
      "sklearn 0.22.2\n",
      "Data Science Academy\n"
     ]
    }
   ],
   "source": [
    "# Versões dos pacotes usados neste jupyter notebook\n",
    "%reload_ext watermark\n",
    "%watermark -a \"Data Science Academy\" --iversions"
   ]
  },
  {
   "cell_type": "code",
   "execution_count": 2,
   "metadata": {},
   "outputs": [
    {
     "data": {
      "text/plain": [
       "device(type='cuda')"
      ]
     },
     "execution_count": 2,
     "metadata": {},
     "output_type": "execute_result"
    }
   ],
   "source": [
    "# Define o device\n",
    "device = torch.device('cuda' if torch.cuda.is_available() else 'cpu')\n",
    "device"
   ]
  },
  {
   "cell_type": "markdown",
   "metadata": {},
   "source": [
    "## Carregando e Explorando os Dados"
   ]
  },
  {
   "cell_type": "markdown",
   "metadata": {},
   "source": [
    "Usaremos um dataset disponível publicamente em https://www.imdb.com/interfaces/.\n",
    "\n",
    "Os labels de sentimentos foram extraídos do portal: https://ai.stanford.edu/~amaas/data/sentiment/"
   ]
  },
  {
   "cell_type": "code",
   "execution_count": 3,
   "metadata": {},
   "outputs": [],
   "source": [
    "# Carrega o dataset\n",
    "nomes_colunas = ['Review', 'Sentimento']\n",
    "dados_filmes = pd.read_csv('dados/imdb_reviews.csv', sep = '\\t', names = nomes_colunas)"
   ]
  },
  {
   "cell_type": "code",
   "execution_count": 4,
   "metadata": {},
   "outputs": [
    {
     "data": {
      "text/html": [
       "<div>\n",
       "<style scoped>\n",
       "    .dataframe tbody tr th:only-of-type {\n",
       "        vertical-align: middle;\n",
       "    }\n",
       "\n",
       "    .dataframe tbody tr th {\n",
       "        vertical-align: top;\n",
       "    }\n",
       "\n",
       "    .dataframe thead th {\n",
       "        text-align: right;\n",
       "    }\n",
       "</style>\n",
       "<table border=\"1\" class=\"dataframe\">\n",
       "  <thead>\n",
       "    <tr style=\"text-align: right;\">\n",
       "      <th></th>\n",
       "      <th>Review</th>\n",
       "      <th>Sentimento</th>\n",
       "    </tr>\n",
       "  </thead>\n",
       "  <tbody>\n",
       "    <tr>\n",
       "      <th>0</th>\n",
       "      <td>A very, very, very slow-moving, aimless movie ...</td>\n",
       "      <td>0</td>\n",
       "    </tr>\n",
       "    <tr>\n",
       "      <th>1</th>\n",
       "      <td>Not sure who was more lost - the flat characte...</td>\n",
       "      <td>0</td>\n",
       "    </tr>\n",
       "    <tr>\n",
       "      <th>2</th>\n",
       "      <td>Attempting artiness with black &amp; white and cle...</td>\n",
       "      <td>0</td>\n",
       "    </tr>\n",
       "    <tr>\n",
       "      <th>3</th>\n",
       "      <td>Very little music or anything to speak of.</td>\n",
       "      <td>0</td>\n",
       "    </tr>\n",
       "    <tr>\n",
       "      <th>4</th>\n",
       "      <td>The best scene in the movie was when Gerardo i...</td>\n",
       "      <td>1</td>\n",
       "    </tr>\n",
       "  </tbody>\n",
       "</table>\n",
       "</div>"
      ],
      "text/plain": [
       "                                              Review  Sentimento\n",
       "0  A very, very, very slow-moving, aimless movie ...           0\n",
       "1  Not sure who was more lost - the flat characte...           0\n",
       "2  Attempting artiness with black & white and cle...           0\n",
       "3       Very little music or anything to speak of.             0\n",
       "4  The best scene in the movie was when Gerardo i...           1"
      ]
     },
     "execution_count": 4,
     "metadata": {},
     "output_type": "execute_result"
    }
   ],
   "source": [
    "# Visualiza\n",
    "dados_filmes.head()"
   ]
  },
  {
   "cell_type": "code",
   "execution_count": 5,
   "metadata": {},
   "outputs": [
    {
     "data": {
      "text/plain": [
       "(748, 2)"
      ]
     },
     "execution_count": 5,
     "metadata": {},
     "output_type": "execute_result"
    }
   ],
   "source": [
    "# Shape\n",
    "dados_filmes.shape"
   ]
  },
  {
   "cell_type": "code",
   "execution_count": 6,
   "metadata": {},
   "outputs": [
    {
     "data": {
      "text/plain": [
       "1    386\n",
       "0    362\n",
       "Name: Sentimento, dtype: int64"
      ]
     },
     "execution_count": 6,
     "metadata": {},
     "output_type": "execute_result"
    }
   ],
   "source": [
    "# Verificando a proporção de sentimentos\n",
    "dados_filmes['Sentimento'].value_counts()"
   ]
  },
  {
   "cell_type": "markdown",
   "metadata": {},
   "source": [
    "## Representação Bag-of-Words\n",
    "\n",
    "![](imagens/bag2.png)"
   ]
  },
  {
   "cell_type": "markdown",
   "metadata": {},
   "source": [
    "![](imagens/bag1.jpeg)"
   ]
  },
  {
   "cell_type": "markdown",
   "metadata": {},
   "source": [
    "![](imagens/bag3.png)"
   ]
  },
  {
   "cell_type": "markdown",
   "metadata": {},
   "source": [
    "![](imagens/bag4.png)"
   ]
  },
  {
   "cell_type": "markdown",
   "metadata": {},
   "source": [
    "## Manipulação de Texto"
   ]
  },
  {
   "cell_type": "markdown",
   "metadata": {},
   "source": [
    "Começamos criando um \"vetorizador\".\n",
    "\n",
    "Convertemos uma coleção de documentos de texto em uma matriz de contagens de tokens.\n",
    "\n",
    "Essa implementação produz uma representação esparsa das contagens usando scipy.sparse.csr_matrix.\n",
    "\n",
    "https://scikit-learn.org/stable/modules/generated/sklearn.feature_extraction.text.CountVectorizer.html"
   ]
  },
  {
   "cell_type": "code",
   "execution_count": 7,
   "metadata": {},
   "outputs": [
    {
     "data": {
      "text/plain": [
       "CountVectorizer(max_df=0.99, min_df=0.005, stop_words='english')"
      ]
     },
     "execution_count": 7,
     "metadata": {},
     "output_type": "execute_result"
    }
   ],
   "source": [
    "# Criamos um vectorizer\n",
    "vectorizer = CountVectorizer(stop_words = 'english', max_df = 0.99, min_df = 0.005)\n",
    "vectorizer"
   ]
  },
  {
   "cell_type": "code",
   "execution_count": 8,
   "metadata": {},
   "outputs": [
    {
     "data": {
      "text/plain": [
       "<748x320 sparse matrix of type '<class 'numpy.int64'>'\n",
       "\twith 2931 stored elements in Compressed Sparse Row format>"
      ]
     },
     "execution_count": 8,
     "metadata": {},
     "output_type": "execute_result"
    }
   ],
   "source": [
    "# Extraímos as sequências do texto aplicando o vetorizador\n",
    "sequences = vectorizer.fit_transform(dados_filmes.Review.tolist())\n",
    "sequences"
   ]
  },
  {
   "cell_type": "code",
   "execution_count": 9,
   "metadata": {},
   "outputs": [
    {
     "name": "stdout",
     "output_type": "stream",
     "text": [
      "                                                   0\n",
      "0    (0, 248)\\t1\\n  (0, 185)\\t1\\n  (0, 183)\\t1\\n ...\n",
      "1    (0, 162)\\t1\\n  (0, 41)\\t1\\n  (0, 14)\\t1\\n  (...\n",
      "2    (0, 183)\\t1\\n  (0, 28)\\t1\\n  (0, 305)\\t1\\n  ...\n"
     ]
    }
   ],
   "source": [
    "# Visualiza como dataframe\n",
    "print(pd.DataFrame(sequences).head(3))"
   ]
  },
  {
   "cell_type": "code",
   "execution_count": 10,
   "metadata": {},
   "outputs": [],
   "source": [
    "# Organiza os labels (sentimentos)\n",
    "labels = dados_filmes.Sentimento.tolist()"
   ]
  },
  {
   "cell_type": "code",
   "execution_count": 11,
   "metadata": {},
   "outputs": [
    {
     "data": {
      "text/plain": [
       "[0, 0, 0, 0, 1]"
      ]
     },
     "execution_count": 11,
     "metadata": {},
     "output_type": "execute_result"
    }
   ],
   "source": [
    "# Visualiza uma amostra\n",
    "labels[:5]"
   ]
  },
  {
   "cell_type": "code",
   "execution_count": 12,
   "metadata": {},
   "outputs": [],
   "source": [
    "# Criamos o saco de palavras (vocabulário)\n",
    "token2idx = vectorizer.vocabulary_"
   ]
  },
  {
   "cell_type": "code",
   "execution_count": 13,
   "metadata": {},
   "outputs": [
    {
     "data": {
      "text/plain": [
       "dict"
      ]
     },
     "execution_count": 13,
     "metadata": {},
     "output_type": "execute_result"
    }
   ],
   "source": [
    "# Tipo\n",
    "type(token2idx)"
   ]
  },
  {
   "cell_type": "code",
   "execution_count": 14,
   "metadata": {},
   "outputs": [
    {
     "name": "stdout",
     "output_type": "stream",
     "text": [
      "320\n"
     ]
    }
   ],
   "source": [
    "# Total\n",
    "print(len(token2idx))"
   ]
  },
  {
   "cell_type": "code",
   "execution_count": 15,
   "metadata": {},
   "outputs": [
    {
     "data": {
      "text/plain": [
       "{'10': 0,\n",
       " '90': 1,\n",
       " 'absolutely': 2,\n",
       " 'acting': 3,\n",
       " 'action': 4,\n",
       " 'actor': 5,\n",
       " 'actors': 6,\n",
       " 'actually': 7,\n",
       " 'adorable': 8,\n",
       " 'age': 9,\n",
       " 'amazing': 10,\n",
       " 'annoying': 11,\n",
       " 'art': 12,\n",
       " 'attempt': 13,\n",
       " 'audience': 14,\n",
       " 'avoid': 15,\n",
       " 'away': 16,\n",
       " 'awful': 17,\n",
       " 'bad': 18,\n",
       " 'barely': 19,\n",
       " 'beautiful': 20,\n",
       " 'beginning': 21,\n",
       " 'believable': 22,\n",
       " 'believe': 23,\n",
       " 'best': 24,\n",
       " 'better': 25,\n",
       " 'big': 26,\n",
       " 'bit': 27,\n",
       " 'black': 28,\n",
       " 'book': 29,\n",
       " 'bored': 30,\n",
       " 'boring': 31,\n",
       " 'brilliant': 32,\n",
       " 'budget': 33,\n",
       " 'came': 34,\n",
       " 'camera': 35,\n",
       " 'care': 36,\n",
       " 'cast': 37,\n",
       " 'casting': 38,\n",
       " 'certainly': 39,\n",
       " 'character': 40,\n",
       " 'characters': 41,\n",
       " 'cheap': 42,\n",
       " 'chemistry': 43,\n",
       " 'child': 44,\n",
       " 'cinema': 45,\n",
       " 'cinematography': 46,\n",
       " 'classic': 47,\n",
       " 'clever': 48,\n",
       " 'come': 49,\n",
       " 'comedy': 50,\n",
       " 'comes': 51,\n",
       " 'completely': 52,\n",
       " 'consider': 53,\n",
       " 'convincing': 54,\n",
       " 'cool': 55,\n",
       " 'couldn': 56,\n",
       " 'cover': 57,\n",
       " 'crap': 58,\n",
       " 'created': 59,\n",
       " 'cult': 60,\n",
       " 'dance': 61,\n",
       " 'day': 62,\n",
       " 'death': 63,\n",
       " 'definitely': 64,\n",
       " 'depth': 65,\n",
       " 'dialogue': 66,\n",
       " 'did': 67,\n",
       " 'didn': 68,\n",
       " 'different': 69,\n",
       " 'directing': 70,\n",
       " 'direction': 71,\n",
       " 'director': 72,\n",
       " 'disappointed': 73,\n",
       " 'does': 74,\n",
       " 'doesn': 75,\n",
       " 'don': 76,\n",
       " 'drama': 77,\n",
       " 'editing': 78,\n",
       " 'effects': 79,\n",
       " 'end': 80,\n",
       " 'ending': 81,\n",
       " 'energy': 82,\n",
       " 'enjoy': 83,\n",
       " 'enjoyed': 84,\n",
       " 'entertaining': 85,\n",
       " 'entire': 86,\n",
       " 'especially': 87,\n",
       " 'excellent': 88,\n",
       " 'expect': 89,\n",
       " 'experience': 90,\n",
       " 'eyes': 91,\n",
       " 'face': 92,\n",
       " 'fact': 93,\n",
       " 'fails': 94,\n",
       " 'family': 95,\n",
       " 'fans': 96,\n",
       " 'far': 97,\n",
       " 'fast': 98,\n",
       " 'feeling': 99,\n",
       " 'felt': 100,\n",
       " 'film': 101,\n",
       " 'films': 102,\n",
       " 'fine': 103,\n",
       " 'flick': 104,\n",
       " 'fun': 105,\n",
       " 'funny': 106,\n",
       " 'garbage': 107,\n",
       " 'gave': 108,\n",
       " 'generally': 109,\n",
       " 'gets': 110,\n",
       " 'girl': 111,\n",
       " 'gives': 112,\n",
       " 'god': 113,\n",
       " 'going': 114,\n",
       " 'good': 115,\n",
       " 'got': 116,\n",
       " 'great': 117,\n",
       " 'guess': 118,\n",
       " 'half': 119,\n",
       " 'having': 120,\n",
       " 'highly': 121,\n",
       " 'hilarious': 122,\n",
       " 'history': 123,\n",
       " 'holes': 124,\n",
       " 'hope': 125,\n",
       " 'horrible': 126,\n",
       " 'horror': 127,\n",
       " 'hour': 128,\n",
       " 'huge': 129,\n",
       " 'human': 130,\n",
       " 'idea': 131,\n",
       " 'imagination': 132,\n",
       " 'incredible': 133,\n",
       " 'insult': 134,\n",
       " 'intelligence': 135,\n",
       " 'intelligent': 136,\n",
       " 'interesting': 137,\n",
       " 'involved': 138,\n",
       " 'james': 139,\n",
       " 'job': 140,\n",
       " 'john': 141,\n",
       " 'joy': 142,\n",
       " 'just': 143,\n",
       " 'kids': 144,\n",
       " 'kind': 145,\n",
       " 'know': 146,\n",
       " 'lacks': 147,\n",
       " 'lame': 148,\n",
       " 'lead': 149,\n",
       " 'let': 150,\n",
       " 'level': 151,\n",
       " 'life': 152,\n",
       " 'like': 153,\n",
       " 'liked': 154,\n",
       " 'line': 155,\n",
       " 'lines': 156,\n",
       " 'little': 157,\n",
       " 'll': 158,\n",
       " 'long': 159,\n",
       " 'look': 160,\n",
       " 'looked': 161,\n",
       " 'lost': 162,\n",
       " 'lot': 163,\n",
       " 'love': 164,\n",
       " 'loved': 165,\n",
       " 'lovely': 166,\n",
       " 'low': 167,\n",
       " 'make': 168,\n",
       " 'makes': 169,\n",
       " 'making': 170,\n",
       " 'man': 171,\n",
       " 'master': 172,\n",
       " 'maybe': 173,\n",
       " 'mean': 174,\n",
       " 'mediocre': 175,\n",
       " 'memorable': 176,\n",
       " 'mention': 177,\n",
       " 'mess': 178,\n",
       " 'mickey': 179,\n",
       " 'mind': 180,\n",
       " 'minutes': 181,\n",
       " 'money': 182,\n",
       " 'movie': 183,\n",
       " 'movies': 184,\n",
       " 'moving': 185,\n",
       " 'music': 186,\n",
       " 'new': 187,\n",
       " 'nice': 188,\n",
       " 'night': 189,\n",
       " 'non': 190,\n",
       " 'occasionally': 191,\n",
       " 'oh': 192,\n",
       " 'old': 193,\n",
       " 'original': 194,\n",
       " 'overall': 195,\n",
       " 'particularly': 196,\n",
       " 'parts': 197,\n",
       " 'pathetic': 198,\n",
       " 'people': 199,\n",
       " 'perfect': 200,\n",
       " 'performance': 201,\n",
       " 'performances': 202,\n",
       " 'period': 203,\n",
       " 'piece': 204,\n",
       " 'place': 205,\n",
       " 'play': 206,\n",
       " 'played': 207,\n",
       " 'playing': 208,\n",
       " 'plot': 209,\n",
       " 'point': 210,\n",
       " 'poor': 211,\n",
       " 'portrayal': 212,\n",
       " 'predictable': 213,\n",
       " 'premise': 214,\n",
       " 'pretty': 215,\n",
       " 'probably': 216,\n",
       " 'problems': 217,\n",
       " 'production': 218,\n",
       " 'quite': 219,\n",
       " 'rating': 220,\n",
       " 'real': 221,\n",
       " 'really': 222,\n",
       " 'recommend': 223,\n",
       " 'recommended': 224,\n",
       " 'rent': 225,\n",
       " 'rest': 226,\n",
       " 'ridiculous': 227,\n",
       " 'right': 228,\n",
       " 'role': 229,\n",
       " 'roles': 230,\n",
       " 'said': 231,\n",
       " 'saw': 232,\n",
       " 'say': 233,\n",
       " 'scene': 234,\n",
       " 'scenes': 235,\n",
       " 'screen': 236,\n",
       " 'script': 237,\n",
       " 'second': 238,\n",
       " 'seeing': 239,\n",
       " 'seen': 240,\n",
       " 'self': 241,\n",
       " 'series': 242,\n",
       " 'sets': 243,\n",
       " 'short': 244,\n",
       " 'shot': 245,\n",
       " 'simply': 246,\n",
       " 'single': 247,\n",
       " 'slow': 248,\n",
       " 'small': 249,\n",
       " 'solid': 250,\n",
       " 'songs': 251,\n",
       " 'sound': 252,\n",
       " 'soundtrack': 253,\n",
       " 'special': 254,\n",
       " 'star': 255,\n",
       " 'started': 256,\n",
       " 'stories': 257,\n",
       " 'story': 258,\n",
       " 'storyline': 259,\n",
       " 'strong': 260,\n",
       " 'stupid': 261,\n",
       " 'style': 262,\n",
       " 'subtle': 263,\n",
       " 'superb': 264,\n",
       " 'suspense': 265,\n",
       " 'tale': 266,\n",
       " 'talk': 267,\n",
       " 'tell': 268,\n",
       " 'terrible': 269,\n",
       " 'terrific': 270,\n",
       " 'theater': 271,\n",
       " 'thing': 272,\n",
       " 'things': 273,\n",
       " 'think': 274,\n",
       " 'thought': 275,\n",
       " 'time': 276,\n",
       " 'times': 277,\n",
       " 'today': 278,\n",
       " 'tom': 279,\n",
       " 'torture': 280,\n",
       " 'totally': 281,\n",
       " 'trash': 282,\n",
       " 'true': 283,\n",
       " 'truly': 284,\n",
       " 'trying': 285,\n",
       " 'tv': 286,\n",
       " 'unbelievable': 287,\n",
       " 'understand': 288,\n",
       " 'unfortunately': 289,\n",
       " 'ups': 290,\n",
       " 'use': 291,\n",
       " 'used': 292,\n",
       " 'usual': 293,\n",
       " 'utterly': 294,\n",
       " 've': 295,\n",
       " 'visual': 296,\n",
       " 'want': 297,\n",
       " 'wasn': 298,\n",
       " 'waste': 299,\n",
       " 'wasted': 300,\n",
       " 'watch': 301,\n",
       " 'watched': 302,\n",
       " 'watching': 303,\n",
       " 'way': 304,\n",
       " 'white': 305,\n",
       " 'won': 306,\n",
       " 'wonderful': 307,\n",
       " 'word': 308,\n",
       " 'work': 309,\n",
       " 'works': 310,\n",
       " 'world': 311,\n",
       " 'worse': 312,\n",
       " 'worst': 313,\n",
       " 'worth': 314,\n",
       " 'writing': 315,\n",
       " 'written': 316,\n",
       " 'year': 317,\n",
       " 'years': 318,\n",
       " 'young': 319}"
      ]
     },
     "execution_count": 15,
     "metadata": {},
     "output_type": "execute_result"
    }
   ],
   "source": [
    "# Visualiza\n",
    "token2idx"
   ]
  },
  {
   "cell_type": "code",
   "execution_count": 16,
   "metadata": {},
   "outputs": [
    {
     "data": {
      "text/plain": [
       "183"
      ]
     },
     "execution_count": 16,
     "metadata": {},
     "output_type": "execute_result"
    }
   ],
   "source": [
    "# Quantas vezes a palavra \"movie\" aparece nas avaliações?\n",
    "token2idx['movie']"
   ]
  },
  {
   "cell_type": "code",
   "execution_count": 17,
   "metadata": {},
   "outputs": [
    {
     "data": {
      "text/plain": [
       "115"
      ]
     },
     "execution_count": 17,
     "metadata": {},
     "output_type": "execute_result"
    }
   ],
   "source": [
    "# E a palavra good?\n",
    "token2idx['good']"
   ]
  },
  {
   "cell_type": "code",
   "execution_count": 18,
   "metadata": {},
   "outputs": [],
   "source": [
    "# Para facilitar nosso trabalho, vamos inverter chaves e colunas em nosso dicionário\n",
    "idx2token = {idx: token for token, idx in token2idx.items()}"
   ]
  },
  {
   "cell_type": "code",
   "execution_count": 19,
   "metadata": {},
   "outputs": [
    {
     "data": {
      "text/plain": [
       "dict"
      ]
     },
     "execution_count": 19,
     "metadata": {},
     "output_type": "execute_result"
    }
   ],
   "source": [
    "# Tipo\n",
    "type(idx2token)"
   ]
  },
  {
   "cell_type": "code",
   "execution_count": 20,
   "metadata": {},
   "outputs": [
    {
     "name": "stdout",
     "output_type": "stream",
     "text": [
      "320\n"
     ]
    }
   ],
   "source": [
    "# Total\n",
    "print(len(idx2token))"
   ]
  },
  {
   "cell_type": "code",
   "execution_count": 21,
   "metadata": {},
   "outputs": [
    {
     "data": {
      "text/plain": [
       "{0: '10',\n",
       " 1: '90',\n",
       " 2: 'absolutely',\n",
       " 3: 'acting',\n",
       " 4: 'action',\n",
       " 5: 'actor',\n",
       " 6: 'actors',\n",
       " 7: 'actually',\n",
       " 8: 'adorable',\n",
       " 9: 'age',\n",
       " 10: 'amazing',\n",
       " 11: 'annoying',\n",
       " 12: 'art',\n",
       " 13: 'attempt',\n",
       " 14: 'audience',\n",
       " 15: 'avoid',\n",
       " 16: 'away',\n",
       " 17: 'awful',\n",
       " 18: 'bad',\n",
       " 19: 'barely',\n",
       " 20: 'beautiful',\n",
       " 21: 'beginning',\n",
       " 22: 'believable',\n",
       " 23: 'believe',\n",
       " 24: 'best',\n",
       " 25: 'better',\n",
       " 26: 'big',\n",
       " 27: 'bit',\n",
       " 28: 'black',\n",
       " 29: 'book',\n",
       " 30: 'bored',\n",
       " 31: 'boring',\n",
       " 32: 'brilliant',\n",
       " 33: 'budget',\n",
       " 34: 'came',\n",
       " 35: 'camera',\n",
       " 36: 'care',\n",
       " 37: 'cast',\n",
       " 38: 'casting',\n",
       " 39: 'certainly',\n",
       " 40: 'character',\n",
       " 41: 'characters',\n",
       " 42: 'cheap',\n",
       " 43: 'chemistry',\n",
       " 44: 'child',\n",
       " 45: 'cinema',\n",
       " 46: 'cinematography',\n",
       " 47: 'classic',\n",
       " 48: 'clever',\n",
       " 49: 'come',\n",
       " 50: 'comedy',\n",
       " 51: 'comes',\n",
       " 52: 'completely',\n",
       " 53: 'consider',\n",
       " 54: 'convincing',\n",
       " 55: 'cool',\n",
       " 56: 'couldn',\n",
       " 57: 'cover',\n",
       " 58: 'crap',\n",
       " 59: 'created',\n",
       " 60: 'cult',\n",
       " 61: 'dance',\n",
       " 62: 'day',\n",
       " 63: 'death',\n",
       " 64: 'definitely',\n",
       " 65: 'depth',\n",
       " 66: 'dialogue',\n",
       " 67: 'did',\n",
       " 68: 'didn',\n",
       " 69: 'different',\n",
       " 70: 'directing',\n",
       " 71: 'direction',\n",
       " 72: 'director',\n",
       " 73: 'disappointed',\n",
       " 74: 'does',\n",
       " 75: 'doesn',\n",
       " 76: 'don',\n",
       " 77: 'drama',\n",
       " 78: 'editing',\n",
       " 79: 'effects',\n",
       " 80: 'end',\n",
       " 81: 'ending',\n",
       " 82: 'energy',\n",
       " 83: 'enjoy',\n",
       " 84: 'enjoyed',\n",
       " 85: 'entertaining',\n",
       " 86: 'entire',\n",
       " 87: 'especially',\n",
       " 88: 'excellent',\n",
       " 89: 'expect',\n",
       " 90: 'experience',\n",
       " 91: 'eyes',\n",
       " 92: 'face',\n",
       " 93: 'fact',\n",
       " 94: 'fails',\n",
       " 95: 'family',\n",
       " 96: 'fans',\n",
       " 97: 'far',\n",
       " 98: 'fast',\n",
       " 99: 'feeling',\n",
       " 100: 'felt',\n",
       " 101: 'film',\n",
       " 102: 'films',\n",
       " 103: 'fine',\n",
       " 104: 'flick',\n",
       " 105: 'fun',\n",
       " 106: 'funny',\n",
       " 107: 'garbage',\n",
       " 108: 'gave',\n",
       " 109: 'generally',\n",
       " 110: 'gets',\n",
       " 111: 'girl',\n",
       " 112: 'gives',\n",
       " 113: 'god',\n",
       " 114: 'going',\n",
       " 115: 'good',\n",
       " 116: 'got',\n",
       " 117: 'great',\n",
       " 118: 'guess',\n",
       " 119: 'half',\n",
       " 120: 'having',\n",
       " 121: 'highly',\n",
       " 122: 'hilarious',\n",
       " 123: 'history',\n",
       " 124: 'holes',\n",
       " 125: 'hope',\n",
       " 126: 'horrible',\n",
       " 127: 'horror',\n",
       " 128: 'hour',\n",
       " 129: 'huge',\n",
       " 130: 'human',\n",
       " 131: 'idea',\n",
       " 132: 'imagination',\n",
       " 133: 'incredible',\n",
       " 134: 'insult',\n",
       " 135: 'intelligence',\n",
       " 136: 'intelligent',\n",
       " 137: 'interesting',\n",
       " 138: 'involved',\n",
       " 139: 'james',\n",
       " 140: 'job',\n",
       " 141: 'john',\n",
       " 142: 'joy',\n",
       " 143: 'just',\n",
       " 144: 'kids',\n",
       " 145: 'kind',\n",
       " 146: 'know',\n",
       " 147: 'lacks',\n",
       " 148: 'lame',\n",
       " 149: 'lead',\n",
       " 150: 'let',\n",
       " 151: 'level',\n",
       " 152: 'life',\n",
       " 153: 'like',\n",
       " 154: 'liked',\n",
       " 155: 'line',\n",
       " 156: 'lines',\n",
       " 157: 'little',\n",
       " 158: 'll',\n",
       " 159: 'long',\n",
       " 160: 'look',\n",
       " 161: 'looked',\n",
       " 162: 'lost',\n",
       " 163: 'lot',\n",
       " 164: 'love',\n",
       " 165: 'loved',\n",
       " 166: 'lovely',\n",
       " 167: 'low',\n",
       " 168: 'make',\n",
       " 169: 'makes',\n",
       " 170: 'making',\n",
       " 171: 'man',\n",
       " 172: 'master',\n",
       " 173: 'maybe',\n",
       " 174: 'mean',\n",
       " 175: 'mediocre',\n",
       " 176: 'memorable',\n",
       " 177: 'mention',\n",
       " 178: 'mess',\n",
       " 179: 'mickey',\n",
       " 180: 'mind',\n",
       " 181: 'minutes',\n",
       " 182: 'money',\n",
       " 183: 'movie',\n",
       " 184: 'movies',\n",
       " 185: 'moving',\n",
       " 186: 'music',\n",
       " 187: 'new',\n",
       " 188: 'nice',\n",
       " 189: 'night',\n",
       " 190: 'non',\n",
       " 191: 'occasionally',\n",
       " 192: 'oh',\n",
       " 193: 'old',\n",
       " 194: 'original',\n",
       " 195: 'overall',\n",
       " 196: 'particularly',\n",
       " 197: 'parts',\n",
       " 198: 'pathetic',\n",
       " 199: 'people',\n",
       " 200: 'perfect',\n",
       " 201: 'performance',\n",
       " 202: 'performances',\n",
       " 203: 'period',\n",
       " 204: 'piece',\n",
       " 205: 'place',\n",
       " 206: 'play',\n",
       " 207: 'played',\n",
       " 208: 'playing',\n",
       " 209: 'plot',\n",
       " 210: 'point',\n",
       " 211: 'poor',\n",
       " 212: 'portrayal',\n",
       " 213: 'predictable',\n",
       " 214: 'premise',\n",
       " 215: 'pretty',\n",
       " 216: 'probably',\n",
       " 217: 'problems',\n",
       " 218: 'production',\n",
       " 219: 'quite',\n",
       " 220: 'rating',\n",
       " 221: 'real',\n",
       " 222: 'really',\n",
       " 223: 'recommend',\n",
       " 224: 'recommended',\n",
       " 225: 'rent',\n",
       " 226: 'rest',\n",
       " 227: 'ridiculous',\n",
       " 228: 'right',\n",
       " 229: 'role',\n",
       " 230: 'roles',\n",
       " 231: 'said',\n",
       " 232: 'saw',\n",
       " 233: 'say',\n",
       " 234: 'scene',\n",
       " 235: 'scenes',\n",
       " 236: 'screen',\n",
       " 237: 'script',\n",
       " 238: 'second',\n",
       " 239: 'seeing',\n",
       " 240: 'seen',\n",
       " 241: 'self',\n",
       " 242: 'series',\n",
       " 243: 'sets',\n",
       " 244: 'short',\n",
       " 245: 'shot',\n",
       " 246: 'simply',\n",
       " 247: 'single',\n",
       " 248: 'slow',\n",
       " 249: 'small',\n",
       " 250: 'solid',\n",
       " 251: 'songs',\n",
       " 252: 'sound',\n",
       " 253: 'soundtrack',\n",
       " 254: 'special',\n",
       " 255: 'star',\n",
       " 256: 'started',\n",
       " 257: 'stories',\n",
       " 258: 'story',\n",
       " 259: 'storyline',\n",
       " 260: 'strong',\n",
       " 261: 'stupid',\n",
       " 262: 'style',\n",
       " 263: 'subtle',\n",
       " 264: 'superb',\n",
       " 265: 'suspense',\n",
       " 266: 'tale',\n",
       " 267: 'talk',\n",
       " 268: 'tell',\n",
       " 269: 'terrible',\n",
       " 270: 'terrific',\n",
       " 271: 'theater',\n",
       " 272: 'thing',\n",
       " 273: 'things',\n",
       " 274: 'think',\n",
       " 275: 'thought',\n",
       " 276: 'time',\n",
       " 277: 'times',\n",
       " 278: 'today',\n",
       " 279: 'tom',\n",
       " 280: 'torture',\n",
       " 281: 'totally',\n",
       " 282: 'trash',\n",
       " 283: 'true',\n",
       " 284: 'truly',\n",
       " 285: 'trying',\n",
       " 286: 'tv',\n",
       " 287: 'unbelievable',\n",
       " 288: 'understand',\n",
       " 289: 'unfortunately',\n",
       " 290: 'ups',\n",
       " 291: 'use',\n",
       " 292: 'used',\n",
       " 293: 'usual',\n",
       " 294: 'utterly',\n",
       " 295: 've',\n",
       " 296: 'visual',\n",
       " 297: 'want',\n",
       " 298: 'wasn',\n",
       " 299: 'waste',\n",
       " 300: 'wasted',\n",
       " 301: 'watch',\n",
       " 302: 'watched',\n",
       " 303: 'watching',\n",
       " 304: 'way',\n",
       " 305: 'white',\n",
       " 306: 'won',\n",
       " 307: 'wonderful',\n",
       " 308: 'word',\n",
       " 309: 'work',\n",
       " 310: 'works',\n",
       " 311: 'world',\n",
       " 312: 'worse',\n",
       " 313: 'worst',\n",
       " 314: 'worth',\n",
       " 315: 'writing',\n",
       " 316: 'written',\n",
       " 317: 'year',\n",
       " 318: 'years',\n",
       " 319: 'young'}"
      ]
     },
     "execution_count": 21,
     "metadata": {},
     "output_type": "execute_result"
    }
   ],
   "source": [
    "# Visualiza\n",
    "idx2token"
   ]
  },
  {
   "cell_type": "markdown",
   "metadata": {},
   "source": [
    "Vamos resumir tudo que fizemos em uma função."
   ]
  },
  {
   "cell_type": "code",
   "execution_count": 22,
   "metadata": {},
   "outputs": [],
   "source": [
    "# Definimos uma classe para extrair as frases\n",
    "class Sequences():\n",
    "    def __init__(self):\n",
    "        self.vectorizer = CountVectorizer(stop_words = 'english', max_df = 0.99, min_df = 0.005)\n",
    "        self.sequences = self.vectorizer.fit_transform(dados_filmes.Review.tolist())\n",
    "        self.labels = dados_filmes.Sentimento.tolist()\n",
    "        self.token2idx = self.vectorizer.vocabulary_\n",
    "        self.idx2token = {idx: token for token, idx in self.token2idx.items()}\n",
    "        \n",
    "    def __getitem__(self, i):\n",
    "        return self.sequences[i, :].toarray(), self.labels[i]\n",
    "    \n",
    "    def __len__(self):\n",
    "        return self.sequences.shape[0]"
   ]
  },
  {
   "cell_type": "code",
   "execution_count": 23,
   "metadata": {},
   "outputs": [],
   "source": [
    "# Extrai as frases do dataset e cria a matriz de dados, como os tokens, contagens e labels\n",
    "dados_frases = Sequences()"
   ]
  },
  {
   "cell_type": "code",
   "execution_count": 24,
   "metadata": {},
   "outputs": [
    {
     "name": "stdout",
     "output_type": "stream",
     "text": [
      "(1, 320)\n"
     ]
    }
   ],
   "source": [
    "# Confere o shape\n",
    "print(dados_frases[5][0].shape)"
   ]
  },
  {
   "cell_type": "code",
   "execution_count": 25,
   "metadata": {},
   "outputs": [
    {
     "data": {
      "text/plain": [
       "<torch.utils.data.dataloader.DataLoader at 0x7fac4897c2d0>"
      ]
     },
     "execution_count": 25,
     "metadata": {},
     "output_type": "execute_result"
    }
   ],
   "source": [
    "# Prepara os dados para treinamento no formato PyTorch\n",
    "train_loader = DataLoader(dados_frases, batch_size = 4096)\n",
    "train_loader"
   ]
  },
  {
   "cell_type": "markdown",
   "metadata": {},
   "source": [
    "## Definição e Construção do Modelo\n",
    "\n",
    "Camada 1: $$x_1 = W_1 X + b_1$$\n",
    "Função de Ativação: $$h_1 = \\textrm{Relu}(x_1)$$\n",
    "Camada 2: $$x_2 = W_2 h_1 + b_2$$\n",
    "Saída: $$p = \\sigma(x_2)$$\n",
    "Loss: $$L = −(ylog(p)+(1−y)log(1−p))$$\n",
    "Gradiente: \n",
    "$$\\frac{\\partial }{\\partial W_1}L(W_1, b_1, W_2, b_2) = \\frac{\\partial L}{\\partial p}\\frac{\\partial p}{\\partial x_2}\\frac{\\partial x_2}{\\partial h_1}\\frac{\\partial h_1}{\\partial x_1}\\frac{\\partial x_1}{\\partial W_1}$$\n",
    "\n",
    "Atualização de Parâmetros:\n",
    "$$W_1 = W_1 - \\alpha \\frac{\\partial L}{\\partial W_1}$$"
   ]
  },
  {
   "cell_type": "code",
   "execution_count": 26,
   "metadata": {},
   "outputs": [],
   "source": [
    "# Classificador\n",
    "class BagOfWordsClassifier(nn.Module):\n",
    "    \n",
    "    # Método construtor para inicializar os atributos\n",
    "    def __init__(self, vocab_size, hidden1, hidden2):\n",
    "        super(BagOfWordsClassifier, self).__init__()\n",
    "        self.fc1 = nn.Linear(vocab_size, hidden1)\n",
    "        self.fc2 = nn.Linear(hidden1, hidden2)\n",
    "        self.fc3 = nn.Linear(hidden2, 1)\n",
    "    \n",
    "    # Método para a passada para a frente (forward)\n",
    "    def forward(self, inputs):\n",
    "        x = F.relu(self.fc1(inputs.squeeze(1).float()))\n",
    "        x = F.relu(self.fc2(x))\n",
    "        return self.fc3(x)"
   ]
  },
  {
   "cell_type": "code",
   "execution_count": 27,
   "metadata": {},
   "outputs": [],
   "source": [
    "# Cria o modelo\n",
    "modelo = BagOfWordsClassifier(len(dados_frases.token2idx), 128, 64)"
   ]
  },
  {
   "cell_type": "code",
   "execution_count": 28,
   "metadata": {},
   "outputs": [
    {
     "data": {
      "text/plain": [
       "BagOfWordsClassifier(\n",
       "  (fc1): Linear(in_features=320, out_features=128, bias=True)\n",
       "  (fc2): Linear(in_features=128, out_features=64, bias=True)\n",
       "  (fc3): Linear(in_features=64, out_features=1, bias=True)\n",
       ")"
      ]
     },
     "execution_count": 28,
     "metadata": {},
     "output_type": "execute_result"
    }
   ],
   "source": [
    "# Visualiza\n",
    "modelo"
   ]
  },
  {
   "cell_type": "markdown",
   "metadata": {},
   "source": [
    "Para a função de perda (loss) usaremos Binary Cross Entropy."
   ]
  },
  {
   "cell_type": "code",
   "execution_count": 29,
   "metadata": {},
   "outputs": [],
   "source": [
    "# Define a função de perda\n",
    "criterion = nn.BCEWithLogitsLoss()"
   ]
  },
  {
   "cell_type": "markdown",
   "metadata": {},
   "source": [
    "Para o otimizador usaremos o algoritmo ADAM."
   ]
  },
  {
   "cell_type": "code",
   "execution_count": 30,
   "metadata": {},
   "outputs": [],
   "source": [
    "# Adam dinamicamente altera a taxa de aprendizagem\n",
    "optimizer = optim.Adam([p for p in modelo.parameters() if p.requires_grad], lr = 0.001)"
   ]
  },
  {
   "cell_type": "markdown",
   "metadata": {},
   "source": [
    "Agora treinamos o modelo."
   ]
  },
  {
   "cell_type": "code",
   "execution_count": 32,
   "metadata": {},
   "outputs": [
    {
     "data": {
      "application/vnd.jupyter.widget-view+json": {
       "model_id": "0e17324dda98430b845de541dc7a095a",
       "version_major": 2,
       "version_minor": 0
      },
      "text/plain": [
       "  0%|          | 0/1 [00:00<?, ?it/s]"
      ]
     },
     "metadata": {},
     "output_type": "display_data"
    },
    {
     "name": "stdout",
     "output_type": "stream",
     "text": [
      "Epoch #1\tErro em Treinamento: 0.668\n"
     ]
    },
    {
     "data": {
      "application/vnd.jupyter.widget-view+json": {
       "model_id": "6d122ab7e4954a42b86b3ffff64fd9f7",
       "version_major": 2,
       "version_minor": 0
      },
      "text/plain": [
       "  0%|          | 0/1 [00:00<?, ?it/s]"
      ]
     },
     "metadata": {},
     "output_type": "display_data"
    },
    {
     "name": "stdout",
     "output_type": "stream",
     "text": [
      "Epoch #2\tErro em Treinamento: 0.664\n"
     ]
    },
    {
     "data": {
      "application/vnd.jupyter.widget-view+json": {
       "model_id": "6c680807946f4081ae69b8c801daedc2",
       "version_major": 2,
       "version_minor": 0
      },
      "text/plain": [
       "  0%|          | 0/1 [00:00<?, ?it/s]"
      ]
     },
     "metadata": {},
     "output_type": "display_data"
    },
    {
     "name": "stdout",
     "output_type": "stream",
     "text": [
      "Epoch #3\tErro em Treinamento: 0.659\n"
     ]
    },
    {
     "data": {
      "application/vnd.jupyter.widget-view+json": {
       "model_id": "63e0673ee34c4c25bfb61946e1b01c4a",
       "version_major": 2,
       "version_minor": 0
      },
      "text/plain": [
       "  0%|          | 0/1 [00:00<?, ?it/s]"
      ]
     },
     "metadata": {},
     "output_type": "display_data"
    },
    {
     "name": "stdout",
     "output_type": "stream",
     "text": [
      "Epoch #4\tErro em Treinamento: 0.655\n"
     ]
    },
    {
     "data": {
      "application/vnd.jupyter.widget-view+json": {
       "model_id": "334a6bf1c14c49e39c8554e25811ab6f",
       "version_major": 2,
       "version_minor": 0
      },
      "text/plain": [
       "  0%|          | 0/1 [00:00<?, ?it/s]"
      ]
     },
     "metadata": {},
     "output_type": "display_data"
    },
    {
     "name": "stdout",
     "output_type": "stream",
     "text": [
      "Epoch #5\tErro em Treinamento: 0.649\n"
     ]
    },
    {
     "data": {
      "application/vnd.jupyter.widget-view+json": {
       "model_id": "06c3e148c1a349589eda203f1bde7800",
       "version_major": 2,
       "version_minor": 0
      },
      "text/plain": [
       "  0%|          | 0/1 [00:00<?, ?it/s]"
      ]
     },
     "metadata": {},
     "output_type": "display_data"
    },
    {
     "name": "stdout",
     "output_type": "stream",
     "text": [
      "Epoch #6\tErro em Treinamento: 0.644\n"
     ]
    },
    {
     "data": {
      "application/vnd.jupyter.widget-view+json": {
       "model_id": "ddf193268eb748c29373f19bc859db78",
       "version_major": 2,
       "version_minor": 0
      },
      "text/plain": [
       "  0%|          | 0/1 [00:00<?, ?it/s]"
      ]
     },
     "metadata": {},
     "output_type": "display_data"
    },
    {
     "name": "stdout",
     "output_type": "stream",
     "text": [
      "Epoch #7\tErro em Treinamento: 0.637\n"
     ]
    },
    {
     "data": {
      "application/vnd.jupyter.widget-view+json": {
       "model_id": "5a3d42faeb5b4e6cbacd8fba37740102",
       "version_major": 2,
       "version_minor": 0
      },
      "text/plain": [
       "  0%|          | 0/1 [00:00<?, ?it/s]"
      ]
     },
     "metadata": {},
     "output_type": "display_data"
    },
    {
     "name": "stdout",
     "output_type": "stream",
     "text": [
      "Epoch #8\tErro em Treinamento: 0.631\n"
     ]
    },
    {
     "data": {
      "application/vnd.jupyter.widget-view+json": {
       "model_id": "cea734bc84c146989c24a430027e3e93",
       "version_major": 2,
       "version_minor": 0
      },
      "text/plain": [
       "  0%|          | 0/1 [00:00<?, ?it/s]"
      ]
     },
     "metadata": {},
     "output_type": "display_data"
    },
    {
     "name": "stdout",
     "output_type": "stream",
     "text": [
      "Epoch #9\tErro em Treinamento: 0.623\n"
     ]
    },
    {
     "data": {
      "application/vnd.jupyter.widget-view+json": {
       "model_id": "1c4c8868430544e09ce5d8ab7fae488b",
       "version_major": 2,
       "version_minor": 0
      },
      "text/plain": [
       "  0%|          | 0/1 [00:00<?, ?it/s]"
      ]
     },
     "metadata": {},
     "output_type": "display_data"
    },
    {
     "name": "stdout",
     "output_type": "stream",
     "text": [
      "Epoch #10\tErro em Treinamento: 0.615\n"
     ]
    },
    {
     "data": {
      "application/vnd.jupyter.widget-view+json": {
       "model_id": "cfe72bff7d76491583c2ee163e4d37c4",
       "version_major": 2,
       "version_minor": 0
      },
      "text/plain": [
       "  0%|          | 0/1 [00:00<?, ?it/s]"
      ]
     },
     "metadata": {},
     "output_type": "display_data"
    },
    {
     "name": "stdout",
     "output_type": "stream",
     "text": [
      "Epoch #11\tErro em Treinamento: 0.607\n"
     ]
    },
    {
     "data": {
      "application/vnd.jupyter.widget-view+json": {
       "model_id": "53819d2456004b3abf7bcf7087b2b6f8",
       "version_major": 2,
       "version_minor": 0
      },
      "text/plain": [
       "  0%|          | 0/1 [00:00<?, ?it/s]"
      ]
     },
     "metadata": {},
     "output_type": "display_data"
    },
    {
     "name": "stdout",
     "output_type": "stream",
     "text": [
      "Epoch #12\tErro em Treinamento: 0.598\n"
     ]
    },
    {
     "data": {
      "application/vnd.jupyter.widget-view+json": {
       "model_id": "bad499d37ef940ce95d6cad71208d4ec",
       "version_major": 2,
       "version_minor": 0
      },
      "text/plain": [
       "  0%|          | 0/1 [00:00<?, ?it/s]"
      ]
     },
     "metadata": {},
     "output_type": "display_data"
    },
    {
     "name": "stdout",
     "output_type": "stream",
     "text": [
      "Epoch #13\tErro em Treinamento: 0.588\n"
     ]
    },
    {
     "data": {
      "application/vnd.jupyter.widget-view+json": {
       "model_id": "d22b5e7bb2d74f9ab2559da4a2e96cba",
       "version_major": 2,
       "version_minor": 0
      },
      "text/plain": [
       "  0%|          | 0/1 [00:00<?, ?it/s]"
      ]
     },
     "metadata": {},
     "output_type": "display_data"
    },
    {
     "name": "stdout",
     "output_type": "stream",
     "text": [
      "Epoch #14\tErro em Treinamento: 0.578\n"
     ]
    },
    {
     "data": {
      "application/vnd.jupyter.widget-view+json": {
       "model_id": "c73febb0e8d4498cb571bcb8d8e2ffbf",
       "version_major": 2,
       "version_minor": 0
      },
      "text/plain": [
       "  0%|          | 0/1 [00:00<?, ?it/s]"
      ]
     },
     "metadata": {},
     "output_type": "display_data"
    },
    {
     "name": "stdout",
     "output_type": "stream",
     "text": [
      "Epoch #15\tErro em Treinamento: 0.567\n"
     ]
    },
    {
     "data": {
      "application/vnd.jupyter.widget-view+json": {
       "model_id": "f752646cc0d54608b76ab905bc400a43",
       "version_major": 2,
       "version_minor": 0
      },
      "text/plain": [
       "  0%|          | 0/1 [00:00<?, ?it/s]"
      ]
     },
     "metadata": {},
     "output_type": "display_data"
    },
    {
     "name": "stdout",
     "output_type": "stream",
     "text": [
      "Epoch #16\tErro em Treinamento: 0.556\n"
     ]
    },
    {
     "data": {
      "application/vnd.jupyter.widget-view+json": {
       "model_id": "5302824a447c47958feb0688c709c391",
       "version_major": 2,
       "version_minor": 0
      },
      "text/plain": [
       "  0%|          | 0/1 [00:00<?, ?it/s]"
      ]
     },
     "metadata": {},
     "output_type": "display_data"
    },
    {
     "name": "stdout",
     "output_type": "stream",
     "text": [
      "Epoch #17\tErro em Treinamento: 0.544\n"
     ]
    },
    {
     "data": {
      "application/vnd.jupyter.widget-view+json": {
       "model_id": "87b1fcdaa3b644d7a06545c57667df47",
       "version_major": 2,
       "version_minor": 0
      },
      "text/plain": [
       "  0%|          | 0/1 [00:00<?, ?it/s]"
      ]
     },
     "metadata": {},
     "output_type": "display_data"
    },
    {
     "name": "stdout",
     "output_type": "stream",
     "text": [
      "Epoch #18\tErro em Treinamento: 0.532\n"
     ]
    },
    {
     "data": {
      "application/vnd.jupyter.widget-view+json": {
       "model_id": "12b508f57f2d4835aec0c0538f5e324b",
       "version_major": 2,
       "version_minor": 0
      },
      "text/plain": [
       "  0%|          | 0/1 [00:00<?, ?it/s]"
      ]
     },
     "metadata": {},
     "output_type": "display_data"
    },
    {
     "name": "stdout",
     "output_type": "stream",
     "text": [
      "Epoch #19\tErro em Treinamento: 0.520\n"
     ]
    },
    {
     "data": {
      "application/vnd.jupyter.widget-view+json": {
       "model_id": "bec4f962e5274666be2d5b699125d848",
       "version_major": 2,
       "version_minor": 0
      },
      "text/plain": [
       "  0%|          | 0/1 [00:00<?, ?it/s]"
      ]
     },
     "metadata": {},
     "output_type": "display_data"
    },
    {
     "name": "stdout",
     "output_type": "stream",
     "text": [
      "Epoch #20\tErro em Treinamento: 0.507\n"
     ]
    },
    {
     "data": {
      "application/vnd.jupyter.widget-view+json": {
       "model_id": "813016daca1b4a7eb2868518a27cc0a9",
       "version_major": 2,
       "version_minor": 0
      },
      "text/plain": [
       "  0%|          | 0/1 [00:00<?, ?it/s]"
      ]
     },
     "metadata": {},
     "output_type": "display_data"
    },
    {
     "name": "stdout",
     "output_type": "stream",
     "text": [
      "Epoch #21\tErro em Treinamento: 0.494\n"
     ]
    },
    {
     "data": {
      "application/vnd.jupyter.widget-view+json": {
       "model_id": "8d9d71c64ba04f5680daa2d8635e6e9c",
       "version_major": 2,
       "version_minor": 0
      },
      "text/plain": [
       "  0%|          | 0/1 [00:00<?, ?it/s]"
      ]
     },
     "metadata": {},
     "output_type": "display_data"
    },
    {
     "name": "stdout",
     "output_type": "stream",
     "text": [
      "Epoch #22\tErro em Treinamento: 0.481\n"
     ]
    },
    {
     "data": {
      "application/vnd.jupyter.widget-view+json": {
       "model_id": "14965aa785294c8282e061fcd7c7f30e",
       "version_major": 2,
       "version_minor": 0
      },
      "text/plain": [
       "  0%|          | 0/1 [00:00<?, ?it/s]"
      ]
     },
     "metadata": {},
     "output_type": "display_data"
    },
    {
     "name": "stdout",
     "output_type": "stream",
     "text": [
      "Epoch #23\tErro em Treinamento: 0.468\n"
     ]
    },
    {
     "data": {
      "application/vnd.jupyter.widget-view+json": {
       "model_id": "24c274c82b8d4e67864aff2383e74681",
       "version_major": 2,
       "version_minor": 0
      },
      "text/plain": [
       "  0%|          | 0/1 [00:00<?, ?it/s]"
      ]
     },
     "metadata": {},
     "output_type": "display_data"
    },
    {
     "name": "stdout",
     "output_type": "stream",
     "text": [
      "Epoch #24\tErro em Treinamento: 0.455\n"
     ]
    },
    {
     "data": {
      "application/vnd.jupyter.widget-view+json": {
       "model_id": "ee2dedcadd3f486a976276ea78aabf2f",
       "version_major": 2,
       "version_minor": 0
      },
      "text/plain": [
       "  0%|          | 0/1 [00:00<?, ?it/s]"
      ]
     },
     "metadata": {},
     "output_type": "display_data"
    },
    {
     "name": "stdout",
     "output_type": "stream",
     "text": [
      "Epoch #25\tErro em Treinamento: 0.442\n"
     ]
    },
    {
     "data": {
      "application/vnd.jupyter.widget-view+json": {
       "model_id": "e1e3f845fb174d858ddf824c0df4451a",
       "version_major": 2,
       "version_minor": 0
      },
      "text/plain": [
       "  0%|          | 0/1 [00:00<?, ?it/s]"
      ]
     },
     "metadata": {},
     "output_type": "display_data"
    },
    {
     "name": "stdout",
     "output_type": "stream",
     "text": [
      "Epoch #26\tErro em Treinamento: 0.428\n"
     ]
    },
    {
     "data": {
      "application/vnd.jupyter.widget-view+json": {
       "model_id": "417dde0d07674998a552a12e0b0340a4",
       "version_major": 2,
       "version_minor": 0
      },
      "text/plain": [
       "  0%|          | 0/1 [00:00<?, ?it/s]"
      ]
     },
     "metadata": {},
     "output_type": "display_data"
    },
    {
     "name": "stdout",
     "output_type": "stream",
     "text": [
      "Epoch #27\tErro em Treinamento: 0.415\n"
     ]
    },
    {
     "data": {
      "application/vnd.jupyter.widget-view+json": {
       "model_id": "90c62b43c1874670abcea2ff31681f92",
       "version_major": 2,
       "version_minor": 0
      },
      "text/plain": [
       "  0%|          | 0/1 [00:00<?, ?it/s]"
      ]
     },
     "metadata": {},
     "output_type": "display_data"
    },
    {
     "name": "stdout",
     "output_type": "stream",
     "text": [
      "Epoch #28\tErro em Treinamento: 0.403\n"
     ]
    },
    {
     "data": {
      "application/vnd.jupyter.widget-view+json": {
       "model_id": "ae3a94f904dc4e5b82a3a48fef3ea427",
       "version_major": 2,
       "version_minor": 0
      },
      "text/plain": [
       "  0%|          | 0/1 [00:00<?, ?it/s]"
      ]
     },
     "metadata": {},
     "output_type": "display_data"
    },
    {
     "name": "stdout",
     "output_type": "stream",
     "text": [
      "Epoch #29\tErro em Treinamento: 0.390\n"
     ]
    },
    {
     "data": {
      "application/vnd.jupyter.widget-view+json": {
       "model_id": "ffc2e93c39aa4fc3a25e62e2f1d31cf6",
       "version_major": 2,
       "version_minor": 0
      },
      "text/plain": [
       "  0%|          | 0/1 [00:00<?, ?it/s]"
      ]
     },
     "metadata": {},
     "output_type": "display_data"
    },
    {
     "name": "stdout",
     "output_type": "stream",
     "text": [
      "Epoch #30\tErro em Treinamento: 0.378\n"
     ]
    },
    {
     "data": {
      "application/vnd.jupyter.widget-view+json": {
       "model_id": "4a150221ec68412db309b0626fb7691d",
       "version_major": 2,
       "version_minor": 0
      },
      "text/plain": [
       "  0%|          | 0/1 [00:00<?, ?it/s]"
      ]
     },
     "metadata": {},
     "output_type": "display_data"
    },
    {
     "name": "stdout",
     "output_type": "stream",
     "text": [
      "Epoch #31\tErro em Treinamento: 0.366\n"
     ]
    },
    {
     "data": {
      "application/vnd.jupyter.widget-view+json": {
       "model_id": "20859e6f566445c3a116b87f4eceb1ac",
       "version_major": 2,
       "version_minor": 0
      },
      "text/plain": [
       "  0%|          | 0/1 [00:00<?, ?it/s]"
      ]
     },
     "metadata": {},
     "output_type": "display_data"
    },
    {
     "name": "stdout",
     "output_type": "stream",
     "text": [
      "Epoch #32\tErro em Treinamento: 0.355\n"
     ]
    },
    {
     "data": {
      "application/vnd.jupyter.widget-view+json": {
       "model_id": "fed06ce7a7a14151ba0510c732277a1b",
       "version_major": 2,
       "version_minor": 0
      },
      "text/plain": [
       "  0%|          | 0/1 [00:00<?, ?it/s]"
      ]
     },
     "metadata": {},
     "output_type": "display_data"
    },
    {
     "name": "stdout",
     "output_type": "stream",
     "text": [
      "Epoch #33\tErro em Treinamento: 0.344\n"
     ]
    },
    {
     "data": {
      "application/vnd.jupyter.widget-view+json": {
       "model_id": "c79ee6e074794f4caf05868531ba804b",
       "version_major": 2,
       "version_minor": 0
      },
      "text/plain": [
       "  0%|          | 0/1 [00:00<?, ?it/s]"
      ]
     },
     "metadata": {},
     "output_type": "display_data"
    },
    {
     "name": "stdout",
     "output_type": "stream",
     "text": [
      "Epoch #34\tErro em Treinamento: 0.333\n"
     ]
    },
    {
     "data": {
      "application/vnd.jupyter.widget-view+json": {
       "model_id": "a48dd6a510214e11b3dc940e46809e10",
       "version_major": 2,
       "version_minor": 0
      },
      "text/plain": [
       "  0%|          | 0/1 [00:00<?, ?it/s]"
      ]
     },
     "metadata": {},
     "output_type": "display_data"
    },
    {
     "name": "stdout",
     "output_type": "stream",
     "text": [
      "Epoch #35\tErro em Treinamento: 0.323\n"
     ]
    },
    {
     "data": {
      "application/vnd.jupyter.widget-view+json": {
       "model_id": "bc545b148d434085b43fc251b793f293",
       "version_major": 2,
       "version_minor": 0
      },
      "text/plain": [
       "  0%|          | 0/1 [00:00<?, ?it/s]"
      ]
     },
     "metadata": {},
     "output_type": "display_data"
    },
    {
     "name": "stdout",
     "output_type": "stream",
     "text": [
      "Epoch #36\tErro em Treinamento: 0.313\n"
     ]
    },
    {
     "data": {
      "application/vnd.jupyter.widget-view+json": {
       "model_id": "6ad1d1e8611345ddbecc7d58b7cb9b75",
       "version_major": 2,
       "version_minor": 0
      },
      "text/plain": [
       "  0%|          | 0/1 [00:00<?, ?it/s]"
      ]
     },
     "metadata": {},
     "output_type": "display_data"
    },
    {
     "name": "stdout",
     "output_type": "stream",
     "text": [
      "Epoch #37\tErro em Treinamento: 0.303\n"
     ]
    },
    {
     "data": {
      "application/vnd.jupyter.widget-view+json": {
       "model_id": "2f6460462534457d9e8ad86ba5207a2a",
       "version_major": 2,
       "version_minor": 0
      },
      "text/plain": [
       "  0%|          | 0/1 [00:00<?, ?it/s]"
      ]
     },
     "metadata": {},
     "output_type": "display_data"
    },
    {
     "name": "stdout",
     "output_type": "stream",
     "text": [
      "Epoch #38\tErro em Treinamento: 0.294\n"
     ]
    },
    {
     "data": {
      "application/vnd.jupyter.widget-view+json": {
       "model_id": "60e7f7b807a341409512721762ab3758",
       "version_major": 2,
       "version_minor": 0
      },
      "text/plain": [
       "  0%|          | 0/1 [00:00<?, ?it/s]"
      ]
     },
     "metadata": {},
     "output_type": "display_data"
    },
    {
     "name": "stdout",
     "output_type": "stream",
     "text": [
      "Epoch #39\tErro em Treinamento: 0.286\n"
     ]
    },
    {
     "data": {
      "application/vnd.jupyter.widget-view+json": {
       "model_id": "687b230815fe45a58ed6094920ed4f85",
       "version_major": 2,
       "version_minor": 0
      },
      "text/plain": [
       "  0%|          | 0/1 [00:00<?, ?it/s]"
      ]
     },
     "metadata": {},
     "output_type": "display_data"
    },
    {
     "name": "stdout",
     "output_type": "stream",
     "text": [
      "Epoch #40\tErro em Treinamento: 0.277\n"
     ]
    },
    {
     "data": {
      "application/vnd.jupyter.widget-view+json": {
       "model_id": "e0a1f8d653cb4825aa35d1404037330b",
       "version_major": 2,
       "version_minor": 0
      },
      "text/plain": [
       "  0%|          | 0/1 [00:00<?, ?it/s]"
      ]
     },
     "metadata": {},
     "output_type": "display_data"
    },
    {
     "name": "stdout",
     "output_type": "stream",
     "text": [
      "Epoch #41\tErro em Treinamento: 0.270\n"
     ]
    },
    {
     "data": {
      "application/vnd.jupyter.widget-view+json": {
       "model_id": "5df7a07a5a574eccbf1aae54f98b0d3c",
       "version_major": 2,
       "version_minor": 0
      },
      "text/plain": [
       "  0%|          | 0/1 [00:00<?, ?it/s]"
      ]
     },
     "metadata": {},
     "output_type": "display_data"
    },
    {
     "name": "stdout",
     "output_type": "stream",
     "text": [
      "Epoch #42\tErro em Treinamento: 0.262\n"
     ]
    },
    {
     "data": {
      "application/vnd.jupyter.widget-view+json": {
       "model_id": "9ae2f95e9c084e4dab757c3c7832dbbc",
       "version_major": 2,
       "version_minor": 0
      },
      "text/plain": [
       "  0%|          | 0/1 [00:00<?, ?it/s]"
      ]
     },
     "metadata": {},
     "output_type": "display_data"
    },
    {
     "name": "stdout",
     "output_type": "stream",
     "text": [
      "Epoch #43\tErro em Treinamento: 0.255\n"
     ]
    },
    {
     "data": {
      "application/vnd.jupyter.widget-view+json": {
       "model_id": "60292507e52646cabc8f7dd76c52e2c6",
       "version_major": 2,
       "version_minor": 0
      },
      "text/plain": [
       "  0%|          | 0/1 [00:00<?, ?it/s]"
      ]
     },
     "metadata": {},
     "output_type": "display_data"
    },
    {
     "name": "stdout",
     "output_type": "stream",
     "text": [
      "Epoch #44\tErro em Treinamento: 0.248\n"
     ]
    },
    {
     "data": {
      "application/vnd.jupyter.widget-view+json": {
       "model_id": "ead610f8be3e492386ac23171a7aaa5e",
       "version_major": 2,
       "version_minor": 0
      },
      "text/plain": [
       "  0%|          | 0/1 [00:00<?, ?it/s]"
      ]
     },
     "metadata": {},
     "output_type": "display_data"
    },
    {
     "name": "stdout",
     "output_type": "stream",
     "text": [
      "Epoch #45\tErro em Treinamento: 0.242\n"
     ]
    },
    {
     "data": {
      "application/vnd.jupyter.widget-view+json": {
       "model_id": "1239d4f63ab948a982ce73208fbbccc3",
       "version_major": 2,
       "version_minor": 0
      },
      "text/plain": [
       "  0%|          | 0/1 [00:00<?, ?it/s]"
      ]
     },
     "metadata": {},
     "output_type": "display_data"
    },
    {
     "name": "stdout",
     "output_type": "stream",
     "text": [
      "Epoch #46\tErro em Treinamento: 0.236\n"
     ]
    },
    {
     "data": {
      "application/vnd.jupyter.widget-view+json": {
       "model_id": "811c4568b0c14c4c87493b5410508dd3",
       "version_major": 2,
       "version_minor": 0
      },
      "text/plain": [
       "  0%|          | 0/1 [00:00<?, ?it/s]"
      ]
     },
     "metadata": {},
     "output_type": "display_data"
    },
    {
     "name": "stdout",
     "output_type": "stream",
     "text": [
      "Epoch #47\tErro em Treinamento: 0.230\n"
     ]
    },
    {
     "data": {
      "application/vnd.jupyter.widget-view+json": {
       "model_id": "3c1c01f0fff643d2816472912f4db924",
       "version_major": 2,
       "version_minor": 0
      },
      "text/plain": [
       "  0%|          | 0/1 [00:00<?, ?it/s]"
      ]
     },
     "metadata": {},
     "output_type": "display_data"
    },
    {
     "name": "stdout",
     "output_type": "stream",
     "text": [
      "Epoch #48\tErro em Treinamento: 0.224\n"
     ]
    },
    {
     "data": {
      "application/vnd.jupyter.widget-view+json": {
       "model_id": "fa4fbd992ae04e0b96eb9f87f508ec2a",
       "version_major": 2,
       "version_minor": 0
      },
      "text/plain": [
       "  0%|          | 0/1 [00:00<?, ?it/s]"
      ]
     },
     "metadata": {},
     "output_type": "display_data"
    },
    {
     "name": "stdout",
     "output_type": "stream",
     "text": [
      "Epoch #49\tErro em Treinamento: 0.219\n"
     ]
    },
    {
     "data": {
      "application/vnd.jupyter.widget-view+json": {
       "model_id": "9dabd86de4e8492cba71bb2acb7fa505",
       "version_major": 2,
       "version_minor": 0
      },
      "text/plain": [
       "  0%|          | 0/1 [00:00<?, ?it/s]"
      ]
     },
     "metadata": {},
     "output_type": "display_data"
    },
    {
     "name": "stdout",
     "output_type": "stream",
     "text": [
      "Epoch #50\tErro em Treinamento: 0.214\n"
     ]
    },
    {
     "data": {
      "application/vnd.jupyter.widget-view+json": {
       "model_id": "43f62708b1764c389b8d96dbc6560022",
       "version_major": 2,
       "version_minor": 0
      },
      "text/plain": [
       "  0%|          | 0/1 [00:00<?, ?it/s]"
      ]
     },
     "metadata": {},
     "output_type": "display_data"
    },
    {
     "name": "stdout",
     "output_type": "stream",
     "text": [
      "Epoch #51\tErro em Treinamento: 0.209\n"
     ]
    },
    {
     "data": {
      "application/vnd.jupyter.widget-view+json": {
       "model_id": "35fca95360d6489db6804fae7c92d565",
       "version_major": 2,
       "version_minor": 0
      },
      "text/plain": [
       "  0%|          | 0/1 [00:00<?, ?it/s]"
      ]
     },
     "metadata": {},
     "output_type": "display_data"
    },
    {
     "name": "stdout",
     "output_type": "stream",
     "text": [
      "Epoch #52\tErro em Treinamento: 0.205\n"
     ]
    },
    {
     "data": {
      "application/vnd.jupyter.widget-view+json": {
       "model_id": "8776820a7a0f48f5b421b94c49a6ac2c",
       "version_major": 2,
       "version_minor": 0
      },
      "text/plain": [
       "  0%|          | 0/1 [00:00<?, ?it/s]"
      ]
     },
     "metadata": {},
     "output_type": "display_data"
    },
    {
     "name": "stdout",
     "output_type": "stream",
     "text": [
      "Epoch #53\tErro em Treinamento: 0.200\n"
     ]
    },
    {
     "data": {
      "application/vnd.jupyter.widget-view+json": {
       "model_id": "f32131c911a24c08a82285a5743ed0ac",
       "version_major": 2,
       "version_minor": 0
      },
      "text/plain": [
       "  0%|          | 0/1 [00:00<?, ?it/s]"
      ]
     },
     "metadata": {},
     "output_type": "display_data"
    },
    {
     "name": "stdout",
     "output_type": "stream",
     "text": [
      "Epoch #54\tErro em Treinamento: 0.196\n"
     ]
    },
    {
     "data": {
      "application/vnd.jupyter.widget-view+json": {
       "model_id": "14b5a483e2b045658a0ae355d9c30799",
       "version_major": 2,
       "version_minor": 0
      },
      "text/plain": [
       "  0%|          | 0/1 [00:00<?, ?it/s]"
      ]
     },
     "metadata": {},
     "output_type": "display_data"
    },
    {
     "name": "stdout",
     "output_type": "stream",
     "text": [
      "Epoch #55\tErro em Treinamento: 0.192\n"
     ]
    },
    {
     "data": {
      "application/vnd.jupyter.widget-view+json": {
       "model_id": "82b48121ab5040419f49599710ae08ca",
       "version_major": 2,
       "version_minor": 0
      },
      "text/plain": [
       "  0%|          | 0/1 [00:00<?, ?it/s]"
      ]
     },
     "metadata": {},
     "output_type": "display_data"
    },
    {
     "name": "stdout",
     "output_type": "stream",
     "text": [
      "Epoch #56\tErro em Treinamento: 0.188\n"
     ]
    },
    {
     "data": {
      "application/vnd.jupyter.widget-view+json": {
       "model_id": "1876fca27e744215b0e482f7c925f8c7",
       "version_major": 2,
       "version_minor": 0
      },
      "text/plain": [
       "  0%|          | 0/1 [00:00<?, ?it/s]"
      ]
     },
     "metadata": {},
     "output_type": "display_data"
    },
    {
     "name": "stdout",
     "output_type": "stream",
     "text": [
      "Epoch #57\tErro em Treinamento: 0.184\n"
     ]
    },
    {
     "data": {
      "application/vnd.jupyter.widget-view+json": {
       "model_id": "c07508945d0247e3b754d1d5791da7f8",
       "version_major": 2,
       "version_minor": 0
      },
      "text/plain": [
       "  0%|          | 0/1 [00:00<?, ?it/s]"
      ]
     },
     "metadata": {},
     "output_type": "display_data"
    },
    {
     "name": "stdout",
     "output_type": "stream",
     "text": [
      "Epoch #58\tErro em Treinamento: 0.180\n"
     ]
    },
    {
     "data": {
      "application/vnd.jupyter.widget-view+json": {
       "model_id": "48df43e2e3544989a678c35f1fd79644",
       "version_major": 2,
       "version_minor": 0
      },
      "text/plain": [
       "  0%|          | 0/1 [00:00<?, ?it/s]"
      ]
     },
     "metadata": {},
     "output_type": "display_data"
    },
    {
     "name": "stdout",
     "output_type": "stream",
     "text": [
      "Epoch #59\tErro em Treinamento: 0.177\n"
     ]
    },
    {
     "data": {
      "application/vnd.jupyter.widget-view+json": {
       "model_id": "7fb194cfc6a54fcd850093c7059346b8",
       "version_major": 2,
       "version_minor": 0
      },
      "text/plain": [
       "  0%|          | 0/1 [00:00<?, ?it/s]"
      ]
     },
     "metadata": {},
     "output_type": "display_data"
    },
    {
     "name": "stdout",
     "output_type": "stream",
     "text": [
      "Epoch #60\tErro em Treinamento: 0.174\n"
     ]
    },
    {
     "data": {
      "application/vnd.jupyter.widget-view+json": {
       "model_id": "5e9248b9acd44140a90d257ee0724483",
       "version_major": 2,
       "version_minor": 0
      },
      "text/plain": [
       "  0%|          | 0/1 [00:00<?, ?it/s]"
      ]
     },
     "metadata": {},
     "output_type": "display_data"
    },
    {
     "name": "stdout",
     "output_type": "stream",
     "text": [
      "Epoch #61\tErro em Treinamento: 0.170\n"
     ]
    },
    {
     "data": {
      "application/vnd.jupyter.widget-view+json": {
       "model_id": "14a6501c13494a16b45cf5cd071fe0cb",
       "version_major": 2,
       "version_minor": 0
      },
      "text/plain": [
       "  0%|          | 0/1 [00:00<?, ?it/s]"
      ]
     },
     "metadata": {},
     "output_type": "display_data"
    },
    {
     "name": "stdout",
     "output_type": "stream",
     "text": [
      "Epoch #62\tErro em Treinamento: 0.167\n"
     ]
    },
    {
     "data": {
      "application/vnd.jupyter.widget-view+json": {
       "model_id": "ed4ef998342b4ee0ad47e6729fd6cfbd",
       "version_major": 2,
       "version_minor": 0
      },
      "text/plain": [
       "  0%|          | 0/1 [00:00<?, ?it/s]"
      ]
     },
     "metadata": {},
     "output_type": "display_data"
    },
    {
     "name": "stdout",
     "output_type": "stream",
     "text": [
      "Epoch #63\tErro em Treinamento: 0.164\n"
     ]
    },
    {
     "data": {
      "application/vnd.jupyter.widget-view+json": {
       "model_id": "d41b86c9d89f46e6b086218b809ef725",
       "version_major": 2,
       "version_minor": 0
      },
      "text/plain": [
       "  0%|          | 0/1 [00:00<?, ?it/s]"
      ]
     },
     "metadata": {},
     "output_type": "display_data"
    },
    {
     "name": "stdout",
     "output_type": "stream",
     "text": [
      "Epoch #64\tErro em Treinamento: 0.161\n"
     ]
    },
    {
     "data": {
      "application/vnd.jupyter.widget-view+json": {
       "model_id": "2e0c1b5155da48478e1ffa96200623a1",
       "version_major": 2,
       "version_minor": 0
      },
      "text/plain": [
       "  0%|          | 0/1 [00:00<?, ?it/s]"
      ]
     },
     "metadata": {},
     "output_type": "display_data"
    },
    {
     "name": "stdout",
     "output_type": "stream",
     "text": [
      "Epoch #65\tErro em Treinamento: 0.158\n"
     ]
    },
    {
     "data": {
      "application/vnd.jupyter.widget-view+json": {
       "model_id": "2d5aa5ef444c418a9fcb5d822318694a",
       "version_major": 2,
       "version_minor": 0
      },
      "text/plain": [
       "  0%|          | 0/1 [00:00<?, ?it/s]"
      ]
     },
     "metadata": {},
     "output_type": "display_data"
    },
    {
     "name": "stdout",
     "output_type": "stream",
     "text": [
      "Epoch #66\tErro em Treinamento: 0.156\n"
     ]
    },
    {
     "data": {
      "application/vnd.jupyter.widget-view+json": {
       "model_id": "45464760216443ab821c8a6fa2d4df3b",
       "version_major": 2,
       "version_minor": 0
      },
      "text/plain": [
       "  0%|          | 0/1 [00:00<?, ?it/s]"
      ]
     },
     "metadata": {},
     "output_type": "display_data"
    },
    {
     "name": "stdout",
     "output_type": "stream",
     "text": [
      "Epoch #67\tErro em Treinamento: 0.153\n"
     ]
    },
    {
     "data": {
      "application/vnd.jupyter.widget-view+json": {
       "model_id": "9532f44e592044569163548ed21414cd",
       "version_major": 2,
       "version_minor": 0
      },
      "text/plain": [
       "  0%|          | 0/1 [00:00<?, ?it/s]"
      ]
     },
     "metadata": {},
     "output_type": "display_data"
    },
    {
     "name": "stdout",
     "output_type": "stream",
     "text": [
      "Epoch #68\tErro em Treinamento: 0.151\n"
     ]
    },
    {
     "data": {
      "application/vnd.jupyter.widget-view+json": {
       "model_id": "b648957f5d4c4535b967a23a7bc5bcc4",
       "version_major": 2,
       "version_minor": 0
      },
      "text/plain": [
       "  0%|          | 0/1 [00:00<?, ?it/s]"
      ]
     },
     "metadata": {},
     "output_type": "display_data"
    },
    {
     "name": "stdout",
     "output_type": "stream",
     "text": [
      "Epoch #69\tErro em Treinamento: 0.148\n"
     ]
    },
    {
     "data": {
      "application/vnd.jupyter.widget-view+json": {
       "model_id": "283b6386475345e89a901d2702a44ae5",
       "version_major": 2,
       "version_minor": 0
      },
      "text/plain": [
       "  0%|          | 0/1 [00:00<?, ?it/s]"
      ]
     },
     "metadata": {},
     "output_type": "display_data"
    },
    {
     "name": "stdout",
     "output_type": "stream",
     "text": [
      "Epoch #70\tErro em Treinamento: 0.146\n"
     ]
    },
    {
     "data": {
      "application/vnd.jupyter.widget-view+json": {
       "model_id": "e12e04af4ecd4a38816e055d21c76f32",
       "version_major": 2,
       "version_minor": 0
      },
      "text/plain": [
       "  0%|          | 0/1 [00:00<?, ?it/s]"
      ]
     },
     "metadata": {},
     "output_type": "display_data"
    },
    {
     "name": "stdout",
     "output_type": "stream",
     "text": [
      "Epoch #71\tErro em Treinamento: 0.143\n"
     ]
    },
    {
     "data": {
      "application/vnd.jupyter.widget-view+json": {
       "model_id": "5a045579f152437798ae93efc94a8330",
       "version_major": 2,
       "version_minor": 0
      },
      "text/plain": [
       "  0%|          | 0/1 [00:00<?, ?it/s]"
      ]
     },
     "metadata": {},
     "output_type": "display_data"
    },
    {
     "name": "stdout",
     "output_type": "stream",
     "text": [
      "Epoch #72\tErro em Treinamento: 0.141\n"
     ]
    },
    {
     "data": {
      "application/vnd.jupyter.widget-view+json": {
       "model_id": "3381278b589d498181984b871e09ef3f",
       "version_major": 2,
       "version_minor": 0
      },
      "text/plain": [
       "  0%|          | 0/1 [00:00<?, ?it/s]"
      ]
     },
     "metadata": {},
     "output_type": "display_data"
    },
    {
     "name": "stdout",
     "output_type": "stream",
     "text": [
      "Epoch #73\tErro em Treinamento: 0.139\n"
     ]
    },
    {
     "data": {
      "application/vnd.jupyter.widget-view+json": {
       "model_id": "10657765f27f469fa1b23bf0f5c91c6a",
       "version_major": 2,
       "version_minor": 0
      },
      "text/plain": [
       "  0%|          | 0/1 [00:00<?, ?it/s]"
      ]
     },
     "metadata": {},
     "output_type": "display_data"
    },
    {
     "name": "stdout",
     "output_type": "stream",
     "text": [
      "Epoch #74\tErro em Treinamento: 0.137\n"
     ]
    },
    {
     "data": {
      "application/vnd.jupyter.widget-view+json": {
       "model_id": "5ab6a47e94d14c908a848538f1989fe1",
       "version_major": 2,
       "version_minor": 0
      },
      "text/plain": [
       "  0%|          | 0/1 [00:00<?, ?it/s]"
      ]
     },
     "metadata": {},
     "output_type": "display_data"
    },
    {
     "name": "stdout",
     "output_type": "stream",
     "text": [
      "Epoch #75\tErro em Treinamento: 0.135\n"
     ]
    },
    {
     "data": {
      "application/vnd.jupyter.widget-view+json": {
       "model_id": "690a7abf372543c184198d899de0c6eb",
       "version_major": 2,
       "version_minor": 0
      },
      "text/plain": [
       "  0%|          | 0/1 [00:00<?, ?it/s]"
      ]
     },
     "metadata": {},
     "output_type": "display_data"
    },
    {
     "name": "stdout",
     "output_type": "stream",
     "text": [
      "Epoch #76\tErro em Treinamento: 0.133\n"
     ]
    },
    {
     "data": {
      "application/vnd.jupyter.widget-view+json": {
       "model_id": "ec5e025b43dd41f38fca261071b3f4a5",
       "version_major": 2,
       "version_minor": 0
      },
      "text/plain": [
       "  0%|          | 0/1 [00:00<?, ?it/s]"
      ]
     },
     "metadata": {},
     "output_type": "display_data"
    },
    {
     "name": "stdout",
     "output_type": "stream",
     "text": [
      "Epoch #77\tErro em Treinamento: 0.131\n"
     ]
    },
    {
     "data": {
      "application/vnd.jupyter.widget-view+json": {
       "model_id": "f7b4186981704eb78dbeec0ebb560f74",
       "version_major": 2,
       "version_minor": 0
      },
      "text/plain": [
       "  0%|          | 0/1 [00:00<?, ?it/s]"
      ]
     },
     "metadata": {},
     "output_type": "display_data"
    },
    {
     "name": "stdout",
     "output_type": "stream",
     "text": [
      "Epoch #78\tErro em Treinamento: 0.129\n"
     ]
    },
    {
     "data": {
      "application/vnd.jupyter.widget-view+json": {
       "model_id": "50d68c027cc24fc8b9696f4505c6a8a6",
       "version_major": 2,
       "version_minor": 0
      },
      "text/plain": [
       "  0%|          | 0/1 [00:00<?, ?it/s]"
      ]
     },
     "metadata": {},
     "output_type": "display_data"
    },
    {
     "name": "stdout",
     "output_type": "stream",
     "text": [
      "Epoch #79\tErro em Treinamento: 0.127\n"
     ]
    },
    {
     "data": {
      "application/vnd.jupyter.widget-view+json": {
       "model_id": "a31a567260db4cec851c3536c2bd192e",
       "version_major": 2,
       "version_minor": 0
      },
      "text/plain": [
       "  0%|          | 0/1 [00:00<?, ?it/s]"
      ]
     },
     "metadata": {},
     "output_type": "display_data"
    },
    {
     "name": "stdout",
     "output_type": "stream",
     "text": [
      "Epoch #80\tErro em Treinamento: 0.125\n"
     ]
    },
    {
     "data": {
      "application/vnd.jupyter.widget-view+json": {
       "model_id": "96cca704021c4a0cbcfe88d0bfddf00f",
       "version_major": 2,
       "version_minor": 0
      },
      "text/plain": [
       "  0%|          | 0/1 [00:00<?, ?it/s]"
      ]
     },
     "metadata": {},
     "output_type": "display_data"
    },
    {
     "name": "stdout",
     "output_type": "stream",
     "text": [
      "Epoch #81\tErro em Treinamento: 0.124\n"
     ]
    },
    {
     "data": {
      "application/vnd.jupyter.widget-view+json": {
       "model_id": "d1ec57753aa34709a7eec2fe09ae30c7",
       "version_major": 2,
       "version_minor": 0
      },
      "text/plain": [
       "  0%|          | 0/1 [00:00<?, ?it/s]"
      ]
     },
     "metadata": {},
     "output_type": "display_data"
    },
    {
     "name": "stdout",
     "output_type": "stream",
     "text": [
      "Epoch #82\tErro em Treinamento: 0.122\n"
     ]
    },
    {
     "data": {
      "application/vnd.jupyter.widget-view+json": {
       "model_id": "142b60ea26684a7da7e3b9fceb26784e",
       "version_major": 2,
       "version_minor": 0
      },
      "text/plain": [
       "  0%|          | 0/1 [00:00<?, ?it/s]"
      ]
     },
     "metadata": {},
     "output_type": "display_data"
    },
    {
     "name": "stdout",
     "output_type": "stream",
     "text": [
      "Epoch #83\tErro em Treinamento: 0.120\n"
     ]
    },
    {
     "data": {
      "application/vnd.jupyter.widget-view+json": {
       "model_id": "e24b1d6bdc304564930458fa59105388",
       "version_major": 2,
       "version_minor": 0
      },
      "text/plain": [
       "  0%|          | 0/1 [00:00<?, ?it/s]"
      ]
     },
     "metadata": {},
     "output_type": "display_data"
    },
    {
     "name": "stdout",
     "output_type": "stream",
     "text": [
      "Epoch #84\tErro em Treinamento: 0.119\n"
     ]
    },
    {
     "data": {
      "application/vnd.jupyter.widget-view+json": {
       "model_id": "bb824165e40646e888c02fe2dabb17ed",
       "version_major": 2,
       "version_minor": 0
      },
      "text/plain": [
       "  0%|          | 0/1 [00:00<?, ?it/s]"
      ]
     },
     "metadata": {},
     "output_type": "display_data"
    },
    {
     "name": "stdout",
     "output_type": "stream",
     "text": [
      "Epoch #85\tErro em Treinamento: 0.117\n"
     ]
    },
    {
     "data": {
      "application/vnd.jupyter.widget-view+json": {
       "model_id": "dc68751f01a046c1a667dd41b52c96f6",
       "version_major": 2,
       "version_minor": 0
      },
      "text/plain": [
       "  0%|          | 0/1 [00:00<?, ?it/s]"
      ]
     },
     "metadata": {},
     "output_type": "display_data"
    },
    {
     "name": "stdout",
     "output_type": "stream",
     "text": [
      "Epoch #86\tErro em Treinamento: 0.116\n"
     ]
    },
    {
     "data": {
      "application/vnd.jupyter.widget-view+json": {
       "model_id": "453b0ac086004d1b85336176cf5fd447",
       "version_major": 2,
       "version_minor": 0
      },
      "text/plain": [
       "  0%|          | 0/1 [00:00<?, ?it/s]"
      ]
     },
     "metadata": {},
     "output_type": "display_data"
    },
    {
     "name": "stdout",
     "output_type": "stream",
     "text": [
      "Epoch #87\tErro em Treinamento: 0.114\n"
     ]
    },
    {
     "data": {
      "application/vnd.jupyter.widget-view+json": {
       "model_id": "a59e7278a7844823b4c323c1c8c94258",
       "version_major": 2,
       "version_minor": 0
      },
      "text/plain": [
       "  0%|          | 0/1 [00:00<?, ?it/s]"
      ]
     },
     "metadata": {},
     "output_type": "display_data"
    },
    {
     "name": "stdout",
     "output_type": "stream",
     "text": [
      "Epoch #88\tErro em Treinamento: 0.113\n"
     ]
    },
    {
     "data": {
      "application/vnd.jupyter.widget-view+json": {
       "model_id": "5fa21eaedd75444f9c23c1de69ebf5e6",
       "version_major": 2,
       "version_minor": 0
      },
      "text/plain": [
       "  0%|          | 0/1 [00:00<?, ?it/s]"
      ]
     },
     "metadata": {},
     "output_type": "display_data"
    },
    {
     "name": "stdout",
     "output_type": "stream",
     "text": [
      "Epoch #89\tErro em Treinamento: 0.111\n"
     ]
    },
    {
     "data": {
      "application/vnd.jupyter.widget-view+json": {
       "model_id": "d063f14f5ac4424d8ccb4a0e555472f7",
       "version_major": 2,
       "version_minor": 0
      },
      "text/plain": [
       "  0%|          | 0/1 [00:00<?, ?it/s]"
      ]
     },
     "metadata": {},
     "output_type": "display_data"
    },
    {
     "name": "stdout",
     "output_type": "stream",
     "text": [
      "Epoch #90\tErro em Treinamento: 0.110\n"
     ]
    },
    {
     "data": {
      "application/vnd.jupyter.widget-view+json": {
       "model_id": "2e1c7d49123044c99b54ed1a9bf47a5f",
       "version_major": 2,
       "version_minor": 0
      },
      "text/plain": [
       "  0%|          | 0/1 [00:00<?, ?it/s]"
      ]
     },
     "metadata": {},
     "output_type": "display_data"
    },
    {
     "name": "stdout",
     "output_type": "stream",
     "text": [
      "Epoch #91\tErro em Treinamento: 0.109\n"
     ]
    },
    {
     "data": {
      "application/vnd.jupyter.widget-view+json": {
       "model_id": "ec9bc0c60bb844729873dfbf6479fe0d",
       "version_major": 2,
       "version_minor": 0
      },
      "text/plain": [
       "  0%|          | 0/1 [00:00<?, ?it/s]"
      ]
     },
     "metadata": {},
     "output_type": "display_data"
    },
    {
     "name": "stdout",
     "output_type": "stream",
     "text": [
      "Epoch #92\tErro em Treinamento: 0.107\n"
     ]
    },
    {
     "data": {
      "application/vnd.jupyter.widget-view+json": {
       "model_id": "432610d96c58437086d6367208fc67a0",
       "version_major": 2,
       "version_minor": 0
      },
      "text/plain": [
       "  0%|          | 0/1 [00:00<?, ?it/s]"
      ]
     },
     "metadata": {},
     "output_type": "display_data"
    },
    {
     "name": "stdout",
     "output_type": "stream",
     "text": [
      "Epoch #93\tErro em Treinamento: 0.106\n"
     ]
    },
    {
     "data": {
      "application/vnd.jupyter.widget-view+json": {
       "model_id": "604abb834fc64edb94f6f8f86819d534",
       "version_major": 2,
       "version_minor": 0
      },
      "text/plain": [
       "  0%|          | 0/1 [00:00<?, ?it/s]"
      ]
     },
     "metadata": {},
     "output_type": "display_data"
    },
    {
     "name": "stdout",
     "output_type": "stream",
     "text": [
      "Epoch #94\tErro em Treinamento: 0.105\n"
     ]
    },
    {
     "data": {
      "application/vnd.jupyter.widget-view+json": {
       "model_id": "acc87df044794e03bbb3d3adc990b7c0",
       "version_major": 2,
       "version_minor": 0
      },
      "text/plain": [
       "  0%|          | 0/1 [00:00<?, ?it/s]"
      ]
     },
     "metadata": {},
     "output_type": "display_data"
    },
    {
     "name": "stdout",
     "output_type": "stream",
     "text": [
      "Epoch #95\tErro em Treinamento: 0.104\n"
     ]
    },
    {
     "data": {
      "application/vnd.jupyter.widget-view+json": {
       "model_id": "5178a31fbd4c4440a26df5eee68abd84",
       "version_major": 2,
       "version_minor": 0
      },
      "text/plain": [
       "  0%|          | 0/1 [00:00<?, ?it/s]"
      ]
     },
     "metadata": {},
     "output_type": "display_data"
    },
    {
     "name": "stdout",
     "output_type": "stream",
     "text": [
      "Epoch #96\tErro em Treinamento: 0.103\n"
     ]
    },
    {
     "data": {
      "application/vnd.jupyter.widget-view+json": {
       "model_id": "94e7ebc511294d1fa67e212299d6041a",
       "version_major": 2,
       "version_minor": 0
      },
      "text/plain": [
       "  0%|          | 0/1 [00:00<?, ?it/s]"
      ]
     },
     "metadata": {},
     "output_type": "display_data"
    },
    {
     "name": "stdout",
     "output_type": "stream",
     "text": [
      "Epoch #97\tErro em Treinamento: 0.101\n"
     ]
    },
    {
     "data": {
      "application/vnd.jupyter.widget-view+json": {
       "model_id": "e61ac5d512cb42edad603e97df2d8ab8",
       "version_major": 2,
       "version_minor": 0
      },
      "text/plain": [
       "  0%|          | 0/1 [00:00<?, ?it/s]"
      ]
     },
     "metadata": {},
     "output_type": "display_data"
    },
    {
     "name": "stdout",
     "output_type": "stream",
     "text": [
      "Epoch #98\tErro em Treinamento: 0.100\n"
     ]
    },
    {
     "data": {
      "application/vnd.jupyter.widget-view+json": {
       "model_id": "a969019fef3c4a9bb21145fc23c1b1a8",
       "version_major": 2,
       "version_minor": 0
      },
      "text/plain": [
       "  0%|          | 0/1 [00:00<?, ?it/s]"
      ]
     },
     "metadata": {},
     "output_type": "display_data"
    },
    {
     "name": "stdout",
     "output_type": "stream",
     "text": [
      "Epoch #99\tErro em Treinamento: 0.099\n"
     ]
    },
    {
     "data": {
      "application/vnd.jupyter.widget-view+json": {
       "model_id": "7439ff7e6c224527801abfa8bbd922dd",
       "version_major": 2,
       "version_minor": 0
      },
      "text/plain": [
       "  0%|          | 0/1 [00:00<?, ?it/s]"
      ]
     },
     "metadata": {},
     "output_type": "display_data"
    },
    {
     "name": "stdout",
     "output_type": "stream",
     "text": [
      "Epoch #100\tErro em Treinamento: 0.098\n"
     ]
    }
   ],
   "source": [
    "# Treinamento\n",
    "\n",
    "# Instância de treinamento do modelo\n",
    "modelo.train()\n",
    "\n",
    "# Lista para armazenar os erros a cada passada de treinamento\n",
    "train_losses = []\n",
    "\n",
    "# Número de épocas\n",
    "epochs = 100\n",
    "\n",
    "# Loop de treinamento\n",
    "for epoch in range(epochs): \n",
    "    \n",
    "    # Barra de progresso\n",
    "    progress_bar = tqdm_notebook(train_loader, leave = False)\n",
    "    \n",
    "    # Listas de controle\n",
    "    losses = []\n",
    "    total = 0\n",
    "    \n",
    "    # Loop\n",
    "    for inputs, target in progress_bar:\n",
    "        \n",
    "        # Modelo\n",
    "        modelo.zero_grad()\n",
    "\n",
    "        # Saída (previsão do modelo)\n",
    "        output = modelo(inputs)\n",
    "        \n",
    "        # Cálculo do erro\n",
    "        loss = criterion(output.squeeze(), target.float())\n",
    "        \n",
    "        # Instância do Backpropagation\n",
    "        loss.backward()\n",
    "        \n",
    "        # Prepara atualização dos parâmetros (coeficientes)    \n",
    "        nn.utils.clip_grad_norm_(modelo.parameters(), 3)\n",
    "\n",
    "        # Executa o otimizador\n",
    "        optimizer.step()\n",
    "        \n",
    "        # Atualiza a barra de progresso\n",
    "        progress_bar.set_description(f'\\nErro do Modelo: {loss.item():.3f}')\n",
    "        \n",
    "        # Erros e total\n",
    "        losses.append(loss.item())\n",
    "        total += 1\n",
    "    \n",
    "    # Erro da epoch\n",
    "    epoch_loss = sum(losses) / total\n",
    "    \n",
    "    # Erro de treinamento\n",
    "    train_losses.append(epoch_loss)\n",
    "        \n",
    "    tqdm.write(f'Epoch #{epoch + 1}\\tErro em Treinamento: {epoch_loss:.3f}')"
   ]
  },
  {
   "cell_type": "markdown",
   "metadata": {},
   "source": [
    "## Previsões de Sentimentos"
   ]
  },
  {
   "cell_type": "code",
   "execution_count": 34,
   "metadata": {},
   "outputs": [],
   "source": [
    "# Função para prever o sentimento\n",
    "def predict_sentiment(text):\n",
    "    \n",
    "    # Carrega o modelo\n",
    "    modelo.eval()\n",
    "    \n",
    "    # Extrai as previsões do modelo\n",
    "    with torch.no_grad():\n",
    "        \n",
    "        # Texto recebido como parâmetro convertido para vetor\n",
    "        test_vector = torch.LongTensor(dados_frases.vectorizer.transform([text]).toarray())\n",
    "\n",
    "        # Previsão\n",
    "        output = modelo(test_vector)\n",
    "        \n",
    "        # Gera a previsão final como probabilidade\n",
    "        prediction = torch.sigmoid(output).item()\n",
    "\n",
    "        # Checa a probabilidade com limite de 0.5\n",
    "        if prediction >= 0.5:\n",
    "            print(f'{prediction:0.3}: Sentimento Positivo')\n",
    "        else:\n",
    "            print(f'{prediction:0.3}: Sentimento Negativo')"
   ]
  },
  {
   "cell_type": "markdown",
   "metadata": {},
   "source": [
    "Primeiro calculamos o valor sigmóide (entre 0 e 1) para a previsão.\n",
    "\n",
    "Se for maior ou igual que 0,5 classificamos como sentimento Positivo e se for menor que 0.5 classificamos como sentimento Negativo. \n",
    "\n",
    "Vamos testar o classificador de sentimentos."
   ]
  },
  {
   "cell_type": "code",
   "execution_count": 35,
   "metadata": {},
   "outputs": [
    {
     "name": "stdout",
     "output_type": "stream",
     "text": [
      "1.0: Sentimento Positivo\n"
     ]
    }
   ],
   "source": [
    "# Texto de avaliação de filme\n",
    "test_text = \"\"\"\n",
    "This poor excuse for a movie is terrible. It has been 'so good it's bad' for a\n",
    "while, and the high ratings are a good form of sarcasm, I have to admit. But\n",
    "now it has to stop. Technically inept, spoon-feeding mundane messages with the\n",
    "artistic weight of an eighties' commercial, hypocritical to say the least, it\n",
    "deserves to fall into oblivion. Mr. Derek, I hope you realize you are like that\n",
    "weird friend that everybody know is lame, but out of kindness and Christian\n",
    "duty is treated like he's cool or something. That works if you are a good\n",
    "decent human being, not if you are a horrible arrogant bully like you are. Yes,\n",
    "Mr. 'Daddy' Derek will end on the history books of the internet for being a\n",
    "delusional sour old man who thinks to be a good example for kids, but actually\n",
    "has a poster of Kim Jong-Un in his closet. Destroy this movie if you all have a\n",
    "conscience, as I hope IHE and all other youtube channel force-closed by Derek\n",
    "out of SPITE would destroy him in the courts.This poor excuse for a movie is\n",
    "terrible. It has been 'so good it's bad' for a while, and the high ratings are\n",
    "a good form of sarcasm, I have to admit. But now it has to stop. Technically\n",
    "inept, spoon-feeding mundane messages with the artistic weight of an eighties'\n",
    "commercial, hypocritical to say the least, it deserves to fall into oblivion.\n",
    "Mr. Derek, I hope you realize you are like that weird friend that everybody\n",
    "know is lame, but out of kindness and Christian duty is treated like he's cool\n",
    "or something. That works if you are a good decent human being, not if you are a\n",
    "horrible arrogant bully like you are. Yes, Mr. 'Daddy' Derek will end on the\n",
    "history books of the internet for being a delusional sour old man who thinks to\n",
    "be a good example for kids, but actually has a poster of Kim Jong-Un in his\n",
    "closet. Destroy this movie if you all have a conscience, as I hope IHE and all\n",
    "other youtube channel force-closed by Derek out of SPITE would destroy him in\n",
    "the courts.\n",
    "\"\"\"\n",
    "\n",
    "# Previsão\n",
    "predict_sentiment(test_text)"
   ]
  },
  {
   "cell_type": "code",
   "execution_count": 36,
   "metadata": {},
   "outputs": [
    {
     "name": "stdout",
     "output_type": "stream",
     "text": [
      "1.0: Sentimento Positivo\n"
     ]
    }
   ],
   "source": [
    "# Texto de avaliação de filme\n",
    "test_text = \"\"\"\n",
    "Cool Cat Saves The Kids is a symbolic masterpiece directed by Derek Savage that\n",
    "is not only satirical in the way it makes fun of the media and politics, but in\n",
    "the way in questions as how we humans live life and how society tells us to\n",
    "live life.\n",
    "\n",
    "Before I get into those details, I wanna talk about the special effects in this\n",
    "film. They are ASTONISHING, and it shocks me that Cool Cat Saves The Kids got\n",
    "snubbed by the Oscars for Best Special Effects. This film makes 2001 look like\n",
    "garbage, and the directing in this film makes Stanley Kubrick look like the\n",
    "worst director ever. You know what other film did that? Birdemic: Shock and\n",
    "Terror. Both of these films are masterpieces, but if I had to choose my\n",
    "favorite out of the 2, I would have to go with Cool Cat Saves The Kids. It is\n",
    "now my 10th favorite film of all time.\n",
    "\n",
    "Now, lets get into the symbolism: So you might be asking yourself, Why is Cool\n",
    "Cat Orange? Well, I can easily explain. Orange is a color. Orange is also a\n",
    "fruit, and its a very good fruit. You know what else is good? Good behavior.\n",
    "What behavior does Cool Cat have? He has good behavior. This cannot be a\n",
    "coincidence, since cool cat has good behavior in the film.\n",
    "\n",
    "Now, why is Butch The Bully fat? Well, fat means your wide. You wanna know who\n",
    "was wide? Hitler. Nuff said this cannot be a coincidence.\n",
    "\n",
    "Why does Erik Estrada suspect Butch The Bully to be a bully? Well look at it\n",
    "this way. What color of a shirt was Butchy wearing when he walks into the area?\n",
    "I don't know, its looks like dark purple/dark blue. Why rhymes with dark? Mark.\n",
    "Mark is that guy from the Room. The Room is the best movie of all time. What is\n",
    "the opposite of best? Worst. This is how Erik knew Butch was a bully.\n",
    "\n",
    "and finally, how come Vivica A. Fox isn't having a successful career after\n",
    "making Kill Bill.\n",
    "\n",
    "I actually can't answer that question.\n",
    "\n",
    "Well thanks for reading my review.\n",
    "\"\"\"\n",
    "\n",
    "# Previsão\n",
    "predict_sentiment(test_text)"
   ]
  },
  {
   "cell_type": "code",
   "execution_count": 37,
   "metadata": {},
   "outputs": [
    {
     "name": "stdout",
     "output_type": "stream",
     "text": [
      "2.78e-14: Sentimento Negativo\n"
     ]
    }
   ],
   "source": [
    "# Texto de avaliação de filme\n",
    "test_text = \"\"\"\n",
    "What the heck is this ? There is not one redeeming quality about this terrible\n",
    "and very poorly done \"movie\". I can't even say that it's a \"so bad it's good\n",
    "movie\".It is undeniably pointless to address all the things wrong here but\n",
    "unfortunately even the \"life lessons\" about bullies and stuff like this are so\n",
    "wrong and terrible that no kid should hear them.The costume is also horrible\n",
    "and the acting...just unbelievable.No effort whatsoever was put into this thing\n",
    "and it clearly shows,I have no idea what were they thinking or who was it even\n",
    "meant for. I feel violated after watching this trash and I deeply recommend you\n",
    "stay as far away as possible.This is certainly one of the worst pieces of c***\n",
    "I have ever seen.\n",
    "\"\"\"\n",
    "\n",
    "# Previsão\n",
    "predict_sentiment(test_text)"
   ]
  },
  {
   "cell_type": "code",
   "execution_count": 38,
   "metadata": {},
   "outputs": [
    {
     "name": "stdout",
     "output_type": "stream",
     "text": [
      "1.0: Sentimento Positivo\n"
     ]
    }
   ],
   "source": [
    "# Texto de avaliação de filme\n",
    "test_text = \"\"\"\n",
    "Don't let any bullies out there try and shape your judgment on this gem of a\n",
    "title.\n",
    "\n",
    "Some people really don't have anything better to do, except trash a great movie\n",
    "with annoying 1-star votes and spread lies on the Internet about how \"dumb\"\n",
    "Cool Cat is.\n",
    "\n",
    "I wouldn't be surprised to learn if much of the unwarranted negativity hurled\n",
    "at this movie is coming from people who haven't even watched this movie for\n",
    "themselves in the first place. Those people are no worse than the Butch the\n",
    "Bully, the film's repulsive antagonist.\n",
    "\n",
    "As it just so happens, one of the main points of \"Cool Cat Saves the Kids\" is\n",
    "in addressing the attitudes of mean naysayers who try to demean others who\n",
    "strive to bring good attitudes and fun vibes into people's lives. The message\n",
    "to be learned here is that if one is friendly and good to others, the world is\n",
    "friendly and good to one in return, and that is cool. Conversely, if one is\n",
    "miserable and leaving 1-star votes on IMDb, one is alone and doesn't have any\n",
    "friends at all. Ain't that the truth?\n",
    "\n",
    "The world has uncovered a great, new, young filmmaking talent in \"Cool Cat\"\n",
    "creator Derek Savage, and I sure hope that this is only the first of many\n",
    "amazing films and stories that the world has yet to appreciate.\n",
    "\n",
    "If you are a cool person who likes to have lots of fun, I guarantee that this\n",
    "is a movie with charm that will uplift your spirits and reaffirm your positive\n",
    "attitudes towards life.\n",
    "\"\"\"\n",
    "\n",
    "# Previsão\n",
    "predict_sentiment(test_text)"
   ]
  },
  {
   "cell_type": "markdown",
   "metadata": {},
   "source": [
    "# Fim"
   ]
  }
 ],
 "metadata": {
  "kernelspec": {
   "display_name": "Python 3",
   "language": "python",
   "name": "python3"
  },
  "language_info": {
   "codemirror_mode": {
    "name": "ipython",
    "version": 3
   },
   "file_extension": ".py",
   "mimetype": "text/x-python",
   "name": "python",
   "nbconvert_exporter": "python",
   "pygments_lexer": "ipython3",
   "version": "3.7.13"
  }
 },
 "nbformat": 4,
 "nbformat_minor": 2
}
