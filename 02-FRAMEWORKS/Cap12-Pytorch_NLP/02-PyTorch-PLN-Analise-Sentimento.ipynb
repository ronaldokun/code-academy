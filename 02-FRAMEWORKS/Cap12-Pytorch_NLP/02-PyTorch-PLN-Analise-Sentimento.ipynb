{
 "cells": [
  {
   "cell_type": "markdown",
   "metadata": {},
   "source": [
    "# <font color='blue'>Data Science Academy</font>\n",
    "# <font color='blue'>Deep Learning Frameworks</font>"
   ]
  },
  {
   "cell_type": "code",
   "execution_count": 1,
   "metadata": {},
   "outputs": [
    {
     "name": "stdout",
     "output_type": "stream",
     "text": [
      "Versão da Linguagem Python Usada Neste Jupyter Notebook: 3.7.6\n"
     ]
    }
   ],
   "source": [
    "# Versão da Linguagem Python\n",
    "from platform import python_version\n",
    "print('Versão da Linguagem Python Usada Neste Jupyter Notebook:', python_version())"
   ]
  },
  {
   "cell_type": "markdown",
   "metadata": {},
   "source": [
    "## Construindo um Classificador de Sentimentos com PyTorch"
   ]
  },
  {
   "cell_type": "markdown",
   "metadata": {},
   "source": [
    "Tudo o que expressamos (verbalmente ou por escrito) carrega enormes quantidades de informação. O tópico que escolhemos, nosso tom, nossa seleção de palavras, tudo acrescenta algum tipo de informação que pode ser interpretada e com o valor extraído dela. Em teoria, podemos entender e até prever o comportamento humano usando essas informações.\n",
    "\n",
    "Mas há um problema: uma pessoa pode gerar centenas ou milhares de palavras em uma declaração, cada sentença com sua complexidade correspondente. Se você deseja dimensionar e analisar várias centenas, milhares ou milhões de pessoas ou declarações em uma determinada região, a situação é incontrolável.\n"
   ]
  },
  {
   "cell_type": "code",
   "execution_count": 2,
   "metadata": {},
   "outputs": [],
   "source": [
    "# Para atualizar um pacote, execute o comando abaixo no terminal ou prompt de comando:\n",
    "# pip install -U nome_pacote\n",
    "\n",
    "# Para instalar a versão exata de um pacote, execute o comando abaixo no terminal ou prompt de comando:\n",
    "# pip install nome_pacote==versão_desejada\n",
    "\n",
    "# Depois de instalar ou atualizar o pacote, reinicie o jupyter notebook.\n",
    "\n",
    "# Instala o pacote watermark. \n",
    "# Esse pacote é usado para gravar as versões de outros pacotes usados neste jupyter notebook.\n",
    "!pip install -q -U watermark"
   ]
  },
  {
   "cell_type": "code",
   "execution_count": 3,
   "metadata": {},
   "outputs": [],
   "source": [
    "# Imports\n",
    "import torch\n",
    "import pandas as pd\n",
    "import torch.nn as nn\n",
    "import torch.optim as optim\n",
    "import torch.nn.functional as F\n",
    "import sklearn\n",
    "from torch.utils.data import DataLoader, Dataset\n",
    "from sklearn.feature_extraction.text import CountVectorizer\n",
    "from tqdm.notebook import tqdm, tqdm_notebook"
   ]
  },
  {
   "cell_type": "code",
   "execution_count": 4,
   "metadata": {},
   "outputs": [
    {
     "name": "stdout",
     "output_type": "stream",
     "text": [
      "torch   1.4.0\n",
      "pandas  1.0.3\n",
      "sklearn 0.22.2\n",
      "Data Science Academy\n"
     ]
    }
   ],
   "source": [
    "# Versões dos pacotes usados neste jupyter notebook\n",
    "%reload_ext watermark\n",
    "%watermark -a \"Data Science Academy\" --iversions"
   ]
  },
  {
   "cell_type": "code",
   "execution_count": 5,
   "metadata": {},
   "outputs": [
    {
     "data": {
      "text/plain": [
       "device(type='cpu')"
      ]
     },
     "execution_count": 5,
     "metadata": {},
     "output_type": "execute_result"
    }
   ],
   "source": [
    "# Define o device\n",
    "device = torch.device('cuda' if torch.cuda.is_available() else 'cpu')\n",
    "device"
   ]
  },
  {
   "cell_type": "markdown",
   "metadata": {},
   "source": [
    "## Carregando e Explorando os Dados"
   ]
  },
  {
   "cell_type": "markdown",
   "metadata": {},
   "source": [
    "Usaremos um dataset disponível publicamente em https://www.imdb.com/interfaces/.\n",
    "\n",
    "Os labels de sentimentos foram extraídos do portal: https://ai.stanford.edu/~amaas/data/sentiment/"
   ]
  },
  {
   "cell_type": "code",
   "execution_count": 6,
   "metadata": {},
   "outputs": [],
   "source": [
    "# Carrega o dataset\n",
    "nomes_colunas = ['Review', 'Sentimento']\n",
    "dados_filmes = pd.read_csv('dados/imdb_reviews.csv', sep = '\\t', names = nomes_colunas)"
   ]
  },
  {
   "cell_type": "code",
   "execution_count": 7,
   "metadata": {},
   "outputs": [
    {
     "data": {
      "text/html": [
       "<div>\n",
       "<style scoped>\n",
       "    .dataframe tbody tr th:only-of-type {\n",
       "        vertical-align: middle;\n",
       "    }\n",
       "\n",
       "    .dataframe tbody tr th {\n",
       "        vertical-align: top;\n",
       "    }\n",
       "\n",
       "    .dataframe thead th {\n",
       "        text-align: right;\n",
       "    }\n",
       "</style>\n",
       "<table border=\"1\" class=\"dataframe\">\n",
       "  <thead>\n",
       "    <tr style=\"text-align: right;\">\n",
       "      <th></th>\n",
       "      <th>Review</th>\n",
       "      <th>Sentimento</th>\n",
       "    </tr>\n",
       "  </thead>\n",
       "  <tbody>\n",
       "    <tr>\n",
       "      <th>0</th>\n",
       "      <td>A very, very, very slow-moving, aimless movie ...</td>\n",
       "      <td>0</td>\n",
       "    </tr>\n",
       "    <tr>\n",
       "      <th>1</th>\n",
       "      <td>Not sure who was more lost - the flat characte...</td>\n",
       "      <td>0</td>\n",
       "    </tr>\n",
       "    <tr>\n",
       "      <th>2</th>\n",
       "      <td>Attempting artiness with black &amp; white and cle...</td>\n",
       "      <td>0</td>\n",
       "    </tr>\n",
       "    <tr>\n",
       "      <th>3</th>\n",
       "      <td>Very little music or anything to speak of.</td>\n",
       "      <td>0</td>\n",
       "    </tr>\n",
       "    <tr>\n",
       "      <th>4</th>\n",
       "      <td>The best scene in the movie was when Gerardo i...</td>\n",
       "      <td>1</td>\n",
       "    </tr>\n",
       "  </tbody>\n",
       "</table>\n",
       "</div>"
      ],
      "text/plain": [
       "                                              Review  Sentimento\n",
       "0  A very, very, very slow-moving, aimless movie ...           0\n",
       "1  Not sure who was more lost - the flat characte...           0\n",
       "2  Attempting artiness with black & white and cle...           0\n",
       "3       Very little music or anything to speak of.             0\n",
       "4  The best scene in the movie was when Gerardo i...           1"
      ]
     },
     "execution_count": 7,
     "metadata": {},
     "output_type": "execute_result"
    }
   ],
   "source": [
    "# Visualiza\n",
    "dados_filmes.head()"
   ]
  },
  {
   "cell_type": "code",
   "execution_count": 8,
   "metadata": {},
   "outputs": [
    {
     "data": {
      "text/plain": [
       "(748, 2)"
      ]
     },
     "execution_count": 8,
     "metadata": {},
     "output_type": "execute_result"
    }
   ],
   "source": [
    "# Shape\n",
    "dados_filmes.shape"
   ]
  },
  {
   "cell_type": "code",
   "execution_count": 9,
   "metadata": {},
   "outputs": [
    {
     "data": {
      "text/plain": [
       "1    386\n",
       "0    362\n",
       "Name: Sentimento, dtype: int64"
      ]
     },
     "execution_count": 9,
     "metadata": {},
     "output_type": "execute_result"
    }
   ],
   "source": [
    "# Verificando a proporção de sentimentos\n",
    "dados_filmes['Sentimento'].value_counts()"
   ]
  },
  {
   "cell_type": "markdown",
   "metadata": {},
   "source": [
    "## Representação Bag-of-Words\n",
    "\n",
    "![](imagens/bag2.png)"
   ]
  },
  {
   "cell_type": "markdown",
   "metadata": {},
   "source": [
    "![](imagens/bag1.jpeg)"
   ]
  },
  {
   "cell_type": "markdown",
   "metadata": {},
   "source": [
    "![](imagens/bag3.png)"
   ]
  },
  {
   "cell_type": "markdown",
   "metadata": {},
   "source": [
    "![](imagens/bag4.png)"
   ]
  },
  {
   "cell_type": "markdown",
   "metadata": {},
   "source": [
    "## Manipulação de Texto"
   ]
  },
  {
   "cell_type": "markdown",
   "metadata": {},
   "source": [
    "Começamos criando um \"vetorizador\".\n",
    "\n",
    "Convertemos uma coleção de documentos de texto em uma matriz de contagens de tokens.\n",
    "\n",
    "Essa implementação produz uma representação esparsa das contagens usando scipy.sparse.csr_matrix.\n",
    "\n",
    "https://scikit-learn.org/stable/modules/generated/sklearn.feature_extraction.text.CountVectorizer.html"
   ]
  },
  {
   "cell_type": "code",
   "execution_count": 10,
   "metadata": {},
   "outputs": [
    {
     "data": {
      "text/plain": [
       "CountVectorizer(analyzer='word', binary=False, decode_error='strict',\n",
       "                dtype=<class 'numpy.int64'>, encoding='utf-8', input='content',\n",
       "                lowercase=True, max_df=0.99, max_features=None, min_df=0.005,\n",
       "                ngram_range=(1, 1), preprocessor=None, stop_words='english',\n",
       "                strip_accents=None, token_pattern='(?u)\\\\b\\\\w\\\\w+\\\\b',\n",
       "                tokenizer=None, vocabulary=None)"
      ]
     },
     "execution_count": 10,
     "metadata": {},
     "output_type": "execute_result"
    }
   ],
   "source": [
    "# Criamos um vectorizer\n",
    "vectorizer = CountVectorizer(stop_words = 'english', max_df = 0.99, min_df = 0.005)\n",
    "vectorizer"
   ]
  },
  {
   "cell_type": "code",
   "execution_count": 11,
   "metadata": {},
   "outputs": [
    {
     "data": {
      "text/plain": [
       "<748x320 sparse matrix of type '<class 'numpy.int64'>'\n",
       "\twith 2931 stored elements in Compressed Sparse Row format>"
      ]
     },
     "execution_count": 11,
     "metadata": {},
     "output_type": "execute_result"
    }
   ],
   "source": [
    "# Extraímos as sequências do texto aplicando o vetorizador\n",
    "sequences = vectorizer.fit_transform(dados_filmes.Review.tolist())\n",
    "sequences"
   ]
  },
  {
   "cell_type": "code",
   "execution_count": 12,
   "metadata": {},
   "outputs": [
    {
     "name": "stdout",
     "output_type": "stream",
     "text": [
      "                                                   0\n",
      "0    (0, 248)\\t1\\n  (0, 185)\\t1\\n  (0, 183)\\t1\\n ...\n",
      "1    (0, 162)\\t1\\n  (0, 41)\\t1\\n  (0, 14)\\t1\\n  (...\n",
      "2    (0, 183)\\t1\\n  (0, 28)\\t1\\n  (0, 305)\\t1\\n  ...\n"
     ]
    }
   ],
   "source": [
    "# Visualiza como dataframe\n",
    "print(pd.DataFrame(sequences).head(3))"
   ]
  },
  {
   "cell_type": "code",
   "execution_count": 13,
   "metadata": {},
   "outputs": [],
   "source": [
    "# Organiza os labels (sentimentos)\n",
    "labels = dados_filmes.Sentimento.tolist()"
   ]
  },
  {
   "cell_type": "code",
   "execution_count": 14,
   "metadata": {},
   "outputs": [
    {
     "data": {
      "text/plain": [
       "[0, 0, 0, 0, 1]"
      ]
     },
     "execution_count": 14,
     "metadata": {},
     "output_type": "execute_result"
    }
   ],
   "source": [
    "# Visualiza uma amostra\n",
    "labels[:5]"
   ]
  },
  {
   "cell_type": "code",
   "execution_count": 15,
   "metadata": {},
   "outputs": [],
   "source": [
    "# Criamos o saco de palavras (vocabulário)\n",
    "token2idx = vectorizer.vocabulary_"
   ]
  },
  {
   "cell_type": "code",
   "execution_count": 16,
   "metadata": {},
   "outputs": [
    {
     "data": {
      "text/plain": [
       "dict"
      ]
     },
     "execution_count": 16,
     "metadata": {},
     "output_type": "execute_result"
    }
   ],
   "source": [
    "# Tipo\n",
    "type(token2idx)"
   ]
  },
  {
   "cell_type": "code",
   "execution_count": 17,
   "metadata": {},
   "outputs": [
    {
     "name": "stdout",
     "output_type": "stream",
     "text": [
      "320\n"
     ]
    }
   ],
   "source": [
    "# Total\n",
    "print(len(token2idx))"
   ]
  },
  {
   "cell_type": "code",
   "execution_count": 18,
   "metadata": {},
   "outputs": [
    {
     "data": {
      "text/plain": [
       "{'slow': 248,\n",
       " 'moving': 185,\n",
       " 'movie': 183,\n",
       " 'young': 319,\n",
       " 'man': 171,\n",
       " 'lost': 162,\n",
       " 'characters': 41,\n",
       " 'audience': 14,\n",
       " 'half': 119,\n",
       " 'black': 28,\n",
       " 'white': 305,\n",
       " 'clever': 48,\n",
       " 'camera': 35,\n",
       " 'disappointed': 73,\n",
       " 'ridiculous': 227,\n",
       " 'acting': 3,\n",
       " 'poor': 211,\n",
       " 'plot': 209,\n",
       " 'lines': 156,\n",
       " 'non': 190,\n",
       " 'little': 157,\n",
       " 'music': 186,\n",
       " 'best': 24,\n",
       " 'scene': 234,\n",
       " 'trying': 285,\n",
       " 'rest': 226,\n",
       " 'lacks': 147,\n",
       " 'art': 12,\n",
       " 'works': 310,\n",
       " 'guess': 118,\n",
       " 'wasted': 300,\n",
       " 'saw': 232,\n",
       " 'today': 278,\n",
       " 'thought': 275,\n",
       " 'good': 115,\n",
       " 'kids': 144,\n",
       " 'bit': 27,\n",
       " 'predictable': 213,\n",
       " 'loved': 165,\n",
       " 'casting': 38,\n",
       " 'adorable': 8,\n",
       " 'lot': 163,\n",
       " 'look': 160,\n",
       " 'songs': 251,\n",
       " 'hilarious': 122,\n",
       " 'cool': 55,\n",
       " 'right': 228,\n",
       " 'face': 92,\n",
       " 'low': 167,\n",
       " 'budget': 33,\n",
       " 'long': 159,\n",
       " 'consider': 53,\n",
       " 'tale': 266,\n",
       " 'single': 247,\n",
       " 'film': 101,\n",
       " 'll': 158,\n",
       " 'cinematography': 46,\n",
       " 'production': 218,\n",
       " 'editing': 78,\n",
       " 'directing': 70,\n",
       " 'making': 170,\n",
       " 'perfect': 200,\n",
       " 'true': 283,\n",
       " 'history': 123,\n",
       " 'cinema': 45,\n",
       " 'think': 274,\n",
       " 'level': 151,\n",
       " 'films': 102,\n",
       " 'mind': 180,\n",
       " 'quite': 219,\n",
       " 'simply': 246,\n",
       " 'does': 74,\n",
       " 'beautiful': 20,\n",
       " 'short': 244,\n",
       " 'certainly': 39,\n",
       " 'far': 97,\n",
       " 'series': 242,\n",
       " 'strong': 260,\n",
       " 'love': 164,\n",
       " 'just': 143,\n",
       " 'waste': 299,\n",
       " 'money': 182,\n",
       " 'kind': 145,\n",
       " 'actually': 7,\n",
       " 'time': 276,\n",
       " 'crap': 58,\n",
       " 'say': 233,\n",
       " 'fun': 105,\n",
       " 'play': 206,\n",
       " 'enjoy': 83,\n",
       " 'flick': 104,\n",
       " 'idea': 131,\n",
       " 'lame': 148,\n",
       " 'character': 40,\n",
       " 'mediocre': 175,\n",
       " 'make': 168,\n",
       " 'family': 95,\n",
       " 'wasn': 298,\n",
       " 'did': 67,\n",
       " 'away': 16,\n",
       " 'entire': 86,\n",
       " 'point': 210,\n",
       " 'funny': 106,\n",
       " 'don': 76,\n",
       " 'better': 25,\n",
       " 'people': 199,\n",
       " 'like': 153,\n",
       " 'story': 258,\n",
       " 'real': 221,\n",
       " 'effects': 79,\n",
       " 'work': 309,\n",
       " 'scenes': 235,\n",
       " 'worst': 313,\n",
       " 'screen': 236,\n",
       " 've': 295,\n",
       " 'seen': 240,\n",
       " 'didn': 68,\n",
       " 'having': 120,\n",
       " 'lovely': 166,\n",
       " 'written': 316,\n",
       " 'girl': 111,\n",
       " 'life': 152,\n",
       " 'recommend': 223,\n",
       " 'let': 150,\n",
       " 'excellent': 88,\n",
       " 'cast': 37,\n",
       " 'line': 155,\n",
       " 'performances': 202,\n",
       " 'totally': 281,\n",
       " 'believable': 22,\n",
       " 'utterly': 294,\n",
       " 'convincing': 54,\n",
       " 'portrayal': 212,\n",
       " 'tv': 286,\n",
       " '10': 0,\n",
       " 'tom': 279,\n",
       " 'actor': 5,\n",
       " 'enjoyed': 84,\n",
       " 'book': 29,\n",
       " 'annoying': 11,\n",
       " 'gives': 112,\n",
       " 'feeling': 99,\n",
       " 'absolutely': 2,\n",
       " 'actors': 6,\n",
       " 'dialogue': 66,\n",
       " 'doesn': 75,\n",
       " 'really': 222,\n",
       " 'energy': 82,\n",
       " 'generally': 109,\n",
       " 'great': 117,\n",
       " 'things': 273,\n",
       " 'worth': 314,\n",
       " 'suspense': 265,\n",
       " 'especially': 87,\n",
       " 'liked': 154,\n",
       " 'movies': 184,\n",
       " 'writing': 315,\n",
       " 'want': 297,\n",
       " 'amazing': 10,\n",
       " 'piece': 204,\n",
       " 'big': 26,\n",
       " 'years': 318,\n",
       " 'word': 308,\n",
       " 'overall': 195,\n",
       " 'interesting': 137,\n",
       " 'gave': 108,\n",
       " 'classic': 47,\n",
       " 'pretty': 215,\n",
       " 'horror': 127,\n",
       " 'definitely': 64,\n",
       " 'script': 237,\n",
       " 'terrific': 270,\n",
       " 'occasionally': 191,\n",
       " 'going': 114,\n",
       " 'way': 304,\n",
       " 'ending': 81,\n",
       " 'watch': 301,\n",
       " 'bad': 18,\n",
       " 'thing': 272,\n",
       " 'watching': 303,\n",
       " 'hour': 128,\n",
       " 'maybe': 173,\n",
       " 'played': 207,\n",
       " 'joy': 142,\n",
       " 'boring': 31,\n",
       " 'oh': 192,\n",
       " 'stupid': 261,\n",
       " 'director': 72,\n",
       " 'end': 80,\n",
       " 'night': 189,\n",
       " 'nice': 188,\n",
       " 'brilliant': 32,\n",
       " 'playing': 208,\n",
       " 'rent': 225,\n",
       " 'world': 311,\n",
       " 'fact': 93,\n",
       " 'chemistry': 43,\n",
       " 'couldn': 56,\n",
       " 'understand': 288,\n",
       " 'believe': 23,\n",
       " 'watched': 302,\n",
       " 'awful': 17,\n",
       " 'experience': 90,\n",
       " 'unfortunately': 289,\n",
       " 'direction': 71,\n",
       " 'depth': 65,\n",
       " 'imagination': 132,\n",
       " 'barely': 19,\n",
       " 'cult': 60,\n",
       " 'times': 277,\n",
       " 'truly': 284,\n",
       " 'terrible': 269,\n",
       " 'worse': 312,\n",
       " 'horrible': 126,\n",
       " 'minutes': 181,\n",
       " 'storyline': 259,\n",
       " 'know': 146,\n",
       " 'attempt': 13,\n",
       " 'self': 241,\n",
       " 'mean': 174,\n",
       " 'lead': 149,\n",
       " 'torture': 280,\n",
       " 'highly': 121,\n",
       " 'premise': 214,\n",
       " 'sound': 252,\n",
       " 'performance': 201,\n",
       " 'ups': 290,\n",
       " 'age': 9,\n",
       " 'john': 141,\n",
       " 'incredible': 133,\n",
       " 'job': 140,\n",
       " 'probably': 216,\n",
       " 'got': 116,\n",
       " 'new': 187,\n",
       " 'usual': 293,\n",
       " 'completely': 52,\n",
       " 'holes': 124,\n",
       " 'pathetic': 198,\n",
       " 'talk': 267,\n",
       " 'tell': 268,\n",
       " 'action': 4,\n",
       " 'master': 172,\n",
       " 'care': 36,\n",
       " 'fails': 94,\n",
       " 'visual': 296,\n",
       " 'drama': 77,\n",
       " 'used': 292,\n",
       " 'soundtrack': 253,\n",
       " 'cheap': 42,\n",
       " 'trash': 282,\n",
       " 'came': 34,\n",
       " 'said': 231,\n",
       " 'fans': 96,\n",
       " 'solid': 250,\n",
       " 'felt': 100,\n",
       " 'hope': 125,\n",
       " 'eyes': 91,\n",
       " 'child': 44,\n",
       " 'day': 62,\n",
       " 'started': 256,\n",
       " 'theater': 271,\n",
       " 'rating': 220,\n",
       " 'use': 291,\n",
       " 'shot': 245,\n",
       " 'subtle': 263,\n",
       " 'mention': 177,\n",
       " 'huge': 129,\n",
       " 'old': 193,\n",
       " 'wonderful': 307,\n",
       " 'year': 317,\n",
       " 'intelligence': 135,\n",
       " 'intelligent': 136,\n",
       " 'human': 130,\n",
       " 'entertaining': 85,\n",
       " 'memorable': 176,\n",
       " 'seeing': 239,\n",
       " 'bored': 30,\n",
       " 'special': 254,\n",
       " 'different': 69,\n",
       " 'roles': 230,\n",
       " 'gets': 110,\n",
       " '90': 1,\n",
       " 'looked': 161,\n",
       " 'god': 113,\n",
       " 'parts': 197,\n",
       " 'sets': 243,\n",
       " 'stories': 257,\n",
       " 'makes': 169,\n",
       " 'second': 238,\n",
       " 'cover': 57,\n",
       " 'created': 59,\n",
       " 'garbage': 107,\n",
       " 'role': 229,\n",
       " 'comes': 51,\n",
       " 'involved': 138,\n",
       " 'place': 205,\n",
       " 'style': 262,\n",
       " 'star': 255,\n",
       " 'problems': 217,\n",
       " 'period': 203,\n",
       " 'won': 306,\n",
       " 'particularly': 196,\n",
       " 'insult': 134,\n",
       " 'death': 63,\n",
       " 'come': 49,\n",
       " 'comedy': 50,\n",
       " 'superb': 264,\n",
       " 'fine': 103,\n",
       " 'mess': 178,\n",
       " 'expect': 89,\n",
       " 'mickey': 179,\n",
       " 'original': 194,\n",
       " 'james': 139,\n",
       " 'recommended': 224,\n",
       " 'unbelievable': 287,\n",
       " 'avoid': 15,\n",
       " 'small': 249,\n",
       " 'dance': 61,\n",
       " 'beginning': 21,\n",
       " 'fast': 98}"
      ]
     },
     "execution_count": 18,
     "metadata": {},
     "output_type": "execute_result"
    }
   ],
   "source": [
    "# Visualiza\n",
    "token2idx"
   ]
  },
  {
   "cell_type": "code",
   "execution_count": 19,
   "metadata": {},
   "outputs": [
    {
     "data": {
      "text/plain": [
       "183"
      ]
     },
     "execution_count": 19,
     "metadata": {},
     "output_type": "execute_result"
    }
   ],
   "source": [
    "# Quantas vezes a palavra \"movie\" aparece nas avaliações?\n",
    "token2idx['movie']"
   ]
  },
  {
   "cell_type": "code",
   "execution_count": 20,
   "metadata": {},
   "outputs": [
    {
     "data": {
      "text/plain": [
       "115"
      ]
     },
     "execution_count": 20,
     "metadata": {},
     "output_type": "execute_result"
    }
   ],
   "source": [
    "# E a palavra good?\n",
    "token2idx['good']"
   ]
  },
  {
   "cell_type": "code",
   "execution_count": 21,
   "metadata": {},
   "outputs": [],
   "source": [
    "# Para facilitar nosso trabalho, vamos inverter chaves e colunas em nosso dicionário\n",
    "idx2token = {idx: token for token, idx in token2idx.items()}"
   ]
  },
  {
   "cell_type": "code",
   "execution_count": 22,
   "metadata": {},
   "outputs": [
    {
     "data": {
      "text/plain": [
       "dict"
      ]
     },
     "execution_count": 22,
     "metadata": {},
     "output_type": "execute_result"
    }
   ],
   "source": [
    "# Tipo\n",
    "type(idx2token)"
   ]
  },
  {
   "cell_type": "code",
   "execution_count": 23,
   "metadata": {},
   "outputs": [
    {
     "name": "stdout",
     "output_type": "stream",
     "text": [
      "320\n"
     ]
    }
   ],
   "source": [
    "# Total\n",
    "print(len(idx2token))"
   ]
  },
  {
   "cell_type": "code",
   "execution_count": 24,
   "metadata": {},
   "outputs": [
    {
     "data": {
      "text/plain": [
       "{248: 'slow',\n",
       " 185: 'moving',\n",
       " 183: 'movie',\n",
       " 319: 'young',\n",
       " 171: 'man',\n",
       " 162: 'lost',\n",
       " 41: 'characters',\n",
       " 14: 'audience',\n",
       " 119: 'half',\n",
       " 28: 'black',\n",
       " 305: 'white',\n",
       " 48: 'clever',\n",
       " 35: 'camera',\n",
       " 73: 'disappointed',\n",
       " 227: 'ridiculous',\n",
       " 3: 'acting',\n",
       " 211: 'poor',\n",
       " 209: 'plot',\n",
       " 156: 'lines',\n",
       " 190: 'non',\n",
       " 157: 'little',\n",
       " 186: 'music',\n",
       " 24: 'best',\n",
       " 234: 'scene',\n",
       " 285: 'trying',\n",
       " 226: 'rest',\n",
       " 147: 'lacks',\n",
       " 12: 'art',\n",
       " 310: 'works',\n",
       " 118: 'guess',\n",
       " 300: 'wasted',\n",
       " 232: 'saw',\n",
       " 278: 'today',\n",
       " 275: 'thought',\n",
       " 115: 'good',\n",
       " 144: 'kids',\n",
       " 27: 'bit',\n",
       " 213: 'predictable',\n",
       " 165: 'loved',\n",
       " 38: 'casting',\n",
       " 8: 'adorable',\n",
       " 163: 'lot',\n",
       " 160: 'look',\n",
       " 251: 'songs',\n",
       " 122: 'hilarious',\n",
       " 55: 'cool',\n",
       " 228: 'right',\n",
       " 92: 'face',\n",
       " 167: 'low',\n",
       " 33: 'budget',\n",
       " 159: 'long',\n",
       " 53: 'consider',\n",
       " 266: 'tale',\n",
       " 247: 'single',\n",
       " 101: 'film',\n",
       " 158: 'll',\n",
       " 46: 'cinematography',\n",
       " 218: 'production',\n",
       " 78: 'editing',\n",
       " 70: 'directing',\n",
       " 170: 'making',\n",
       " 200: 'perfect',\n",
       " 283: 'true',\n",
       " 123: 'history',\n",
       " 45: 'cinema',\n",
       " 274: 'think',\n",
       " 151: 'level',\n",
       " 102: 'films',\n",
       " 180: 'mind',\n",
       " 219: 'quite',\n",
       " 246: 'simply',\n",
       " 74: 'does',\n",
       " 20: 'beautiful',\n",
       " 244: 'short',\n",
       " 39: 'certainly',\n",
       " 97: 'far',\n",
       " 242: 'series',\n",
       " 260: 'strong',\n",
       " 164: 'love',\n",
       " 143: 'just',\n",
       " 299: 'waste',\n",
       " 182: 'money',\n",
       " 145: 'kind',\n",
       " 7: 'actually',\n",
       " 276: 'time',\n",
       " 58: 'crap',\n",
       " 233: 'say',\n",
       " 105: 'fun',\n",
       " 206: 'play',\n",
       " 83: 'enjoy',\n",
       " 104: 'flick',\n",
       " 131: 'idea',\n",
       " 148: 'lame',\n",
       " 40: 'character',\n",
       " 175: 'mediocre',\n",
       " 168: 'make',\n",
       " 95: 'family',\n",
       " 298: 'wasn',\n",
       " 67: 'did',\n",
       " 16: 'away',\n",
       " 86: 'entire',\n",
       " 210: 'point',\n",
       " 106: 'funny',\n",
       " 76: 'don',\n",
       " 25: 'better',\n",
       " 199: 'people',\n",
       " 153: 'like',\n",
       " 258: 'story',\n",
       " 221: 'real',\n",
       " 79: 'effects',\n",
       " 309: 'work',\n",
       " 235: 'scenes',\n",
       " 313: 'worst',\n",
       " 236: 'screen',\n",
       " 295: 've',\n",
       " 240: 'seen',\n",
       " 68: 'didn',\n",
       " 120: 'having',\n",
       " 166: 'lovely',\n",
       " 316: 'written',\n",
       " 111: 'girl',\n",
       " 152: 'life',\n",
       " 223: 'recommend',\n",
       " 150: 'let',\n",
       " 88: 'excellent',\n",
       " 37: 'cast',\n",
       " 155: 'line',\n",
       " 202: 'performances',\n",
       " 281: 'totally',\n",
       " 22: 'believable',\n",
       " 294: 'utterly',\n",
       " 54: 'convincing',\n",
       " 212: 'portrayal',\n",
       " 286: 'tv',\n",
       " 0: '10',\n",
       " 279: 'tom',\n",
       " 5: 'actor',\n",
       " 84: 'enjoyed',\n",
       " 29: 'book',\n",
       " 11: 'annoying',\n",
       " 112: 'gives',\n",
       " 99: 'feeling',\n",
       " 2: 'absolutely',\n",
       " 6: 'actors',\n",
       " 66: 'dialogue',\n",
       " 75: 'doesn',\n",
       " 222: 'really',\n",
       " 82: 'energy',\n",
       " 109: 'generally',\n",
       " 117: 'great',\n",
       " 273: 'things',\n",
       " 314: 'worth',\n",
       " 265: 'suspense',\n",
       " 87: 'especially',\n",
       " 154: 'liked',\n",
       " 184: 'movies',\n",
       " 315: 'writing',\n",
       " 297: 'want',\n",
       " 10: 'amazing',\n",
       " 204: 'piece',\n",
       " 26: 'big',\n",
       " 318: 'years',\n",
       " 308: 'word',\n",
       " 195: 'overall',\n",
       " 137: 'interesting',\n",
       " 108: 'gave',\n",
       " 47: 'classic',\n",
       " 215: 'pretty',\n",
       " 127: 'horror',\n",
       " 64: 'definitely',\n",
       " 237: 'script',\n",
       " 270: 'terrific',\n",
       " 191: 'occasionally',\n",
       " 114: 'going',\n",
       " 304: 'way',\n",
       " 81: 'ending',\n",
       " 301: 'watch',\n",
       " 18: 'bad',\n",
       " 272: 'thing',\n",
       " 303: 'watching',\n",
       " 128: 'hour',\n",
       " 173: 'maybe',\n",
       " 207: 'played',\n",
       " 142: 'joy',\n",
       " 31: 'boring',\n",
       " 192: 'oh',\n",
       " 261: 'stupid',\n",
       " 72: 'director',\n",
       " 80: 'end',\n",
       " 189: 'night',\n",
       " 188: 'nice',\n",
       " 32: 'brilliant',\n",
       " 208: 'playing',\n",
       " 225: 'rent',\n",
       " 311: 'world',\n",
       " 93: 'fact',\n",
       " 43: 'chemistry',\n",
       " 56: 'couldn',\n",
       " 288: 'understand',\n",
       " 23: 'believe',\n",
       " 302: 'watched',\n",
       " 17: 'awful',\n",
       " 90: 'experience',\n",
       " 289: 'unfortunately',\n",
       " 71: 'direction',\n",
       " 65: 'depth',\n",
       " 132: 'imagination',\n",
       " 19: 'barely',\n",
       " 60: 'cult',\n",
       " 277: 'times',\n",
       " 284: 'truly',\n",
       " 269: 'terrible',\n",
       " 312: 'worse',\n",
       " 126: 'horrible',\n",
       " 181: 'minutes',\n",
       " 259: 'storyline',\n",
       " 146: 'know',\n",
       " 13: 'attempt',\n",
       " 241: 'self',\n",
       " 174: 'mean',\n",
       " 149: 'lead',\n",
       " 280: 'torture',\n",
       " 121: 'highly',\n",
       " 214: 'premise',\n",
       " 252: 'sound',\n",
       " 201: 'performance',\n",
       " 290: 'ups',\n",
       " 9: 'age',\n",
       " 141: 'john',\n",
       " 133: 'incredible',\n",
       " 140: 'job',\n",
       " 216: 'probably',\n",
       " 116: 'got',\n",
       " 187: 'new',\n",
       " 293: 'usual',\n",
       " 52: 'completely',\n",
       " 124: 'holes',\n",
       " 198: 'pathetic',\n",
       " 267: 'talk',\n",
       " 268: 'tell',\n",
       " 4: 'action',\n",
       " 172: 'master',\n",
       " 36: 'care',\n",
       " 94: 'fails',\n",
       " 296: 'visual',\n",
       " 77: 'drama',\n",
       " 292: 'used',\n",
       " 253: 'soundtrack',\n",
       " 42: 'cheap',\n",
       " 282: 'trash',\n",
       " 34: 'came',\n",
       " 231: 'said',\n",
       " 96: 'fans',\n",
       " 250: 'solid',\n",
       " 100: 'felt',\n",
       " 125: 'hope',\n",
       " 91: 'eyes',\n",
       " 44: 'child',\n",
       " 62: 'day',\n",
       " 256: 'started',\n",
       " 271: 'theater',\n",
       " 220: 'rating',\n",
       " 291: 'use',\n",
       " 245: 'shot',\n",
       " 263: 'subtle',\n",
       " 177: 'mention',\n",
       " 129: 'huge',\n",
       " 193: 'old',\n",
       " 307: 'wonderful',\n",
       " 317: 'year',\n",
       " 135: 'intelligence',\n",
       " 136: 'intelligent',\n",
       " 130: 'human',\n",
       " 85: 'entertaining',\n",
       " 176: 'memorable',\n",
       " 239: 'seeing',\n",
       " 30: 'bored',\n",
       " 254: 'special',\n",
       " 69: 'different',\n",
       " 230: 'roles',\n",
       " 110: 'gets',\n",
       " 1: '90',\n",
       " 161: 'looked',\n",
       " 113: 'god',\n",
       " 197: 'parts',\n",
       " 243: 'sets',\n",
       " 257: 'stories',\n",
       " 169: 'makes',\n",
       " 238: 'second',\n",
       " 57: 'cover',\n",
       " 59: 'created',\n",
       " 107: 'garbage',\n",
       " 229: 'role',\n",
       " 51: 'comes',\n",
       " 138: 'involved',\n",
       " 205: 'place',\n",
       " 262: 'style',\n",
       " 255: 'star',\n",
       " 217: 'problems',\n",
       " 203: 'period',\n",
       " 306: 'won',\n",
       " 196: 'particularly',\n",
       " 134: 'insult',\n",
       " 63: 'death',\n",
       " 49: 'come',\n",
       " 50: 'comedy',\n",
       " 264: 'superb',\n",
       " 103: 'fine',\n",
       " 178: 'mess',\n",
       " 89: 'expect',\n",
       " 179: 'mickey',\n",
       " 194: 'original',\n",
       " 139: 'james',\n",
       " 224: 'recommended',\n",
       " 287: 'unbelievable',\n",
       " 15: 'avoid',\n",
       " 249: 'small',\n",
       " 61: 'dance',\n",
       " 21: 'beginning',\n",
       " 98: 'fast'}"
      ]
     },
     "execution_count": 24,
     "metadata": {},
     "output_type": "execute_result"
    }
   ],
   "source": [
    "# Visualiza\n",
    "idx2token"
   ]
  },
  {
   "cell_type": "markdown",
   "metadata": {},
   "source": [
    "Vamos resumir tudo que fizemos em uma função."
   ]
  },
  {
   "cell_type": "code",
   "execution_count": 25,
   "metadata": {},
   "outputs": [],
   "source": [
    "# Definimos uma classe para extrair as frases\n",
    "class Sequences():\n",
    "    def __init__(self):\n",
    "        self.vectorizer = CountVectorizer(stop_words = 'english', max_df = 0.99, min_df = 0.005)\n",
    "        self.sequences = self.vectorizer.fit_transform(dados_filmes.Review.tolist())\n",
    "        self.labels = dados_filmes.Sentimento.tolist()\n",
    "        self.token2idx = self.vectorizer.vocabulary_\n",
    "        self.idx2token = {idx: token for token, idx in self.token2idx.items()}\n",
    "        \n",
    "    def __getitem__(self, i):\n",
    "        return self.sequences[i, :].toarray(), self.labels[i]\n",
    "    \n",
    "    def __len__(self):\n",
    "        return self.sequences.shape[0]"
   ]
  },
  {
   "cell_type": "code",
   "execution_count": 26,
   "metadata": {},
   "outputs": [],
   "source": [
    "# Extrai as frases do dataset e cria a matriz de dados, como os tokens, contagens e labels\n",
    "dados_frases = Sequences()"
   ]
  },
  {
   "cell_type": "code",
   "execution_count": 27,
   "metadata": {},
   "outputs": [
    {
     "name": "stdout",
     "output_type": "stream",
     "text": [
      "(1, 320)\n"
     ]
    }
   ],
   "source": [
    "# Confere o shape\n",
    "print(dados_frases[5][0].shape)"
   ]
  },
  {
   "cell_type": "code",
   "execution_count": 28,
   "metadata": {},
   "outputs": [
    {
     "data": {
      "text/plain": [
       "<torch.utils.data.dataloader.DataLoader at 0x1a2fccbe90>"
      ]
     },
     "execution_count": 28,
     "metadata": {},
     "output_type": "execute_result"
    }
   ],
   "source": [
    "# Prepara os dados para treinamento no formato PyTorch\n",
    "train_loader = DataLoader(dados_frases, batch_size = 4096)\n",
    "train_loader"
   ]
  },
  {
   "cell_type": "markdown",
   "metadata": {},
   "source": [
    "## Definição e Construção do Modelo\n",
    "\n",
    "Camada 1: $$x_1 = W_1 X + b_1$$\n",
    "Função de Ativação: $$h_1 = \\textrm{Relu}(x_1)$$\n",
    "Camada 2: $$x_2 = W_2 h_1 + b_2$$\n",
    "Saída: $$p = \\sigma(x_2)$$\n",
    "Loss: $$L = −(ylog(p)+(1−y)log(1−p))$$\n",
    "Gradiente: \n",
    "$$\\frac{\\partial }{\\partial W_1}L(W_1, b_1, W_2, b_2) = \\frac{\\partial L}{\\partial p}\\frac{\\partial p}{\\partial x_2}\\frac{\\partial x_2}{\\partial h_1}\\frac{\\partial h_1}{\\partial x_1}\\frac{\\partial x_1}{\\partial W_1}$$\n",
    "\n",
    "Atualização de Parâmetros:\n",
    "$$W_1 = W_1 - \\alpha \\frac{\\partial L}{\\partial W_1}$$"
   ]
  },
  {
   "cell_type": "code",
   "execution_count": 29,
   "metadata": {},
   "outputs": [],
   "source": [
    "# Classificador\n",
    "class BagOfWordsClassifier(nn.Module):\n",
    "    \n",
    "    # Método construtor para inicializar os atributos\n",
    "    def __init__(self, vocab_size, hidden1, hidden2):\n",
    "        super(BagOfWordsClassifier, self).__init__()\n",
    "        self.fc1 = nn.Linear(vocab_size, hidden1)\n",
    "        self.fc2 = nn.Linear(hidden1, hidden2)\n",
    "        self.fc3 = nn.Linear(hidden2, 1)\n",
    "    \n",
    "    # Método para a passada para a frente (forward)\n",
    "    def forward(self, inputs):\n",
    "        x = F.relu(self.fc1(inputs.squeeze(1).float()))\n",
    "        x = F.relu(self.fc2(x))\n",
    "        return self.fc3(x)"
   ]
  },
  {
   "cell_type": "code",
   "execution_count": 30,
   "metadata": {},
   "outputs": [],
   "source": [
    "# Cria o modelo\n",
    "modelo = BagOfWordsClassifier(len(dados_frases.token2idx), 128, 64)"
   ]
  },
  {
   "cell_type": "code",
   "execution_count": 31,
   "metadata": {},
   "outputs": [
    {
     "data": {
      "text/plain": [
       "BagOfWordsClassifier(\n",
       "  (fc1): Linear(in_features=320, out_features=128, bias=True)\n",
       "  (fc2): Linear(in_features=128, out_features=64, bias=True)\n",
       "  (fc3): Linear(in_features=64, out_features=1, bias=True)\n",
       ")"
      ]
     },
     "execution_count": 31,
     "metadata": {},
     "output_type": "execute_result"
    }
   ],
   "source": [
    "# Visualiza\n",
    "modelo"
   ]
  },
  {
   "cell_type": "markdown",
   "metadata": {},
   "source": [
    "Para a função de perda (loss) usaremos Binary Cross Entropy."
   ]
  },
  {
   "cell_type": "code",
   "execution_count": 32,
   "metadata": {},
   "outputs": [],
   "source": [
    "# Define a função de perda\n",
    "criterion = nn.BCEWithLogitsLoss()"
   ]
  },
  {
   "cell_type": "markdown",
   "metadata": {},
   "source": [
    "Para o otimizador usaremos o algoritmo ADAM."
   ]
  },
  {
   "cell_type": "code",
   "execution_count": 33,
   "metadata": {},
   "outputs": [],
   "source": [
    "# Adam dinamicamente altera a taxa de aprendizagem\n",
    "optimizer = optim.Adam([p for p in modelo.parameters() if p.requires_grad], lr = 0.001)"
   ]
  },
  {
   "cell_type": "markdown",
   "metadata": {},
   "source": [
    "Agora treinamos o modelo."
   ]
  },
  {
   "cell_type": "code",
   "execution_count": 34,
   "metadata": {},
   "outputs": [
    {
     "data": {
      "application/vnd.jupyter.widget-view+json": {
       "model_id": "",
       "version_major": 2,
       "version_minor": 0
      },
      "text/plain": [
       "HBox(children=(FloatProgress(value=0.0, max=1.0), HTML(value='')))"
      ]
     },
     "metadata": {},
     "output_type": "display_data"
    },
    {
     "name": "stdout",
     "output_type": "stream",
     "text": [
      "Epoch #1\tErro em Treinamento: 0.693\n"
     ]
    },
    {
     "data": {
      "application/vnd.jupyter.widget-view+json": {
       "model_id": "",
       "version_major": 2,
       "version_minor": 0
      },
      "text/plain": [
       "HBox(children=(FloatProgress(value=0.0, max=1.0), HTML(value='')))"
      ]
     },
     "metadata": {},
     "output_type": "display_data"
    },
    {
     "name": "stdout",
     "output_type": "stream",
     "text": [
      "Epoch #2\tErro em Treinamento: 0.691\n"
     ]
    },
    {
     "data": {
      "application/vnd.jupyter.widget-view+json": {
       "model_id": "",
       "version_major": 2,
       "version_minor": 0
      },
      "text/plain": [
       "HBox(children=(FloatProgress(value=0.0, max=1.0), HTML(value='')))"
      ]
     },
     "metadata": {},
     "output_type": "display_data"
    },
    {
     "name": "stdout",
     "output_type": "stream",
     "text": [
      "Epoch #3\tErro em Treinamento: 0.690\n"
     ]
    },
    {
     "data": {
      "application/vnd.jupyter.widget-view+json": {
       "model_id": "",
       "version_major": 2,
       "version_minor": 0
      },
      "text/plain": [
       "HBox(children=(FloatProgress(value=0.0, max=1.0), HTML(value='')))"
      ]
     },
     "metadata": {},
     "output_type": "display_data"
    },
    {
     "name": "stdout",
     "output_type": "stream",
     "text": [
      "Epoch #4\tErro em Treinamento: 0.689\n"
     ]
    },
    {
     "data": {
      "application/vnd.jupyter.widget-view+json": {
       "model_id": "",
       "version_major": 2,
       "version_minor": 0
      },
      "text/plain": [
       "HBox(children=(FloatProgress(value=0.0, max=1.0), HTML(value='')))"
      ]
     },
     "metadata": {},
     "output_type": "display_data"
    },
    {
     "name": "stdout",
     "output_type": "stream",
     "text": [
      "Epoch #5\tErro em Treinamento: 0.687\n"
     ]
    },
    {
     "data": {
      "application/vnd.jupyter.widget-view+json": {
       "model_id": "",
       "version_major": 2,
       "version_minor": 0
      },
      "text/plain": [
       "HBox(children=(FloatProgress(value=0.0, max=1.0), HTML(value='')))"
      ]
     },
     "metadata": {},
     "output_type": "display_data"
    },
    {
     "name": "stdout",
     "output_type": "stream",
     "text": [
      "Epoch #6\tErro em Treinamento: 0.685\n"
     ]
    },
    {
     "data": {
      "application/vnd.jupyter.widget-view+json": {
       "model_id": "",
       "version_major": 2,
       "version_minor": 0
      },
      "text/plain": [
       "HBox(children=(FloatProgress(value=0.0, max=1.0), HTML(value='')))"
      ]
     },
     "metadata": {},
     "output_type": "display_data"
    },
    {
     "name": "stdout",
     "output_type": "stream",
     "text": [
      "Epoch #7\tErro em Treinamento: 0.684\n"
     ]
    },
    {
     "data": {
      "application/vnd.jupyter.widget-view+json": {
       "model_id": "",
       "version_major": 2,
       "version_minor": 0
      },
      "text/plain": [
       "HBox(children=(FloatProgress(value=0.0, max=1.0), HTML(value='')))"
      ]
     },
     "metadata": {},
     "output_type": "display_data"
    },
    {
     "name": "stdout",
     "output_type": "stream",
     "text": [
      "Epoch #8\tErro em Treinamento: 0.681\n"
     ]
    },
    {
     "data": {
      "application/vnd.jupyter.widget-view+json": {
       "model_id": "",
       "version_major": 2,
       "version_minor": 0
      },
      "text/plain": [
       "HBox(children=(FloatProgress(value=0.0, max=1.0), HTML(value='')))"
      ]
     },
     "metadata": {},
     "output_type": "display_data"
    },
    {
     "name": "stdout",
     "output_type": "stream",
     "text": [
      "Epoch #9\tErro em Treinamento: 0.679\n"
     ]
    },
    {
     "data": {
      "application/vnd.jupyter.widget-view+json": {
       "model_id": "",
       "version_major": 2,
       "version_minor": 0
      },
      "text/plain": [
       "HBox(children=(FloatProgress(value=0.0, max=1.0), HTML(value='')))"
      ]
     },
     "metadata": {},
     "output_type": "display_data"
    },
    {
     "name": "stdout",
     "output_type": "stream",
     "text": [
      "Epoch #10\tErro em Treinamento: 0.676\n"
     ]
    },
    {
     "data": {
      "application/vnd.jupyter.widget-view+json": {
       "model_id": "",
       "version_major": 2,
       "version_minor": 0
      },
      "text/plain": [
       "HBox(children=(FloatProgress(value=0.0, max=1.0), HTML(value='')))"
      ]
     },
     "metadata": {},
     "output_type": "display_data"
    },
    {
     "name": "stdout",
     "output_type": "stream",
     "text": [
      "Epoch #11\tErro em Treinamento: 0.673\n"
     ]
    },
    {
     "data": {
      "application/vnd.jupyter.widget-view+json": {
       "model_id": "",
       "version_major": 2,
       "version_minor": 0
      },
      "text/plain": [
       "HBox(children=(FloatProgress(value=0.0, max=1.0), HTML(value='')))"
      ]
     },
     "metadata": {},
     "output_type": "display_data"
    },
    {
     "name": "stdout",
     "output_type": "stream",
     "text": [
      "Epoch #12\tErro em Treinamento: 0.670\n"
     ]
    }
   ],
   "source": [
    "# Treinamento\n",
    "\n",
    "# Instância de treinamento do modelo\n",
    "modelo.train()\n",
    "\n",
    "# Lista para armazenar os erros a cada passada de treinamento\n",
    "train_losses = []\n",
    "\n",
    "# Número de épocas\n",
    "epochs = 12\n",
    "\n",
    "# Loop de treinamento\n",
    "for epoch in range(epochs): \n",
    "    \n",
    "    # Barra de progresso\n",
    "    progress_bar = tqdm_notebook(train_loader, leave = False)\n",
    "    \n",
    "    # Listas de controle\n",
    "    losses = []\n",
    "    total = 0\n",
    "    \n",
    "    # Loop\n",
    "    for inputs, target in progress_bar:\n",
    "        \n",
    "        # Modelo\n",
    "        modelo.zero_grad()\n",
    "\n",
    "        # Saída (previsão do modelo)\n",
    "        output = modelo(inputs)\n",
    "        \n",
    "        # Cálculo do erro\n",
    "        loss = criterion(output.squeeze(), target.float())\n",
    "        \n",
    "        # Instância do Backpropagation\n",
    "        loss.backward()\n",
    "        \n",
    "        # Prepara atualização dos parâmetros (coeficientes)    \n",
    "        nn.utils.clip_grad_norm_(modelo.parameters(), 3)\n",
    "\n",
    "        # Executa o otimizador\n",
    "        optimizer.step()\n",
    "        \n",
    "        # Atualiza a barra de progresso\n",
    "        progress_bar.set_description(f'\\nErro do Modelo: {loss.item():.3f}')\n",
    "        \n",
    "        # Erros e total\n",
    "        losses.append(loss.item())\n",
    "        total += 1\n",
    "    \n",
    "    # Erro da epoch\n",
    "    epoch_loss = sum(losses) / total\n",
    "    \n",
    "    # Erro de treinamento\n",
    "    train_losses.append(epoch_loss)\n",
    "        \n",
    "    tqdm.write(f'Epoch #{epoch + 1}\\tErro em Treinamento: {epoch_loss:.3f}')"
   ]
  },
  {
   "cell_type": "markdown",
   "metadata": {},
   "source": [
    "## Previsões de Sentimentos"
   ]
  },
  {
   "cell_type": "code",
   "execution_count": 35,
   "metadata": {},
   "outputs": [],
   "source": [
    "# Função para prever o sentimento\n",
    "def predict_sentiment(text):\n",
    "    \n",
    "    # Carrega o modelo\n",
    "    modelo.eval()\n",
    "    \n",
    "    # Extrai as previsões do modelo\n",
    "    with torch.no_grad():\n",
    "        \n",
    "        # Texto recebido como parâmetro convertido para vetor\n",
    "        test_vector = torch.LongTensor(dados_frases.vectorizer.transform([text]).toarray())\n",
    "\n",
    "        # Previsão\n",
    "        output = modelo(test_vector)\n",
    "        \n",
    "        # Gera a previsão final como probabilidade\n",
    "        prediction = torch.sigmoid(output).item()\n",
    "\n",
    "        # Checa a probabilidade com limite de 0.5\n",
    "        if prediction >= 0.5:\n",
    "            print(f'{prediction:0.3}: Sentimento Positivo')\n",
    "        else:\n",
    "            print(f'{prediction:0.3}: Sentimento Negativo')"
   ]
  },
  {
   "cell_type": "markdown",
   "metadata": {},
   "source": [
    "Primeiro calculamos o valor sigmóide (entre 0 e 1) para a previsão.\n",
    "\n",
    "Se for maior ou igual que 0,5 classificamos como sentimento Positivo e se for menor que 0.5 classificamos como sentimento Negativo. \n",
    "\n",
    "Vamos testar o classificador de sentimentos."
   ]
  },
  {
   "cell_type": "code",
   "execution_count": 36,
   "metadata": {},
   "outputs": [
    {
     "name": "stdout",
     "output_type": "stream",
     "text": [
      "0.554: Sentimento Positivo\n"
     ]
    }
   ],
   "source": [
    "# Texto de avaliação de filme\n",
    "test_text = \"\"\"\n",
    "This poor excuse for a movie is terrible. It has been 'so good it's bad' for a\n",
    "while, and the high ratings are a good form of sarcasm, I have to admit. But\n",
    "now it has to stop. Technically inept, spoon-feeding mundane messages with the\n",
    "artistic weight of an eighties' commercial, hypocritical to say the least, it\n",
    "deserves to fall into oblivion. Mr. Derek, I hope you realize you are like that\n",
    "weird friend that everybody know is lame, but out of kindness and Christian\n",
    "duty is treated like he's cool or something. That works if you are a good\n",
    "decent human being, not if you are a horrible arrogant bully like you are. Yes,\n",
    "Mr. 'Daddy' Derek will end on the history books of the internet for being a\n",
    "delusional sour old man who thinks to be a good example for kids, but actually\n",
    "has a poster of Kim Jong-Un in his closet. Destroy this movie if you all have a\n",
    "conscience, as I hope IHE and all other youtube channel force-closed by Derek\n",
    "out of SPITE would destroy him in the courts.This poor excuse for a movie is\n",
    "terrible. It has been 'so good it's bad' for a while, and the high ratings are\n",
    "a good form of sarcasm, I have to admit. But now it has to stop. Technically\n",
    "inept, spoon-feeding mundane messages with the artistic weight of an eighties'\n",
    "commercial, hypocritical to say the least, it deserves to fall into oblivion.\n",
    "Mr. Derek, I hope you realize you are like that weird friend that everybody\n",
    "know is lame, but out of kindness and Christian duty is treated like he's cool\n",
    "or something. That works if you are a good decent human being, not if you are a\n",
    "horrible arrogant bully like you are. Yes, Mr. 'Daddy' Derek will end on the\n",
    "history books of the internet for being a delusional sour old man who thinks to\n",
    "be a good example for kids, but actually has a poster of Kim Jong-Un in his\n",
    "closet. Destroy this movie if you all have a conscience, as I hope IHE and all\n",
    "other youtube channel force-closed by Derek out of SPITE would destroy him in\n",
    "the courts.\n",
    "\"\"\"\n",
    "\n",
    "# Previsão\n",
    "predict_sentiment(test_text)"
   ]
  },
  {
   "cell_type": "code",
   "execution_count": 37,
   "metadata": {},
   "outputs": [
    {
     "name": "stdout",
     "output_type": "stream",
     "text": [
      "0.703: Sentimento Positivo\n"
     ]
    }
   ],
   "source": [
    "# Texto de avaliação de filme\n",
    "test_text = \"\"\"\n",
    "Cool Cat Saves The Kids is a symbolic masterpiece directed by Derek Savage that\n",
    "is not only satirical in the way it makes fun of the media and politics, but in\n",
    "the way in questions as how we humans live life and how society tells us to\n",
    "live life.\n",
    "\n",
    "Before I get into those details, I wanna talk about the special effects in this\n",
    "film. They are ASTONISHING, and it shocks me that Cool Cat Saves The Kids got\n",
    "snubbed by the Oscars for Best Special Effects. This film makes 2001 look like\n",
    "garbage, and the directing in this film makes Stanley Kubrick look like the\n",
    "worst director ever. You know what other film did that? Birdemic: Shock and\n",
    "Terror. Both of these films are masterpieces, but if I had to choose my\n",
    "favorite out of the 2, I would have to go with Cool Cat Saves The Kids. It is\n",
    "now my 10th favorite film of all time.\n",
    "\n",
    "Now, lets get into the symbolism: So you might be asking yourself, Why is Cool\n",
    "Cat Orange? Well, I can easily explain. Orange is a color. Orange is also a\n",
    "fruit, and its a very good fruit. You know what else is good? Good behavior.\n",
    "What behavior does Cool Cat have? He has good behavior. This cannot be a\n",
    "coincidence, since cool cat has good behavior in the film.\n",
    "\n",
    "Now, why is Butch The Bully fat? Well, fat means your wide. You wanna know who\n",
    "was wide? Hitler. Nuff said this cannot be a coincidence.\n",
    "\n",
    "Why does Erik Estrada suspect Butch The Bully to be a bully? Well look at it\n",
    "this way. What color of a shirt was Butchy wearing when he walks into the area?\n",
    "I don't know, its looks like dark purple/dark blue. Why rhymes with dark? Mark.\n",
    "Mark is that guy from the Room. The Room is the best movie of all time. What is\n",
    "the opposite of best? Worst. This is how Erik knew Butch was a bully.\n",
    "\n",
    "and finally, how come Vivica A. Fox isn't having a successful career after\n",
    "making Kill Bill.\n",
    "\n",
    "I actually can't answer that question.\n",
    "\n",
    "Well thanks for reading my review.\n",
    "\"\"\"\n",
    "\n",
    "# Previsão\n",
    "predict_sentiment(test_text)"
   ]
  },
  {
   "cell_type": "code",
   "execution_count": 38,
   "metadata": {},
   "outputs": [
    {
     "name": "stdout",
     "output_type": "stream",
     "text": [
      "0.447: Sentimento Negativo\n"
     ]
    }
   ],
   "source": [
    "# Texto de avaliação de filme\n",
    "test_text = \"\"\"\n",
    "What the heck is this ? There is not one redeeming quality about this terrible\n",
    "and very poorly done \"movie\". I can't even say that it's a \"so bad it's good\n",
    "movie\".It is undeniably pointless to address all the things wrong here but\n",
    "unfortunately even the \"life lessons\" about bullies and stuff like this are so\n",
    "wrong and terrible that no kid should hear them.The costume is also horrible\n",
    "and the acting...just unbelievable.No effort whatsoever was put into this thing\n",
    "and it clearly shows,I have no idea what were they thinking or who was it even\n",
    "meant for. I feel violated after watching this trash and I deeply recommend you\n",
    "stay as far away as possible.This is certainly one of the worst pieces of c***\n",
    "I have ever seen.\n",
    "\"\"\"\n",
    "\n",
    "# Previsão\n",
    "predict_sentiment(test_text)"
   ]
  },
  {
   "cell_type": "code",
   "execution_count": 39,
   "metadata": {},
   "outputs": [
    {
     "name": "stdout",
     "output_type": "stream",
     "text": [
      "0.621: Sentimento Positivo\n"
     ]
    }
   ],
   "source": [
    "# Texto de avaliação de filme\n",
    "test_text = \"\"\"\n",
    "Don't let any bullies out there try and shape your judgment on this gem of a\n",
    "title.\n",
    "\n",
    "Some people really don't have anything better to do, except trash a great movie\n",
    "with annoying 1-star votes and spread lies on the Internet about how \"dumb\"\n",
    "Cool Cat is.\n",
    "\n",
    "I wouldn't be surprised to learn if much of the unwarranted negativity hurled\n",
    "at this movie is coming from people who haven't even watched this movie for\n",
    "themselves in the first place. Those people are no worse than the Butch the\n",
    "Bully, the film's repulsive antagonist.\n",
    "\n",
    "As it just so happens, one of the main points of \"Cool Cat Saves the Kids\" is\n",
    "in addressing the attitudes of mean naysayers who try to demean others who\n",
    "strive to bring good attitudes and fun vibes into people's lives. The message\n",
    "to be learned here is that if one is friendly and good to others, the world is\n",
    "friendly and good to one in return, and that is cool. Conversely, if one is\n",
    "miserable and leaving 1-star votes on IMDb, one is alone and doesn't have any\n",
    "friends at all. Ain't that the truth?\n",
    "\n",
    "The world has uncovered a great, new, young filmmaking talent in \"Cool Cat\"\n",
    "creator Derek Savage, and I sure hope that this is only the first of many\n",
    "amazing films and stories that the world has yet to appreciate.\n",
    "\n",
    "If you are a cool person who likes to have lots of fun, I guarantee that this\n",
    "is a movie with charm that will uplift your spirits and reaffirm your positive\n",
    "attitudes towards life.\n",
    "\"\"\"\n",
    "\n",
    "# Previsão\n",
    "predict_sentiment(test_text)"
   ]
  },
  {
   "cell_type": "markdown",
   "metadata": {},
   "source": [
    "# Fim"
   ]
  }
 ],
 "metadata": {
  "kernelspec": {
   "display_name": "Python 3",
   "language": "python",
   "name": "python3"
  },
  "language_info": {
   "codemirror_mode": {
    "name": "ipython",
    "version": 3
   },
   "file_extension": ".py",
   "mimetype": "text/x-python",
   "name": "python",
   "nbconvert_exporter": "python",
   "pygments_lexer": "ipython3",
   "version": "3.7.6"
  }
 },
 "nbformat": 4,
 "nbformat_minor": 2
}
