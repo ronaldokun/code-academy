{
 "cells": [
  {
   "cell_type": "markdown",
   "metadata": {},
   "source": [
    "# <font color='blue'>Data Science Academy</font>\n",
    "# <font color='blue'>Deep Learning I</font>"
   ]
  },
  {
   "cell_type": "markdown",
   "metadata": {},
   "source": [
    "# Toolkit - Funções de Visualização"
   ]
  },
  {
   "cell_type": "markdown",
   "metadata": {},
   "source": [
    "## Classificação Binária, Classificação Multiclasse e Regressão\n",
    "\n",
    "* **Classificação Binária** - Classificação entre duas possibilidades (positiva e negativa). Comum em testes médicos: a pessoa tem a doença (positiva) ou não (negativa).\n",
    "* **Classificação Multiclasse** - Classificação entre mais de 2 classes. Como exemplo, o conjunto de dados da íris (classificação de 3 espécies de flores).\n",
    "* **Regressão** - Previsão numérica. Como exemplos as previsões de MPG de um automóvel.\n",
    "\n",
    "Neste Jupyter Notebook, veremos algumas visualizações para os três tipos de aprendizagens acima."
   ]
  },
  {
   "cell_type": "markdown",
   "metadata": {},
   "source": [
    "## Funções Auxiliares\n",
    "\n",
    "É uma boa prática criar suas próprias funções de limpeza e transformação dos dados que serão processados pelo modelo de rede neural. Use esses exemplos como referência."
   ]
  },
  {
   "cell_type": "code",
   "execution_count": 1,
   "metadata": {},
   "outputs": [],
   "source": [
    "# Para atualizar um pacote, execute o comando abaixo no terminal ou prompt de comando:\n",
    "# pip install -U nome_pacote\n",
    "\n",
    "# Para instalar a versão exata de um pacote, execute o comando abaixo no terminal ou prompt de comando:\n",
    "# pip install nome_pacote==versão_desejada\n",
    "\n",
    "# Depois de instalar ou atualizar o pacote, reinicie o jupyter notebook."
   ]
  },
  {
   "cell_type": "code",
   "execution_count": 2,
   "metadata": {},
   "outputs": [],
   "source": [
    "# Instala o pacote watermark. \n",
    "# Esse pacote é usado para gravar as versões de outros pacotes usados neste jupyter notebook.\n",
    "!pip install -q -U watermark"
   ]
  },
  {
   "cell_type": "code",
   "execution_count": 3,
   "metadata": {},
   "outputs": [
    {
     "name": "stderr",
     "output_type": "stream",
     "text": [
      "Using TensorFlow backend.\n"
     ]
    }
   ],
   "source": [
    "# Imports\n",
    "import tensorflow as tf\n",
    "import numpy as np\n",
    "import pandas as pd\n",
    "import keras\n",
    "import sklearn\n",
    "import matplotlib"
   ]
  },
  {
   "cell_type": "code",
   "execution_count": 4,
   "metadata": {},
   "outputs": [
    {
     "name": "stdout",
     "output_type": "stream",
     "text": [
      "tensorflow 2.1.0\n",
      "sklearn    0.22.2\n",
      "numpy      1.18.2\n",
      "keras      2.3.1\n",
      "pandas     1.0.3\n",
      "matplotlib 3.2.1\n",
      "Data Science Academy\n"
     ]
    }
   ],
   "source": [
    "# Versões dos pacotes usados neste jupyter notebook\n",
    "%reload_ext watermark\n",
    "%watermark -a \"Data Science Academy\" --iversions"
   ]
  },
  {
   "cell_type": "code",
   "execution_count": 5,
   "metadata": {},
   "outputs": [],
   "source": [
    "# Imports\n",
    "from sklearn import preprocessing\n",
    "import matplotlib.pyplot as plt\n",
    "import numpy as np\n",
    "import pandas as pd\n",
    "import shutil\n",
    "import os\n",
    "\n",
    "# Encoding dos valores de texto para variáveis nominais\n",
    "def encode_text_dummy(df, name):\n",
    "    dummies = pd.get_dummies(df[name])\n",
    "    for x in dummies.columns:\n",
    "        dummy_name = \"{}-{}\".format(name, x)\n",
    "        df[dummy_name] = dummies[x]\n",
    "    df.drop(name, axis=1, inplace=True)\n",
    "\n",
    "\n",
    "# Encoding dos valores de texto para uma única variável dummy. As novas colunas (que não substituem o antigo) terão 1\n",
    "# em todos os locais onde a coluna original (nome) corresponde a cada um dos valores-alvo. Uma coluna é adicionada para\n",
    "# cada valor alvo.\n",
    "def encode_text_single_dummy(df, name, target_values):\n",
    "    for tv in target_values:\n",
    "        l = list(df[name].astype(str))\n",
    "        l = [1 if str(x) == str(tv) else 0 for x in l]\n",
    "        name2 = \"{}-{}\".format(name, tv)\n",
    "        df[name2] = l\n",
    "\n",
    "\n",
    "# Encoding dos valores de texto para índices (ou seja, [1], [2], [3] para vermelho, verde, azul por exemplo).\n",
    "def encode_text_index(df, name):\n",
    "    le = preprocessing.LabelEncoder()\n",
    "    df[name] = le.fit_transform(df[name])\n",
    "    return le.classes_\n",
    "\n",
    "\n",
    "# Normalização Z-score\n",
    "def encode_numeric_zscore(df, name, mean=None, sd=None):\n",
    "    if mean is None:\n",
    "        mean = df[name].mean()\n",
    "\n",
    "    if sd is None:\n",
    "        sd = df[name].std()\n",
    "\n",
    "    df[name] = (df[name] - mean) / sd\n",
    "\n",
    "\n",
    "# Converte todos os valores faltantes na coluna especificada para a mediana\n",
    "def missing_median(df, name):\n",
    "    med = df[name].median()\n",
    "    df[name] = df[name].fillna(med)\n",
    "\n",
    "\n",
    "# Converte todos os valores faltantes na coluna especificada para o padrão\n",
    "def missing_default(df, name, default_value):\n",
    "    df[name] = df[name].fillna(default_value)\n",
    "\n",
    "\n",
    "# Converte um dataframe Pandas para as entradas x, y que o TensorFlow precisa\n",
    "def to_xy(df, target):\n",
    "    result = []\n",
    "    for x in df.columns:\n",
    "        if x != target:\n",
    "            result.append(x)\n",
    "    # Descobre o tipo da coluna de destino. \n",
    "    target_type = df[target].dtypes\n",
    "    target_type = target_type[0] if hasattr(target_type, '__iter__') else target_type\n",
    "    # Encoding para int. TensorFlow gosta de 32 bits.\n",
    "    if target_type in (np.int64, np.int32):\n",
    "        # Classificação\n",
    "        dummies = pd.get_dummies(df[target])\n",
    "        return df.values.astype('float32'), dummies.values.astype('float32')\n",
    "    else:\n",
    "        # Regressão\n",
    "        return df.values.astype('float32'), df[target].astype('float32')\n",
    "\n",
    "# String de tempo bem formatado\n",
    "def hms_string(sec_elapsed):\n",
    "    h = int(sec_elapsed / (60 * 60))\n",
    "    m = int((sec_elapsed % (60 * 60)) / 60)\n",
    "    s = sec_elapsed % 60\n",
    "    return \"{}:{:>02}:{:>05.2f}\".format(h, m, s)\n",
    "\n",
    "\n",
    "# Chart de Regressão\n",
    "def chart_regression(pred,y,sort=True):\n",
    "    t = pd.DataFrame({'pred' : pred, 'y' : y})\n",
    "    if sort:\n",
    "        t.sort_values(by=['y'],inplace=True)\n",
    "    a = plt.plot(t['y'].tolist(),label='Valor Real')\n",
    "    b = plt.plot(t['pred'].tolist(),label='Valor Previsto')\n",
    "    plt.ylabel('output')\n",
    "    plt.legend()\n",
    "    plt.show()\n",
    "\n",
    "# Remove todas as linhas onde a coluna especificada em +/- desvios padrão\n",
    "def remove_outliers(df, name, sd):\n",
    "    drop_rows = df.index[(np.abs(df[name] - df[name].mean()) >= (sd * df[name].std()))]\n",
    "    df.drop(drop_rows, axis=0, inplace=True)\n",
    "\n",
    "\n",
    "# Normalização Range\n",
    "def encode_numeric_range(df, name, normalized_low=-1, normalized_high=1, data_low=None, data_high=None):\n",
    "    if data_low is None:\n",
    "        data_low = min(df[name])\n",
    "        data_high = max(df[name])\n",
    "\n",
    "    df[name] = ((df[name] - data_low) / (data_high - data_low)) * (normalized_high - normalized_low) + normalized_low"
   ]
  },
  {
   "cell_type": "markdown",
   "metadata": {},
   "source": [
    "## Funções de Visualização\n",
    "\n",
    "Existem 3 tipos diferentes de visualizações que podem ser usadas para avaliar o resultado de modelos de redes neurais para classificação e regressão:\n",
    "\n",
    "* **Confusion Matrix** - Para qualquer tipo de rede neural de classificação.\n",
    "* **ROC Curve** - Para a classificação binária.\n",
    "* **Lift Curve** - Para redes neurais de regressão.\n",
    "\n",
    "O código usado para produzir essas visualizações é mostrado abaixo."
   ]
  },
  {
   "cell_type": "code",
   "execution_count": 6,
   "metadata": {},
   "outputs": [],
   "source": [
    "%matplotlib inline\n",
    "import matplotlib.pyplot as plt\n",
    "from sklearn.metrics import roc_curve, auc\n",
    "\n",
    "# Plot de uma Confusion Matrix\n",
    "# Cm é a matriz de confusão, os nomes são os nomes das classes\n",
    "def plot_confusion_matrix(cm, names, title='Confusion matrix', cmap=plt.cm.Blues):\n",
    "    plt.imshow(cm, interpolation='nearest', cmap=cmap)\n",
    "    plt.title(title)\n",
    "    plt.colorbar()\n",
    "    tick_marks = np.arange(len(names))\n",
    "    plt.xticks(tick_marks, names, rotation=45)\n",
    "    plt.yticks(tick_marks, names)\n",
    "    plt.tight_layout()\n",
    "    plt.ylabel('Label Observado')\n",
    "    plt.xlabel('Label Previsto')\n",
    "    \n",
    "\n",
    "# Plot de uma ROC. pred (previsões), y (valor observado)\n",
    "def plot_roc(pred,y):\n",
    "    fpr, tpr, _ = roc_curve(y, pred)\n",
    "    roc_auc = auc(fpr, tpr)\n",
    "\n",
    "    plt.figure()\n",
    "    plt.plot(fpr, tpr, label = 'Curva ROC (area = %0.2f)' % roc_auc)\n",
    "    plt.plot([0, 1], [0, 1], 'k--')\n",
    "    plt.xlim([0.0, 1.0])\n",
    "    plt.ylim([0.0, 1.05])\n",
    "    plt.xlabel('Taxa de Falso Positivo')\n",
    "    plt.ylabel('Taxa de Verdadeiro Positivo')\n",
    "    plt.title('Receiver Operating Characteristic (ROC)')\n",
    "    plt.legend(loc=\"lower right\")\n",
    "    plt.show()"
   ]
  },
  {
   "cell_type": "markdown",
   "metadata": {},
   "source": [
    "# Classificação Binária\n",
    "\n",
    "\n",
    "A classificação binária é usada para criar um modelo que classifica entre apenas duas classes. Essas duas classes geralmente são chamadas de \"positivo\" e \"negativo\". Considere o seguinte programa que usa o conjunto de dados wcbreast_wdbc para classificar se um tumor de mama é cancerígeno (maligno) ou não (benigno). O conjunto de dados íris não é binário, porque existem três classes (3 tipos de íris)."
   ]
  },
  {
   "cell_type": "code",
   "execution_count": 7,
   "metadata": {},
   "outputs": [
    {
     "name": "stdout",
     "output_type": "stream",
     "text": [
      "Epoch 00087: early stopping\n",
      "Acurácia Final: 0.972027972027972\n"
     ]
    }
   ],
   "source": [
    "# Imports\n",
    "import os\n",
    "import pandas as pd\n",
    "from sklearn.model_selection import train_test_split\n",
    "import tensorflow as tf\n",
    "import numpy as np\n",
    "from sklearn import metrics\n",
    "from keras.models import Sequential\n",
    "from keras.layers.core import Dense, Activation\n",
    "from keras.callbacks import EarlyStopping\n",
    "\n",
    "# Definimos o nível de saída TensorFlow desejado para este exemplo\n",
    "tf.compat.v1.logging.set_verbosity(tf.compat.v1.logging.ERROR)\n",
    "\n",
    "# Path\n",
    "path = \"./data/\"\n",
    "    \n",
    "# Arquivo\n",
    "filename = os.path.join(path, \"wcbreast_wdbc.csv\")    \n",
    "df = pd.read_csv(filename,na_values=['NA','?'])\n",
    "\n",
    "# Encode feature vector\n",
    "df.drop('id',axis=1,inplace=True)\n",
    "diagnosis = encode_text_index(df,'diagnosis')\n",
    "num_classes = len(diagnosis)\n",
    "\n",
    "# Criando x e y para o treinamento\n",
    "x, y = to_xy(df,'diagnosis')\n",
    "    \n",
    "# Split em treino/teste\n",
    "x_train, x_test, y_train, y_test = train_test_split(x, y, test_size=0.25, random_state=42) \n",
    "\n",
    "# Rede Neural\n",
    "model = Sequential()\n",
    "model.add(Dense(10, input_dim=x.shape[1], kernel_initializer='normal', activation='relu'))\n",
    "model.add(Dense(1, kernel_initializer='normal'))\n",
    "model.add(Dense(y.shape[1],activation='softmax'))\n",
    "model.compile(loss='categorical_crossentropy', optimizer='adam')\n",
    "monitor = EarlyStopping(monitor='val_loss', min_delta=1e-3, patience=5, verbose=1, mode='auto')\n",
    "model.fit(x,y,validation_data=(x_test,y_test),callbacks=[monitor],verbose=0,epochs=1000)\n",
    "\n",
    "# Medindo a Acurácia\n",
    "pred = model.predict(x_test)\n",
    "pred = np.argmax(pred,axis=1)\n",
    "y_compare = np.argmax(y_test,axis=1)\n",
    "score = metrics.accuracy_score(y_compare, pred)\n",
    "print(\"Acurácia Final: {}\".format(score))"
   ]
  },
  {
   "cell_type": "markdown",
   "metadata": {},
   "source": [
    "### Confusion Matrix\n",
    "\n",
    "A matriz de confusão é uma visualização comum para problemas de classificação. Muitas vezes, um modelo terá dificuldade em diferenciar entre duas classes. Por exemplo, uma rede neural pode ser realmente boa em dizer a diferença entre gatos e cachorros, mas não tão boa em dizer a diferença entre cães e lobos. O código a seguir gera uma matriz de confusão:"
   ]
  },
  {
   "cell_type": "code",
   "execution_count": 8,
   "metadata": {},
   "outputs": [
    {
     "name": "stdout",
     "output_type": "stream",
     "text": [
      "Confusion Matrix Sem Normalização\n",
      "[[89  0]\n",
      " [ 4 50]]\n",
      "Confusion Matrix Normalizada\n",
      "[[1.   0.  ]\n",
      " [0.07 0.93]]\n"
     ]
    },
    {
     "data": {
      "image/png": "[encoded data removed]",
      "text/plain": [
       "<Figure size 432x288 with 2 Axes>"
      ]
     },
     "metadata": {
      "needs_background": "light"
     },
     "output_type": "display_data"
    },
    {
     "data": {
      "image/png": "[encoded data removed]",
      "text/plain": [
       "<Figure size 432x288 with 2 Axes>"
      ]
     },
     "metadata": {
      "needs_background": "light"
     },
     "output_type": "display_data"
    }
   ],
   "source": [
    "# Imports\n",
    "import numpy as np\n",
    "from sklearn import svm, datasets\n",
    "from sklearn.model_selection import train_test_split\n",
    "from sklearn.metrics import confusion_matrix\n",
    "\n",
    "# Confusion matrix\n",
    "cm = confusion_matrix(y_compare, pred)\n",
    "np.set_printoptions(precision=2)\n",
    "print('Confusion Matrix Sem Normalização')\n",
    "print(cm)\n",
    "plt.figure()\n",
    "plot_confusion_matrix(cm, diagnosis)\n",
    "\n",
    "# Normaliza a matriz de confusão por linha (ou seja, pelo número de amostras em cada classe)\n",
    "cm_normalized = cm.astype('float') / cm.sum(axis=1)[:, np.newaxis]\n",
    "print('Confusion Matrix Normalizada')\n",
    "print(cm_normalized)\n",
    "plt.figure()\n",
    "plot_confusion_matrix(cm_normalized, diagnosis, title='Confusion Matrix Normalizada')\n",
    "\n",
    "plt.show()"
   ]
  },
  {
   "cell_type": "markdown",
   "metadata": {},
   "source": [
    "As duas matrizes de confusão acima mostram a mesma rede. A parte inferior (normalizada) é o tipo que você verá normalmente. Observe os dois rótulos. O rótulo \"B\" significa benigno (sem câncer) e o rótulo \"M\" significa maligno (câncer). O eixo x são as previsões e o eixo y são os resultados esperados. Um modelo perfeito (que nunca cometeu um erro) possui uma diagonal azul escuro que corre da parte superior esquerda para a parte inferior direita.\n",
    "\n",
    "Para ler, considere o quadrado superior esquerdo. Este quadrado indica \"verdadeiro rotulado\" de B e também \"rótulo previsto\" de B. Isso é bom! A previsão corresponde à verdade. O azul desta caixa representa a frequência com que \"B\" é classificado corretamente. Não é azul escuro. Isso ocorre porque o quadrado à direita (que está fora da diagonal perfeita) tem alguma cor. Este quadrado indica a verdade de \"B\", mas a previsão de \"M\". O quadrado branco, na parte inferior esquerda, indica uma verdade de \"M\", mas previu de \"B\". A brancura indica que isso raramente acontece.\n",
    "\n",
    "Sua conclusão do gráfico acima é que o modelo às vezes classifica \"B\" como \"M\" (um falso negativo), mas nunca classifica \"M\" como \"B\". Procure sempre a diagonal escura, isso é bom!"
   ]
  },
  {
   "cell_type": "markdown",
   "metadata": {},
   "source": [
    "## Curva ROC \n",
    "\n",
    "As curvas ROC podem ser um pouco confusas. No entanto, eles são muito comuns. É importante saber como interpretá-las. O título Curva ROC vem de Engenharia Elétrica.\n",
    "\n",
    "A classificação binária é comum em testes médicos. Muitas vezes você quer diagnosticar se alguém tem uma doença. Isso pode levar a dois tipos de erros, conhecidos como falsos positivos e falsos negativos:\n",
    "\n",
    "* **False Positive** - Seu teste (rede neural) indicou que o paciente tinha a doença; No entanto, o paciente não teve a doença.\n",
    "* **False Negative** - Seu teste (rede neural) indicou que o paciente não teve a doença; No entanto, o paciente teve a doença.\n",
    "* **True Positive** - Seu teste (rede neural) identificou corretamente que o paciente tinha a doença.\n",
    "* **True Negative** - Seu teste (rede neural) identificou corretamente que o paciente não tinha a doença.\n",
    "\n",
    "Tipos de Erros:\n",
    "\n",
    "![Tipos de Erros](images/errors.png \"Tipos de Erros\")\n",
    "\n",
    "As redes neurais classificam em termos de probabilidade de ser positivo. No entanto, em que probabilidade você dá um resultado positivo? O limite é de 50%? 90%? Onde você define esse ponto de corte é chamado de limite. Qualquer coisa acima do ponto de corte é positiva, qualquer coisa abaixo é negativa. Definir esse ponto de corte permite que o modelo seja mais sensível ou específico:\n",
    "\n",
    "![Sensitivity vs. Specificity](images/t1vst2.png \"Sensitivity vs. Specificity\")\n",
    "\n",
    "O seguinte mostra um ponto de corte mais sensível:\n",
    "\n",
    "![Sensitive Cutoff ](images/spec_cut.png \"Sensitive Cutoff\")\n",
    "\n",
    "** Uma curva ROC mede o quão bom é um modelo, independentemente do ponto de corte. ** O seguinte mostra como ler um gráfico ROC:\n",
    "\n",
    "\n",
    "![Reading a ROC Chart](images/roc.png \"Reading a ROC Chart\")\n",
    "\n",
    "O código a seguir mostra uma Curva ROC para a rede neural de câncer de mama. A área sob a curva (AUC) também é uma medida importante. Quanto maior a AUC, melhor."
   ]
  },
  {
   "cell_type": "code",
   "execution_count": 9,
   "metadata": {},
   "outputs": [
    {
     "data": {
      "image/png": "[encoded data removed]",
      "text/plain": [
       "<Figure size 432x288 with 1 Axes>"
      ]
     },
     "metadata": {
      "needs_background": "light"
     },
     "output_type": "display_data"
    }
   ],
   "source": [
    "pred = model.predict(x_test)\n",
    "pred = pred[:,1] # Somente casos positivos\n",
    "plot_roc(pred,y_compare)"
   ]
  },
  {
   "cell_type": "markdown",
   "metadata": {},
   "source": [
    "## Classificação Multiclasse\n",
    "\n",
    "Já vimos a classificação multiclasse, com o conjunto de dados íris. As matrizes de confusão funcionam bem com 3 classes. O código a seguir gera uma matriz de confusão para a íris."
   ]
  },
  {
   "cell_type": "code",
   "execution_count": 10,
   "metadata": {},
   "outputs": [
    {
     "name": "stdout",
     "output_type": "stream",
     "text": [
      "Epoch 00361: early stopping\n"
     ]
    },
    {
     "data": {
      "text/plain": [
       "<keras.callbacks.callbacks.History at 0x7fec81145890>"
      ]
     },
     "execution_count": 10,
     "metadata": {},
     "output_type": "execute_result"
    }
   ],
   "source": [
    "# Imports\n",
    "import pandas as pd\n",
    "import io\n",
    "import requests\n",
    "import numpy as np\n",
    "import os\n",
    "from sklearn.model_selection import train_test_split\n",
    "from sklearn import metrics\n",
    "from keras.models import Sequential\n",
    "from keras.layers.core import Dense, Activation\n",
    "from keras.callbacks import EarlyStopping\n",
    "\n",
    "path = \"./data/\"\n",
    "    \n",
    "filename = os.path.join(path,\"iris.csv\")    \n",
    "df = pd.read_csv(filename,na_values=['NA','?'])\n",
    "\n",
    "species = encode_text_index(df,\"species\")\n",
    "x,y = to_xy(df,\"species\")\n",
    "\n",
    "# Split em treino/teste\n",
    "x_train, x_test, y_train, y_test = train_test_split(x, y, test_size=0.25, random_state=42)\n",
    "\n",
    "model = Sequential()\n",
    "model.add(Dense(10, input_dim=x.shape[1], kernel_initializer='normal', activation='relu'))\n",
    "model.add(Dense(1, kernel_initializer='normal'))\n",
    "model.add(Dense(y.shape[1],activation='softmax'))\n",
    "model.compile(loss='categorical_crossentropy', optimizer='adam')\n",
    "monitor = EarlyStopping(monitor='val_loss', min_delta=1e-3, patience=5, verbose=1, mode='auto')\n",
    "model.fit(x,y,validation_data=(x_test,y_test),callbacks=[monitor],verbose=0,epochs=1000)"
   ]
  },
  {
   "cell_type": "markdown",
   "metadata": {},
   "source": [
    "Agora vamos plotar o resultado e avaliá-lo!"
   ]
  },
  {
   "cell_type": "code",
   "execution_count": 11,
   "metadata": {},
   "outputs": [
    {
     "name": "stdout",
     "output_type": "stream",
     "text": [
      "Confusion Matrix Sem Normalização\n",
      "[[15  0  0]\n",
      " [ 0 11  0]\n",
      " [ 0  0 12]]\n",
      "Confusion Matrix Normalizada\n",
      "[[1. 0. 0.]\n",
      " [0. 1. 0.]\n",
      " [0. 0. 1.]]\n"
     ]
    },
    {
     "data": {
      "image/png": "[encoded data removed]",
      "text/plain": [
       "<Figure size 432x288 with 2 Axes>"
      ]
     },
     "metadata": {
      "needs_background": "light"
     },
     "output_type": "display_data"
    },
    {
     "data": {
      "image/png": "[encoded data removed]",
      "text/plain": [
       "<Figure size 432x288 with 2 Axes>"
      ]
     },
     "metadata": {
      "needs_background": "light"
     },
     "output_type": "display_data"
    }
   ],
   "source": [
    "# Imports\n",
    "import numpy as np\n",
    "\n",
    "from sklearn import svm, datasets\n",
    "from sklearn.metrics import confusion_matrix\n",
    "\n",
    "pred = model.predict(x_test)\n",
    "pred = np.argmax(pred,axis=1)\n",
    "y_test2 = np.argmax(y_test,axis=1)\n",
    "    \n",
    "# Confusion matrix\n",
    "cm = confusion_matrix(y_test2, pred)\n",
    "np.set_printoptions(precision=2)\n",
    "print('Confusion Matrix Sem Normalização')\n",
    "print(cm)\n",
    "plt.figure()\n",
    "plot_confusion_matrix(cm, species)\n",
    "\n",
    "# Normaliza a matriz de confusão por linha (ou seja, pelo número de amostras em cada classe)\n",
    "cm_normalized = cm.astype('float') / cm.sum(axis=1)[:, np.newaxis]\n",
    "print('Confusion Matrix Normalizada')\n",
    "print(cm_normalized)\n",
    "plt.figure()\n",
    "plot_confusion_matrix(cm_normalized, species, title='Confusion Matrix Normalizada')\n",
    "\n",
    "plt.show()"
   ]
  },
  {
   "cell_type": "markdown",
   "metadata": {},
   "source": [
    "Percebeu diagonal forte? Veja o azul claro perto do fundo. Às vezes, virginica é confundida como versicolor."
   ]
  },
  {
   "cell_type": "markdown",
   "metadata": {},
   "source": [
    "## Regressão\n",
    "\n",
    "Já vimos regressão com o conjunto de dados MPG. A regressão usa seu próprio conjunto de visualizações, uma das mais comuns é o gráfico de elevação (Lift Curve). O código a seguir gera um gráfico de elevação."
   ]
  },
  {
   "cell_type": "code",
   "execution_count": 12,
   "metadata": {},
   "outputs": [
    {
     "name": "stdout",
     "output_type": "stream",
     "text": [
      "Epoch 00227: early stopping\n",
      "Score (RMSE): 1.5575278997421265\n"
     ]
    },
    {
     "data": {
      "image/png": "[encoded data removed]",
      "text/plain": [
       "<Figure size 432x288 with 1 Axes>"
      ]
     },
     "metadata": {
      "needs_background": "light"
     },
     "output_type": "display_data"
    }
   ],
   "source": [
    "%matplotlib inline\n",
    "from matplotlib.pyplot import figure, show\n",
    "from sklearn.model_selection import train_test_split\n",
    "import pandas as pd\n",
    "import os\n",
    "import numpy as np\n",
    "from sklearn import metrics\n",
    "from scipy.stats import zscore\n",
    "import tensorflow as tf\n",
    "from keras.models import Sequential\n",
    "from keras.layers.core import Dense, Activation\n",
    "from keras.callbacks import EarlyStopping\n",
    "\n",
    "\n",
    "path = \"./data/\"\n",
    "preprocess = False\n",
    "\n",
    "filename_read = os.path.join(path,\"auto-mpg.csv\")\n",
    "df = pd.read_csv(filename_read,na_values=['NA','?'])\n",
    "\n",
    "# Vetor de features\n",
    "missing_median(df, 'horsepower')\n",
    "encode_text_dummy(df, 'origin')\n",
    "df.drop('name',1,inplace=True)\n",
    "\n",
    "# Normalização\n",
    "if preprocess:\n",
    "    encode_numeric_zscore(df, 'horsepower')\n",
    "    encode_numeric_zscore(df, 'weight')\n",
    "    encode_numeric_zscore(df, 'cylinders')\n",
    "    encode_numeric_zscore(df, 'displacement')\n",
    "    encode_numeric_zscore(df, 'acceleration')\n",
    "\n",
    "# Dados de treino\n",
    "x,y = to_xy(df,'mpg')\n",
    "\n",
    "# Split em treino/teste\n",
    "x_train, x_test, y_train, y_test = train_test_split(x, y, test_size=0.20, random_state=42)\n",
    "\n",
    "model = Sequential()\n",
    "model.add(Dense(10, input_dim=x.shape[1], kernel_initializer='normal', activation='relu'))\n",
    "model.add(Dense(1, kernel_initializer='normal'))\n",
    "model.compile(loss='mean_squared_error', optimizer='adam')\n",
    "monitor = EarlyStopping(monitor='val_loss', min_delta=1e-3, patience=5, verbose=1, mode='auto')\n",
    "model.fit(x,y,validation_data=(x_test,y_test),callbacks=[monitor],verbose=0,epochs=1000)\n",
    "\n",
    "# Previsões e RMSE\n",
    "pred = model.predict(x_test)\n",
    "score = np.sqrt(metrics.mean_squared_error(pred,y_test))\n",
    "print(\"Score (RMSE): {}\".format(score))\n",
    "\n",
    "# Plot \n",
    "chart_regression(pred.flatten(), y_test.values)"
   ]
  },
  {
   "cell_type": "markdown",
   "metadata": {},
   "source": [
    "Lendo um gráfico de elevação:\n",
    "\n",
    "* As linhas com valores esperados e previstos devem estar próximas. Observe onde uma está acima da outra.\n",
    "* O gráfico acima é mais preciso quando o MPG é mais baixo.\n",
    "* À medida que aumenta o valor de MPG, aumenta a diferença entre valores previstos e observados. Provavelmente temos que revisar nosso procedimento de normalização."
   ]
  },
  {
   "cell_type": "markdown",
   "metadata": {},
   "source": [
    "# Fim"
   ]
  }
 ],
 "metadata": {
  "anaconda-cloud": {},
  "kernelspec": {
   "display_name": "Python 3 (ipykernel)",
   "language": "python",
   "name": "python3"
  },
  "language_info": {
   "codemirror_mode": {
    "name": "ipython",
    "version": 3
   },
   "file_extension": ".py",
   "mimetype": "text/x-python",
   "name": "python",
   "nbconvert_exporter": "python",
   "pygments_lexer": "ipython3",
   "version": "3.9.13"
  }
 },
 "nbformat": 4,
 "nbformat_minor": 4
}
