{
 "cells": [
  {
   "cell_type": "markdown",
   "metadata": {},
   "source": [
    "# <font color='blue'>Data Science Academy</font>\n",
    "# <font color='blue'>Deep Learning I</font>"
   ]
  },
  {
   "cell_type": "markdown",
   "metadata": {},
   "source": [
    "## Construindo Um Algoritmo Para Rede Neural Multilayer Perceptron"
   ]
  },
  {
   "cell_type": "markdown",
   "metadata": {},
   "source": [
    "### Definindo a Arquitetura"
   ]
  },
  {
   "cell_type": "markdown",
   "metadata": {},
   "source": [
    "Vamos implementar a estrutura de grafos. Usaremos uma classe Python para representar um nó genérico."
   ]
  },
  {
   "cell_type": "code",
   "execution_count": null,
   "metadata": {},
   "outputs": [],
   "source": [
    "class Neuronio(object):\n",
    "    def __init__(self):\n",
    "        # Aqui vão as propriedades"
   ]
  },
  {
   "cell_type": "markdown",
   "metadata": {},
   "source": [
    "Sabemos que cada nó pode receber entrada de vários outros nós. Também sabemos que cada nó cria uma única saída, que provavelmente será passada para outros nós. Vamos adicionar duas listas: uma para armazenar referências aos nós de entrada e outra para armazenar referências aos nós de saída."
   ]
  },
  {
   "cell_type": "code",
   "execution_count": 1,
   "metadata": {},
   "outputs": [],
   "source": [
    "class Neuronio:\n",
    "    def __init__(self, nodes_entrada = []):\n",
    "        # Nó(s) a partir do qual este Nó recebe valores\n",
    "        self.nodes_entrada = nodes_entrada\n",
    "        # Nó(s) ao qual este Nó passa valores\n",
    "        self.nodes_saida = []\n",
    "        # Para cada nó de entrada aqui, adicione este Nó como um Nó de saída para o Node.\n",
    "        for n in self.nodes_entrada:\n",
    "            n.nodes_saida.append(self)"
   ]
  },
  {
   "cell_type": "markdown",
   "metadata": {},
   "source": [
    "Cada nó eventualmente calculará um valor que representa a saída. Vamos inicializar o valor como \"None\" para indicar que existe, mas ainda não foi definido."
   ]
  },
  {
   "cell_type": "code",
   "execution_count": 2,
   "metadata": {},
   "outputs": [],
   "source": [
    "class Neuronio(object):\n",
    "    def __init__(self, nodes_entrada = []):\n",
    "        # Nó(s) a partir do qual este Nó recebe valores\n",
    "        self.nodes_entrada = nodes_entrada\n",
    "        # Nó(s) ao qual este Nó passa valores\n",
    "        self.nodes_saida = []\n",
    "        # Para cada nó de entrada aqui, adicione este Nó como um Nó de saída para o Node.\n",
    "        for n in self.nodes_entrada:\n",
    "            n.nodes_saida.append(self)\n",
    "        # Valor calculado\n",
    "        self.valor = None"
   ]
  },
  {
   "cell_type": "markdown",
   "metadata": {},
   "source": [
    "Cada nó terá que ser capaz de passar os valores para a frente e executar backpropagation. Por enquanto, vamos adicionar um método para propagação direta (Forward Propagation), mas sem nenhum código, apenas a definição. Vamos lidar com backpropagation mais tarde."
   ]
  },
  {
   "cell_type": "code",
   "execution_count": 3,
   "metadata": {},
   "outputs": [],
   "source": [
    "class Neuronio(object):\n",
    "    def __init__(self, nodes_entrada = []):\n",
    "        # Nó(s) a partir do qual este Nó recebe valores\n",
    "        self.nodes_entrada = nodes_entrada\n",
    "        # Nó(s) ao qual este Nó passa valores\n",
    "        self.nodes_saida = []\n",
    "        # Para cada nó de entrada aqui, adicione este Nó como um Nó de saída para o Node.\n",
    "        for n in self.nodes_entrada:\n",
    "            n.nodes_saida.append(self)\n",
    "        # Valor calculado\n",
    "        self.valor = None\n",
    "\n",
    "    def forward(self):\n",
    "        \"\"\"\n",
    "        Forward propagation.\n",
    "\n",
    "        Calcula o valor de saída com base em `nodes_entrada` e\n",
    "        armazene o resultado no self.valor.\n",
    "        \"\"\"\n",
    "        raise NotImplemented"
   ]
  },
  {
   "cell_type": "markdown",
   "metadata": {},
   "source": [
    "Enquanto a classe Neuronio define o conjunto base de propriedades que cada nó possui, somente as subclasses especializadas da classe Neuronio vão realmente ser representadas no grafo. Como parte deste exercício, você criará as subclasses da classe Neuronio que podem realizar cálculos e armazenar valores. Por exemplo, considere a subclasse Input."
   ]
  },
  {
   "cell_type": "code",
   "execution_count": 4,
   "metadata": {},
   "outputs": [],
   "source": [
    "class Input(Neuronio):\n",
    "    def __init__(self):\n",
    "        # Um nó de entrada não possui nós de entrada\n",
    "        # Então não é necessário passar nada para o instanciador da classe Node.\n",
    "        Neuronio.__init__(self)\n",
    "\n",
    "    # Obs: O nó de entrada é o único nó onde o valor\n",
    "    # pode ser passado como um argumento para a função forward().\n",
    "    #\n",
    "    # Todas as outras implementações da classe Node devem obter o valor\n",
    "    # do nó anterior de self.nodes_entrada\n",
    "    #\n",
    "    # Exemplo:\n",
    "    # Val0 = self.nodes_entrada[0].value\n",
    "    def forward(self, valor = None):\n",
    "        # Substitui o valor atual se um valor for passado como parâmetro\n",
    "        if valor is not None:\n",
    "            self.valor = valor"
   ]
  },
  {
   "cell_type": "markdown",
   "metadata": {},
   "source": [
    "Ao contrário das outras subclasses da classe Neuronio, a subclasse Input não calcula nada. A subclasse de entrada apenas contém um valor, como um atributo de dados ou um parâmetro de modelo (peso / bias). Você pode definir o valor de forma explícita ou com o método forward(). Esse valor é então alimentado através do resto da rede neural."
   ]
  },
  {
   "cell_type": "markdown",
   "metadata": {},
   "source": [
    "A subclasse Add é outra subclasse da classe Neuronio, e pode realizar um cálculo (adição)."
   ]
  },
  {
   "cell_type": "code",
   "execution_count": 5,
   "metadata": {},
   "outputs": [],
   "source": [
    "class Add(Neuronio):\n",
    "    def __init__(self, x, y):\n",
    "        Neuronio.__init__(self, [x, y])\n",
    "\n",
    "    def forward(self):\n",
    "        \"\"\"\n",
    "        Aqui vai o código!\n",
    "        \"\"\""
   ]
  },
  {
   "cell_type": "markdown",
   "metadata": {},
   "source": [
    "Observe a diferença no método __init__, Add.__init__ (self, [x, y]). Ao contrário da classe Input, que não possui nós de entrada, a classe Add recebe 2 nós de entrada, x e y, e adiciona os valores desses nós."
   ]
  },
  {
   "cell_type": "markdown",
   "metadata": {},
   "source": [
    "## Fim"
   ]
  }
 ],
 "metadata": {
  "kernelspec": {
   "display_name": "Python 3 (ipykernel)",
   "language": "python",
   "name": "python3"
  },
  "language_info": {
   "codemirror_mode": {
    "name": "ipython",
    "version": 3
   },
   "file_extension": ".py",
   "mimetype": "text/x-python",
   "name": "python",
   "nbconvert_exporter": "python",
   "pygments_lexer": "ipython3",
   "version": "3.9.13"
  }
 },
 "nbformat": 4,
 "nbformat_minor": 4
}
