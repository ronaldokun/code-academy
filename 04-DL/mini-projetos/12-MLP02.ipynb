{
 "cells": [
  {
   "cell_type": "markdown",
   "metadata": {},
   "source": [
    "# <font color='blue'>Data Science Academy</font>\n",
    "# <font color='blue'>Deep Learning I</font>"
   ]
  },
  {
   "cell_type": "markdown",
   "metadata": {},
   "source": [
    "## Construindo Um Algoritmo Para Rede Neural Multilayer Perceptron"
   ]
  },
  {
   "cell_type": "markdown",
   "metadata": {},
   "source": [
    "### Forward Propagation"
   ]
  },
  {
   "cell_type": "markdown",
   "metadata": {},
   "source": [
    "Para definir sua rede, você precisará definir a ordem das operações para seus nós. Dado que a entrada para algum nó depende das saídas dos outros, você precisa construir o grafo de tal forma que todas as dependências de entrada para cada nó sejam resolvidas antes de tentar executar o cálculo. Esta é uma técnica chamada de organização topológica (topological sort)."
   ]
  },
  {
   "cell_type": "markdown",
   "metadata": {},
   "source": [
    "A função topological_sort() implementa a classificação topológica usando o Algoritmo de Kahn. Os detalhes deste método não são importantes, mas basicamente o método topological_sort() retorna uma lista ordenada de nós em que todos os cálculos podem ser executados em série. O método topological_sort() assume um feed_dict, que é como inicialmente configuramos um valor para um nó de entrada. O feed_dict é representado pela estrutura de dados do dicionário Python (você deve se lembrar que usamos feed_dict frequentemente com o TensorFlow)."
   ]
  },
  {
   "cell_type": "markdown",
   "metadata": {},
   "source": [
    "### Definindo as classes dos nós e as funções de operações"
   ]
  },
  {
   "cell_type": "code",
   "execution_count": 1,
   "metadata": {},
   "outputs": [],
   "source": [
    "class Neuronio(object):\n",
    "    def __init__(self, nodes_entrada = []):\n",
    "        self.nodes_entrada = nodes_entrada\n",
    "        self.nodes_saida = []\n",
    "        self.valor = None\n",
    "        for n in self.nodes_entrada:\n",
    "            n.nodes_saida.append(self)\n",
    "\n",
    "    def forward(self):\n",
    "        \"\"\"\n",
    "        Forward propagation.\n",
    "\n",
    "        Calcule o valor de saída com base em `nodes_entrada` e\n",
    "        armazene o resultado no self.valor.\n",
    "        \"\"\"\n",
    "        raise NotImplemented\n",
    "\n",
    "\n",
    "class Input(Neuronio):\n",
    "    def __init__(self):\n",
    "        Neuronio.__init__(self)\n",
    "\n",
    "    def forward(self, valor = None):\n",
    "        if valor is not None:\n",
    "            self.valor = valor\n",
    "\n",
    "            \n",
    "class Add(Neuronio):\n",
    "    def __init__(self, *inputs):\n",
    "        Neuronio.__init__(self, inputs)\n",
    "\n",
    "    def forward(self):\n",
    "        x_value = self.nodes_entrada[0].valor\n",
    "        y_value = self.nodes_entrada[1].valor\n",
    "        self.valor = x_value + y_value\n",
    "\n",
    "        \n",
    "def topological_sort(feed_dict):\n",
    "    \"\"\"\n",
    "    Classifica os nós em ordem topológica usando o Algoritmo de Kahn.\n",
    "\n",
    "    `Feed_dict`: um dicionário em que a chave é um nó ` Input` e o valor é o respectivo feed de valor para esse nó.\n",
    "\n",
    "    Retorna uma lista de nós ordenados.\n",
    "    \"\"\"\n",
    "\n",
    "    input_nodes = [n for n in feed_dict.keys()]\n",
    "\n",
    "    G = {}\n",
    "    nodes = [n for n in input_nodes]\n",
    "    while len(nodes) > 0:\n",
    "        n = nodes.pop(0)\n",
    "        if n not in G:\n",
    "            G[n] = {'in': set(), 'out': set()}\n",
    "        for m in n.nodes_saida:\n",
    "            if m not in G:\n",
    "                G[m] = {'in': set(), 'out': set()}\n",
    "            G[n]['out'].add(m)\n",
    "            G[m]['in'].add(n)\n",
    "            nodes.append(m)\n",
    "\n",
    "    L = []\n",
    "    S = set(input_nodes)\n",
    "    while len(S) > 0:\n",
    "        n = S.pop()\n",
    "\n",
    "        if isinstance(n, Input):\n",
    "            n.valor = feed_dict[n]\n",
    "\n",
    "        L.append(n)\n",
    "        for m in n.nodes_saida:\n",
    "            G[n]['out'].remove(m)\n",
    "            G[m]['in'].remove(n)\n",
    "            if len(G[m]['in']) == 0:\n",
    "                S.add(m)\n",
    "    return L\n",
    "\n",
    "\n",
    "def forward_pass(output_node, sorted_nodes):\n",
    "    \"\"\"\n",
    "   Executa uma passagem para a frente através de uma lista de nós ordenados.\n",
    "\n",
    "     Argumentos:\n",
    "\n",
    "         `Output_node`: Um nó no grafo, deve ser o nó de saída.\n",
    "         `Sorted_nodes`: uma lista topologicamente ordenada de nós.\n",
    "\n",
    "     Retorna o valor do Nó de saída\n",
    "    \"\"\"\n",
    "\n",
    "    for n in sorted_nodes:\n",
    "        n.forward()\n",
    "\n",
    "    return output_node.valor"
   ]
  },
  {
   "cell_type": "markdown",
   "metadata": {},
   "source": [
    "Por que usamos x_value e y_value para a leitura da matriz nodes_entrada? Vejamos: o objeto nodes_entrada é definido quando o nó é instanciado. Não usamos a classe Neuronio diretamente, em vez disso, usamos a classe Add, que é uma subclasse da classe Neuronio. O construtor da classe Add é responsável por passar os nós de entrada para a classe Neuronio, o que acontece na função init da classe Add. Mas por que usamos self.nodes_entrada[0].valor para manter o valor das entradas (usando a indexação [0], [1], etc...)? Fazemos isso por conta da ordenação topológica. Para cada nó da classe Input(), os nós são definidos diretamente quando você executa topological_sort:\n",
    "\n",
    "if isinstance(n, Input):\n",
    "\n",
    "    n.valor = feed_dict[n]\n",
    "            \n",
    "Ou seja, ao executar o grafo (na célula abaixo), definimos o feed_dict com os valores de entrada, passamos isso como parâmetro para a função topologica_sort() e ela retorna para a classe Input, a lista de valores. Por isso precisamos definir self.nodes_entrada[0].valor para ler cada um dos valores. Mas isso vale apenas para a classe Input. Para outras classes, o valor de n.valor é definido na passagem para frente:\n",
    "\n",
    "for n in sorted_nodes:\n",
    "    \n",
    "    n.forward()"
   ]
  },
  {
   "cell_type": "markdown",
   "metadata": {},
   "source": [
    "### Executando o Grafo"
   ]
  },
  {
   "cell_type": "code",
   "execution_count": 2,
   "metadata": {},
   "outputs": [
    {
     "name": "stdout",
     "output_type": "stream",
     "text": [
      "7 + 8 = 15\n"
     ]
    }
   ],
   "source": [
    "# Este script cria e executa o grafo \n",
    "\n",
    "# Define os inputs\n",
    "x, y = Input(), Input()\n",
    "\n",
    "# Chamada a função Add()\n",
    "f = Add(x, y)\n",
    "\n",
    "# Define o feed_dict\n",
    "feed_dict = {x: 7, y: 8}\n",
    "\n",
    "# Ordena as entradas para execução\n",
    "sorted_neurons = topological_sort(feed_dict)\n",
    "\n",
    "# Gera o output com o forward_pass\n",
    "output = forward_pass(f, sorted_neurons)\n",
    "\n",
    "# Print\n",
    "print(\"{} + {} = {}\".format(feed_dict[x], feed_dict[y], output))"
   ]
  },
  {
   "cell_type": "markdown",
   "metadata": {},
   "source": [
    "## Fim"
   ]
  }
 ],
 "metadata": {
  "kernelspec": {
   "display_name": "Python 3 (ipykernel)",
   "language": "python",
   "name": "python3"
  },
  "language_info": {
   "codemirror_mode": {
    "name": "ipython",
    "version": 3
   },
   "file_extension": ".py",
   "mimetype": "text/x-python",
   "name": "python",
   "nbconvert_exporter": "python",
   "pygments_lexer": "ipython3",
   "version": "3.9.13"
  }
 },
 "nbformat": 4,
 "nbformat_minor": 4
}
