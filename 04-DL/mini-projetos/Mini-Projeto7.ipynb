{
 "cells": [
  {
   "cell_type": "markdown",
   "metadata": {},
   "source": [
    "# <font color='blue'>Data Science Academy</font>\n",
    "# <font color='blue'>Deep Learning I</font>"
   ]
  },
  {
   "cell_type": "markdown",
   "metadata": {},
   "source": [
    "## Mini-Projeto 7\n",
    "## Visão Computacional Para Reconhecimento de Placas de Trânsito"
   ]
  },
  {
   "cell_type": "code",
   "execution_count": 1,
   "metadata": {},
   "outputs": [
    {
     "name": "stdout",
     "output_type": "stream",
     "text": [
      "Versão da Linguagem Python Usada Neste Jupyter Notebook: 3.9.13\n"
     ]
    }
   ],
   "source": [
    "# Versão da Linguagem Python\n",
    "from platform import python_version\n",
    "print('Versão da Linguagem Python Usada Neste Jupyter Notebook:', python_version())"
   ]
  },
  {
   "cell_type": "markdown",
   "metadata": {},
   "source": [
    "Este será um mini-projeto desafiador. Abaixo, você encontra um modelo de rede neural profunda completo e funcional. A partir de um dataset de imagens de placas de trânsito, o modelo é treinado e realiza previsões com aproximadamente 95% de acurácia em dados de teste. \n",
    "\n",
    "Seu trabalho será alterar o modelo e construir uma CNN com tudo que você aprendeu neste capítulo e atingir a maior acurácia possível. Não existe resposta certa para este mini-projeto. Seu modelo deve ter todas as técnicas já estudadas, como cálculo da perda, otimização, regularização, etc... Tente diversas abordagens e procure alcançar a máxima acurácia possível. Mas certifique-se que seu modelo não sofre de Overfitting."
   ]
  },
  {
   "cell_type": "markdown",
   "metadata": {
    "colab_type": "text",
    "id": "fjzAjEEHFJFp"
   },
   "source": [
    "### Dataset \n",
    "\n",
    "Para este mini-projeto, usaremos o dataset German Traffic Sign. Esse dataset foi usado na Conferência Conjunta Internacional sobre Redes Neurais (IJCNN) em 2011.\n",
    "\n",
    "O conjunto de dados consiste em 39.209 imagens coloridas que devem ser usadas para treinamento e 12.630 imagens para teste. Cada imagem é uma foto de uma placa de trânsito pertencente a uma das 43 classes.\n",
    "\n",
    "Aqui você encontra uma excelente documentação sobre o uso desse dataset para a construção de CNNs:\n",
    "\n",
    "http://yann.lecun.com/exdb/publis/pdf/sermanet-ijcnn-11.pdf\n",
    "\n",
    "Detalhes sobre o dataset podem ser obtidos aqui:\n",
    "\n",
    "http://benchmark.ini.rub.de/\n",
    "\n",
    "Mas disponibilizamos os arquivos para você no servidor da DSA, o Titan. O caminho está no código aqui no Jupyter Notebook."
   ]
  },
  {
   "cell_type": "markdown",
   "metadata": {},
   "source": [
    "### Importando os Pacotes Necessários"
   ]
  },
  {
   "cell_type": "code",
   "execution_count": 2,
   "metadata": {},
   "outputs": [
    {
     "name": "stdout",
     "output_type": "stream",
     "text": [
      "Sat Mar 28 22:14:03 2020       \n",
      "+-----------------------------------------------------------------------------+\n",
      "| NVIDIA-SMI 440.64.00    Driver Version: 440.64.00    CUDA Version: 10.2     |\n",
      "|-------------------------------+----------------------+----------------------+\n",
      "| GPU  Name        Persistence-M| Bus-Id        Disp.A | Volatile Uncorr. ECC |\n",
      "| Fan  Temp  Perf  Pwr:Usage/Cap|         Memory-Usage | GPU-Util  Compute M. |\n",
      "|===============================+======================+======================|\n",
      "|   0  TITAN X (Pascal)    On   | 00000000:05:00.0 Off |                  N/A |\n",
      "| 23%   37C    P8     9W / 250W |    114MiB / 12194MiB |      0%      Default |\n",
      "+-------------------------------+----------------------+----------------------+\n",
      "|   1  GeForce GTX 108...  On   | 00000000:09:00.0 Off |                  N/A |\n",
      "| 23%   32C    P8     9W / 250W |      2MiB / 11178MiB |      0%      Default |\n",
      "+-------------------------------+----------------------+----------------------+\n",
      "|   2  TITAN RTX           On   | 00000000:0B:00.0 Off |                  N/A |\n",
      "| 41%   34C    P8    13W / 280W |      1MiB / 24220MiB |      0%      Default |\n",
      "+-------------------------------+----------------------+----------------------+\n",
      "                                                                               \n",
      "+-----------------------------------------------------------------------------+\n",
      "| Processes:                                                       GPU Memory |\n",
      "|  GPU       PID   Type   Process name                             Usage      |\n",
      "|=============================================================================|\n",
      "|    0      1439      G   /usr/lib/xorg/Xorg                            39MiB |\n",
      "|    0      1475      G   /usr/bin/gnome-shell                          71MiB |\n",
      "+-----------------------------------------------------------------------------+\n"
     ]
    }
   ],
   "source": [
    "# Certifique-se que a GPU tem memória disponível\n",
    "!nvidia-smi"
   ]
  },
  {
   "cell_type": "code",
   "execution_count": 3,
   "metadata": {
    "colab_type": "text",
    "id": "FahZpoUuFJF0"
   },
   "outputs": [],
   "source": [
    "# Para atualizar um pacote, execute o comando abaixo no terminal ou prompt de comando:\n",
    "# pip install -U nome_pacote\n",
    "\n",
    "# Para instalar a versão exata de um pacote, execute o comando abaixo no terminal ou prompt de comando:\n",
    "# pip install nome_pacote==versão_desejada\n",
    "\n",
    "# Depois de instalar ou atualizar o pacote, reinicie o jupyter notebook."
   ]
  },
  {
   "cell_type": "code",
   "execution_count": 4,
   "metadata": {
    "colab_type": "text",
    "id": "8zb06mPz8QsL"
   },
   "outputs": [],
   "source": [
    "# Instala o pacote watermark. \n",
    "# Esse pacote é usado para gravar as versões de outros pacotes usados neste jupyter notebook.\n",
    "!pip install -q -U watermark"
   ]
  },
  {
   "cell_type": "code",
   "execution_count": 5,
   "metadata": {
    "ExecuteTime": {
     "end_time": "2020-02-13T09:37:44.861281Z",
     "start_time": "2020-02-13T09:37:44.851982Z"
    },
    "colab": {},
    "colab_type": "code",
    "id": "L8ShknsvFJF1"
   },
   "outputs": [
    {
     "name": "stderr",
     "output_type": "stream",
     "text": [
      "Using TensorFlow backend.\n"
     ]
    }
   ],
   "source": [
    "# Imports\n",
    "import os\n",
    "import random\n",
    "\n",
    "# Imports para manipulação de dados\n",
    "import pandas as pd\n",
    "import numpy as np\n",
    "\n",
    "# Imports para manipulação de imagens\n",
    "from skimage import io,segmentation as seg\n",
    "from PIL import Image\n",
    "\n",
    "# Imports para visualização\n",
    "import matplotlib\n",
    "import matplotlib.pyplot as plt\n",
    "import seaborn as sns\n",
    "\n",
    "# TensorFlow and keras\n",
    "import tensorflow as tf\n",
    "from tensorflow import keras\n",
    "from keras.utils import to_categorical\n",
    "from keras.models import Sequential\n",
    "from keras.layers import Conv2D, MaxPool2D, Dense, Flatten, Dropout\n",
    "\n",
    "# Divisão dos dados em treino e teste\n",
    "import sklearn\n",
    "from sklearn.model_selection import train_test_split\n",
    "\n",
    "# Métrica de acurácia\n",
    "from sklearn.metrics import accuracy_score\n",
    "\n",
    "# Estilo de Formatação dos Gráficos\n",
    "plt.style.use('fivethirtyeight')"
   ]
  },
  {
   "cell_type": "code",
   "execution_count": 6,
   "metadata": {},
   "outputs": [
    {
     "name": "stdout",
     "output_type": "stream",
     "text": [
      "tensorflow                                 2.1.0\n",
      "tensorflow_core.python.keras.api._v2.keras 2.2.4-tf\n",
      "matplotlib                                 3.2.1\n",
      "seaborn                                    0.10.0\n",
      "numpy                                      1.18.2\n",
      "sklearn                                    0.22.2\n",
      "pandas                                     1.0.3\n",
      "PIL.Image                                  7.0.0\n",
      "Data Science Academy\n"
     ]
    }
   ],
   "source": [
    "# Versões dos pacotes usados neste jupyter notebook\n",
    "%reload_ext watermark\n",
    "%watermark -a \"Data Science Academy\" --iversions"
   ]
  },
  {
   "cell_type": "markdown",
   "metadata": {
    "colab_type": "text",
    "id": "zLA_1XtC8QsW"
   },
   "source": [
    "### Análise Exploratória dos Dados"
   ]
  },
  {
   "cell_type": "markdown",
   "metadata": {},
   "source": [
    "#### Importando os Arquivos CSV com a Descrição das Imagens"
   ]
  },
  {
   "cell_type": "code",
   "execution_count": 7,
   "metadata": {
    "ExecuteTime": {
     "end_time": "2020-02-13T08:09:03.728659Z",
     "start_time": "2020-02-13T08:09:03.660118Z"
    },
    "colab": {},
    "colab_type": "code",
    "id": "JXDoJkvMFJF7"
   },
   "outputs": [],
   "source": [
    "# Metadatasets de treino e de teste\n",
    "\n",
    "# Pasta no Titan\n",
    "folder = \"/media/datasets/DeepLearningI/Cap07/gtsrb-german-traffic-sign\"\n",
    "\n",
    "# Leitura dos arquivos csv\n",
    "df_treino = pd.read_csv(folder + '/Train.csv')\n",
    "df_teste  = pd.read_csv(folder + '/Test.csv')\n",
    "df_meta   = pd.read_csv(folder + '/Meta.csv')"
   ]
  },
  {
   "cell_type": "markdown",
   "metadata": {
    "colab_type": "text",
    "id": "RhXFYwP58Qs-"
   },
   "source": [
    "Vamos explorar os arquivos visualizando dados de amostra para entender os dados contidos nos 3 arquivos csv. "
   ]
  },
  {
   "cell_type": "code",
   "execution_count": 8,
   "metadata": {},
   "outputs": [
    {
     "data": {
      "text/html": [
       "<div>\n",
       "<style scoped>\n",
       "    .dataframe tbody tr th:only-of-type {\n",
       "        vertical-align: middle;\n",
       "    }\n",
       "\n",
       "    .dataframe tbody tr th {\n",
       "        vertical-align: top;\n",
       "    }\n",
       "\n",
       "    .dataframe thead th {\n",
       "        text-align: right;\n",
       "    }\n",
       "</style>\n",
       "<table border=\"1\" class=\"dataframe\">\n",
       "  <thead>\n",
       "    <tr style=\"text-align: right;\">\n",
       "      <th></th>\n",
       "      <th>Width</th>\n",
       "      <th>Height</th>\n",
       "      <th>Roi.X1</th>\n",
       "      <th>Roi.Y1</th>\n",
       "      <th>Roi.X2</th>\n",
       "      <th>Roi.Y2</th>\n",
       "      <th>ClassId</th>\n",
       "      <th>Path</th>\n",
       "    </tr>\n",
       "  </thead>\n",
       "  <tbody>\n",
       "    <tr>\n",
       "      <th>5881</th>\n",
       "      <td>26</td>\n",
       "      <td>28</td>\n",
       "      <td>5</td>\n",
       "      <td>6</td>\n",
       "      <td>20</td>\n",
       "      <td>23</td>\n",
       "      <td>3</td>\n",
       "      <td>Train/3/00003_00028_00001.png</td>\n",
       "    </tr>\n",
       "    <tr>\n",
       "      <th>1029</th>\n",
       "      <td>33</td>\n",
       "      <td>34</td>\n",
       "      <td>6</td>\n",
       "      <td>6</td>\n",
       "      <td>27</td>\n",
       "      <td>28</td>\n",
       "      <td>1</td>\n",
       "      <td>Train/1/00001_00015_00009.png</td>\n",
       "    </tr>\n",
       "    <tr>\n",
       "      <th>9202</th>\n",
       "      <td>41</td>\n",
       "      <td>40</td>\n",
       "      <td>6</td>\n",
       "      <td>5</td>\n",
       "      <td>36</td>\n",
       "      <td>35</td>\n",
       "      <td>5</td>\n",
       "      <td>Train/5/00005_00025_00022.png</td>\n",
       "    </tr>\n",
       "    <tr>\n",
       "      <th>2983</th>\n",
       "      <td>33</td>\n",
       "      <td>35</td>\n",
       "      <td>6</td>\n",
       "      <td>6</td>\n",
       "      <td>28</td>\n",
       "      <td>29</td>\n",
       "      <td>2</td>\n",
       "      <td>Train/2/00002_00006_00013.png</td>\n",
       "    </tr>\n",
       "  </tbody>\n",
       "</table>\n",
       "</div>"
      ],
      "text/plain": [
       "      Width  Height  Roi.X1  Roi.Y1  Roi.X2  Roi.Y2  ClassId  \\\n",
       "5881     26      28       5       6      20      23        3   \n",
       "1029     33      34       6       6      27      28        1   \n",
       "9202     41      40       6       5      36      35        5   \n",
       "2983     33      35       6       6      28      29        2   \n",
       "\n",
       "                               Path  \n",
       "5881  Train/3/00003_00028_00001.png  \n",
       "1029  Train/1/00001_00015_00009.png  \n",
       "9202  Train/5/00005_00025_00022.png  \n",
       "2983  Train/2/00002_00006_00013.png  "
      ]
     },
     "execution_count": 8,
     "metadata": {},
     "output_type": "execute_result"
    }
   ],
   "source": [
    "# Dados de treino (veja a descrição de cada coluna logo abaixo)\n",
    "df_treino.sample(4)"
   ]
  },
  {
   "cell_type": "code",
   "execution_count": 9,
   "metadata": {},
   "outputs": [
    {
     "data": {
      "text/html": [
       "<div>\n",
       "<style scoped>\n",
       "    .dataframe tbody tr th:only-of-type {\n",
       "        vertical-align: middle;\n",
       "    }\n",
       "\n",
       "    .dataframe tbody tr th {\n",
       "        vertical-align: top;\n",
       "    }\n",
       "\n",
       "    .dataframe thead th {\n",
       "        text-align: right;\n",
       "    }\n",
       "</style>\n",
       "<table border=\"1\" class=\"dataframe\">\n",
       "  <thead>\n",
       "    <tr style=\"text-align: right;\">\n",
       "      <th></th>\n",
       "      <th>Width</th>\n",
       "      <th>Height</th>\n",
       "      <th>Roi.X1</th>\n",
       "      <th>Roi.Y1</th>\n",
       "      <th>Roi.X2</th>\n",
       "      <th>Roi.Y2</th>\n",
       "      <th>ClassId</th>\n",
       "      <th>Path</th>\n",
       "    </tr>\n",
       "  </thead>\n",
       "  <tbody>\n",
       "    <tr>\n",
       "      <th>5481</th>\n",
       "      <td>38</td>\n",
       "      <td>41</td>\n",
       "      <td>6</td>\n",
       "      <td>6</td>\n",
       "      <td>33</td>\n",
       "      <td>36</td>\n",
       "      <td>5</td>\n",
       "      <td>Test/05481.png</td>\n",
       "    </tr>\n",
       "    <tr>\n",
       "      <th>12417</th>\n",
       "      <td>49</td>\n",
       "      <td>49</td>\n",
       "      <td>5</td>\n",
       "      <td>5</td>\n",
       "      <td>44</td>\n",
       "      <td>44</td>\n",
       "      <td>4</td>\n",
       "      <td>Test/12417.png</td>\n",
       "    </tr>\n",
       "    <tr>\n",
       "      <th>2485</th>\n",
       "      <td>81</td>\n",
       "      <td>82</td>\n",
       "      <td>8</td>\n",
       "      <td>7</td>\n",
       "      <td>73</td>\n",
       "      <td>74</td>\n",
       "      <td>36</td>\n",
       "      <td>Test/02485.png</td>\n",
       "    </tr>\n",
       "    <tr>\n",
       "      <th>1179</th>\n",
       "      <td>60</td>\n",
       "      <td>61</td>\n",
       "      <td>6</td>\n",
       "      <td>5</td>\n",
       "      <td>55</td>\n",
       "      <td>56</td>\n",
       "      <td>9</td>\n",
       "      <td>Test/01179.png</td>\n",
       "    </tr>\n",
       "  </tbody>\n",
       "</table>\n",
       "</div>"
      ],
      "text/plain": [
       "       Width  Height  Roi.X1  Roi.Y1  Roi.X2  Roi.Y2  ClassId            Path\n",
       "5481      38      41       6       6      33      36        5  Test/05481.png\n",
       "12417     49      49       5       5      44      44        4  Test/12417.png\n",
       "2485      81      82       8       7      73      74       36  Test/02485.png\n",
       "1179      60      61       6       5      55      56        9  Test/01179.png"
      ]
     },
     "execution_count": 9,
     "metadata": {},
     "output_type": "execute_result"
    }
   ],
   "source": [
    "# Dados de teste (veja a descrição de cada coluna logo abaixo)\n",
    "df_teste.sample(4)"
   ]
  },
  {
   "cell_type": "markdown",
   "metadata": {
    "colab_type": "text",
    "id": "JRrvqArb8Qsv"
   },
   "source": [
    "#### Descrição das Colunas dos Datasets\n",
    "\n",
    "Treino e teste têm as mesmas colunas que são:  \n",
    "\n",
    "- Width  - Largura da imagem\n",
    "    \n",
    "- Height - Altura da imagem\n",
    "    \n",
    "- Roi.X1 - Coordenada da Região de Interesse X1\n",
    "    \n",
    "- Roi.Y1 - Coordenada da Região de Interesse Y1\n",
    "    \n",
    "- Roi.X2 - Coordenada da Região de Interesse X2\n",
    "    \n",
    "- Roi.Y2 - Coordenada da Região de Interesse Y1\n",
    "    \n",
    "- ClassId - Classe da Imagem, por exemplo: \"20 km speed limit\"\n",
    "    \n",
    "- Path - Caminho da Imagem no Sistema Operacional\n",
    "    \n",
    "\n",
    "O que é Roi?\n",
    "\n",
    "Às vezes, é interessante processar uma única sub-região de uma imagem, mantendo outras regiões inalteradas. Isso geralmente é chamado de processamento de região de interesse (ROI). As sub-regiões da imagem podem ser convenientemente especificadas usando primitivas, como Ponto, Linha, Círculo, Polígono ou simplesmente como uma lista de posições de vértices.\n",
    "\n",
    "Uma região de interesse (ROI) é uma parte da imagem na qual você deseja filtrar ou executar alguma outra operação. Você define uma ROI criando uma máscara binária, que é uma imagem binária do mesmo tamanho da imagem que deseja processar com pixels que definem a ROI definida como 1 e todos os outros pixels definidos como 0.\n",
    "\n",
    "Esse conceito é estudado em detalhes no curso de Visão Computacional."
   ]
  },
  {
   "cell_type": "markdown",
   "metadata": {},
   "source": [
    "#### Explorando o Metafile"
   ]
  },
  {
   "cell_type": "code",
   "execution_count": 10,
   "metadata": {
    "ExecuteTime": {
     "end_time": "2020-02-13T08:09:52.396061Z",
     "start_time": "2020-02-13T08:09:52.384630Z"
    },
    "colab": {},
    "colab_type": "code",
    "id": "xPJyB7BI8Qsx",
    "outputId": "2cf9497d-cc23-4964-c318-ba27a4ef555c"
   },
   "outputs": [
    {
     "data": {
      "text/html": [
       "<div>\n",
       "<style scoped>\n",
       "    .dataframe tbody tr th:only-of-type {\n",
       "        vertical-align: middle;\n",
       "    }\n",
       "\n",
       "    .dataframe tbody tr th {\n",
       "        vertical-align: top;\n",
       "    }\n",
       "\n",
       "    .dataframe thead th {\n",
       "        text-align: right;\n",
       "    }\n",
       "</style>\n",
       "<table border=\"1\" class=\"dataframe\">\n",
       "  <thead>\n",
       "    <tr style=\"text-align: right;\">\n",
       "      <th></th>\n",
       "      <th>Path</th>\n",
       "      <th>ClassId</th>\n",
       "      <th>ShapeId</th>\n",
       "      <th>ColorId</th>\n",
       "      <th>SignId</th>\n",
       "    </tr>\n",
       "  </thead>\n",
       "  <tbody>\n",
       "    <tr>\n",
       "      <th>17</th>\n",
       "      <td>Meta/23.png</td>\n",
       "      <td>23</td>\n",
       "      <td>0</td>\n",
       "      <td>0</td>\n",
       "      <td>1.13</td>\n",
       "    </tr>\n",
       "    <tr>\n",
       "      <th>24</th>\n",
       "      <td>Meta/30.png</td>\n",
       "      <td>30</td>\n",
       "      <td>0</td>\n",
       "      <td>0</td>\n",
       "      <td>None</td>\n",
       "    </tr>\n",
       "    <tr>\n",
       "      <th>40</th>\n",
       "      <td>Meta/7.png</td>\n",
       "      <td>7</td>\n",
       "      <td>1</td>\n",
       "      <td>0</td>\n",
       "      <td>3.29</td>\n",
       "    </tr>\n",
       "    <tr>\n",
       "      <th>34</th>\n",
       "      <td>Meta/4.png</td>\n",
       "      <td>4</td>\n",
       "      <td>1</td>\n",
       "      <td>0</td>\n",
       "      <td>3.29</td>\n",
       "    </tr>\n",
       "  </tbody>\n",
       "</table>\n",
       "</div>"
      ],
      "text/plain": [
       "           Path  ClassId  ShapeId  ColorId SignId\n",
       "17  Meta/23.png       23        0        0   1.13\n",
       "24  Meta/30.png       30        0        0   None\n",
       "40   Meta/7.png        7        1        0   3.29\n",
       "34   Meta/4.png        4        1        0   3.29"
      ]
     },
     "execution_count": 10,
     "metadata": {},
     "output_type": "execute_result"
    }
   ],
   "source": [
    "# Arquivo de metadados do dataset de imagens\n",
    "df_meta.sample(4)"
   ]
  },
  {
   "cell_type": "markdown",
   "metadata": {
    "ExecuteTime": {
     "end_time": "2020-02-13T09:06:06.721073Z",
     "start_time": "2020-02-13T09:06:06.714308Z"
    },
    "colab_type": "text",
    "id": "shWcZU6M8Qs4"
   },
   "source": [
    "Descrição do Metafile:\n",
    "\n",
    "O arquivo fornece meta informações sobre as classes fornecidas por este conjunto de dados.\n",
    "\n",
    "- Path - Caminho para a imagem\n",
    "- ClassId - ID da classe de imagem\n",
    "- ShapeId - Forma do sinal de trânsito (triângulo 0, 1 círculo, 2 diamantes, 3 hexágonos e 4 inversos)\n",
    "- ColorId - Cor do sinal (0-vermelho, 1-azul, 2-amarelo, 3-branco)\n",
    "- SignId - ID do sinal (pela regra de tráfego ucraniano)"
   ]
  },
  {
   "cell_type": "code",
   "execution_count": 11,
   "metadata": {
    "ExecuteTime": {
     "end_time": "2020-02-13T08:51:20.560784Z",
     "start_time": "2020-02-13T08:51:20.553476Z"
    },
    "colab": {
     "base_uri": "https://localhost:8080/",
     "height": 224
    },
    "colab_type": "code",
    "id": "BUbmWdC7FJGB",
    "outputId": "6f3c9318-d4fd-4b7a-ae8f-dbb895ed587a",
    "scrolled": true
   },
   "outputs": [
    {
     "name": "stdout",
     "output_type": "stream",
     "text": [
      "Treino:  (39209, 8)\n",
      "Teste:  (12630, 8)\n",
      "Meta:  (43, 5)\n"
     ]
    }
   ],
   "source": [
    "# Shape dos datasets\n",
    "print(\"Treino: \", df_treino.shape)\n",
    "print(\"Teste: \", df_teste.shape)\n",
    "print(\"Meta: \", df_meta.shape)"
   ]
  },
  {
   "cell_type": "markdown",
   "metadata": {
    "colab_type": "text",
    "id": "c-vV4bCR8QtH"
   },
   "source": [
    "O conjunto de dados de treino possui 39.209 linhas e 8 colunas.\n",
    "\n",
    "O conjunto de dados de teste possui 12.630 linhas e 8 colunas.\n",
    "\n",
    "Meta tem 43 linhas e 5 colunas."
   ]
  },
  {
   "cell_type": "markdown",
   "metadata": {},
   "source": [
    "#### Tipos de Dados"
   ]
  },
  {
   "cell_type": "code",
   "execution_count": 12,
   "metadata": {
    "ExecuteTime": {
     "end_time": "2020-02-13T09:09:29.558594Z",
     "start_time": "2020-02-13T09:09:29.519579Z"
    },
    "colab": {
     "base_uri": "https://localhost:8080/",
     "height": 544
    },
    "colab_type": "code",
    "id": "9NoR7jv6FJGN",
    "outputId": "096f9e2d-dcc1-4d75-dbd2-01d9a0a91713",
    "scrolled": true
   },
   "outputs": [
    {
     "name": "stdout",
     "output_type": "stream",
     "text": [
      "Dataset de Treino\n",
      "\n",
      "<class 'pandas.core.frame.DataFrame'>\n",
      "RangeIndex: 39209 entries, 0 to 39208\n",
      "Data columns (total 8 columns):\n",
      " #   Column   Non-Null Count  Dtype \n",
      "---  ------   --------------  ----- \n",
      " 0   Width    39209 non-null  int64 \n",
      " 1   Height   39209 non-null  int64 \n",
      " 2   Roi.X1   39209 non-null  int64 \n",
      " 3   Roi.Y1   39209 non-null  int64 \n",
      " 4   Roi.X2   39209 non-null  int64 \n",
      " 5   Roi.Y2   39209 non-null  int64 \n",
      " 6   ClassId  39209 non-null  int64 \n",
      " 7   Path     39209 non-null  object\n",
      "dtypes: int64(7), object(1)\n",
      "memory usage: 2.4+ MB\n"
     ]
    }
   ],
   "source": [
    "# Tipos dos dados de treino\n",
    "print(\"Dataset de Treino\\n\")\n",
    "df_treino.info()"
   ]
  },
  {
   "cell_type": "code",
   "execution_count": 13,
   "metadata": {},
   "outputs": [
    {
     "name": "stdout",
     "output_type": "stream",
     "text": [
      "Dataset de Teste\n",
      "\n",
      "<class 'pandas.core.frame.DataFrame'>\n",
      "RangeIndex: 12630 entries, 0 to 12629\n",
      "Data columns (total 8 columns):\n",
      " #   Column   Non-Null Count  Dtype \n",
      "---  ------   --------------  ----- \n",
      " 0   Width    12630 non-null  int64 \n",
      " 1   Height   12630 non-null  int64 \n",
      " 2   Roi.X1   12630 non-null  int64 \n",
      " 3   Roi.Y1   12630 non-null  int64 \n",
      " 4   Roi.X2   12630 non-null  int64 \n",
      " 5   Roi.Y2   12630 non-null  int64 \n",
      " 6   ClassId  12630 non-null  int64 \n",
      " 7   Path     12630 non-null  object\n",
      "dtypes: int64(7), object(1)\n",
      "memory usage: 789.5+ KB\n"
     ]
    }
   ],
   "source": [
    "# Tipos dos dados de teste\n",
    "print(\"Dataset de Teste\\n\")\n",
    "df_teste.info()"
   ]
  },
  {
   "cell_type": "code",
   "execution_count": 14,
   "metadata": {},
   "outputs": [
    {
     "name": "stdout",
     "output_type": "stream",
     "text": [
      "Dataset de Metadados\n",
      "\n",
      "<class 'pandas.core.frame.DataFrame'>\n",
      "RangeIndex: 43 entries, 0 to 42\n",
      "Data columns (total 5 columns):\n",
      " #   Column   Non-Null Count  Dtype \n",
      "---  ------   --------------  ----- \n",
      " 0   Path     43 non-null     object\n",
      " 1   ClassId  43 non-null     int64 \n",
      " 2   ShapeId  43 non-null     int64 \n",
      " 3   ColorId  43 non-null     int64 \n",
      " 4   SignId   43 non-null     object\n",
      "dtypes: int64(3), object(2)\n",
      "memory usage: 1.8+ KB\n"
     ]
    }
   ],
   "source": [
    "# Tipos dos dados no arquivo de metadados\n",
    "print(\"Dataset de Metadados\\n\")\n",
    "df_meta.info()"
   ]
  },
  {
   "cell_type": "markdown",
   "metadata": {
    "colab_type": "text",
    "id": "Kbs68V6DFJGS"
   },
   "source": [
    "Todas as colunas são numéricas, exceto Path que é um objeto (string), pois armazena o caminho para o diretório de imagens no sistema de arquivos e SignId que representa o sinal da placa de trânsito."
   ]
  },
  {
   "cell_type": "markdown",
   "metadata": {
    "colab_type": "text",
    "id": "4csd-B0SFJGT"
   },
   "source": [
    "#### Resumo Estatístico"
   ]
  },
  {
   "cell_type": "code",
   "execution_count": 15,
   "metadata": {
    "ExecuteTime": {
     "end_time": "2020-02-13T08:47:48.547222Z",
     "start_time": "2020-02-13T08:47:48.419940Z"
    },
    "colab": {
     "base_uri": "https://localhost:8080/",
     "height": 193
    },
    "colab_type": "code",
    "id": "rPdyxb3mFJGV",
    "outputId": "a9d27546-d1b6-4710-feeb-68bf3999acd5"
   },
   "outputs": [
    {
     "name": "stdout",
     "output_type": "stream",
     "text": [
      "Dataset de Treino\n"
     ]
    },
    {
     "data": {
      "text/html": [
       "<div>\n",
       "<style scoped>\n",
       "    .dataframe tbody tr th:only-of-type {\n",
       "        vertical-align: middle;\n",
       "    }\n",
       "\n",
       "    .dataframe tbody tr th {\n",
       "        vertical-align: top;\n",
       "    }\n",
       "\n",
       "    .dataframe thead th {\n",
       "        text-align: right;\n",
       "    }\n",
       "</style>\n",
       "<table border=\"1\" class=\"dataframe\">\n",
       "  <thead>\n",
       "    <tr style=\"text-align: right;\">\n",
       "      <th></th>\n",
       "      <th>Width</th>\n",
       "      <th>Height</th>\n",
       "      <th>Roi.X1</th>\n",
       "      <th>Roi.Y1</th>\n",
       "      <th>Roi.X2</th>\n",
       "      <th>Roi.Y2</th>\n",
       "      <th>ClassId</th>\n",
       "    </tr>\n",
       "  </thead>\n",
       "  <tbody>\n",
       "    <tr>\n",
       "      <th>count</th>\n",
       "      <td>39209.000000</td>\n",
       "      <td>39209.000000</td>\n",
       "      <td>39209.000000</td>\n",
       "      <td>39209.000000</td>\n",
       "      <td>39209.000000</td>\n",
       "      <td>39209.000000</td>\n",
       "      <td>39209.000000</td>\n",
       "    </tr>\n",
       "    <tr>\n",
       "      <th>mean</th>\n",
       "      <td>50.835880</td>\n",
       "      <td>50.328930</td>\n",
       "      <td>5.999515</td>\n",
       "      <td>5.962381</td>\n",
       "      <td>45.197302</td>\n",
       "      <td>44.728379</td>\n",
       "      <td>15.788390</td>\n",
       "    </tr>\n",
       "    <tr>\n",
       "      <th>std</th>\n",
       "      <td>24.306933</td>\n",
       "      <td>23.115423</td>\n",
       "      <td>1.475493</td>\n",
       "      <td>1.385440</td>\n",
       "      <td>23.060157</td>\n",
       "      <td>21.971145</td>\n",
       "      <td>12.013238</td>\n",
       "    </tr>\n",
       "    <tr>\n",
       "      <th>min</th>\n",
       "      <td>25.000000</td>\n",
       "      <td>25.000000</td>\n",
       "      <td>0.000000</td>\n",
       "      <td>5.000000</td>\n",
       "      <td>20.000000</td>\n",
       "      <td>20.000000</td>\n",
       "      <td>0.000000</td>\n",
       "    </tr>\n",
       "    <tr>\n",
       "      <th>25%</th>\n",
       "      <td>35.000000</td>\n",
       "      <td>35.000000</td>\n",
       "      <td>5.000000</td>\n",
       "      <td>5.000000</td>\n",
       "      <td>29.000000</td>\n",
       "      <td>30.000000</td>\n",
       "      <td>5.000000</td>\n",
       "    </tr>\n",
       "    <tr>\n",
       "      <th>50%</th>\n",
       "      <td>43.000000</td>\n",
       "      <td>43.000000</td>\n",
       "      <td>6.000000</td>\n",
       "      <td>6.000000</td>\n",
       "      <td>38.000000</td>\n",
       "      <td>38.000000</td>\n",
       "      <td>12.000000</td>\n",
       "    </tr>\n",
       "    <tr>\n",
       "      <th>75%</th>\n",
       "      <td>58.000000</td>\n",
       "      <td>58.000000</td>\n",
       "      <td>6.000000</td>\n",
       "      <td>6.000000</td>\n",
       "      <td>53.000000</td>\n",
       "      <td>52.000000</td>\n",
       "      <td>25.000000</td>\n",
       "    </tr>\n",
       "    <tr>\n",
       "      <th>max</th>\n",
       "      <td>243.000000</td>\n",
       "      <td>225.000000</td>\n",
       "      <td>20.000000</td>\n",
       "      <td>20.000000</td>\n",
       "      <td>223.000000</td>\n",
       "      <td>205.000000</td>\n",
       "      <td>42.000000</td>\n",
       "    </tr>\n",
       "  </tbody>\n",
       "</table>\n",
       "</div>"
      ],
      "text/plain": [
       "              Width        Height        Roi.X1        Roi.Y1        Roi.X2  \\\n",
       "count  39209.000000  39209.000000  39209.000000  39209.000000  39209.000000   \n",
       "mean      50.835880     50.328930      5.999515      5.962381     45.197302   \n",
       "std       24.306933     23.115423      1.475493      1.385440     23.060157   \n",
       "min       25.000000     25.000000      0.000000      5.000000     20.000000   \n",
       "25%       35.000000     35.000000      5.000000      5.000000     29.000000   \n",
       "50%       43.000000     43.000000      6.000000      6.000000     38.000000   \n",
       "75%       58.000000     58.000000      6.000000      6.000000     53.000000   \n",
       "max      243.000000    225.000000     20.000000     20.000000    223.000000   \n",
       "\n",
       "             Roi.Y2       ClassId  \n",
       "count  39209.000000  39209.000000  \n",
       "mean      44.728379     15.788390  \n",
       "std       21.971145     12.013238  \n",
       "min       20.000000      0.000000  \n",
       "25%       30.000000      5.000000  \n",
       "50%       38.000000     12.000000  \n",
       "75%       52.000000     25.000000  \n",
       "max      205.000000     42.000000  "
      ]
     },
     "execution_count": 15,
     "metadata": {},
     "output_type": "execute_result"
    }
   ],
   "source": [
    "# Resumo estatístico em treino\n",
    "print(\"Dataset de Treino\")\n",
    "df_treino.describe()"
   ]
  },
  {
   "cell_type": "code",
   "execution_count": 16,
   "metadata": {},
   "outputs": [
    {
     "name": "stdout",
     "output_type": "stream",
     "text": [
      "Dataset de Teste\n"
     ]
    },
    {
     "data": {
      "text/html": [
       "<div>\n",
       "<style scoped>\n",
       "    .dataframe tbody tr th:only-of-type {\n",
       "        vertical-align: middle;\n",
       "    }\n",
       "\n",
       "    .dataframe tbody tr th {\n",
       "        vertical-align: top;\n",
       "    }\n",
       "\n",
       "    .dataframe thead th {\n",
       "        text-align: right;\n",
       "    }\n",
       "</style>\n",
       "<table border=\"1\" class=\"dataframe\">\n",
       "  <thead>\n",
       "    <tr style=\"text-align: right;\">\n",
       "      <th></th>\n",
       "      <th>Width</th>\n",
       "      <th>Height</th>\n",
       "      <th>Roi.X1</th>\n",
       "      <th>Roi.Y1</th>\n",
       "      <th>Roi.X2</th>\n",
       "      <th>Roi.Y2</th>\n",
       "      <th>ClassId</th>\n",
       "    </tr>\n",
       "  </thead>\n",
       "  <tbody>\n",
       "    <tr>\n",
       "      <th>count</th>\n",
       "      <td>12630.000000</td>\n",
       "      <td>12630.000000</td>\n",
       "      <td>12630.000000</td>\n",
       "      <td>12630.000000</td>\n",
       "      <td>12630.000000</td>\n",
       "      <td>12630.000000</td>\n",
       "      <td>12630.000000</td>\n",
       "    </tr>\n",
       "    <tr>\n",
       "      <th>mean</th>\n",
       "      <td>50.507759</td>\n",
       "      <td>50.364450</td>\n",
       "      <td>5.998021</td>\n",
       "      <td>5.982423</td>\n",
       "      <td>44.864450</td>\n",
       "      <td>44.758116</td>\n",
       "      <td>15.551069</td>\n",
       "    </tr>\n",
       "    <tr>\n",
       "      <th>std</th>\n",
       "      <td>25.088483</td>\n",
       "      <td>23.698908</td>\n",
       "      <td>1.543954</td>\n",
       "      <td>1.427424</td>\n",
       "      <td>23.776102</td>\n",
       "      <td>22.494697</td>\n",
       "      <td>11.947123</td>\n",
       "    </tr>\n",
       "    <tr>\n",
       "      <th>min</th>\n",
       "      <td>25.000000</td>\n",
       "      <td>25.000000</td>\n",
       "      <td>1.000000</td>\n",
       "      <td>5.000000</td>\n",
       "      <td>20.000000</td>\n",
       "      <td>20.000000</td>\n",
       "      <td>0.000000</td>\n",
       "    </tr>\n",
       "    <tr>\n",
       "      <th>25%</th>\n",
       "      <td>34.000000</td>\n",
       "      <td>35.000000</td>\n",
       "      <td>5.000000</td>\n",
       "      <td>5.000000</td>\n",
       "      <td>29.000000</td>\n",
       "      <td>29.000000</td>\n",
       "      <td>5.000000</td>\n",
       "    </tr>\n",
       "    <tr>\n",
       "      <th>50%</th>\n",
       "      <td>43.000000</td>\n",
       "      <td>43.000000</td>\n",
       "      <td>6.000000</td>\n",
       "      <td>6.000000</td>\n",
       "      <td>38.000000</td>\n",
       "      <td>38.000000</td>\n",
       "      <td>12.000000</td>\n",
       "    </tr>\n",
       "    <tr>\n",
       "      <th>75%</th>\n",
       "      <td>58.000000</td>\n",
       "      <td>57.000000</td>\n",
       "      <td>6.000000</td>\n",
       "      <td>6.000000</td>\n",
       "      <td>53.000000</td>\n",
       "      <td>52.000000</td>\n",
       "      <td>25.000000</td>\n",
       "    </tr>\n",
       "    <tr>\n",
       "      <th>max</th>\n",
       "      <td>266.000000</td>\n",
       "      <td>232.000000</td>\n",
       "      <td>23.000000</td>\n",
       "      <td>19.000000</td>\n",
       "      <td>244.000000</td>\n",
       "      <td>212.000000</td>\n",
       "      <td>42.000000</td>\n",
       "    </tr>\n",
       "  </tbody>\n",
       "</table>\n",
       "</div>"
      ],
      "text/plain": [
       "              Width        Height        Roi.X1        Roi.Y1        Roi.X2  \\\n",
       "count  12630.000000  12630.000000  12630.000000  12630.000000  12630.000000   \n",
       "mean      50.507759     50.364450      5.998021      5.982423     44.864450   \n",
       "std       25.088483     23.698908      1.543954      1.427424     23.776102   \n",
       "min       25.000000     25.000000      1.000000      5.000000     20.000000   \n",
       "25%       34.000000     35.000000      5.000000      5.000000     29.000000   \n",
       "50%       43.000000     43.000000      6.000000      6.000000     38.000000   \n",
       "75%       58.000000     57.000000      6.000000      6.000000     53.000000   \n",
       "max      266.000000    232.000000     23.000000     19.000000    244.000000   \n",
       "\n",
       "             Roi.Y2       ClassId  \n",
       "count  12630.000000  12630.000000  \n",
       "mean      44.758116     15.551069  \n",
       "std       22.494697     11.947123  \n",
       "min       20.000000      0.000000  \n",
       "25%       29.000000      5.000000  \n",
       "50%       38.000000     12.000000  \n",
       "75%       52.000000     25.000000  \n",
       "max      212.000000     42.000000  "
      ]
     },
     "execution_count": 16,
     "metadata": {},
     "output_type": "execute_result"
    }
   ],
   "source": [
    "# Resumo estatístico em teste\n",
    "print(\"Dataset de Teste\")\n",
    "df_teste.describe()"
   ]
  },
  {
   "cell_type": "code",
   "execution_count": 17,
   "metadata": {},
   "outputs": [
    {
     "name": "stdout",
     "output_type": "stream",
     "text": [
      "Dataset de Metadados\n"
     ]
    },
    {
     "data": {
      "text/html": [
       "<div>\n",
       "<style scoped>\n",
       "    .dataframe tbody tr th:only-of-type {\n",
       "        vertical-align: middle;\n",
       "    }\n",
       "\n",
       "    .dataframe tbody tr th {\n",
       "        vertical-align: top;\n",
       "    }\n",
       "\n",
       "    .dataframe thead th {\n",
       "        text-align: right;\n",
       "    }\n",
       "</style>\n",
       "<table border=\"1\" class=\"dataframe\">\n",
       "  <thead>\n",
       "    <tr style=\"text-align: right;\">\n",
       "      <th></th>\n",
       "      <th>ClassId</th>\n",
       "      <th>ShapeId</th>\n",
       "      <th>ColorId</th>\n",
       "    </tr>\n",
       "  </thead>\n",
       "  <tbody>\n",
       "    <tr>\n",
       "      <th>count</th>\n",
       "      <td>43.000000</td>\n",
       "      <td>43.000000</td>\n",
       "      <td>43.000000</td>\n",
       "    </tr>\n",
       "    <tr>\n",
       "      <th>mean</th>\n",
       "      <td>21.000000</td>\n",
       "      <td>0.790698</td>\n",
       "      <td>0.511628</td>\n",
       "    </tr>\n",
       "    <tr>\n",
       "      <th>std</th>\n",
       "      <td>12.556539</td>\n",
       "      <td>0.803508</td>\n",
       "      <td>0.935340</td>\n",
       "    </tr>\n",
       "    <tr>\n",
       "      <th>min</th>\n",
       "      <td>0.000000</td>\n",
       "      <td>0.000000</td>\n",
       "      <td>0.000000</td>\n",
       "    </tr>\n",
       "    <tr>\n",
       "      <th>25%</th>\n",
       "      <td>10.500000</td>\n",
       "      <td>0.000000</td>\n",
       "      <td>0.000000</td>\n",
       "    </tr>\n",
       "    <tr>\n",
       "      <th>50%</th>\n",
       "      <td>21.000000</td>\n",
       "      <td>1.000000</td>\n",
       "      <td>0.000000</td>\n",
       "    </tr>\n",
       "    <tr>\n",
       "      <th>75%</th>\n",
       "      <td>31.500000</td>\n",
       "      <td>1.000000</td>\n",
       "      <td>1.000000</td>\n",
       "    </tr>\n",
       "    <tr>\n",
       "      <th>max</th>\n",
       "      <td>42.000000</td>\n",
       "      <td>4.000000</td>\n",
       "      <td>3.000000</td>\n",
       "    </tr>\n",
       "  </tbody>\n",
       "</table>\n",
       "</div>"
      ],
      "text/plain": [
       "         ClassId    ShapeId    ColorId\n",
       "count  43.000000  43.000000  43.000000\n",
       "mean   21.000000   0.790698   0.511628\n",
       "std    12.556539   0.803508   0.935340\n",
       "min     0.000000   0.000000   0.000000\n",
       "25%    10.500000   0.000000   0.000000\n",
       "50%    21.000000   1.000000   0.000000\n",
       "75%    31.500000   1.000000   1.000000\n",
       "max    42.000000   4.000000   3.000000"
      ]
     },
     "execution_count": 17,
     "metadata": {},
     "output_type": "execute_result"
    }
   ],
   "source": [
    "# Resumo estatístico dos dados no arquivo de metadados\n",
    "print(\"Dataset de Metadados\")\n",
    "df_meta.describe()"
   ]
  },
  {
   "cell_type": "markdown",
   "metadata": {},
   "source": [
    "There are 42 image classes"
   ]
  },
  {
   "cell_type": "markdown",
   "metadata": {
    "ExecuteTime": {
     "end_time": "2020-01-31T09:44:27.226185Z",
     "start_time": "2020-01-31T09:44:27.222236Z"
    },
    "colab_type": "text",
    "id": "hsLEkCdm8QtS"
   },
   "source": [
    "#### Checando Duplicidades"
   ]
  },
  {
   "cell_type": "code",
   "execution_count": 18,
   "metadata": {
    "ExecuteTime": {
     "end_time": "2020-02-13T08:50:25.566848Z",
     "start_time": "2020-02-13T08:50:25.537950Z"
    },
    "colab": {},
    "colab_type": "code",
    "id": "Zb6bZQgZ8QtT",
    "outputId": "bc6f0fc4-10a8-4f80-85d5-54d60658f42a",
    "scrolled": true
   },
   "outputs": [
    {
     "name": "stdout",
     "output_type": "stream",
     "text": [
      "Valores Duplicados em Treino:  0\n",
      "Valores Duplicados em Teste:  0\n",
      "Valores Duplicados em Metadados:  0\n"
     ]
    }
   ],
   "source": [
    "print(\"Valores Duplicados em Treino: \", df_treino.duplicated().sum())\n",
    "print(\"Valores Duplicados em Teste: \", df_teste.duplicated().sum())\n",
    "print(\"Valores Duplicados em Metadados: \", df_meta.duplicated().sum())"
   ]
  },
  {
   "cell_type": "markdown",
   "metadata": {
    "colab_type": "text",
    "id": "jaF2XBo_8QtX"
   },
   "source": [
    "Não temos imagens duplicadas."
   ]
  },
  {
   "cell_type": "markdown",
   "metadata": {},
   "source": [
    "#### Distribuição de Contagem de Imagens Por Classe"
   ]
  },
  {
   "cell_type": "code",
   "execution_count": 19,
   "metadata": {},
   "outputs": [
    {
     "data": {
      "image/png": "[encoded data removed]",
      "text/plain": [
       "<Figure size 2016x576 with 2 Axes>"
      ]
     },
     "metadata": {},
     "output_type": "display_data"
    }
   ],
   "source": [
    "# Cria 2 subplots\n",
    "fig, ax = plt.subplots(1, 2, figsize = (28, 8))\n",
    "\n",
    "# Plot do histograma\n",
    "sns.countplot(df_treino.ClassId, ax = ax[0])\n",
    "sns.countplot(df_teste.ClassId, ax = ax[1])\n",
    "\n",
    "# Labels dos gráficos\n",
    "ax[0].set_title('Imagens de Treino Por Classe')\n",
    "ax[0].set_xlabel('Classe')\n",
    "ax[0].set_ylabel('Contagem')\n",
    "ax[0].set_xlabel('Class ID');\n",
    "\n",
    "ax[1].set_title('Imagens de Teste Por Classe')\n",
    "ax[1].set_xlabel('Classe')\n",
    "ax[1].set_ylabel('Contagem')\n",
    "ax[1].set_xlabel('Class ID');"
   ]
  },
  {
   "cell_type": "markdown",
   "metadata": {
    "colab_type": "text",
    "id": "N-yO5c-L8Qtj"
   },
   "source": [
    "### Importação das Imagens e Pré-Processamento"
   ]
  },
  {
   "cell_type": "markdown",
   "metadata": {},
   "source": [
    "Para manipulação de imagem após a leitura do sistema de arquivos, as bibliotecas Pil ou Open CV podem ser usadas. PIL é usado abaixo. "
   ]
  },
  {
   "cell_type": "markdown",
   "metadata": {},
   "source": [
    "**Carregando Dados de Treino**"
   ]
  },
  {
   "cell_type": "code",
   "execution_count": 20,
   "metadata": {
    "ExecuteTime": {
     "end_time": "2020-02-13T09:39:49.520205Z",
     "start_time": "2020-02-13T09:39:49.494150Z"
    },
    "colab": {},
    "colab_type": "code",
    "id": "XWbwExA98Qtk",
    "outputId": "879dcbbb-6e4c-4232-f88a-a01d09ecb072"
   },
   "outputs": [],
   "source": [
    "# Função para carregar as imagens de treino\n",
    "def carregaImagensTreino(path, classes_count, height, width):\n",
    "\n",
    "    # Listas para imagens e labels\n",
    "    images = []\n",
    "    labels = []\n",
    "    \n",
    "    # Classes a partir da contagem de classes\n",
    "    classes = [i for i in range(classes_count)]\n",
    "    \n",
    "    # Loop pelas classes\n",
    "    for classe in classes:\n",
    "        \n",
    "        # Anexa o caminho fornecido como argumento mais o valor da classe que é de 0 a 42, que são os \n",
    "        # subdiretórios no diretório das imagens de treino\n",
    "        new_path = path + str (classe) + \"/\"\n",
    "        \n",
    "        # Retorna o nome do arquivo de imagem\n",
    "        file_names = [os.path.join(new_path, f) for f in os.listdir(new_path)]\n",
    "        \n",
    "        # Para o arquivo de imagem, retorna imagem e label e adiciona às listas\n",
    "        for file in file_names:\n",
    "            \n",
    "            # Carrega a imagem\n",
    "            image = io.imread(file)\n",
    "            \n",
    "            # Cria o array da imagem\n",
    "            image_from_array = Image.fromarray(image, 'RGB')\n",
    "            \n",
    "            # Redimensiona a imagem\n",
    "            size_image = image_from_array.resize((height, width))\n",
    "            \n",
    "            # Adiciona a imagem à lista de imagens\n",
    "            images.append(np.array(size_image))\n",
    "            \n",
    "            # Retorna o label da imagem e adiciona à lista de labels. Valores de 0 a 42.\n",
    "            labels.append(classe)\n",
    "            \n",
    "    return images, labels"
   ]
  },
  {
   "cell_type": "code",
   "execution_count": 21,
   "metadata": {},
   "outputs": [],
   "source": [
    "# Executa a função para carregar imagens de treino\n",
    "\n",
    "# Parâmetros\n",
    "\n",
    "# Path para os dados de treino\n",
    "path_treino = \"/media/datasets/DeepLearningI/Cap07/gtsrb-german-traffic-sign/Train/\"\n",
    "\n",
    "# Altura e largura da imagem\n",
    "height = 30\n",
    "width = 30\n",
    "\n",
    "# Número de classes\n",
    "classes_count_treino = df_treino['ClassId'].nunique()\n",
    "\n",
    "# Executa a função\n",
    "imagens_treino, labels_treino = carregaImagensTreino(path_treino, classes_count_treino, height, width)"
   ]
  },
  {
   "cell_type": "code",
   "execution_count": 22,
   "metadata": {},
   "outputs": [
    {
     "name": "stdout",
     "output_type": "stream",
     "text": [
      "O Shape das imagens de treino é (39209, 30, 30, 3)\n",
      "O Shape dos labels de treino é (39209,)\n"
     ]
    }
   ],
   "source": [
    "# Checando shape das imagens carregadas\n",
    "imagens_treino = np.array(imagens_treino)\n",
    "labels_treino = np.array(labels_treino)\n",
    "print(\"O Shape das imagens de treino é \" + str(imagens_treino.shape))\n",
    "print(\"O Shape dos labels de treino é \" + str(labels_treino.shape))"
   ]
  },
  {
   "cell_type": "markdown",
   "metadata": {},
   "source": [
    "São 39.209 imagens, cada uma com dimensão 30x30 e 3 canais de cores, RGB."
   ]
  },
  {
   "cell_type": "code",
   "execution_count": 23,
   "metadata": {},
   "outputs": [
    {
     "data": {
      "text/plain": [
       "0"
      ]
     },
     "execution_count": 23,
     "metadata": {},
     "output_type": "execute_result"
    },
    {
     "data": {
      "image/png": "[encoded data removed]",
      "text/plain": [
       "<Figure size 432x288 with 1 Axes>"
      ]
     },
     "metadata": {},
     "output_type": "display_data"
    }
   ],
   "source": [
    "# Visualizando uma imagem de treino \n",
    "plt.imshow(imagens_treino[0])\n",
    "labels_treino[0]"
   ]
  },
  {
   "cell_type": "markdown",
   "metadata": {},
   "source": [
    "**Carregando Dados de Teste**"
   ]
  },
  {
   "cell_type": "code",
   "execution_count": 24,
   "metadata": {
    "ExecuteTime": {
     "end_time": "2020-02-13T09:24:26.455899Z",
     "start_time": "2020-02-13T09:24:26.425878Z"
    },
    "colab": {},
    "colab_type": "code",
    "id": "kJ7RxWdn8Qto",
    "outputId": "53d642d4-fcd2-457b-a13a-dc8426a484dd"
   },
   "outputs": [],
   "source": [
    "# Função para carregar as imagens de teste\n",
    "def carregaImagensTeste(folder, lista_imagens, height, width):\n",
    "    \n",
    "    # Listas para imagens e labels\n",
    "    images = []\n",
    "    \n",
    "    # Loop por cada imagem no diretório de imagens de teste\n",
    "    for imagem in lista_imagens:\n",
    "        \n",
    "        # Carrega a imagem\n",
    "        image = io.imread(folder + imagem)\n",
    "        \n",
    "        # Converte em array\n",
    "        image_from_array = Image.fromarray(image, 'RGB')\n",
    "        \n",
    "        # Redimensiona a imagem\n",
    "        size_image = image_from_array.resize((height, width))\n",
    "        \n",
    "        # Adiciona a imagem à lista de imagens\n",
    "        images.append(np.array(size_image))\n",
    "    \n",
    "    return images"
   ]
  },
  {
   "cell_type": "code",
   "execution_count": 25,
   "metadata": {},
   "outputs": [],
   "source": [
    "# Executa a função para carregar imagens de teste\n",
    "\n",
    "# Parâmetros\n",
    "\n",
    "# Path para os dados de teste\n",
    "folder = \"/media/datasets/DeepLearningI/Cap07/gtsrb-german-traffic-sign/\"\n",
    "lista_imagens = df_teste['Path'].values\n",
    "\n",
    "# Altura e largura da imagem\n",
    "height = 30\n",
    "width = 30\n",
    "\n",
    "# Executa a função\n",
    "imagens_teste = carregaImagensTeste(folder, lista_imagens, height, width)"
   ]
  },
  {
   "cell_type": "code",
   "execution_count": 26,
   "metadata": {},
   "outputs": [
    {
     "name": "stdout",
     "output_type": "stream",
     "text": [
      "O Shape das imagens de teste é: (12630, 30, 30, 3)\n",
      "O Shape dos labels de teste é: (12630,)\n"
     ]
    }
   ],
   "source": [
    "# Checando shape das imagens carregadas\n",
    "imagens_teste = np.array(imagens_teste)\n",
    "labels_teste = df_teste['ClassId'].values\n",
    "print(\"O Shape das imagens de teste é: \" + str(imagens_teste.shape))\n",
    "print(\"O Shape dos labels de teste é: \" + str(labels_teste.shape))"
   ]
  },
  {
   "cell_type": "code",
   "execution_count": 27,
   "metadata": {},
   "outputs": [],
   "source": [
    "# Visualizando algumas imagens de teste\n",
    "\n",
    "# Função para visualização de imagens\n",
    "def visualizaImagemTeste(images, labels, images_count):\n",
    "    for i in range(images_count):\n",
    "        index = int(random.random() * len(images))\n",
    "        plt.axis('off')\n",
    "        plt.imshow(images[index])\n",
    "        plt.show()\n",
    "        \n",
    "        print(\"O tamanho dessa imagem é: \" + str(images[index].shape))\n",
    "        print(\"A classe dessa imagem é: \" + str(labels[index]))"
   ]
  },
  {
   "cell_type": "code",
   "execution_count": 28,
   "metadata": {},
   "outputs": [
    {
     "data": {
      "image/png": "[encoded data removed]",
      "text/plain": [
       "<Figure size 432x288 with 1 Axes>"
      ]
     },
     "metadata": {},
     "output_type": "display_data"
    },
    {
     "name": "stdout",
     "output_type": "stream",
     "text": [
      "O tamanho dessa imagem é: (30, 30, 3)\n",
      "A classe dessa imagem é: 12\n"
     ]
    },
    {
     "data": {
      "image/png": "[encoded data removed]",
      "text/plain": [
       "<Figure size 432x288 with 1 Axes>"
      ]
     },
     "metadata": {},
     "output_type": "display_data"
    },
    {
     "name": "stdout",
     "output_type": "stream",
     "text": [
      "O tamanho dessa imagem é: (30, 30, 3)\n",
      "A classe dessa imagem é: 2\n"
     ]
    },
    {
     "data": {
      "image/png": "[encoded data removed]",
      "text/plain": [
       "<Figure size 432x288 with 1 Axes>"
      ]
     },
     "metadata": {},
     "output_type": "display_data"
    },
    {
     "name": "stdout",
     "output_type": "stream",
     "text": [
      "O tamanho dessa imagem é: (30, 30, 3)\n",
      "A classe dessa imagem é: 11\n"
     ]
    },
    {
     "data": {
      "image/png": "[encoded data removed]",
      "text/plain": [
       "<Figure size 432x288 with 1 Axes>"
      ]
     },
     "metadata": {},
     "output_type": "display_data"
    },
    {
     "name": "stdout",
     "output_type": "stream",
     "text": [
      "O tamanho dessa imagem é: (30, 30, 3)\n",
      "A classe dessa imagem é: 9\n"
     ]
    },
    {
     "data": {
      "image/png": "[encoded data removed]",
      "text/plain": [
       "<Figure size 432x288 with 1 Axes>"
      ]
     },
     "metadata": {},
     "output_type": "display_data"
    },
    {
     "name": "stdout",
     "output_type": "stream",
     "text": [
      "O tamanho dessa imagem é: (30, 30, 3)\n",
      "A classe dessa imagem é: 11\n"
     ]
    }
   ],
   "source": [
    "# Executa a função\n",
    "visualizaImagemTeste(imagens_teste, labels_teste, 5)"
   ]
  },
  {
   "cell_type": "markdown",
   "metadata": {},
   "source": [
    "### Modelagem"
   ]
  },
  {
   "cell_type": "markdown",
   "metadata": {},
   "source": [
    "#### Dividindo as imagens em conjuntos de treino e validação\n",
    "\n",
    "Vamos deinir o dataset de validação como 20% de todas as imagens de treino. O motivo da divisão é poder ter a validação definida com rótulos. O conjunto de dados de teste fornecido não possui rótulos, portanto, não é o ideal para calcular a performance do modelo."
   ]
  },
  {
   "cell_type": "code",
   "execution_count": 29,
   "metadata": {},
   "outputs": [
    {
     "name": "stdout",
     "output_type": "stream",
     "text": [
      "O Shape de X_treino é (31367, 30, 30, 3)\n",
      "O Shape de label_X é (31367,)\n",
      "O Shape de X_valid é (7842, 30, 30, 3)\n",
      "O Shape de label_valid é (7842,)\n"
     ]
    }
   ],
   "source": [
    "# Divisão dos dados de treino em dados de treino e validação\n",
    "(X_treino, X_valid, label_X, label_valid) = train_test_split(imagens_treino, \n",
    "                                                              labels_treino, \n",
    "                                                              test_size = 0.2, \n",
    "                                                              random_state = 42)\n",
    "\n",
    "# Print\n",
    "print(\"O Shape de X_treino é \" + str(X_treino.shape))\n",
    "print(\"O Shape de label_X é \" + str(label_X.shape))\n",
    "print(\"O Shape de X_valid é \" + str(X_valid.shape))\n",
    "print(\"O Shape de label_valid é \" + str(label_valid.shape))"
   ]
  },
  {
   "cell_type": "markdown",
   "metadata": {},
   "source": [
    "Normalmente, os valores RGB são codificados como números inteiros de 8 bits, que variam de 0 a 255. É um padrão usar 0,0f como preto e 1,0f como branco (brilho máximo), onde f significa float.\n",
    "\n",
    "Para converter [0, 255] para [0.0f, 1.0f], divida por 255.0f. Isso é feito abaixo em nossa matriz de imagens de treino e validação."
   ]
  },
  {
   "cell_type": "code",
   "execution_count": 30,
   "metadata": {},
   "outputs": [],
   "source": [
    "# Normaliza os dados de entrada (imagens)\n",
    "X_treino = X_treino.astype('float32')/255 \n",
    "X_valid = X_valid.astype('float32')/255"
   ]
  },
  {
   "cell_type": "code",
   "execution_count": 31,
   "metadata": {},
   "outputs": [],
   "source": [
    "# Converte os rótulos (labels) em tipo categórico\n",
    "label_X = to_categorical(label_X, 43)\n",
    "label_valid = to_categorical(label_valid, 43)"
   ]
  },
  {
   "cell_type": "code",
   "execution_count": 32,
   "metadata": {},
   "outputs": [],
   "source": [
    "# Modelo CNN - Rede Neural Convolucional\n",
    "\n",
    "# Cria a sequência de camadas\n",
    "modelo = Sequential()\n",
    "\n",
    "# Camada convolucional de entrada com filtro 5x5\n",
    "modelo.add(Conv2D(filters = 32, kernel_size = (5,5), activation = 'relu', input_shape = X_treino.shape[1:]))\n",
    "\n",
    "# Camada convolucional interna (oculta) com filtro 3x3\n",
    "modelo.add(Conv2D(filters = 64, kernel_size = (3, 3), activation = 'relu'))\n",
    "\n",
    "# Camada de MaxPooling para redução de dimensionalidade\n",
    "modelo.add(MaxPool2D(pool_size = (2, 2)))\n",
    "\n",
    "# Regularização com Dropout (evita overfitting)\n",
    "modelo.add(Dropout(rate = 0.25))\n",
    "\n",
    "# Outra camada convolucional interna (oculta) com filtro 3x3\n",
    "modelo.add(Conv2D(filters = 64, kernel_size = (3, 3), activation = 'relu'))\n",
    "\n",
    "# Camada de MaxPooling para redução de dimensionalidade\n",
    "modelo.add(MaxPool2D(pool_size = (2, 2)))\n",
    "\n",
    "# Regularização com Dropout (evita overfitting)\n",
    "modelo.add(Dropout(rate = 0.25))\n",
    "\n",
    "# Ajusta o shape da saída anterior\n",
    "modelo.add(Flatten())\n",
    "\n",
    "# Camada densa, última camada oculta\n",
    "modelo.add(Dense(256, activation = 'relu'))\n",
    "\n",
    "# Regularização com Dropout (evita overfitting)\n",
    "modelo.add(Dropout(rate = 0.5))\n",
    "\n",
    "# Última camada com as previsões de probabilidade para cada uma das 43 classes\n",
    "modelo.add(Dense(43, activation = 'softmax'))"
   ]
  },
  {
   "cell_type": "code",
   "execution_count": 33,
   "metadata": {},
   "outputs": [
    {
     "name": "stdout",
     "output_type": "stream",
     "text": [
      "Model: \"sequential_1\"\n",
      "_________________________________________________________________\n",
      "Layer (type)                 Output Shape              Param #   \n",
      "=================================================================\n",
      "conv2d_1 (Conv2D)            (None, 26, 26, 32)        2432      \n",
      "_________________________________________________________________\n",
      "conv2d_2 (Conv2D)            (None, 24, 24, 64)        18496     \n",
      "_________________________________________________________________\n",
      "max_pooling2d_1 (MaxPooling2 (None, 12, 12, 64)        0         \n",
      "_________________________________________________________________\n",
      "dropout_1 (Dropout)          (None, 12, 12, 64)        0         \n",
      "_________________________________________________________________\n",
      "conv2d_3 (Conv2D)            (None, 10, 10, 64)        36928     \n",
      "_________________________________________________________________\n",
      "max_pooling2d_2 (MaxPooling2 (None, 5, 5, 64)          0         \n",
      "_________________________________________________________________\n",
      "dropout_2 (Dropout)          (None, 5, 5, 64)          0         \n",
      "_________________________________________________________________\n",
      "flatten_1 (Flatten)          (None, 1600)              0         \n",
      "_________________________________________________________________\n",
      "dense_1 (Dense)              (None, 256)               409856    \n",
      "_________________________________________________________________\n",
      "dropout_3 (Dropout)          (None, 256)               0         \n",
      "_________________________________________________________________\n",
      "dense_2 (Dense)              (None, 43)                11051     \n",
      "=================================================================\n",
      "Total params: 478,763\n",
      "Trainable params: 478,763\n",
      "Non-trainable params: 0\n",
      "_________________________________________________________________\n"
     ]
    }
   ],
   "source": [
    "# Sumário\n",
    "modelo.summary()"
   ]
  },
  {
   "cell_type": "code",
   "execution_count": 34,
   "metadata": {},
   "outputs": [],
   "source": [
    "# Compilação do Modelo\n",
    "# Usamos função de custo categorical_crossentropy, ideal para classificação multiclasse\n",
    "modelo.compile(loss = 'categorical_crossentropy', optimizer = 'adam', metrics = ['accuracy'])"
   ]
  },
  {
   "cell_type": "code",
   "execution_count": 35,
   "metadata": {},
   "outputs": [
    {
     "name": "stdout",
     "output_type": "stream",
     "text": [
      "Train on 31367 samples, validate on 7842 samples\n",
      "Epoch 1/10\n",
      "31367/31367 [==============================] - 8s 248us/step - loss: 1.1365 - accuracy: 0.6794 - val_loss: 0.1409 - val_accuracy: 0.9698\n",
      "Epoch 2/10\n",
      "31367/31367 [==============================] - 6s 207us/step - loss: 0.2091 - accuracy: 0.9365 - val_loss: 0.0555 - val_accuracy: 0.9870\n",
      "Epoch 3/10\n",
      "31367/31367 [==============================] - 6s 201us/step - loss: 0.1196 - accuracy: 0.9637 - val_loss: 0.0354 - val_accuracy: 0.9921\n",
      "Epoch 4/10\n",
      "31367/31367 [==============================] - 6s 204us/step - loss: 0.1019 - accuracy: 0.9688 - val_loss: 0.0401 - val_accuracy: 0.9902\n",
      "Epoch 5/10\n",
      "31367/31367 [==============================] - 6s 205us/step - loss: 0.0763 - accuracy: 0.9756 - val_loss: 0.0299 - val_accuracy: 0.9927\n",
      "Epoch 6/10\n",
      "31367/31367 [==============================] - 6s 199us/step - loss: 0.0725 - accuracy: 0.9787 - val_loss: 0.0295 - val_accuracy: 0.9945\n",
      "Epoch 7/10\n",
      "31367/31367 [==============================] - 6s 206us/step - loss: 0.0577 - accuracy: 0.9823 - val_loss: 0.0234 - val_accuracy: 0.9949\n",
      "Epoch 8/10\n",
      "31367/31367 [==============================] - 6s 204us/step - loss: 0.0589 - accuracy: 0.9813 - val_loss: 0.0309 - val_accuracy: 0.9936\n",
      "Epoch 9/10\n",
      "31367/31367 [==============================] - 6s 202us/step - loss: 0.0537 - accuracy: 0.9837 - val_loss: 0.0302 - val_accuracy: 0.9929\n",
      "Epoch 10/10\n",
      "31367/31367 [==============================] - 6s 203us/step - loss: 0.0467 - accuracy: 0.9852 - val_loss: 0.0218 - val_accuracy: 0.9957\n"
     ]
    }
   ],
   "source": [
    "# Treinamento\n",
    "\n",
    "# Número de epochs\n",
    "epochs = 10\n",
    "\n",
    "# Treinamento do modelo\n",
    "historico_treino = modelo.fit(X_treino, label_X, \n",
    "                              batch_size = 32,  \n",
    "                              epochs = epochs,\n",
    "                              validation_data = (X_valid, label_valid))"
   ]
  },
  {
   "cell_type": "code",
   "execution_count": 36,
   "metadata": {},
   "outputs": [
    {
     "data": {
      "text/plain": [
       "[0.6794083,\n",
       " 0.93649375,\n",
       " 0.96371984,\n",
       " 0.968757,\n",
       " 0.9756432,\n",
       " 0.97870374,\n",
       " 0.98230624,\n",
       " 0.98125416,\n",
       " 0.98374087,\n",
       " 0.9852074]"
      ]
     },
     "execution_count": 36,
     "metadata": {},
     "output_type": "execute_result"
    }
   ],
   "source": [
    "# Acurácia do Modelo em cada epoch\n",
    "historico_treino.history['accuracy']"
   ]
  },
  {
   "cell_type": "code",
   "execution_count": 37,
   "metadata": {},
   "outputs": [
    {
     "data": {
      "image/png": "[encoded data removed]",
      "text/plain": [
       "<Figure size 432x288 with 1 Axes>"
      ]
     },
     "metadata": {},
     "output_type": "display_data"
    },
    {
     "data": {
      "image/png": "[encoded data removed]",
      "text/plain": [
       "<Figure size 432x288 with 1 Axes>"
      ]
     },
     "metadata": {},
     "output_type": "display_data"
    }
   ],
   "source": [
    "# Plot das métricas de acurácia e perda.\n",
    "plt.figure(0)\n",
    "plt.plot(historico_treino.history['accuracy'], label = 'Acurácia em Treino')\n",
    "plt.plot(historico_treino.history['val_accuracy'], label = 'Acurácia em Validação')\n",
    "plt.title('Acurácia do Modelo')\n",
    "plt.xlabel('Epochs')\n",
    "plt.ylabel('Acurácia')\n",
    "plt.legend()\n",
    "\n",
    "plt.figure(1)\n",
    "plt.plot(historico_treino.history['loss'], label = 'Erro em Treino')\n",
    "plt.plot(historico_treino.history['val_loss'], label = 'Erro em Validação')\n",
    "plt.title('Erro do Modelo')\n",
    "plt.xlabel('Epochs')\n",
    "plt.ylabel('Erro (Loss)')\n",
    "plt.legend()\n",
    "plt.show()"
   ]
  },
  {
   "cell_type": "markdown",
   "metadata": {},
   "source": [
    "### Previsões do Modelo com Dados de Teste"
   ]
  },
  {
   "cell_type": "code",
   "execution_count": 38,
   "metadata": {},
   "outputs": [],
   "source": [
    "# Aplicamos nas imagens de teste a mesma transformação aplicada nos dados de treino\n",
    "imagens_teste = imagens_teste.astype('float32')/255  "
   ]
  },
  {
   "cell_type": "code",
   "execution_count": 39,
   "metadata": {},
   "outputs": [
    {
     "data": {
      "text/plain": [
       "(12630, 30, 30, 3)"
      ]
     },
     "execution_count": 39,
     "metadata": {},
     "output_type": "execute_result"
    }
   ],
   "source": [
    "# Shape\n",
    "imagens_teste.shape"
   ]
  },
  {
   "cell_type": "code",
   "execution_count": 40,
   "metadata": {},
   "outputs": [
    {
     "data": {
      "text/plain": [
       "(12630,)"
      ]
     },
     "execution_count": 40,
     "metadata": {},
     "output_type": "execute_result"
    }
   ],
   "source": [
    "# Shape\n",
    "labels_teste.shape"
   ]
  },
  {
   "cell_type": "code",
   "execution_count": 41,
   "metadata": {},
   "outputs": [],
   "source": [
    "# Previsões do modelo\n",
    "previsoes = modelo.predict_classes(imagens_teste)"
   ]
  },
  {
   "cell_type": "code",
   "execution_count": 42,
   "metadata": {},
   "outputs": [
    {
     "data": {
      "text/plain": [
       "0.9722882026920031"
      ]
     },
     "execution_count": 42,
     "metadata": {},
     "output_type": "execute_result"
    }
   ],
   "source": [
    "# Acurácia em teste\n",
    "accuracy_score(labels_teste, previsoes)"
   ]
  },
  {
   "cell_type": "markdown",
   "metadata": {},
   "source": [
    "Conseguimos 97% de acurácia em teste! Como podemos melhorar essa performance?"
   ]
  },
  {
   "cell_type": "markdown",
   "metadata": {},
   "source": [
    "# Fim"
   ]
  }
 ],
 "metadata": {
  "accelerator": "GPU",
  "colab": {
   "collapsed_sections": [
    "lkicT6_bFJF_",
    "3bJwdcjBFJGm",
    "QGIv3vGjFJG_",
    "hFOzvt0tFJHL",
    "N5EEz-b2FJHW",
    "oYSYIfwtFJHb",
    "oxu0LL2cFJHk",
    "Zs9qFKckFJHl",
    "EMsgK_XEFJHs",
    "GpgmjFgNFJH5",
    "-NRzEgYkFJIB",
    "uymeWaJZFJIZ",
    "icri0-ajFJIj",
    "u_rVVy1HFJIy",
    "GKQjaR2_FJJE",
    "KaLrjkOoFKEz",
    "QvRJQG2nFJJa",
    "8tgXxPpnFJJb",
    "VYrBjj-fFJJk",
    "dkAKV-XyFKFJ",
    "ty6iWfG4FKFR",
    "kKKhJ5gofyjP",
    "DreVoZCvFJKO",
    "2h_3c6kqFJLX"
   ],
   "name": "Hakathon.ipynb",
   "provenance": [],
   "toc_visible": true
  },
  "gist": {
   "data": {
    "description": "Data Science/MoringaDS/Core/Week 8 IP/Hypothyroid_Disease_Prediction Using RF and SVM.ipynb",
    "public": false
   },
   "id": ""
  },
  "hide_input": false,
  "kernelspec": {
   "display_name": "Python 3 (ipykernel)",
   "language": "python",
   "name": "python3"
  },
  "language_info": {
   "codemirror_mode": {
    "name": "ipython",
    "version": 3
   },
   "file_extension": ".py",
   "mimetype": "text/x-python",
   "name": "python",
   "nbconvert_exporter": "python",
   "pygments_lexer": "ipython3",
   "version": "3.9.13"
  },
  "toc": {
   "base_numbering": 1,
   "nav_menu": {
    "height": "514px",
    "width": "499px"
   },
   "number_sections": true,
   "sideBar": true,
   "skip_h1_title": true,
   "title_cell": "Table of Contents",
   "title_sidebar": "Contents",
   "toc_cell": false,
   "toc_position": {
    "height": "calc(100% - 180px)",
    "left": "10px",
    "top": "150px",
    "width": "322px"
   },
   "toc_section_display": true,
   "toc_window_display": true
  }
 },
 "nbformat": 4,
 "nbformat_minor": 4
}
