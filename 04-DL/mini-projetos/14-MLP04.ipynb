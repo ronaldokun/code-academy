{
 "cells": [
  {
   "cell_type": "markdown",
   "metadata": {},
   "source": [
    "# <font color='blue'>Data Science Academy</font>\n",
    "# <font color='blue'>Deep Learning I</font>"
   ]
  },
  {
   "cell_type": "markdown",
   "metadata": {},
   "source": [
    "## Construindo Um Algoritmo Para Rede Neural Multilayer Perceptron"
   ]
  },
  {
   "cell_type": "markdown",
   "metadata": {},
   "source": [
    "### Função de Ativação Sigmóide"
   ]
  },
  {
   "cell_type": "markdown",
   "metadata": {},
   "source": [
    "As transformações lineares são ótimas para simplesmente mudar os valores, mas as redes neurais muitas vezes exigem uma transformação mais específica. Por exemplo, um dos desenhos originais para um neurônio artificial, o perceptron, exibe comportamento de saída binária. Perceptrons compararam uma entrada ponderada com um limite. Quando a entrada ponderada excede o limite, o perceptron é ativado e a saída é igual a 1, caso contrário, ele produz 0."
   ]
  },
  {
   "cell_type": "markdown",
   "metadata": {},
   "source": [
    "A ativação (nome dado para o comportamento de saída binária) geralmente faz sentido para problemas de classificação. Por exemplo, se você pedir à rede que elabore uma hipótese se uma imagem manuscrita é um '7', você está realmente perguntando por uma saída binária - sim, isso é um '7', ou não, isso não é um '7'. Uma função de etapa (Step Function) é a forma mais rápida de uma saída binária, o que é excelente. Mas as Step Functions não são contínuas e não diferenciáveis, o que é muito ruim. A diferenciação é o que torna possível a descida do gradiente.\n",
    "\n",
    "A função sigmóide, substitui o limiar com uma bela curva em forma de S que imita o comportamento de ativação de um perceptron enquanto é diferenciável. Como um bônus: a função sigmóide possui uma derivada muito simples que pode ser calculada a partir da própria função sigmóide."
   ]
  },
  {
   "cell_type": "markdown",
   "metadata": {},
   "source": [
    "Observe que a função sigmóide possui apenas um parâmetro. Lembre-se de que sigmóide é uma função de ativação (não-linearidade), o que significa que ela recebe uma única entrada e executa uma operação matemática nesta entrada.\n",
    "\n",
    "Conceitualmente, a função sigmóide toma decisões. De acordo com os atributos ponderados (entradas x pesos), a função sigmóide indica se os atributos contribuem ou não para uma classificação. Desta forma, uma ativação sigmóide funciona bem seguindo uma transformação linear. Como usamos pesos e bias aleatórios, a saída do nó sigmóide também é aleatória. O processo de aprendizagem através de backpropagation e gradient descent, que você implementará em breve, modifica os pesos e o bias, de modo que a ativação do nó sigmóide comece a combinar as saídas esperadas."
   ]
  },
  {
   "cell_type": "code",
   "execution_count": 1,
   "metadata": {},
   "outputs": [],
   "source": [
    "import numpy as np\n",
    "\n",
    "class Neuronio(object):\n",
    "    def __init__(self, nodes_entrada = []):\n",
    "        self.nodes_entrada = nodes_entrada\n",
    "        self.valor = None\n",
    "        self.nodes_saida = []\n",
    "        for n in nodes_entrada:\n",
    "            n.nodes_saida.append(self)\n",
    "\n",
    "    def forward():\n",
    "        raise NotImplementedError\n",
    "\n",
    "\n",
    "class Input(Neuronio):\n",
    "    def __init__(self):\n",
    "        Neuronio.__init__(self)\n",
    "\n",
    "    def forward(self):\n",
    "        pass\n",
    "\n",
    "\n",
    "class Linear(Neuronio):\n",
    "    def __init__(self, X, W, b):\n",
    "        Neuronio.__init__(self, [X, W, b])\n",
    "\n",
    "    def forward(self):\n",
    "        X = self.nodes_entrada[0].valor\n",
    "        W = self.nodes_entrada[1].valor\n",
    "        b = self.nodes_entrada[2].valor\n",
    "        self.valor = np.dot(X, W) + b\n",
    "\n",
    "\n",
    "class Sigmoid(Neuronio):\n",
    "    def __init__(self, node):\n",
    "        Neuronio.__init__(self, [node])\n",
    "\n",
    "    def _sigmoid(self, x):\n",
    "        return 1. / (1. + np.exp(-x)) \n",
    "\n",
    "    def forward(self):\n",
    "        input_value = self.nodes_entrada[0].valor\n",
    "        self.valor = self._sigmoid(input_value)\n",
    "\n",
    "\n",
    "def topological_sort(feed_dict):\n",
    "    \"\"\"\n",
    "    Classifica os nós em ordem topológica usando o Algoritmo de Kahn.\n",
    "\n",
    "    `Feed_dict`: um dicionário em que a chave é um nó ` Input` e o valor é o respectivo feed de valor para esse nó.\n",
    "\n",
    "    Retorna uma lista de nós ordenados.\n",
    "    \"\"\"\n",
    "\n",
    "    input_nodes = [n for n in feed_dict.keys()]\n",
    "\n",
    "    G = {}\n",
    "    nodes = [n for n in input_nodes]\n",
    "    while len(nodes) > 0:\n",
    "        n = nodes.pop(0)\n",
    "        if n not in G:\n",
    "            G[n] = {'in': set(), 'out': set()}\n",
    "        for m in n.nodes_saida:\n",
    "            if m not in G:\n",
    "                G[m] = {'in': set(), 'out': set()}\n",
    "            G[n]['out'].add(m)\n",
    "            G[m]['in'].add(n)\n",
    "            nodes.append(m)\n",
    "\n",
    "    L = []\n",
    "    S = set(input_nodes)\n",
    "    while len(S) > 0:\n",
    "        n = S.pop()\n",
    "\n",
    "        if isinstance(n, Input):\n",
    "            n.valor = feed_dict[n]\n",
    "\n",
    "        L.append(n)\n",
    "        for m in n.nodes_saida:\n",
    "            G[n]['out'].remove(m)\n",
    "            G[m]['in'].remove(n)\n",
    "            if len(G[m]['in']) == 0:\n",
    "                S.add(m)\n",
    "    return L\n",
    "\n",
    "\n",
    "def forward_pass(output_node, sorted_nodes):\n",
    "    \"\"\"\n",
    "   Executa uma passagem para a frente através de uma lista de nós ordenados.\n",
    "\n",
    "     Argumentos:\n",
    "\n",
    "         `Output_node`: Um nó no grafo, deve ser o nó de saída.\n",
    "         `Sorted_nodes`: uma lista topologicamente ordenada de nós.\n",
    "\n",
    "     Retorna o valor do Nó de saída\n",
    "    \"\"\"\n",
    "\n",
    "    for n in sorted_nodes:\n",
    "        n.forward()\n",
    "\n",
    "    return output_node.valor"
   ]
  },
  {
   "cell_type": "markdown",
   "metadata": {},
   "source": [
    "Pode parecer estranho que _sigmoid seja um método separado dentro da classe Sigmoid. A função sigmoid é realmente uma parte de sua própria derivada. Manter _sigmoid separado, significa que você não terá que implementá-lo duas vezes durante a fase de backpropagation."
   ]
  },
  {
   "cell_type": "markdown",
   "metadata": {},
   "source": [
    "### Executando o Grafo"
   ]
  },
  {
   "cell_type": "code",
   "execution_count": 2,
   "metadata": {},
   "outputs": [
    {
     "name": "stdout",
     "output_type": "stream",
     "text": [
      "[[2.26032430e-06 9.99983299e-01]\n",
      " [2.78946809e-10 9.99999959e-01]]\n"
     ]
    }
   ],
   "source": [
    "# Este script cria e executa o grafo \n",
    "\n",
    "import numpy as np\n",
    "\n",
    "# Parâmetros de entrada\n",
    "inputs, weights, bias = Input(), Input(), Input()\n",
    "\n",
    "# Função Linear\n",
    "f = Linear(inputs, weights, bias)\n",
    "g = Sigmoid(f)\n",
    "\n",
    "# Atribuindo valores aos parâmetros\n",
    "x = np.array([[-2., -1.], [-2, -4]])\n",
    "w = np.array([[4., -6], [3., -2]])\n",
    "b = np.array([-2., -3])\n",
    "\n",
    "# Define o feed_dict\n",
    "feed_dict = {inputs: x, weights: w, bias: b}\n",
    "\n",
    "# Ordena as entradas para execução\n",
    "graph = topological_sort(feed_dict)\n",
    "\n",
    "# Gera o output com o forward_pass. Perceba que usamos a função g e não a f aqui!!!!!\n",
    "output = forward_pass(g, graph)\n",
    "\n",
    "# Print\n",
    "print(output)"
   ]
  },
  {
   "cell_type": "markdown",
   "metadata": {},
   "source": [
    "## Fim"
   ]
  }
 ],
 "metadata": {
  "kernelspec": {
   "display_name": "Python 3 (ipykernel)",
   "language": "python",
   "name": "python3"
  },
  "language_info": {
   "codemirror_mode": {
    "name": "ipython",
    "version": 3
   },
   "file_extension": ".py",
   "mimetype": "text/x-python",
   "name": "python",
   "nbconvert_exporter": "python",
   "pygments_lexer": "ipython3",
   "version": "3.7.11"
  }
 },
 "nbformat": 4,
 "nbformat_minor": 4
}
