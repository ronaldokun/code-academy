{
 "cells": [
  {
   "cell_type": "markdown",
   "metadata": {},
   "source": [
    "# <font color='blue'>Data Science Academy</font>\n",
    "# <font color='blue'>Deep Learning I</font>"
   ]
  },
  {
   "cell_type": "markdown",
   "metadata": {},
   "source": [
    "## Construindo Um Algoritmo Para Rede Neural Multilayer Perceptron"
   ]
  },
  {
   "cell_type": "code",
   "execution_count": 1,
   "metadata": {},
   "outputs": [
    {
     "data": {
      "text/html": [
       "<img src=\"Neuronio01.png\"/>"
      ],
      "text/plain": [
       "<IPython.core.display.Image object>"
      ]
     },
     "execution_count": 1,
     "metadata": {},
     "output_type": "execute_result"
    }
   ],
   "source": [
    "from IPython.display import Image\n",
    "Image(url = 'Neuronio01.png')"
   ]
  },
  {
   "cell_type": "code",
   "execution_count": 2,
   "metadata": {},
   "outputs": [
    {
     "data": {
      "text/html": [
       "<img src=\"Neuronio02.png\"/>"
      ],
      "text/plain": [
       "<IPython.core.display.Image object>"
      ]
     },
     "execution_count": 2,
     "metadata": {},
     "output_type": "execute_result"
    }
   ],
   "source": [
    "from IPython.display import Image\n",
    "Image(url = 'Neuronio02.png')"
   ]
  },
  {
   "cell_type": "code",
   "execution_count": 1,
   "metadata": {},
   "outputs": [
    {
     "data": {
      "text/html": [
       "<img src=\"imgs/17-MLP06-01.png\"/>"
      ],
      "text/plain": [
       "<IPython.core.display.Image object>"
      ]
     },
     "execution_count": 1,
     "metadata": {},
     "output_type": "execute_result"
    }
   ],
   "source": [
    "from IPython.display import Image\n",
    "Image(url = 'imgs/17-MLP06-01.png')"
   ]
  },
  {
   "cell_type": "code",
   "execution_count": 2,
   "metadata": {},
   "outputs": [
    {
     "data": {
      "text/html": [
       "<img src=\"imgs/17-MLP06-02.png\"/>"
      ],
      "text/plain": [
       "<IPython.core.display.Image object>"
      ]
     },
     "execution_count": 2,
     "metadata": {},
     "output_type": "execute_result"
    }
   ],
   "source": [
    "from IPython.display import Image\n",
    "Image(url = 'imgs/17-MLP06-02.png')"
   ]
  },
  {
   "cell_type": "markdown",
   "metadata": {},
   "source": [
    "### Otimização com Gradiente Descendente "
   ]
  },
  {
   "cell_type": "code",
   "execution_count": 6,
   "metadata": {
    "collapsed": true,
    "jupyter": {
     "outputs_hidden": true
    }
   },
   "outputs": [],
   "source": [
    "import numpy as np\n",
    "\n",
    "\n",
    "class Neuronio(object):\n",
    "    def __init__(self, nodes_entrada = []):\n",
    "        self.nodes_entrada = nodes_entrada\n",
    "        self.nodes_saida = []\n",
    "        self.valor = None\n",
    "        self.gradientes = {}\n",
    "        for n in nodes_entrada:\n",
    "            n.nodes_saida.append(self)\n",
    "\n",
    "    def forward(self):\n",
    "        raise NotImplementedError\n",
    "\n",
    "    def backward(self):\n",
    "        raise NotImplementedError\n",
    "\n",
    "\n",
    "class Input(Neuronio):\n",
    "    def __init__(self):\n",
    "        Neuronio.__init__(self)\n",
    "\n",
    "    def forward(self):\n",
    "        pass\n",
    "\n",
    "    def backward(self):\n",
    "        # Um nó de entrada não possui inputs e assim o gradiente (derivada) é zero.\n",
    "        # A palavra reservada, `self`, é referência a este objeto.\n",
    "        self.gradientes = {self: 0}\n",
    "        \n",
    "        # Os pesos e o bias podem ser entradas, então você precisa somar o gradiente, dos gradientes de saída.\n",
    "        for n in self.nodes_saida:\n",
    "            grad_cost = n.gradientes[self]\n",
    "            self.gradientes[self] += grad_cost \n",
    "\n",
    "\n",
    "class Linear(Neuronio):\n",
    "    def __init__(self, X, W, b):\n",
    "        Neuronio.__init__(self, [X, W, b])\n",
    "\n",
    "    def forward(self):\n",
    "        X = self.nodes_entrada[0].valor\n",
    "        W = self.nodes_entrada[1].valor\n",
    "        b = self.nodes_entrada[2].valor\n",
    "        self.valor = np.dot(X, W) + b\n",
    "\n",
    "    def backward(self):\n",
    "        \"\"\"\n",
    "        Calcula o gradiente com base nos valores de saída.\n",
    "        \"\"\"\n",
    "        # Inicializa um parcial para cada um dos nodes_entrada.\n",
    "        self.gradientes = {n: np.zeros_like(n.valor) for n in self.nodes_entrada}\n",
    "        \n",
    "        # Percorrendo as saídas. \n",
    "        # O gradiente mudará dependendo de cada saída, então os gradientes são somados em todas as saídas.\n",
    "        for n in self.nodes_saida:\n",
    "            \n",
    "            # Obtendo parcial do custo em relação a este nó.\n",
    "            grad_cost = n.gradientes[self]\n",
    "            \n",
    "            # Definindo a parcial da perda em relação às entradas deste nó.\n",
    "            self.gradientes[self.nodes_entrada[0]] += np.dot(grad_cost, self.nodes_entrada[1].valor.T)\n",
    "            \n",
    "            # Definindo a parcial da perda em relação aos pesos deste nó.\n",
    "            self.gradientes[self.nodes_entrada[1]] += np.dot(self.nodes_entrada[0].valor.T, grad_cost)\n",
    "            \n",
    "            # Definindo a parcial da perda em relação ao bias deste nó.\n",
    "            self.gradientes[self.nodes_entrada[2]] += np.sum(grad_cost, axis = 0, keepdims = False)\n",
    "\n",
    "\n",
    "class Sigmoid(Neuronio):\n",
    "    def __init__(self, node):\n",
    "        Neuronio.__init__(self, [node])\n",
    "\n",
    "    def _sigmoid(self, x):\n",
    "        return 1. / (1. + np.exp(-x))\n",
    "\n",
    "    def forward(self):\n",
    "        input_value = self.nodes_entrada[0].valor\n",
    "        self.valor = self._sigmoid(input_value)\n",
    "\n",
    "    def backward(self):\n",
    "        \"\"\"\n",
    "        Calcula o gradiente usando a derivada da função sigmoide.\n",
    "        \n",
    "        O método backward da classe Sigmoid, soma as derivadas (é uma derivada normal quando há apenas uma variável) \n",
    "        em relação à única entrada sobre todos os nós de saída.\n",
    "        \"\"\"\n",
    "        # Inicializa os gradientes com 0.\n",
    "        self.gradientes = {n: np.zeros_like(n.valor) for n in self.nodes_entrada}\n",
    "        \n",
    "        # O gradiente mudará dependendo de cada saída e então os gradientes são somados em todas as saídas.\n",
    "        for n in self.nodes_saida:\n",
    "            grad_cost = n.gradientes[self]\n",
    "            sigmoid = self.valor\n",
    "            self.gradientes[self.nodes_entrada[0]] += sigmoid * (1 - sigmoid) * grad_cost\n",
    "\n",
    "\n",
    "class MSE(Neuronio):\n",
    "    def __init__(self, y, a):\n",
    "        Neuronio.__init__(self, [y, a])\n",
    "\n",
    "    def forward(self):\n",
    "        y = self.nodes_entrada[0].valor.reshape(-1, 1)\n",
    "        a = self.nodes_entrada[1].valor.reshape(-1, 1)\n",
    "\n",
    "        self.m = self.nodes_entrada[0].valor.shape[0]\n",
    "        \n",
    "        # Salva o resultado para o backward.\n",
    "        self.diff = y - a\n",
    "        self.value = np.mean(self.diff**2)\n",
    "\n",
    "    def backward(self):\n",
    "        \"\"\"\n",
    "        Calcula o gradiente do custo.\n",
    "\n",
    "         Este é o nó final da rede para os nós de saída\n",
    "        \"\"\"\n",
    "        self.gradientes[self.nodes_entrada[0]] = (2 / self.m) * self.diff\n",
    "        self.gradientes[self.nodes_entrada[1]] = (-2 / self.m) * self.diff\n",
    "\n",
    "\n",
    "def topological_sort(feed_dict):\n",
    "    \"\"\"\n",
    "    Classifica os nós em ordem topológica usando o Algoritmo de Kahn.\n",
    "\n",
    "    `Feed_dict`: um dicionário em que a chave é um nó `Input` e o valor é o respectivo feed de valor para esse nó.\n",
    "\n",
    "    Retorna uma lista de nós ordenados.\n",
    "    \"\"\"\n",
    "\n",
    "    input_nodes = [n for n in feed_dict.keys()]\n",
    "\n",
    "    G = {}\n",
    "    nodes = [n for n in input_nodes]\n",
    "    while len(nodes) > 0:\n",
    "        n = nodes.pop(0)\n",
    "        if n not in G:\n",
    "            G[n] = {'in': set(), 'out': set()}\n",
    "        for m in n.nodes_saida:\n",
    "            if m not in G:\n",
    "                G[m] = {'in': set(), 'out': set()}\n",
    "            G[n]['out'].add(m)\n",
    "            G[m]['in'].add(n)\n",
    "            nodes.append(m)\n",
    "\n",
    "    L = []\n",
    "    S = set(input_nodes)\n",
    "    while len(S) > 0:\n",
    "        n = S.pop()\n",
    "\n",
    "        if isinstance(n, Input):\n",
    "            n.valor = feed_dict[n]\n",
    "\n",
    "        L.append(n)\n",
    "        for m in n.nodes_saida:\n",
    "            G[n]['out'].remove(m)\n",
    "            G[m]['in'].remove(n)\n",
    "            if len(G[m]['in']) == 0:\n",
    "                S.add(m)\n",
    "    return L\n",
    "\n",
    "\n",
    "def forward_and_backward(graph):\n",
    "    \"\"\"\n",
    "   Executa uma passagem para a frente e uma passagem para trás através de uma lista de nós ordenados.\n",
    "\n",
    "     Argumentos:\n",
    "\n",
    "         `Graph`: O resultado de `topological_sort`.\n",
    "    \"\"\"\n",
    "\n",
    "    # Forward pass\n",
    "    for n in graph:\n",
    "        n.forward()\n",
    "\n",
    "    # Backward pass\n",
    "    # O valor negativo no slice permite fazer uma cópia da mesma lista na ordem inversa.\n",
    "    for n in graph[::-1]:\n",
    "        n.backward()"
   ]
  },
  {
   "cell_type": "markdown",
   "metadata": {},
   "source": [
    "### Executando o Grafo"
   ]
  },
  {
   "cell_type": "code",
   "execution_count": 7,
   "metadata": {},
   "outputs": [
    {
     "name": "stdout",
     "output_type": "stream",
     "text": [
      "[array([[ -3.34017280e-05,  -5.01025919e-05],\n",
      "       [ -6.68040138e-05,  -1.00206021e-04]]), array([[ 0.9999833],\n",
      "       [ 1.9999833]]), array([[  5.01028709e-05],\n",
      "       [  1.00205742e-04]]), array([ -5.01028709e-05])]\n"
     ]
    }
   ],
   "source": [
    "import numpy as np\n",
    "\n",
    "# Parâmetros de entrada\n",
    "X, W, b = Input(), Input(), Input()\n",
    "\n",
    "# Operações\n",
    "y = Input()\n",
    "f = Linear(X, W, b)\n",
    "a = Sigmoid(f)\n",
    "cost = MSE(y, a)\n",
    "\n",
    "# Atribuindo valores aos parâmetros\n",
    "entrada = np.array([[-1., -2.], [-1, -2]])\n",
    "pesos = np.array([[2.], [3.]])\n",
    "bias = np.array([-3.])\n",
    "saida = np.array([1, 2])\n",
    "\n",
    "# Define o feed_dict\n",
    "feed_dict = {X: entrada, y: saida, W: pesos, b: bias}\n",
    "\n",
    "# Ordena as entradas para execução\n",
    "graph = topological_sort(feed_dict)\n",
    "\n",
    "# Forward e Backward\n",
    "forward_and_backward(graph)\n",
    "\n",
    "# Retorna os gradientes de cada input\n",
    "gradientes = [t.gradientes[t] for t in [X, y, W, b]]\n",
    "\n",
    "# print\n",
    "print(gradientes)"
   ]
  },
  {
   "cell_type": "markdown",
   "metadata": {},
   "source": [
    "## Fim"
   ]
  }
 ],
 "metadata": {
  "kernelspec": {
   "display_name": "Python 3 (ipykernel)",
   "language": "python",
   "name": "python3"
  },
  "language_info": {
   "codemirror_mode": {
    "name": "ipython",
    "version": 3
   },
   "file_extension": ".py",
   "mimetype": "text/x-python",
   "name": "python",
   "nbconvert_exporter": "python",
   "pygments_lexer": "ipython3",
   "version": "3.7.11"
  }
 },
 "nbformat": 4,
 "nbformat_minor": 4
}
