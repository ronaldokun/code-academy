{
 "cells": [
  {
   "cell_type": "markdown",
   "metadata": {},
   "source": [
    "# <font color='blue'>Data Science Academy</font>\n",
    "# <font color='blue'>Deep Learning I</font>"
   ]
  },
  {
   "cell_type": "markdown",
   "metadata": {},
   "source": [
    "## Construindo Um Algoritmo Para Rede Neural Multilayer Perceptron"
   ]
  },
  {
   "cell_type": "markdown",
   "metadata": {},
   "source": [
    "### Gradient Descent"
   ]
  },
  {
   "cell_type": "code",
   "execution_count": 1,
   "metadata": {},
   "outputs": [],
   "source": [
    "# Equação para atualização pelo gradiente\n",
    "def gradient_descent_update(x, gradx, learning_rate):\n",
    "    x = x - learning_rate * gradx\n",
    "    return x"
   ]
  },
  {
   "cell_type": "code",
   "execution_count": 2,
   "metadata": {},
   "outputs": [
    {
     "name": "stdout",
     "output_type": "stream",
     "text": [
      "EPOCH 0: Cost = 52896536.000, x = 14546.000\n",
      "EPOCH 1: Cost = 52685161.470, x = 14516.908\n",
      "EPOCH 2: Cost = 52474631.593, x = 14487.874\n",
      "EPOCH 3: Cost = 52264942.993, x = 14458.898\n",
      "EPOCH 4: Cost = 52056092.309, x = 14429.981\n",
      "EPOCH 5: Cost = 51848076.192, x = 14401.121\n",
      "EPOCH 6: Cost = 51640891.307, x = 14372.318\n",
      "EPOCH 7: Cost = 51434534.334, x = 14343.574\n",
      "EPOCH 8: Cost = 51229001.962, x = 14314.887\n",
      "EPOCH 9: Cost = 51024290.899, x = 14286.257\n",
      "EPOCH 10: Cost = 50820397.860, x = 14257.684\n",
      "EPOCH 11: Cost = 50617319.578, x = 14229.169\n",
      "EPOCH 12: Cost = 50415052.797, x = 14200.711\n",
      "EPOCH 13: Cost = 50213594.274, x = 14172.309\n",
      "EPOCH 14: Cost = 50012940.779, x = 14143.965\n",
      "EPOCH 15: Cost = 49813089.096, x = 14115.677\n",
      "EPOCH 16: Cost = 49614036.020, x = 14087.445\n",
      "EPOCH 17: Cost = 49415778.360, x = 14059.270\n",
      "EPOCH 18: Cost = 49218312.938, x = 14031.152\n",
      "EPOCH 19: Cost = 49021636.587, x = 14003.090\n",
      "EPOCH 20: Cost = 48825746.155, x = 13975.083\n",
      "EPOCH 21: Cost = 48630638.502, x = 13947.133\n",
      "EPOCH 22: Cost = 48436310.498, x = 13919.239\n",
      "EPOCH 23: Cost = 48242759.029, x = 13891.401\n",
      "EPOCH 24: Cost = 48049980.992, x = 13863.618\n",
      "EPOCH 25: Cost = 47857973.296, x = 13835.890\n",
      "EPOCH 26: Cost = 47666732.863, x = 13808.219\n",
      "EPOCH 27: Cost = 47476256.626, x = 13780.602\n",
      "EPOCH 28: Cost = 47286541.533, x = 13753.041\n",
      "EPOCH 29: Cost = 47097584.541, x = 13725.535\n",
      "EPOCH 30: Cost = 46909382.621, x = 13698.084\n",
      "EPOCH 31: Cost = 46721932.756, x = 13670.688\n",
      "EPOCH 32: Cost = 46535231.941, x = 13643.346\n",
      "EPOCH 33: Cost = 46349277.182, x = 13616.060\n",
      "EPOCH 34: Cost = 46164065.498, x = 13588.828\n",
      "EPOCH 35: Cost = 45979593.920, x = 13561.650\n",
      "EPOCH 36: Cost = 45795859.491, x = 13534.527\n",
      "EPOCH 37: Cost = 45612859.265, x = 13507.458\n",
      "EPOCH 38: Cost = 45430590.307, x = 13480.443\n",
      "EPOCH 39: Cost = 45249049.696, x = 13453.482\n",
      "EPOCH 40: Cost = 45068234.521, x = 13426.575\n",
      "EPOCH 41: Cost = 44888141.884, x = 13399.722\n",
      "EPOCH 42: Cost = 44708768.897, x = 13372.922\n",
      "EPOCH 43: Cost = 44530112.685, x = 13346.176\n",
      "EPOCH 44: Cost = 44352170.382, x = 13319.484\n",
      "EPOCH 45: Cost = 44174939.137, x = 13292.845\n",
      "EPOCH 46: Cost = 43998416.109, x = 13266.259\n",
      "EPOCH 47: Cost = 43822598.466, x = 13239.727\n",
      "EPOCH 48: Cost = 43647483.390, x = 13213.247\n",
      "EPOCH 49: Cost = 43473068.075, x = 13186.821\n",
      "EPOCH 50: Cost = 43299349.723, x = 13160.447\n"
     ]
    }
   ],
   "source": [
    "\"\"\"\n",
    "Dado o ponto de partida de qualquer valor de `x`, a descida do gradiente \n",
    "deve ser capaz de encontrar o valor mínimo de x para a função de custo `f` definida abaixo.\n",
    "\"\"\"\n",
    "import random\n",
    "\n",
    "def f(x):\n",
    "    \"\"\"\n",
    "    Função quadrática.\n",
    "\n",
    "     É fácil ver que o valor mínimo da função é 7 quando é x = 0.\n",
    "    \"\"\"\n",
    "    return x**2 + 7\n",
    "\n",
    "\n",
    "def df(x):\n",
    "    \"\"\"\n",
    "    Derivada de `f` em relação a `x`.\n",
    "    \"\"\"\n",
    "    return 2*x\n",
    "\n",
    "\n",
    "# Número aleatório entre 0 e 10.000.\n",
    "x = random.randint(0, 10000)\n",
    "\n",
    "# Definindo Learning Rate e Número de Epochs\n",
    "learning_rate = 0.001\n",
    "epochs = 50\n",
    "\n",
    "# Gradiente sendo aplicado a cada passada\n",
    "for i in range(epochs + 1):\n",
    "    cost = f(x)\n",
    "    gradx = df(x)\n",
    "    print(\"EPOCH {}: Cost = {:.3f}, x = {:.3f}\".format(i, cost, gradx))\n",
    "    x = gradient_descent_update(x, gradx, learning_rate)"
   ]
  },
  {
   "cell_type": "markdown",
   "metadata": {},
   "source": [
    "## Fim"
   ]
  }
 ],
 "metadata": {
  "kernelspec": {
   "display_name": "Python 3",
   "language": "python",
   "name": "python3"
  },
  "language_info": {
   "codemirror_mode": {
    "name": "ipython",
    "version": 3
   },
   "file_extension": ".py",
   "mimetype": "text/x-python",
   "name": "python",
   "nbconvert_exporter": "python",
   "pygments_lexer": "ipython3",
   "version": "3.7.4"
  }
 },
 "nbformat": 4,
 "nbformat_minor": 2
}
