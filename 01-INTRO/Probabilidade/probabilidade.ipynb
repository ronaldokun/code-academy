{
 "cells": [
  {
   "cell_type": "markdown",
   "metadata": {},
   "source": [
    "# <font color='blue'>Data Science Academy</font>\n",
    "# <font color='blue'>Introdução à Inteligência Artificial</font>\n",
    "\n",
    "## Probabilidade"
   ]
  },
  {
   "cell_type": "markdown",
   "metadata": {},
   "source": [
    "Este notebook faz uso das implementações no módulo probabilidade.py. Vamos importar tudo do módulo de probabilidade. Poderá ser útil ver a origem de algumas das nossas implementações. "
   ]
  },
  {
   "cell_type": "code",
   "execution_count": 1,
   "metadata": {},
   "outputs": [],
   "source": [
    "from probabilidade import *"
   ]
  },
  {
   "cell_type": "markdown",
   "metadata": {
    "collapsed": true
   },
   "source": [
    "## Distribuição de probabilidade\n",
    "\n",
    "Vamos começar especificando distribuições de probabilidade discretas. A classe **ProbDist** define uma distribuição de probabilidade discreta. Nomeamos nossa variável aleatória e então atribuímos probabilidades aos diferentes valores da variável aleatória. Atribuir probabilidades aos valores funciona de forma semelhante à de usar um dicionário com as chaves sendo o Valor e nós atribuímos a ele a probabilidade. Isso é possível por causa dos métodos mágicos **_ _getitem_ _**  e **_ _setitem_ _** que armazenam as probabilidades no prob dict do objeto. Você pode manter a janela de origem aberta ao lado enquanto toca com o resto do código para obter uma melhor compreensão."
   ]
  },
  {
   "cell_type": "code",
   "execution_count": 2,
   "metadata": {},
   "outputs": [],
   "source": [
    "%psource ProbDist"
   ]
  },
  {
   "cell_type": "code",
   "execution_count": 3,
   "metadata": {},
   "outputs": [],
   "source": [
    "p = ProbDist('Flip')\n",
    "p['H'], p['T'] = 0.25, 0.75\n",
    "p['T']"
   ]
  },
  {
   "cell_type": "markdown",
   "metadata": {},
   "source": [
    "O primeiro parâmetro do construtor ** varname ** tem um valor padrão. O argumento de palavra-chave ** freqs ** pode ser um dicionário de valores de variável aleatória: probabilidade. Estes são então normalizados de tal forma que os valores de probabilidade somam 1 usando o método ** normalize **."
   ]
  },
  {
   "cell_type": "code",
   "execution_count": 4,
   "metadata": {},
   "outputs": [
    {
     "data": {
      "text/plain": [
       "'?'"
      ]
     },
     "execution_count": 4,
     "metadata": {},
     "output_type": "execute_result"
    }
   ],
   "source": [
    "p = ProbDist(freqs={'low': 125, 'medium': 375, 'high': 500})\n",
    "p.varname"
   ]
  },
  {
   "cell_type": "code",
   "execution_count": 5,
   "metadata": {},
   "outputs": [
    {
     "data": {
      "text/plain": [
       "(0.125, 0.375, 0.5)"
      ]
     },
     "execution_count": 5,
     "metadata": {},
     "output_type": "execute_result"
    }
   ],
   "source": [
    "(p['low'], p['medium'], p['high'])"
   ]
  },
  {
   "cell_type": "markdown",
   "metadata": {},
   "source": [
    "Além do ** prob ** e ** varname **, o objeto também acompanha separadamente todos os valores da distribuição em uma lista chamada ** valores **. Cada vez que um novo valor é atribuído uma probabilidade que é acrescentado a esta lista, Isto é feito dentro do método ** _ _setitem_ _ **."
   ]
  },
  {
   "cell_type": "code",
   "execution_count": 6,
   "metadata": {},
   "outputs": [
    {
     "data": {
      "text/plain": [
       "['low', 'medium', 'high']"
      ]
     },
     "execution_count": 6,
     "metadata": {},
     "output_type": "execute_result"
    }
   ],
   "source": [
    "p.values"
   ]
  },
  {
   "cell_type": "markdown",
   "metadata": {},
   "source": [
    "A distribuição por padrão não é normalizada se os valores são adicionados incrementalmente. Podemos ainda forçar a normalização invocando o método ** normalize **."
   ]
  },
  {
   "cell_type": "code",
   "execution_count": 7,
   "metadata": {},
   "outputs": [
    {
     "data": {
      "text/plain": [
       "(50, 114, 64)"
      ]
     },
     "execution_count": 7,
     "metadata": {},
     "output_type": "execute_result"
    }
   ],
   "source": [
    "p = ProbDist('Y')\n",
    "p['Cat'] = 50\n",
    "p['Dog'] = 114\n",
    "p['Mice'] = 64\n",
    "(p['Cat'], p['Dog'], p['Mice'])"
   ]
  },
  {
   "cell_type": "code",
   "execution_count": 8,
   "metadata": {},
   "outputs": [
    {
     "data": {
      "text/plain": [
       "(0.21929824561403508, 0.5, 0.2807017543859649)"
      ]
     },
     "execution_count": 8,
     "metadata": {},
     "output_type": "execute_result"
    }
   ],
   "source": [
    "p.normalize()\n",
    "(p['Cat'], p['Dog'], p['Mice'])"
   ]
  },
  {
   "cell_type": "markdown",
   "metadata": {},
   "source": [
    "Também é possível exibir os valores aproximados até decimais usando o método ** show_approx **."
   ]
  },
  {
   "cell_type": "code",
   "execution_count": 9,
   "metadata": {},
   "outputs": [
    {
     "data": {
      "text/plain": [
       "'Cat: 0.219, Dog: 0.5, Mice: 0.281'"
      ]
     },
     "execution_count": 9,
     "metadata": {},
     "output_type": "execute_result"
    }
   ],
   "source": [
    "p.show_approx()"
   ]
  },
  {
   "cell_type": "markdown",
   "metadata": {},
   "source": [
    "## Distribuição de Probabilidade Conjunta\n",
    "\n",
    "A função auxiliar ** event_values ** retorna uma tupla dos valores das variáveis no evento. Um evento é especificado por um dict onde as chaves são os nomes das variáveis e os valores correspondentes são o valor da variável. As variáveis são especificadas com uma lista. A ordenação da tupla retornada é a mesma das variáveis.\n",
    "\n",
    "\n",
    "Alternativamente, se o evento é especificado por uma lista ou tupla de comprimento igual das variáveis. Em seguida, a tupla de eventos é retornada como está."
   ]
  },
  {
   "cell_type": "code",
   "execution_count": 10,
   "metadata": {},
   "outputs": [
    {
     "data": {
      "text/plain": [
       "(8, 10)"
      ]
     },
     "execution_count": 10,
     "metadata": {},
     "output_type": "execute_result"
    }
   ],
   "source": [
    "event = {'A': 10, 'B': 9, 'C': 8}\n",
    "variables = ['C', 'A']\n",
    "event_values (event, variables)"
   ]
  },
  {
   "cell_type": "markdown",
   "metadata": {
    "collapsed": true
   },
   "source": [
    "Um modelo de probabilidade é completamente determinado pela distribuição conjunta para todas as variáveis aleatórias. O módulo de probabilidade implementa estas como a classe ** JointProbDist ** que herda da classe ** ProbDist **. Esta classe especifica uma distribuição de probabilidade discreta sobre um conjunto de variáveis."
   ]
  },
  {
   "cell_type": "code",
   "execution_count": 11,
   "metadata": {},
   "outputs": [],
   "source": [
    "%psource JointProbDist"
   ]
  },
  {
   "cell_type": "markdown",
   "metadata": {},
   "source": [
    "Valores para uma Distribuição Conjunta é uma tupla ordenada em que cada item corresponde ao valor associado a uma determinada variável. Para a Distribuição Conjunta de X, Y onde X, Y tomam valores inteiros isto pode ser algo como (18, 19).\n",
    "\n",
    "Para especificar uma distribuição conjunta, precisamos primeiro de uma lista ordenada de variáveis."
   ]
  },
  {
   "cell_type": "code",
   "execution_count": 12,
   "metadata": {},
   "outputs": [
    {
     "data": {
      "text/plain": [
       "P(['X', 'Y'])"
      ]
     },
     "execution_count": 12,
     "metadata": {},
     "output_type": "execute_result"
    }
   ],
   "source": [
    "variables = ['X', 'Y']\n",
    "j = JointProbDist(variables)\n",
    "j"
   ]
  },
  {
   "cell_type": "markdown",
   "metadata": {},
   "source": [
    "Como a classe ** ProbDist ** ** JointProbDist ** também emprega métodos mágicos para atribuir probabilidade a valores diferentes.\n",
    "A probabilidade pode ser atribuída em qualquer um dos dois formatos para todos os valores possíveis da distribuição. O ** event_values ** chama ** _ _getitem_ _ ** e ** _ _setitem_ _ ** que fazem o processamento necessário para fazer este trabalho."
   ]
  },
  {
   "cell_type": "code",
   "execution_count": 13,
   "metadata": {},
   "outputs": [
    {
     "data": {
      "text/plain": [
       "(0.2, 0.5)"
      ]
     },
     "execution_count": 13,
     "metadata": {},
     "output_type": "execute_result"
    }
   ],
   "source": [
    "j[1,1] = 0.2\n",
    "j[dict(X=0, Y=1)] = 0.5\n",
    "\n",
    "(j[1,1], j[0,1])"
   ]
  },
  {
   "cell_type": "markdown",
   "metadata": {},
   "source": [
    "Também é possível listar todos os valores de uma determinada variável usando o método ** values **."
   ]
  },
  {
   "cell_type": "code",
   "execution_count": 14,
   "metadata": {},
   "outputs": [
    {
     "data": {
      "text/plain": [
       "[1, 0]"
      ]
     },
     "execution_count": 14,
     "metadata": {},
     "output_type": "execute_result"
    }
   ],
   "source": [
    "j.values('X')"
   ]
  },
  {
   "cell_type": "markdown",
   "metadata": {},
   "source": [
    "## Inferência usando distribuições de articulação completa\n",
    "\n",
    "Nesta seção usamos Distribuições de Articulação Completa para calcular a distribuição posterior dada alguma evidência. Nós representamos a evidência usando um dicionário python com variáveis como chaves dict e valores de dict que representam os valores.\n",
    "\n",
    "As funções ** enumerate_joint ** e ** enumerate_joint_ask ** implementam esta funcionalidade. "
   ]
  },
  {
   "cell_type": "code",
   "execution_count": 15,
   "metadata": {},
   "outputs": [],
   "source": [
    "full_joint = JointProbDist(['Cavity', 'Toothache', 'Catch'])\n",
    "full_joint[dict(Cavity=True, Toothache=True, Catch=True)] = 0.108\n",
    "full_joint[dict(Cavity=True, Toothache=True, Catch=False)] = 0.012\n",
    "full_joint[dict(Cavity=True, Toothache=False, Catch=True)] = 0.016\n",
    "full_joint[dict(Cavity=True, Toothache=False, Catch=False)] = 0.064\n",
    "full_joint[dict(Cavity=False, Toothache=True, Catch=True)] = 0.072\n",
    "full_joint[dict(Cavity=False, Toothache=False, Catch=True)] = 0.144\n",
    "full_joint[dict(Cavity=False, Toothache=True, Catch=False)] = 0.008\n",
    "full_joint[dict(Cavity=False, Toothache=False, Catch=False)] = 0.576"
   ]
  },
  {
   "cell_type": "markdown",
   "metadata": {},
   "source": [
    "Vejamos agora a função ** enumerate_joint ** retorna a soma dessas entradas em P consistente com e, as variáveis fornecidas são as variáveis restantes de P (aquelas não em e). Aqui, P refere-se à distribuição completa da articulação. A função usa uma chamada recursiva em sua implementação. O primeiro parâmetro ** variáveis ** refere-se a variáveis restantes. A função em cada chamada recursiva mantém constante variável enquanto variando outros."
   ]
  },
  {
   "cell_type": "code",
   "execution_count": 16,
   "metadata": {},
   "outputs": [],
   "source": [
    "%psource enumerate_joint"
   ]
  },
  {
   "cell_type": "markdown",
   "metadata": {},
   "source": [
    "Vamos supor que queremos encontrar ** P (Toothache = True) **. Isso pode ser obtido pela marginalização. Podemos usar ** enumerate_joint ** para resolver este problema tomando Toothache = True como nossa evidência. ** enumerate_joint ** retornará a soma de probabilidades consistentes com evidências, isto é, Probabilidade Marginal."
   ]
  },
  {
   "cell_type": "code",
   "execution_count": 17,
   "metadata": {},
   "outputs": [
    {
     "data": {
      "text/plain": [
       "0.19999999999999998"
      ]
     },
     "execution_count": 17,
     "metadata": {},
     "output_type": "execute_result"
    }
   ],
   "source": [
    "evidence = dict(Toothache=True)\n",
    "variables = ['Cavity', 'Catch'] \n",
    "ans1 = enumerate_joint(variables, evidence, full_joint)\n",
    "ans1"
   ]
  },
  {
   "cell_type": "markdown",
   "metadata": {},
   "source": [
    "Você pode verificar o resultado da nossa definição da distribuição conjunta completa. Podemos usar a mesma função para encontrar probabilidades mais complexas como ** P (Cavidade = True e Toothache = True) **"
   ]
  },
  {
   "cell_type": "code",
   "execution_count": 18,
   "metadata": {},
   "outputs": [
    {
     "data": {
      "text/plain": [
       "0.12"
      ]
     },
     "execution_count": 18,
     "metadata": {},
     "output_type": "execute_result"
    }
   ],
   "source": [
    "evidence = dict(Cavity=True, Toothache=True)\n",
    "variables = ['Catch']\n",
    "ans2 = enumerate_joint(variables, evidence, full_joint)\n",
    "ans2"
   ]
  },
  {
   "cell_type": "markdown",
   "metadata": {},
   "source": [
    "Ser capaz de encontrar a soma das probabilidades que satisfazem provas dadas nos permite calcular probabilidades condicionais como **P(Cavity=True | Toothache=True)** e podemos reescrever assim $$P(Cavity=True | Toothache = True) = \\frac{P(Cavity=True \\ and \\ Toothache=True)}{P(Toothache=True)}$$\n",
    "\n",
    "Já calculamos o numerador e o denominador."
   ]
  },
  {
   "cell_type": "code",
   "execution_count": 19,
   "metadata": {},
   "outputs": [
    {
     "data": {
      "text/plain": [
       "0.6"
      ]
     },
     "execution_count": 19,
     "metadata": {},
     "output_type": "execute_result"
    }
   ],
   "source": [
    "ans2/ans1"
   ]
  },
  {
   "cell_type": "markdown",
   "metadata": {},
   "source": [
    "Podemos estar interessados na distribuição de probabilidade de uma determinada variável condicionada por alguma evidência. Isso pode envolver fazer cálculos como acima para cada possível valor da variável. Isso foi implementado de forma ligeiramente diferente usando a normalização na função ** enumerate_joint_ask ** que retorna uma distribuição de probabilidade sobre os valores da variável ** X **, dadas as observações {var: val} ** e **, no * * JointProbDist P **. "
   ]
  },
  {
   "cell_type": "code",
   "execution_count": 20,
   "metadata": {},
   "outputs": [],
   "source": [
    "%psource enumerate_joint_ask"
   ]
  },
  {
   "cell_type": "markdown",
   "metadata": {},
   "source": [
    "Let us find **P(Cavity | Toothache=True)** using **enumerate_joint_ask**."
   ]
  },
  {
   "cell_type": "code",
   "execution_count": 21,
   "metadata": {},
   "outputs": [
    {
     "data": {
      "text/plain": [
       "(0.6, 0.39999999999999997)"
      ]
     },
     "execution_count": 21,
     "metadata": {},
     "output_type": "execute_result"
    }
   ],
   "source": [
    "query_variable = 'Cavity'\n",
    "evidence = dict(Toothache=True)\n",
    "ans = enumerate_joint_ask(query_variable, evidence, full_joint)\n",
    "(ans[True], ans[False])"
   ]
  },
  {
   "cell_type": "markdown",
   "metadata": {},
   "source": [
    "Você pode verificar que o primeiro valor é o mesmo que obtivemos anteriormente por cálculo manual."
   ]
  },
  {
   "cell_type": "code",
   "execution_count": 22,
   "metadata": {},
   "outputs": [],
   "source": [
    "%psource likelihood_weighting"
   ]
  },
  {
   "cell_type": "markdown",
   "metadata": {},
   "source": [
    "**likelihood_weighting** Implementa o algoritmo para resolver nosso problema de inferência. O código é semelhante ao **rejection_sampling** Mas em vez de adicionar um para cada amostra, somamos o peso obtido de **weighted_sampling**."
   ]
  },
  {
   "cell_type": "code",
   "execution_count": 23,
   "metadata": {},
   "outputs": [
    {
     "data": {
      "text/plain": [
       "'False: 0.176, True: 0.824'"
      ]
     },
     "execution_count": 23,
     "metadata": {},
     "output_type": "execute_result"
    }
   ],
   "source": [
    "likelihood_weighting('Cloudy', dict(Rain=True), sprinkler, 200).show_approx()"
   ]
  },
  {
   "cell_type": "markdown",
   "metadata": {},
   "source": [
    "## Fim"
   ]
  }
 ],
 "metadata": {
  "anaconda-cloud": {},
  "kernelspec": {
   "display_name": "Python 3",
   "language": "python",
   "name": "python3"
  },
  "language_info": {
   "codemirror_mode": {
    "name": "ipython",
    "version": 3
   },
   "file_extension": ".py",
   "mimetype": "text/x-python",
   "name": "python",
   "nbconvert_exporter": "python",
   "pygments_lexer": "ipython3",
   "version": "3.7.4"
  }
 },
 "nbformat": 4,
 "nbformat_minor": 1
}
