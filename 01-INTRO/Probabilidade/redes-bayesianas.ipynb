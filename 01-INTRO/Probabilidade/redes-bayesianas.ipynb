{
 "cells": [
  {
   "cell_type": "markdown",
   "metadata": {},
   "source": [
    "# <font color='blue'>Data Science Academy</font>\n",
    "# <font color='blue'>Introdução à Inteligência Artificial</font>"
   ]
  },
  {
   "cell_type": "markdown",
   "metadata": {
    "button": false,
    "new_sheet": false,
    "run_control": {
     "read_only": false
    }
   },
   "source": [
    "## Probabilidade e Redes Bayesianas\n",
    "\n",
    "A teoria da probabilidade nos permite calcular a probabilidade de certos eventos, considerando pressupostos sobre os componentes do evento. Uma rede bayesiana, ou rede de Bayes para abreviar, é uma estrutura de dados para representar uma distribuição de probabilidade conjunta sobre diversas variáveis aleatórias, e fazer inferência sobre ela.\n",
    "\n",
    "Como exemplo, aqui está uma rede com cinco variáveis aleatórias, cada uma com sua tabela de probabilidade condicional, e com setas das variáveis pai a filho. A história é que há um alarme doméstico contra assaltante, que pode ser disparado por um assalto ou um terremoto. Se o alarme soar, um ou ambos os vizinhos, John e Mary, podem chamar (telefonar) o dono da casa para dizer que o alarme está soando.\n",
    "\n",
    "<p><img src=\"burglary.jpg\">\n",
    "\n",
    "Implementamos isso com a ajuda de sete classes Python:\n",
    "\n",
    "\n",
    "## `BayesNet()`\n",
    "\n",
    "Um `BayesNet` é um gráfico (como no diagrama acima) onde cada nó representa uma variável aleatória, e as arestas são links filho. Você pode construir um gráfico vazio com `BayesNet()`, então adicionar as variáveis uma de cada vez com a chamada de método `.add (` * nome_da_variável, nomes_de_mãe, cpt * `)`, onde os nomes são strings e cada um dos `Parent_names` já deve ter sido` .add`ed.\n",
    "\n",
    "## `Variable(`*name, cpt, parents*`)`\n",
    "\n",
    "Uma variável aleatória; As elipses no diagrama acima. O valor de uma variável depende do valor dos pais, de uma maneira probabilística especificada pela tabela de probabilidade condicional (CPT) da variável. Dados os pais, a variável é independente de todas as outras variáveis. Por exemplo, se eu sei que * Alarme * é verdadeiro ou falso, então eu sei a probabilidade de * JohnCalls *, e a evidência sobre as outras variáveis não me dará mais informações sobre * JohnCalls *. Cada linha do CPT usa a mesma ordem de variáveis que a lista de pais.\n",
    "Só vamos permitir variáveis com um domínio finito discreto; Não valores contínuos.\n",
    "\n",
    "## `ProbDist(`*mapping*`)`<br>`Factor(`*mapping*`)`\n",
    "\n",
    "Uma distribuição de probabilidade é um mapeamento de `{resultado: probabilidade}` para cada resultado de uma variável aleatória. Você pode dar `ProbDist` os mesmos argumentos que você daria para o ` dict` inicializador, por exemplo\n",
    "`ProbDist (sol = 0.6, chuva = 0.1, nublado = 0.3)`.\n",
    "Como atalho para Variáveis Booleanas, você pode dizer `ProbDist (0.95)` em vez de `ProbDist ({T: 0.95, F: 0.05})`.\n",
    "Em uma distribuição de probabilidade, cada valor está entre 0 e 1, e os valores somam 1.\n",
    "Um `Factor` é semelhante a uma distribuição de probabilidade, exceto que os valores não precisam somar a 1. Fatores\n",
    "São utilizados no método de inferência de eliminação variável.\n",
    "\n",
    "## `Evidence(`*mapping*`)`\n",
    "\n",
    "Um mapeamento dos pares `{Variable: value, ...}`, descrevendo os valores exatos para um conjunto de variáveis - as coisas que sabemos com certeza.\n",
    "\n",
    "## `CPTable(`*rows, parents*`)`\n",
    "\n",
    "Uma tabela de probabilidade condicional (ou * CPT *) descreve a probabilidade de cada possível valor de resultado de uma variável aleatória, dados os valores das variáveis-pai. A `CPTable` é a mapping,` {tuple: probdist, ...} `, onde cada tupla lista os valores de cada uma das variáveis pai, por ordem, e cada distribuição de probabilidade diz quais são os resultados possíveis, dados esses valores dos pais. O `CPTable` para * Alarm * no diagrama acima seria representado da seguinte forma:\n",
    "\n",
    "    CPTable({(T, T): .95,\n",
    "             (T, F): .94,\n",
    "             (F, T): .29,\n",
    "             (F, F): .001},\n",
    "            [Burglary, Earthquake])\n",
    "            \n",
    "Como você lê isso? Pegue a segunda linha, \"` (T, F): .94` \". Isto significa que quando o primeiro pai (`Burglary`) é verdadeiro, e o segundo pai (` Earthquake`) é falso, então a probabilidade de `Alarm` ser verdadeira é .94. Note que o .94 é uma abreviatura de `ProbDist ({T: .94, F: .06})`.\n",
    "            \n",
    "## `T = Bool(True); F = Bool(False)`\n",
    "\n",
    "Quando usei valores `bool` (` True` e `False`), tornou-se difícil ler as linhas em CPTables, porque as colunas não se alinhavam:\n",
    "\n",
    "     (True, True, False, False, False)\n",
    "     (False, False, False, False, True)\n",
    "     (True, False, False, True, True)\n",
    "     \n",
    "Portanto, criei a classe `Bool`, com constantes` T` e `F`, tais que` T == True` e `F == False`, e agora as linhas são mais fáceis de ler:\n",
    "\n",
    "     (T, T, F, F, F)\n",
    "     (F, F, F, F, T)\n",
    "     (T, F, F, T, T)\n",
    "     \n",
    "Aqui está o código para essas classes:"
   ]
  },
  {
   "cell_type": "code",
   "execution_count": 1,
   "metadata": {
    "button": false,
    "new_sheet": false,
    "run_control": {
     "read_only": false
    }
   },
   "outputs": [],
   "source": [
    "from collections import defaultdict, Counter\n",
    "import itertools\n",
    "import math\n",
    "import random\n",
    "\n",
    "class BayesNet(object):\n",
    "    \"Rede bayesiana: um gráfico de variáveis conectadas por links pai.\"\n",
    "     \n",
    "    def __init__(self): \n",
    "        self.variables = [] # Lista de variáveis, na ordem de classificação topológica dos pais\n",
    "        self.lookup = {}    # Mapeamento de pares {variable_name: variable}\n",
    "            \n",
    "    def add(self, name, parentnames, cpt):\n",
    "        \"Adicione uma nova Variável ao BayesNet. Os nomes dos pais devem ter sido adicionados anteriormente.\"\n",
    "        parents = [self.lookup[name] for name in parentnames]\n",
    "        var = Variable(name, cpt, parents)\n",
    "        self.variables.append(var)\n",
    "        self.lookup[name] = var\n",
    "        return self\n",
    "    \n",
    "class Variable(object):\n",
    "    \"Uma variável aleatória discreta; Condicional em zero ou mais variáveis pai.\"\n",
    "    \n",
    "    def __init__(self, name, cpt, parents=()):\n",
    "        \"Uma variável tem um nome, uma lista de variáveis pai e uma Tabela de Probabilidade Condicional.\"\n",
    "        self.__name__ = name\n",
    "        self.parents  = parents\n",
    "        self.cpt      = CPTable(cpt, parents)\n",
    "        self.domain   = set(itertools.chain(*self.cpt.values())) \n",
    "                \n",
    "    def __repr__(self): return self.__name__\n",
    "    \n",
    "class Factor(dict): \"An {outcome: frequency} mapping.\"\n",
    "\n",
    "class ProbDist(Factor):\n",
    "    \"\"\"A distribuição de probabilidade é um mapeamento {outcome: probabilidade}.\n",
    "     Os valores são normalizados para somar a 1.\n",
    "     ProbDist (0.75) é uma abreviatura para ProbDist ({T: 0.75, F: 0.25}).\"\"\"\n",
    "    def __init__(self, mapping=(), **kwargs):\n",
    "        if isinstance(mapping, float):\n",
    "            mapping = {T: mapping, F: 1 - mapping}\n",
    "        self.update(mapping, **kwargs)\n",
    "        normalize(self)\n",
    "        \n",
    "class Evidence(dict): \n",
    "    \"Um mapeamento {variable: value}, descrevendo o que sabemos com certeza.\"\n",
    "        \n",
    "class CPTable(dict):\n",
    "    \"Um mapeamento de {row: ProbDist, ...} onde cada linha é uma tupla de valores das variáveis pai.\"\n",
    "    \n",
    "    def __init__(self, mapping, parents=()):\n",
    "        \"\"\"Fornece dois atalhos para escrever uma Tabela de Probabilidade Condicional.\n",
    "         Sem pais, CPTable (dist) significa CPTable ({(): dist}).\n",
    "         Com um pai, CPTable ({val: dist, ...}) significa CPTable ({(val,): dist, ...}).\"\"\"\n",
    "        if len(parents) == 0 and not (isinstance(mapping, dict) and set(mapping.keys()) == {()}):\n",
    "            mapping = {(): mapping}\n",
    "        for (row, dist) in mapping.items():\n",
    "            if len(parents) == 1 and not isinstance(row, tuple): \n",
    "                row = (row,)\n",
    "            self[row] = ProbDist(dist)\n",
    "\n",
    "class Bool(int):\n",
    "    \"Assim como `bool`, exceto os valores exibidos como 'T' e 'F' em vez de 'True' e 'False'\"\n",
    "    __str__ = __repr__ = lambda self: 'T' if self else 'F'\n",
    "        \n",
    "T = Bool(True)\n",
    "F = Bool(False)"
   ]
  },
  {
   "cell_type": "markdown",
   "metadata": {},
   "source": [
    "E aqui estão algumas funções associadas:"
   ]
  },
  {
   "cell_type": "code",
   "execution_count": 2,
   "metadata": {},
   "outputs": [],
   "source": [
    "def P(var, evidence={}):\n",
    "    \"A distribuição de probabilidade para P (variável | evidência), quando todas as variáveis-mãe são conhecidas (em evidência).\"\n",
    "    row = tuple(evidence[parent] for parent in var.parents)\n",
    "    return var.cpt[row]\n",
    "\n",
    "def normalize(dist):\n",
    "    \"Normalize uma distribuição {key: value} para que os valores somem a 1.0. Mutates dist e retorna-lo.\"\n",
    "    total = sum(dist.values())\n",
    "    for key in dist:\n",
    "        dist[key] = dist[key] / total\n",
    "        assert 0 <= dist[key] <= 1, \"As probabilidades devem estar entre 0 e 1.\"\n",
    "    return dist\n",
    "\n",
    "def sample(probdist):\n",
    "    \"Amostragem aleatória de um resultado de uma distribuição de probabilidade.\"\n",
    "    r = random.random() # r é um ponto aleatório na distribuição de probabilidade\n",
    "    c = 0.0             # c é a probabilidade cumulativa de resultados vistos até agora\n",
    "    for outcome in probdist:\n",
    "        c += probdist[outcome]\n",
    "        if r <= c:\n",
    "            return outcome\n",
    "        \n",
    "def globalize(mapping):\n",
    "    \"Dado um mapeamento {name: value}, exporte todos os nomes para o espaço de nomes `globals ()`.\"\n",
    "    globals().update(mapping)"
   ]
  },
  {
   "cell_type": "markdown",
   "metadata": {},
   "source": [
    "# Exemplo\n",
    "\n",
    "Aqui estão alguns exemplos de como usar as classes:"
   ]
  },
  {
   "cell_type": "code",
   "execution_count": 3,
   "metadata": {},
   "outputs": [],
   "source": [
    "# Exemplo de variável aleatória: Terremoto:\n",
    "# Um terremoto ocorre em 0,002 dias, independente de qualquer outra variável.\n",
    "Earthquake = Variable('Earthquake', 0.002)"
   ]
  },
  {
   "cell_type": "code",
   "execution_count": 4,
   "metadata": {},
   "outputs": [
    {
     "data": {
      "text/plain": [
       "{T: 0.002, F: 0.998}"
      ]
     },
     "execution_count": 4,
     "metadata": {},
     "output_type": "execute_result"
    }
   ],
   "source": [
    "# A distribuição de probabilidade para o terremoto\n",
    "P(Earthquake)"
   ]
  },
  {
   "cell_type": "code",
   "execution_count": 5,
   "metadata": {},
   "outputs": [
    {
     "data": {
      "text/plain": [
       "0.002"
      ]
     },
     "execution_count": 5,
     "metadata": {},
     "output_type": "execute_result"
    }
   ],
   "source": [
    "# Obter a probabilidade de um resultado específico, subscrito a distribuição de probabilidade\n",
    "P(Earthquake)[T]"
   ]
  },
  {
   "cell_type": "code",
   "execution_count": 6,
   "metadata": {},
   "outputs": [
    {
     "data": {
      "text/plain": [
       "F"
      ]
     },
     "execution_count": 6,
     "metadata": {},
     "output_type": "execute_result"
    }
   ],
   "source": [
    "# Amostragem aleatória da distribuição:\n",
    "sample(P(Earthquake))"
   ]
  },
  {
   "cell_type": "code",
   "execution_count": 7,
   "metadata": {},
   "outputs": [
    {
     "data": {
      "text/plain": [
       "Counter({F: 99779, T: 221})"
      ]
     },
     "execution_count": 7,
     "metadata": {},
     "output_type": "execute_result"
    }
   ],
   "source": [
    "# Amostragem aleatória 100.000 vezes, e contar os resultados:\n",
    "Counter(sample(P(Earthquake)) for i in range(100000))"
   ]
  },
  {
   "cell_type": "code",
   "execution_count": 8,
   "metadata": {},
   "outputs": [],
   "source": [
    "# Duas formas equivalentes de especificar a mesma distribuição de probabilidade booleana:\n",
    "assert ProbDist(0.75) == ProbDist({T: 0.75, F: 0.25})"
   ]
  },
  {
   "cell_type": "code",
   "execution_count": 9,
   "metadata": {},
   "outputs": [
    {
     "data": {
      "text/plain": [
       "{'win': 0.75, 'lose': 0.15, 'tie': 0.1}"
      ]
     },
     "execution_count": 9,
     "metadata": {},
     "output_type": "execute_result"
    }
   ],
   "source": [
    "# Duas formas equivalentes de especificar a mesma distribuição de probabilidade não booleana:\n",
    "assert ProbDist(win=15, lose=3, tie=2) == ProbDist({'win': 15, 'lose': 3, 'tie': 2})\n",
    "ProbDist(win=15, lose=3, tie=2)"
   ]
  },
  {
   "cell_type": "code",
   "execution_count": 10,
   "metadata": {},
   "outputs": [
    {
     "data": {
      "text/plain": [
       "{'a': 1, 'b': 2, 'c': 3, 'd': 4}"
      ]
     },
     "execution_count": 10,
     "metadata": {},
     "output_type": "execute_result"
    }
   ],
   "source": [
    "# A diferença entre um Factor e um ProbDist - o ProbDist é normalizado:\n",
    "Factor(a=1, b=2, c=3, d=4)"
   ]
  },
  {
   "cell_type": "code",
   "execution_count": 11,
   "metadata": {},
   "outputs": [
    {
     "data": {
      "text/plain": [
       "{'a': 0.1, 'b': 0.2, 'c': 0.3, 'd': 0.4}"
      ]
     },
     "execution_count": 11,
     "metadata": {},
     "output_type": "execute_result"
    }
   ],
   "source": [
    "ProbDist(a=1, b=2, c=3, d=4)"
   ]
  },
  {
   "cell_type": "markdown",
   "metadata": {},
   "source": [
    "# Exemplo: Alarme Bayes Net\n",
    "\n",
    "Eis como definimos a rede de Bayes a partir do diagrama acima:"
   ]
  },
  {
   "cell_type": "markdown",
   "metadata": {},
   "source": [
    "<img src=\"burglary.jpg\">"
   ]
  },
  {
   "cell_type": "code",
   "execution_count": 12,
   "metadata": {},
   "outputs": [],
   "source": [
    "alarm_net = (BayesNet()\n",
    "    .add('Burglary', [], 0.001)\n",
    "    .add('Earthquake', [], 0.002)\n",
    "    .add('Alarm', ['Burglary', 'Earthquake'], {(T, T): 0.95, (T, F): 0.94, (F, T): 0.29, (F, F): 0.001})\n",
    "    .add('JohnCalls', ['Alarm'], {T: 0.90, F: 0.05})\n",
    "    .add('MaryCalls', ['Alarm'], {T: 0.70, F: 0.01}))  "
   ]
  },
  {
   "cell_type": "code",
   "execution_count": 13,
   "metadata": {},
   "outputs": [
    {
     "data": {
      "text/plain": [
       "[Burglary, Earthquake, Alarm, JohnCalls, MaryCalls]"
      ]
     },
     "execution_count": 13,
     "metadata": {},
     "output_type": "execute_result"
    }
   ],
   "source": [
    "# Faça de Roubo, Terremoto, etc., variáveis globais\n",
    "globalize(alarm_net.lookup) \n",
    "alarm_net.variables"
   ]
  },
  {
   "cell_type": "code",
   "execution_count": 14,
   "metadata": {},
   "outputs": [
    {
     "data": {
      "text/plain": [
       "{T: 0.001, F: 0.999}"
      ]
     },
     "execution_count": 14,
     "metadata": {},
     "output_type": "execute_result"
    }
   ],
   "source": [
    "# Distribuição de probabilidade de um roubo\n",
    "P(Burglary)"
   ]
  },
  {
   "cell_type": "code",
   "execution_count": 15,
   "metadata": {},
   "outputs": [
    {
     "data": {
      "text/plain": [
       "{T: 0.94, F: 0.06000000000000005}"
      ]
     },
     "execution_count": 15,
     "metadata": {},
     "output_type": "execute_result"
    }
   ],
   "source": [
    "# Probabilidade de Alarme disparando, dado um Roubo e não um Terremoto:\n",
    "P(Alarm, {Burglary: T, Earthquake: F})"
   ]
  },
  {
   "cell_type": "code",
   "execution_count": 16,
   "metadata": {},
   "outputs": [
    {
     "data": {
      "text/plain": [
       "{(T, T): {T: 0.95, F: 0.050000000000000044},\n",
       " (T, F): {T: 0.94, F: 0.06000000000000005},\n",
       " (F, T): {T: 0.29, F: 0.71},\n",
       " (F, F): {T: 0.001, F: 0.999}}"
      ]
     },
     "execution_count": 16,
     "metadata": {},
     "output_type": "execute_result"
    }
   ],
   "source": [
    "# De onde veio: a linha (T, F) do CPT do alarme:\n",
    "Alarm.cpt"
   ]
  },
  {
   "cell_type": "markdown",
   "metadata": {
    "button": false,
    "new_sheet": false,
    "run_control": {
     "read_only": false
    }
   },
   "source": [
    "# Bayes Nets como distribuições conjuntas de probabilidade\n",
    "\n",
    "Uma rede de Bayes é uma maneira compacta de especificar uma distribuição conjunta completa sobre todas as variáveis na rede. Dado um conjunto de variáveis, a distribuição completa da articulação é: (x1)\n",
    "\n",
    "P(*X*<sub>1</sub>=*x*<sub>1</sub>, ..., *X*<sub>*n*</sub>=*x*<sub>*n*</sub>) = <font size=large>&Pi;</font><sub>*i*</sub> P(*X*<sub>*i*</sub> = *x*<sub>*i*</sub> | parents(*X*<sub>*i*</sub>))\n",
    "\n",
    "Para uma rede com variáveis * n *, cada uma das quais tem valores de * b *, há linhas * b <sup> n </ sup> * na distribuição conjunta (por exemplo, um bilhão de linhas para 30 variáveis booleanas) É impraticável criar explicitamente a distribuição conjunta para grandes redes. Mas para redes pequenas, a função `joint_distribution` cria a distribuição, que pode ser instrutiva e pode ser usada para fazer inferência."
   ]
  },
  {
   "cell_type": "code",
   "execution_count": 17,
   "metadata": {},
   "outputs": [],
   "source": [
    "def joint_distribution(net):\n",
    "    \"Dada uma rede de Bayes, crie a distribuição conjunta sobre todas as variáveis.\"\n",
    "    return ProbDist({row: prod(P_xi_given_parents(var, row, net)\n",
    "                               for var in net.variables)\n",
    "                     for row in all_rows(net)})\n",
    "\n",
    "def all_rows(net): return itertools.product(*[var.domain for var in net.variables])\n",
    "\n",
    "def P_xi_given_parents(var, row, net):\n",
    "    \"A probabilidade de que var = xi, dados os valores nesta linha.\"\n",
    "    dist = P(var, Evidence(zip(net.variables, row)))\n",
    "    xi = row[net.variables.index(var)]\n",
    "    return dist[xi]\n",
    "\n",
    "def prod(numbers):\n",
    "    \"O produto dos números: prod ([2, 3, 5]) == 30. Analogamente a `sum ([2, 3, 5]) == 10`.\"\n",
    "    result = 1\n",
    "    for x in numbers:\n",
    "        result *= x\n",
    "    return result"
   ]
  },
  {
   "cell_type": "code",
   "execution_count": 18,
   "metadata": {},
   "outputs": [
    {
     "data": {
      "text/plain": [
       "{(F, F, F, F, F),\n",
       " (F, F, F, F, T),\n",
       " (F, F, F, T, F),\n",
       " (F, F, F, T, T),\n",
       " (F, F, T, F, F),\n",
       " (F, F, T, F, T),\n",
       " (F, F, T, T, F),\n",
       " (F, F, T, T, T),\n",
       " (F, T, F, F, F),\n",
       " (F, T, F, F, T),\n",
       " (F, T, F, T, F),\n",
       " (F, T, F, T, T),\n",
       " (F, T, T, F, F),\n",
       " (F, T, T, F, T),\n",
       " (F, T, T, T, F),\n",
       " (F, T, T, T, T),\n",
       " (T, F, F, F, F),\n",
       " (T, F, F, F, T),\n",
       " (T, F, F, T, F),\n",
       " (T, F, F, T, T),\n",
       " (T, F, T, F, F),\n",
       " (T, F, T, F, T),\n",
       " (T, F, T, T, F),\n",
       " (T, F, T, T, T),\n",
       " (T, T, F, F, F),\n",
       " (T, T, F, F, T),\n",
       " (T, T, F, T, F),\n",
       " (T, T, F, T, T),\n",
       " (T, T, T, F, F),\n",
       " (T, T, T, F, T),\n",
       " (T, T, T, T, F),\n",
       " (T, T, T, T, T)}"
      ]
     },
     "execution_count": 18,
     "metadata": {},
     "output_type": "execute_result"
    }
   ],
   "source": [
    "# Todas as linhas na distribuição conjunta (2 ** 5 == 32 linhas)\n",
    "set(all_rows(alarm_net))"
   ]
  },
  {
   "cell_type": "code",
   "execution_count": 19,
   "metadata": {},
   "outputs": [],
   "source": [
    "# Vamos trabalhar com apenas uma linha da tabela:\n",
    "row = (F, F, F, F, F)"
   ]
  },
  {
   "cell_type": "code",
   "execution_count": 20,
   "metadata": {},
   "outputs": [
    {
     "data": {
      "text/plain": [
       "{T: 0.001, F: 0.999}"
      ]
     },
     "execution_count": 20,
     "metadata": {},
     "output_type": "execute_result"
    }
   ],
   "source": [
    "# Esta é a distribuição de probabilidade para Alarme\n",
    "P(Alarm, {Burglary: F, Earthquake: F})"
   ]
  },
  {
   "cell_type": "code",
   "execution_count": 21,
   "metadata": {},
   "outputs": [
    {
     "data": {
      "text/plain": [
       "0.999"
      ]
     },
     "execution_count": 21,
     "metadata": {},
     "output_type": "execute_result"
    }
   ],
   "source": [
    "# Aqui está a probabilidade de que Alarme seja falso, dados os valores pai nesta linha:\n",
    "P_xi_given_parents(Alarm, row, alarm_net)"
   ]
  },
  {
   "cell_type": "code",
   "execution_count": 22,
   "metadata": {},
   "outputs": [
    {
     "data": {
      "text/plain": [
       "{(F, F, F, F, F): 0.9367427006190001,\n",
       " (F, F, F, F, T): 0.009462047481000001,\n",
       " (F, F, F, T, F): 0.04930224740100002,\n",
       " (F, F, F, T, T): 0.0004980024990000002,\n",
       " (F, F, T, F, F): 2.9910060000000004e-05,\n",
       " (F, F, T, F, T): 6.979013999999999e-05,\n",
       " (F, F, T, T, F): 0.00026919054000000005,\n",
       " (F, F, T, T, T): 0.00062811126,\n",
       " (F, T, F, F, F): 0.0013341744900000002,\n",
       " (F, T, F, F, T): 1.3476510000000005e-05,\n",
       " (F, T, F, T, F): 7.021971000000001e-05,\n",
       " (F, T, F, T, T): 7.092900000000001e-07,\n",
       " (F, T, T, F, F): 1.7382600000000002e-05,\n",
       " (F, T, T, F, T): 4.0559399999999997e-05,\n",
       " (F, T, T, T, F): 0.00015644340000000006,\n",
       " (F, T, T, T, T): 0.00036503460000000007,\n",
       " (T, F, F, F, F): 5.631714000000006e-05,\n",
       " (T, F, F, F, T): 5.688600000000006e-07,\n",
       " (T, F, F, T, F): 2.9640600000000033e-06,\n",
       " (T, F, F, T, T): 2.9940000000000035e-08,\n",
       " (T, F, T, F, F): 2.8143600000000003e-05,\n",
       " (T, F, T, F, T): 6.56684e-05,\n",
       " (T, F, T, T, F): 0.0002532924000000001,\n",
       " (T, F, T, T, T): 0.0005910156000000001,\n",
       " (T, T, F, F, F): 9.40500000000001e-08,\n",
       " (T, T, F, F, T): 9.50000000000001e-10,\n",
       " (T, T, F, T, F): 4.9500000000000054e-09,\n",
       " (T, T, F, T, T): 5.0000000000000066e-11,\n",
       " (T, T, T, F, F): 5.7e-08,\n",
       " (T, T, T, F, T): 1.3299999999999996e-07,\n",
       " (T, T, T, T, F): 5.130000000000002e-07,\n",
       " (T, T, T, T, T): 1.1970000000000001e-06}"
      ]
     },
     "execution_count": 22,
     "metadata": {},
     "output_type": "execute_result"
    }
   ],
   "source": [
    "# A distribuição conjunta completa:\n",
    "joint_distribution(alarm_net)"
   ]
  },
  {
   "cell_type": "code",
   "execution_count": 23,
   "metadata": {},
   "outputs": [
    {
     "name": "stdout",
     "output_type": "stream",
     "text": [
      "[Burglary, Earthquake, Alarm, JohnCalls, MaryCalls]\n"
     ]
    },
    {
     "data": {
      "text/plain": [
       "0.00062811126"
      ]
     },
     "execution_count": 23,
     "metadata": {},
     "output_type": "execute_result"
    }
   ],
   "source": [
    "# Probabilidade de que \"o alarme soou, mas nem um roubo nem um terremoto ocorreu,\n",
    "# E tanto John e Mary fizeram a chamada \n",
    "\n",
    "print(alarm_net.variables)\n",
    "joint_distribution(alarm_net)[F, F, T, T, T]"
   ]
  },
  {
   "cell_type": "markdown",
   "metadata": {},
   "source": [
    "# Inferência por Consulta da Distribuição Conjunta\n",
    "\n",
    "Podemos usar `P(variável, evidência)` para obter a probabilidade de uma variável a, se conhecemos todas as variáveis pai. Mas e se nós não soubermos? As redes Bayes permitem calcular a probabilidade, mas o cálculo não é apenas uma pesquisa no CPT; É um cálculo global em toda a rede. Uma forma ineficiente mas simples de fazer o cálculo é criar a distribuição de probabilidade conjunta, e então selecionar apenas as linhas que correspondem as variáveis de evidência e, para cada linha, verificar qual é o valor da variável de consulta e incrementar a probabilidade para esse valor de acordo:"
   ]
  },
  {
   "cell_type": "code",
   "execution_count": 24,
   "metadata": {},
   "outputs": [],
   "source": [
    "def enumeration_ask(X, evidence, net):\n",
    "    \"A distribuição de probabilidade para a variável de consulta X em uma rede de crenças,.\"\n",
    "    i    = net.variables.index(X) \n",
    "    dist = defaultdict(float)    \n",
    "    for (row, p) in joint_distribution(net).items():\n",
    "        if matches_evidence(row, evidence, net):\n",
    "            dist[row[i]] += p\n",
    "    return ProbDist(dist)\n",
    "\n",
    "def matches_evidence(row, evidence, net):\n",
    "    \"A tupla de valores para esta linha concorda com a evidência?\"\n",
    "    return all(evidence[v] == row[net.variables.index(v)]\n",
    "               for v in evidence)"
   ]
  },
  {
   "cell_type": "code",
   "execution_count": 25,
   "metadata": {},
   "outputs": [
    {
     "data": {
      "text/plain": [
       "{F: 0.9931237539265789, T: 0.006876246073421024}"
      ]
     },
     "execution_count": 25,
     "metadata": {},
     "output_type": "execute_result"
    }
   ],
   "source": [
    "# A probabilidade de um Roubo, dado que João chama, mas Maria não:\n",
    "enumeration_ask(Burglary, {JohnCalls: F, MaryCalls: T}, alarm_net)"
   ]
  },
  {
   "cell_type": "code",
   "execution_count": 26,
   "metadata": {},
   "outputs": [
    {
     "data": {
      "text/plain": [
       "{F: 0.03368899586522123, T: 0.9663110041347788}"
      ]
     },
     "execution_count": 26,
     "metadata": {},
     "output_type": "execute_result"
    }
   ],
   "source": [
    "# A probabilidade de um Alarme, dado que há um Terremoto e Maria chama:\n",
    "enumeration_ask(Alarm, {MaryCalls: T, Earthquake: T}, alarm_net)"
   ]
  },
  {
   "cell_type": "markdown",
   "metadata": {},
   "source": [
    "## Fim"
   ]
  }
 ],
 "metadata": {
  "kernelspec": {
   "display_name": "Python 3",
   "language": "python",
   "name": "python3"
  },
  "language_info": {
   "codemirror_mode": {
    "name": "ipython",
    "version": 3
   },
   "file_extension": ".py",
   "mimetype": "text/x-python",
   "name": "python",
   "nbconvert_exporter": "python",
   "pygments_lexer": "ipython3",
   "version": "3.7.4"
  }
 },
 "nbformat": 4,
 "nbformat_minor": 1
}
