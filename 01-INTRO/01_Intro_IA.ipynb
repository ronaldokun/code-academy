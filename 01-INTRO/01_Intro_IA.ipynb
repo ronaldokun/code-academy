{
 "cells": [
  {
   "cell_type": "code",
   "execution_count": null,
   "metadata": {},
   "outputs": [],
   "source": [
    "# default_exp intro"
   ]
  },
  {
   "cell_type": "markdown",
   "metadata": {},
   "source": [
    "# Intro_to_IA\n",
    "\n",
    "> This is the first module of the course."
   ]
  },
  {
   "cell_type": "code",
   "execution_count": 2,
   "metadata": {},
   "outputs": [],
   "source": [
    "ROOT_DIR = 'pdfs'"
   ]
  },
  {
   "cell_type": "code",
   "execution_count": 3,
   "metadata": {},
   "outputs": [],
   "source": [
    "from IPython.display import display_pdf\n",
    "display_pdf(ROOT_DIR + '/02IIA.pdf')"
   ]
  },
  {
   "cell_type": "markdown",
   "metadata": {},
   "source": [
    "### What is an AI technique?"
   ]
  },
  {
   "cell_type": "markdown",
   "metadata": {},
   "source": [
    "AI technique is a method that **exploits knowledge** and should be represented in such a way that:\n",
    " * **captures generalizations**\n",
    " * **understood** by the people who provide it\n",
    " * easily modified"
   ]
  },
  {
   "cell_type": "markdown",
   "metadata": {},
   "source": [
    "To **build a system** to solve a particular problem, we need to do **4** things:\n",
    "* Define\n",
    "  * **Define** the problem precisely\n",
    "* Analyze\n",
    "  * **Analyze** the problem  \n",
    "* Represent\n",
    "  * Isolate and **represent task knowledge**\n",
    "* Choose\n",
    "  * **Choose the best** problem-solving techniques."
   ]
  },
  {
   "cell_type": "markdown",
   "metadata": {},
   "source": [
    "### Tradicional Programming x AI Programming (Machine Learning)\n",
    "* Specific x General\n",
    "  * Tradicional Programming aims to solve a **specific problem**\n",
    "  * AI Programming aims to **generalize** a problem\n",
    "    * For instance, in the case of a travel salesman problem, how to find the shortest path between two cities?\n",
    "* Modifications in the program\n",
    "  *  AI: Doesn't change the structure of the problem, and it tends to be quick and easy\n",
    "  *  Tradicional: Leads to change in the structure, and it tends to be disruptive\n"
   ]
  },
  {
   "cell_type": "markdown",
   "metadata": {},
   "source": [
    "## Problem Solving as State Space Search\n",
    "Problem solving can be defined as a **state space search**.\n",
    "* **State Space** is the set of **all possible states** and **operators** to change one state into another.\n",
    "* States are **nodes** and **operators** the edges.\n",
    "* Certain states are the **goal states**\n",
    "* A problem is **solved** when we find a path from the initial state to the goal state."
   ]
  },
  {
   "cell_type": "markdown",
   "metadata": {},
   "source": [
    "### Production Systems and AI\n",
    "A system consisting of separate:\n",
    "* database\n",
    "* operations\n",
    "* control components\n",
    "  \n",
    "Represents an appropriate methaphorical building block of a **AI System**"
   ]
  },
  {
   "cell_type": "markdown",
   "metadata": {},
   "source": [
    "Selecting rules and keeping track of the ones already tried is a **control strategy**"
   ]
  },
  {
   "cell_type": "markdown",
   "metadata": {},
   "source": [
    "The operation of an AI production system is the search process for a sequence of rules to be tried until the database achieves a termination condition.\n",
    "> To transform a problem statement into this three component formalism is to **represent a problem in AI**.Then to solve the problem is to perform a search in that space."
   ]
  },
  {
   "cell_type": "markdown",
   "metadata": {},
   "source": [
    "Efective AI systems require **knowledge in the problem domain**. This knowledge can be subdivided into 3 categories:\n",
    "* **Declarative Knowledge**\n",
    "  * Knowledge represented in the database, i.e. specific facts\n",
    "* **Procedural Knowledge**\n",
    "  * Knowledge represented in the rules, which allows us to manipulate the declarative knowledge\n",
    "* **Control knowledge**\n",
    "  * processes, strategies and structures used to coordinate the entire problem-solving process"
   ]
  },
  {
   "cell_type": "markdown",
   "metadata": {},
   "source": []
  }
 ],
 "metadata": {
  "kernelspec": {
   "display_name": "Python 3",
   "language": "python",
   "name": "python3"
  },
  "language_info": {
   "codemirror_mode": {
    "name": "ipython",
    "version": 3
   },
   "file_extension": ".py",
   "mimetype": "text/x-python",
   "name": "python",
   "nbconvert_exporter": "python",
   "pygments_lexer": "ipython3",
   "version": "3.8.6"
  }
 },
 "nbformat": 4,
 "nbformat_minor": 2
}
