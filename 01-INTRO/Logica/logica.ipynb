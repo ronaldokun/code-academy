{
 "cells": [
  {
   "cell_type": "markdown",
   "metadata": {
    "collapsed": true
   },
   "source": [
    "# <font color='blue'>Data Science Academy</font>\n",
    "# <font color='blue'>Introdução à Inteligência Artificial</font>\n",
    "\n",
    "## Lógica"
   ]
  },
  {
   "cell_type": "markdown",
   "metadata": {},
   "source": [
    "Começaremos examinando `Expr`, o tipo de dados para sentenças lógicas e a função de conveniência ` expr` e então vamos cobrir `KB` e` ProbKB`, as classes para Knowledge Bases. Na sequência, vamos construir uma base de conhecimento de uma situação específica no Mundo de Wumpus (mais detalhes no próximo vídeo). Vamos passar pela função `tt_entails` e experimentar um pouco. As funções `pl_resolution` e` pl_fc_entails` virão a seguir.\n",
    "\n",
    "Mas o primeiro passo é carregar o código:"
   ]
  },
  {
   "cell_type": "code",
   "execution_count": 1,
   "metadata": {},
   "outputs": [],
   "source": [
    "from utils import *\n",
    "from logica import *"
   ]
  },
  {
   "cell_type": "markdown",
   "metadata": {
    "collapsed": true
   },
   "source": [
    "## Sentenças Lógicas"
   ]
  },
  {
   "cell_type": "markdown",
   "metadata": {},
   "source": [
    "A classe `Expr` é projetada para representar qualquer tipo de expressão matemática. O tipo mais simples de `Expr` é um símbolo, que pode ser definido com a função` Symbol`:"
   ]
  },
  {
   "cell_type": "code",
   "execution_count": 2,
   "metadata": {},
   "outputs": [
    {
     "data": {
      "text/plain": [
       "x"
      ]
     },
     "execution_count": 2,
     "metadata": {},
     "output_type": "execute_result"
    }
   ],
   "source": [
    "Symbol('x')"
   ]
  },
  {
   "cell_type": "markdown",
   "metadata": {},
   "source": [
    "Ou podemos definir vários símbolos ao mesmo tempo com a função `symbols`:"
   ]
  },
  {
   "cell_type": "code",
   "execution_count": 3,
   "metadata": {},
   "outputs": [],
   "source": [
    "(x, y, P, Q, f) = symbols('x, y, P, Q, f')"
   ]
  },
  {
   "cell_type": "markdown",
   "metadata": {},
   "source": [
    "Podemos combinar `Expr`s com os operadores regulares de infix e prefix do Python. Aqui está como nós formaríamos a frase lógica \"P e não Q\":"
   ]
  },
  {
   "cell_type": "code",
   "execution_count": 4,
   "metadata": {},
   "outputs": [
    {
     "data": {
      "text/plain": [
       "(P & ~Q)"
      ]
     },
     "execution_count": 4,
     "metadata": {},
     "output_type": "execute_result"
    }
   ],
   "source": [
    "P & ~Q"
   ]
  },
  {
   "cell_type": "markdown",
   "metadata": {},
   "source": [
    "Isso funciona porque a classe `Expr` sobrecarrega o operador ` & ` com esta definição:\n",
    "\n",
    "```python\n",
    "def __and__(self, other): return Expr('&',  self, other)```\n",
    "     \n",
    "E faz sobrecargas semelhantes para os outros operadores. Um `Expr` tem dois campos: ` op` para o operador, que é sempre uma string, e `args` para os argumentos, que é uma tupla de 0 ou mais expressões. Por \"expressão\", quero dizer ou uma instância de `Expr`, ou um número. Vamos dar uma olhada nos campos para alguns exemplos de `Expr`:"
   ]
  },
  {
   "cell_type": "code",
   "execution_count": 5,
   "metadata": {},
   "outputs": [
    {
     "data": {
      "text/plain": [
       "'&'"
      ]
     },
     "execution_count": 5,
     "metadata": {},
     "output_type": "execute_result"
    }
   ],
   "source": [
    "sentence = P & ~Q\n",
    "\n",
    "sentence.op"
   ]
  },
  {
   "cell_type": "code",
   "execution_count": 6,
   "metadata": {},
   "outputs": [
    {
     "data": {
      "text/plain": [
       "(P, ~Q)"
      ]
     },
     "execution_count": 6,
     "metadata": {},
     "output_type": "execute_result"
    }
   ],
   "source": [
    "sentence.args"
   ]
  },
  {
   "cell_type": "code",
   "execution_count": 7,
   "metadata": {},
   "outputs": [
    {
     "data": {
      "text/plain": [
       "'P'"
      ]
     },
     "execution_count": 7,
     "metadata": {},
     "output_type": "execute_result"
    }
   ],
   "source": [
    "P.op"
   ]
  },
  {
   "cell_type": "code",
   "execution_count": 8,
   "metadata": {},
   "outputs": [
    {
     "data": {
      "text/plain": [
       "()"
      ]
     },
     "execution_count": 8,
     "metadata": {},
     "output_type": "execute_result"
    }
   ],
   "source": [
    "P.args"
   ]
  },
  {
   "cell_type": "code",
   "execution_count": 9,
   "metadata": {},
   "outputs": [
    {
     "data": {
      "text/plain": [
       "'P'"
      ]
     },
     "execution_count": 9,
     "metadata": {},
     "output_type": "execute_result"
    }
   ],
   "source": [
    "Pxy = P(x, y)\n",
    "\n",
    "Pxy.op"
   ]
  },
  {
   "cell_type": "code",
   "execution_count": 10,
   "metadata": {},
   "outputs": [
    {
     "data": {
      "text/plain": [
       "(x, y)"
      ]
     },
     "execution_count": 10,
     "metadata": {},
     "output_type": "execute_result"
    }
   ],
   "source": [
    "Pxy.args"
   ]
  },
  {
   "cell_type": "markdown",
   "metadata": {},
   "source": [
    "É importante notar que a classe `Expr` não define a * lógica * das frases da Lógica Proposicional; Apenas dá-lhe uma maneira de * representar * expressões. Pense em um `Expr` como uma árvore de sintaxe abstrata  (https://en.wikipedia.org/wiki/Abstract_syntax_tree). Cada um dos `args` em um` Expr` pode ser um símbolo, um número ou um `Expr` aninhado. Podemos aninhar estas árvores a qualquer profundidade. Aqui está um deply aninhado `Expr`:"
   ]
  },
  {
   "cell_type": "code",
   "execution_count": 11,
   "metadata": {},
   "outputs": [
    {
     "data": {
      "text/plain": [
       "(((3 * f(x, y)) + (P(y) / 2)) + 1)"
      ]
     },
     "execution_count": 11,
     "metadata": {},
     "output_type": "execute_result"
    }
   ],
   "source": [
    "3 * f(x, y) + P(y) / 2 + 1"
   ]
  },
  {
   "cell_type": "markdown",
   "metadata": {},
   "source": [
    "## Operadores para Construir Sentenças Lógicas\n",
    "\n",
    "Aqui está uma tabela dos operadores que podem ser usados para formar frases. Observe que temos um problema: queremos usar operadores do Python para fazer sentenças, de modo que nossos programas (e nossas sessões interativas) mostrem código simples. Mas o Python não permite setas de implicação como operadores, por isso agora precisamos usar uma notação mais detalhada que o Python permite: `| '==>' |` em vez de apenas `==>`. Alternativamente, você sempre pode usar as formas de construtor mais detalhadas de `Expr`:\n",
    "\n",
    "| Operação                | Símbolo | Python Infix Input | Python Output | Python `Expr` Input\n",
    "|--------------------------|----------------------|-------------------------|---|---|\n",
    "| Negação                 | &not; P      | `~P`                       | `~P` | `Expr('~', P)`\n",
    "| And                      | P &and; Q       | `P & Q`                     | `P & Q` | `Expr('&', P, Q)`\n",
    "| Or                       | P &or; Q | `P`<tt> &#124; </tt>`Q`| `P`<tt> &#124; </tt>`Q` | `Expr('`&#124;`', P, Q)\n",
    "| Inequality (Xor)         | P &ne; Q     | `P ^ Q`                | `P ^ Q`  | `Expr('^', P, Q)`\n",
    "| Implication                  | P &rarr; Q    | `P` <tt>&#124;</tt>`'==>'`<tt>&#124;</tt> `Q`   | `P ==> Q` | `Expr('==>', P, Q)`\n",
    "| Reverse Implication      | Q &larr; P     | `Q` <tt>&#124;</tt>`'<=='`<tt>&#124;</tt> `P`  |`Q <== P` | `Expr('<==', Q, P)`\n",
    "| Equivalence            | P &harr; Q   | `P` <tt>&#124;</tt>`'<=>'`<tt>&#124;</tt> `Q`   |`P ==> Q` | `Expr('==>', P, Q)`\n",
    "\n",
    "Aqui está um exemplo de definição de uma frase com uma seta de implicação:"
   ]
  },
  {
   "cell_type": "code",
   "execution_count": 12,
   "metadata": {},
   "outputs": [
    {
     "data": {
      "text/plain": [
       "(~(P & Q) ==> (~P | ~Q))"
      ]
     },
     "execution_count": 12,
     "metadata": {},
     "output_type": "execute_result"
    }
   ],
   "source": [
    "~(P & Q)  |'==>'|  (~P | ~Q)"
   ]
  },
  {
   "cell_type": "markdown",
   "metadata": {},
   "source": [
    "## `expr`: Um atalho para construir frases\n",
    "\n",
    "Se a notação `| '==>' |` parecer feia para você, você pode usar a função `expr` em vez disso:"
   ]
  },
  {
   "cell_type": "code",
   "execution_count": 13,
   "metadata": {},
   "outputs": [
    {
     "data": {
      "text/plain": [
       "(~(P & Q) ==> (~P | ~Q))"
      ]
     },
     "execution_count": 13,
     "metadata": {},
     "output_type": "execute_result"
    }
   ],
   "source": [
    "expr('~(P & Q)  ==>  (~P | ~Q)')"
   ]
  },
  {
   "cell_type": "markdown",
   "metadata": {},
   "source": [
    "`expr` Toma uma string como entrada, e analisa-a em um `Expr`. A string pode conter operadores de seta: `==>`, `<==`, ou `<=>`, que são manipulados como se fossem operadores regulares de infusão de Python. E `expr` define automaticamente quaisquer símbolos, então você não precisa predefinir-los:"
   ]
  },
  {
   "cell_type": "code",
   "execution_count": 14,
   "metadata": {},
   "outputs": [
    {
     "data": {
      "text/plain": [
       "sqrt(((b ** 2) - ((4 * a) * c)))"
      ]
     },
     "execution_count": 14,
     "metadata": {},
     "output_type": "execute_result"
    }
   ],
   "source": [
    "expr('sqrt(b ** 2 - 4 * a * c)')"
   ]
  },
  {
   "cell_type": "markdown",
   "metadata": {},
   "source": [
    "Por enquanto isso é tudo que você precisa saber sobre `expr`. "
   ]
  },
  {
   "cell_type": "markdown",
   "metadata": {},
   "source": [
    "## Bases Proposicionais do Conhecimento: `PropKB`\n",
    "\n",
    "A classe `Prop KB` pode ser usada para representar uma base de conhecimento de frases proposicionais.\n",
    "\n",
    "Vemos que a classe `KB` tem quatro métodos, além de` __init__`. Um ponto a ser observado aqui: o método `ask` simplesmente chama o método ` ask_generator`. Assim, este já foi implementado e o que você terá que realmente implementar quando você cria sua própria classe de base de conhecimento (se você quiser, embora eu duvido que você vai precisar, basta usar os que nós criamos para Você), será a função `ask_generator` e não a função` ask` propriamente dita.\n",
    "\n",
    "A classe `PropKB` agora.\n",
    "* `__init __ (self, sentence = None)`: O construtor `__init__` cria um único campo ` clauses` que será uma lista de todas as sentenças da base de conhecimento. Note que cada uma dessas frases será uma \"cláusula\", isto é, uma frase que é composta apenas de literais e \"ou\".\n",
    "* `Tell (self, sentence)`: Quando você quiser adicionar uma frase ao KB, use o método `tell`. Esse método usa uma sentença, converte-a em seu CNF, extrai todas as cláusulas e adiciona todas essas cláusulas ao campo `clauses`. Assim, você não precisa se preocupar com `tell`ing apenas cláusulas para a base de conhecimento. Você pode \"dizer\" à base de conhecimento uma frase de qualquer forma que desejar; Convertê-lo para CNF e adicionando as cláusulas resultantes serão tratadas pelo método `tell`.\n",
    "* `Ask_generator (self, query)`: A função `ask_generator` é usada pela função ` ask`. Ele chama a função `tt_entails`, que por sua vez retorna ` True` se a base de conhecimento implicar query e `False` caso contrário. O próprio `ask_generator` devolve um dict` {} `vazio se a base de conhecimento implicar a consulta e ` None` caso contrário. Isso pode parecer um pouco estranho para você. Afinal, faz mais sentido apenas retornar `True` ou ` False` em vez de `{}` ou `None` Mas isso é feito para manter a consistência com a maneira como as coisas estão na Lógica de Primeira Ordem, onde, Uma função `ask_generator`, é suposto retornar todas as substituições que tornam a consulta verdadeira. Daí o dict, para retornar todas essas substituições. Eu estarei usando a função `ask` que retorna `True` ou `False`, mas se você não gostar disso, você sempre pode usar a função ` ask_if_true ` que retorna um `True` ou um ` False `\n",
    "* `Retract (self, sentence)`: Esta função remove todas as cláusulas da sentença dada, a partir da base de conhecimento. Como a função `tell`, você não precisa passar cláusulas para removê-los da base de conhecimento; Qualquer sentença vai fazer bem. A função cuidará de converter essa frase em cláusulas e, em seguida, removê-las."
   ]
  },
  {
   "cell_type": "markdown",
   "metadata": {},
   "source": [
    "### Nos próximos vídeos você verá como implementar uma base de conhecimento para criar um módulo de Inteligência Artificial em um Game desenvolvido em Python."
   ]
  },
  {
   "cell_type": "markdown",
   "metadata": {
    "collapsed": true
   },
   "source": [
    "## Fim"
   ]
  }
 ],
 "metadata": {
  "anaconda-cloud": {},
  "kernelspec": {
   "display_name": "Python 3",
   "language": "python",
   "name": "python3"
  },
  "language_info": {
   "codemirror_mode": {
    "name": "ipython",
    "version": 3
   },
   "file_extension": ".py",
   "mimetype": "text/x-python",
   "name": "python",
   "nbconvert_exporter": "python",
   "pygments_lexer": "ipython3",
   "version": "3.7.4"
  }
 },
 "nbformat": 4,
 "nbformat_minor": 1
}
