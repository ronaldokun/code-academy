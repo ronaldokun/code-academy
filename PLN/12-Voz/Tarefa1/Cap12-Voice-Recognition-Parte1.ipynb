{
 "cells": [
  {
   "cell_type": "markdown",
   "metadata": {},
   "source": [
    "# <font color='blue'>Data Science Academy</font>\n",
    "# <font color='blue'>Processamento de Linguagem Natural</font>"
   ]
  },
  {
   "cell_type": "code",
   "execution_count": 1,
   "metadata": {},
   "outputs": [
    {
     "name": "stdout",
     "output_type": "stream",
     "text": [
      "Versão da Linguagem Python Usada Neste Jupyter Notebook: 3.7.6\n"
     ]
    }
   ],
   "source": [
    "# Versão da Linguagem Python\n",
    "from platform import python_version\n",
    "print('Versão da Linguagem Python Usada Neste Jupyter Notebook:', python_version())"
   ]
  },
  {
   "cell_type": "markdown",
   "metadata": {},
   "source": [
    "## Aplicação Python - Convertendo Arquivo de Áudio em Texto\n",
    "\n",
    "Speech to text (ou voz para texto) é o processo de conversão de fala em texto. \n",
    "\n",
    "É o primeiro passo para criar um assistente de voz. \n",
    "\n",
    "Então, primeiro, esperamos que o aplicativo entenda do que estamos falando, certo? Nossa aplicação deve ser capaz de converter a voz em texto, para então aplicar PLN.\n",
    "\n",
    "Vamos implementar dois exemplos em Python usando várias bibliotecas."
   ]
  },
  {
   "cell_type": "code",
   "execution_count": 2,
   "metadata": {},
   "outputs": [],
   "source": [
    "# Para atualizar um pacote, execute o comando abaixo no terminal ou prompt de comando:\n",
    "# pip install -U nome_pacote\n",
    "\n",
    "# Para instalar a versão exata de um pacote, execute o comando abaixo no terminal ou prompt de comando:\n",
    "# pip install nome_pacote==versão_desejada\n",
    "\n",
    "# Depois de instalar ou atualizar o pacote, reinicie o jupyter notebook.\n",
    "\n",
    "# Instala o pacote watermark. \n",
    "# Esse pacote é usado para gravar as versões de outros pacotes usados neste jupyter notebook.\n",
    "!pip install -q -U watermark"
   ]
  },
  {
   "cell_type": "markdown",
   "metadata": {},
   "source": [
    "Engine Para Reconhecimento de Voz:\n",
    "\n",
    "https://pypi.org/project/SpeechRecognition/"
   ]
  },
  {
   "cell_type": "code",
   "execution_count": 3,
   "metadata": {},
   "outputs": [],
   "source": [
    "# Instala o pacote\n",
    "!pip install -q SpeechRecognition"
   ]
  },
  {
   "cell_type": "code",
   "execution_count": 4,
   "metadata": {},
   "outputs": [],
   "source": [
    "# Import\n",
    "import speech_recognition as sr"
   ]
  },
  {
   "cell_type": "code",
   "execution_count": 5,
   "metadata": {},
   "outputs": [
    {
     "name": "stdout",
     "output_type": "stream",
     "text": [
      "speech_recognition 3.8.1\n",
      "Data Science Academy\n"
     ]
    }
   ],
   "source": [
    "# Versões dos pacotes usados neste jupyter notebook\n",
    "%reload_ext watermark\n",
    "%watermark -a \"Data Science Academy\" --iversions"
   ]
  },
  {
   "cell_type": "markdown",
   "metadata": {},
   "source": [
    "### Criando o Objeto de Reconhecimento de Voz e Gerando o Arquivo de Áudio"
   ]
  },
  {
   "cell_type": "code",
   "execution_count": 6,
   "metadata": {},
   "outputs": [],
   "source": [
    "# Criamos o objeto de reconhecimento de voz\n",
    "reco = sr.Recognizer()"
   ]
  },
  {
   "cell_type": "code",
   "execution_count": 7,
   "metadata": {},
   "outputs": [],
   "source": [
    "# E precisamos de um arquiuvo de áudio, claro\n",
    "arquivo = sr.AudioFile('audio/Intro.wav')"
   ]
  },
  {
   "cell_type": "markdown",
   "metadata": {},
   "source": [
    "Você mesmo pode gerar o arquivo. Use uma app de gravador no seu computador, salve o arquivo, acesse o site <a href=\"https://www.zamzar.com/\">zamzar.com</a> e converta para o formato .wav"
   ]
  },
  {
   "cell_type": "code",
   "execution_count": 8,
   "metadata": {},
   "outputs": [],
   "source": [
    "# Convertendo a voz em texto\n",
    "with arquivo as source:\n",
    "    reco.adjust_for_ambient_noise(source)\n",
    "    audio = reco.record(source)\n",
    "    resultado = reco.recognize_google(audio, language = 'pt')"
   ]
  },
  {
   "cell_type": "code",
   "execution_count": 9,
   "metadata": {},
   "outputs": [
    {
     "name": "stdout",
     "output_type": "stream",
     "text": [
      "Este é mais um curso da data Science Academy e o nosso objetivo é estudar o processamento de linguagem natural Muito obrigado\n"
     ]
    }
   ],
   "source": [
    "# Imprime o resultado\n",
    "print(resultado)"
   ]
  },
  {
   "cell_type": "markdown",
   "metadata": {},
   "source": [
    "## Convertendo a Voz no Microfone Para Texto em Tempo Real"
   ]
  },
  {
   "cell_type": "code",
   "execution_count": 10,
   "metadata": {},
   "outputs": [],
   "source": [
    "# Instala o pacote\n",
    "!pip install -q SpeechRecognition"
   ]
  },
  {
   "cell_type": "markdown",
   "metadata": {},
   "source": [
    "Obs: O pacote portaudio deverá ser instalado no seu sistema operacional.\n",
    "\n",
    "http://people.csail.mit.edu/hubert/pyaudio/"
   ]
  },
  {
   "cell_type": "code",
   "execution_count": 11,
   "metadata": {},
   "outputs": [],
   "source": [
    "# Instala o pacote\n",
    "!pip install -q pyaudio"
   ]
  },
  {
   "cell_type": "code",
   "execution_count": 12,
   "metadata": {},
   "outputs": [],
   "source": [
    "# Import\n",
    "import pyaudio\n",
    "import speech_recognition as sr"
   ]
  },
  {
   "cell_type": "code",
   "execution_count": 13,
   "metadata": {},
   "outputs": [
    {
     "name": "stdout",
     "output_type": "stream",
     "text": [
      "speech_recognition 3.8.1\n",
      "pyaudio            0.2.11\n",
      "Data Science Academy\n"
     ]
    }
   ],
   "source": [
    "# Versões dos pacotes usados neste jupyter notebook\n",
    "%reload_ext watermark\n",
    "%watermark -a \"Data Science Academy\" --iversions"
   ]
  },
  {
   "cell_type": "code",
   "execution_count": 14,
   "metadata": {},
   "outputs": [],
   "source": [
    "# Criamos o objeto de reconhecimento de voz\n",
    "reco = sr.Recognizer()"
   ]
  },
  {
   "cell_type": "code",
   "execution_count": 15,
   "metadata": {},
   "outputs": [
    {
     "name": "stdout",
     "output_type": "stream",
     "text": [
      "Diga alguma coisa\n",
      "Estamos estudando processamento de linguagem natural em um dos cursos da data Science Academy\n"
     ]
    }
   ],
   "source": [
    "# Testamos com o Microfone\n",
    "with sr.Microphone() as source:\n",
    "    print(\"Diga alguma coisa\")\n",
    "    reco.adjust_for_ambient_noise(source)\n",
    "    data = reco.record(source, duration = 7)\n",
    "    texto = reco.recognize_google(data, language = 'pt')\n",
    "    print(texto)"
   ]
  },
  {
   "cell_type": "code",
   "execution_count": 16,
   "metadata": {},
   "outputs": [],
   "source": [
    "# Extraindo os metadados do reconhecimento de voz\n",
    "texto = reco.recognize_google(data, show_all = True, language = 'pt')"
   ]
  },
  {
   "cell_type": "code",
   "execution_count": 17,
   "metadata": {},
   "outputs": [
    {
     "name": "stdout",
     "output_type": "stream",
     "text": [
      "{'alternative': [{'transcript': 'Estamos estudando processamento de linguagem natural em um dos cursos da data Science Academy', 'confidence': 0.94320142}, {'transcript': 'Estamos estudando o processamento de linguagem natural em um dos cursos da data Science Academy'}], 'final': True}\n"
     ]
    }
   ],
   "source": [
    "# Print\n",
    "print(texto)"
   ]
  },
  {
   "cell_type": "markdown",
   "metadata": {},
   "source": [
    "# Fim"
   ]
  }
 ],
 "metadata": {
  "kernelspec": {
   "display_name": "Python 3",
   "language": "python",
   "name": "python3"
  },
  "language_info": {
   "codemirror_mode": {
    "name": "ipython",
    "version": 3
   },
   "file_extension": ".py",
   "mimetype": "text/x-python",
   "name": "python",
   "nbconvert_exporter": "python",
   "pygments_lexer": "ipython3",
   "version": "3.7.6"
  }
 },
 "nbformat": 4,
 "nbformat_minor": 2
}
